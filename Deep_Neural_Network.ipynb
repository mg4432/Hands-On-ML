{
 "cells": [
  {
   "cell_type": "markdown",
   "metadata": {},
   "source": [
    "# 케라스로 다층 퍼셉트론 구현하기"
   ]
  },
  {
   "cell_type": "markdown",
   "metadata": {},
   "source": [
    "케라스는 모든 종류의 신경망을 손쉽게 만들고 훈련, 평가, 실행할 수 있는 고수준 딥러닝 API임.\n",
    "\n",
    "API document는 https://keras.io 에 있음. \n",
    "\n",
    "다양한 참조 구현이 존재하지만 이 책에서는 tf.keras를 이용함.\n",
    "\n",
    "파이토치(https://pytorch.org)도 인기있는 딥러닝 라이브러리의 일종이고, 이 API는 케라스와 매우 유사함.\n",
    "- 두 API 모두 사이킷런과 체이너(https://chainer.org)에서 부분적으로 영감을 얻었음.\n",
    "\n"
   ]
  },
  {
   "cell_type": "code",
   "execution_count": 1,
   "metadata": {
    "ExecuteTime": {
     "end_time": "2022-07-19T09:29:28.998317Z",
     "start_time": "2022-07-19T09:29:27.216222Z"
    }
   },
   "outputs": [],
   "source": [
    "import numpy as np \n",
    "import pandas as pd \n",
    "from matplotlib import pyplot as plt "
   ]
  },
  {
   "cell_type": "markdown",
   "metadata": {},
   "source": [
    "## 텐서플로 버전 확인"
   ]
  },
  {
   "cell_type": "code",
   "execution_count": 2,
   "metadata": {
    "ExecuteTime": {
     "end_time": "2022-07-19T09:29:33.485853Z",
     "start_time": "2022-07-19T09:29:29.000226Z"
    }
   },
   "outputs": [],
   "source": [
    "import tensorflow as tf\n",
    "from tensorflow import keras"
   ]
  },
  {
   "cell_type": "code",
   "execution_count": 3,
   "metadata": {
    "ExecuteTime": {
     "end_time": "2022-07-19T09:29:34.086193Z",
     "start_time": "2022-07-19T09:29:33.487868Z"
    }
   },
   "outputs": [
    {
     "data": {
      "text/plain": [
       "'2.6.0'"
      ]
     },
     "execution_count": 3,
     "metadata": {},
     "output_type": "execute_result"
    }
   ],
   "source": [
    "keras.__version__"
   ]
  },
  {
   "cell_type": "code",
   "execution_count": 4,
   "metadata": {
    "ExecuteTime": {
     "end_time": "2022-07-19T09:29:34.101153Z",
     "start_time": "2022-07-19T09:29:34.088190Z"
    }
   },
   "outputs": [
    {
     "name": "stdout",
     "output_type": "stream",
     "text": [
      "tensorflow version :  2.6.0\n",
      "keras version :  2.6.0\n"
     ]
    }
   ],
   "source": [
    "import tensorflow as tf\n",
    "from tensorflow import keras\n",
    "print('tensorflow version : ', tf.__version__)\n",
    "print('keras version : ', keras.__version__)"
   ]
  },
  {
   "cell_type": "markdown",
   "metadata": {},
   "source": [
    "## 시퀀셜 API를 이용해서 이미지 분류기 만들기"
   ]
  },
  {
   "cell_type": "code",
   "execution_count": 5,
   "metadata": {
    "ExecuteTime": {
     "end_time": "2022-07-19T09:29:34.490115Z",
     "start_time": "2022-07-19T09:29:34.103149Z"
    }
   },
   "outputs": [],
   "source": [
    "fashion_mnist = keras.datasets.fashion_mnist\n",
    "(X_train_full, y_train_full), (X_test, y_test) = fashion_mnist.load_data()"
   ]
  },
  {
   "cell_type": "code",
   "execution_count": 6,
   "metadata": {
    "ExecuteTime": {
     "end_time": "2022-07-19T09:29:34.505396Z",
     "start_time": "2022-07-19T09:29:34.491111Z"
    }
   },
   "outputs": [
    {
     "name": "stdout",
     "output_type": "stream",
     "text": [
      "(60000, 28, 28)\n",
      "uint8\n"
     ]
    }
   ],
   "source": [
    "print(X_train_full.shape)\n",
    "print(X_train_full.dtype)"
   ]
  },
  {
   "cell_type": "markdown",
   "metadata": {},
   "source": [
    "케라스를 사용하여 MNIST 데이터셋을 적재할 때 사이킷런과의 차이점은 각 이미지가 784크기의 1D 배열이 아닌 (28, 28)의 배열이라는 점임. \n",
    "\n",
    "또한 픽셀 강도가 실수형이 아니라 정수형으로 되어 있음."
   ]
  },
  {
   "cell_type": "markdown",
   "metadata": {},
   "source": [
    "이미지셋이 이미 훈련 세트와 테스트 세트로 나눠져있기 때문에 검증 세트만 만들어주면 됨.\n",
    "\n",
    "또한 경사하강법으로 신경망을 훈련하기 때문에 스케일을 조정해줘야 함. \n",
    "- 픽셀 강도를 255로 나누어 0~1로 스케일링 하면 됨 "
   ]
  },
  {
   "cell_type": "code",
   "execution_count": 7,
   "metadata": {
    "ExecuteTime": {
     "end_time": "2022-07-19T09:29:34.700715Z",
     "start_time": "2022-07-19T09:29:34.510073Z"
    }
   },
   "outputs": [],
   "source": [
    "X_valid, X_train = X_train_full[:5000] / 255.0, X_train_full[5000:] / 255.0\n",
    "y_valid, y_train = y_train_full[:5000], y_train_full[5000:] \n",
    "X_test = X_test / 255.0"
   ]
  },
  {
   "cell_type": "code",
   "execution_count": 8,
   "metadata": {
    "ExecuteTime": {
     "end_time": "2022-07-19T09:29:34.715674Z",
     "start_time": "2022-07-19T09:29:34.703707Z"
    }
   },
   "outputs": [],
   "source": [
    "class_names = ['T-shirt/top', 'Trouser', 'Pullover', 'Dress', 'Coat',\n",
    "               'Sandal', 'Shirt', 'Sneaker', 'Bag', 'Ankle boot']"
   ]
  },
  {
   "cell_type": "code",
   "execution_count": 9,
   "metadata": {
    "ExecuteTime": {
     "end_time": "2022-07-19T09:29:34.925070Z",
     "start_time": "2022-07-19T09:29:34.717734Z"
    }
   },
   "outputs": [
    {
     "name": "stdout",
     "output_type": "stream",
     "text": [
      "class : Coat\n"
     ]
    },
    {
     "data": {
      "image/png": "[encoded data removed]",
      "text/plain": [
       "<Figure size 432x432 with 1 Axes>"
      ]
     },
     "metadata": {
      "needs_background": "light"
     },
     "output_type": "display_data"
    }
   ],
   "source": [
    "print(f'class : {class_names[y_train[0]]}')\n",
    "plt.figure(figsize = (6, 6))\n",
    "plt.imshow(X_train[0], cmap = 'gray_r')\n",
    "plt.show()"
   ]
  },
  {
   "cell_type": "markdown",
   "metadata": {},
   "source": [
    "**시퀀셜 API를 이용해 모델 만들기**\n",
    "두 개의 은닉층으로 이루어진 분류용 다층 퍼셉트론 생성"
   ]
  },
  {
   "cell_type": "markdown",
   "metadata": {
    "ExecuteTime": {
     "end_time": "2022-07-19T09:20:18.188379Z",
     "start_time": "2022-07-19T09:20:18.155619Z"
    }
   },
   "source": [
    "```python\n",
    "# Sequential 모델 생성\n",
    "model = keras.models.Sequential()\n",
    "\n",
    "# 첫 번째 층을 만들고 모델에 생성 (입력 이미지를 1D로 변환)\n",
    "model.add(keras.layers.Flatten(input_shape = [28, 28]))\n",
    "\n",
    "# 뉴런을 300개 가진 Dense 은닉층 추가\n",
    "model.add(keras.layers.Dense(300, activation = 'relu'))\n",
    "\n",
    "\n",
    "# 뉴런을 100개 가진 Dense 은닉층 추가\n",
    "model.add(keras.layers.Dense(100, activation = 'relu'))\n",
    "\n",
    "# 뉴런을 10개(클래스의 수) 가진 Dense 출력층 추가\n",
    "# 배타적인 클래스이기 때문에 소프트맥스 활성화 함수를 사용\n",
    "model.add(keras.layers.Dense(10, activation = 'softmax'))\n",
    "```"
   ]
  },
  {
   "cell_type": "code",
   "execution_count": 10,
   "metadata": {
    "ExecuteTime": {
     "end_time": "2022-07-19T09:29:34.940183Z",
     "start_time": "2022-07-19T09:29:34.927110Z"
    }
   },
   "outputs": [
    {
     "data": {
      "text/plain": [
       "array([4, 0, 7, ..., 3, 0, 5], dtype=uint8)"
      ]
     },
     "execution_count": 10,
     "metadata": {},
     "output_type": "execute_result"
    }
   ],
   "source": [
    "y_train"
   ]
  },
  {
   "cell_type": "code",
   "execution_count": 11,
   "metadata": {
    "ExecuteTime": {
     "end_time": "2022-07-19T09:29:36.168420Z",
     "start_time": "2022-07-19T09:29:34.942743Z"
    }
   },
   "outputs": [
    {
     "data": {
      "image/png": "[encoded data removed]",
      "text/plain": [
       "<Figure size 864x345.6 with 40 Axes>"
      ]
     },
     "metadata": {
      "needs_background": "light"
     },
     "output_type": "display_data"
    }
   ],
   "source": [
    "n_rows = 4\n",
    "n_cols = 10\n",
    "plt.figure(figsize=(n_cols * 1.2, n_rows * 1.2))\n",
    "for row in range(n_rows):\n",
    "    for col in range(n_cols):\n",
    "        index = n_cols * row + col\n",
    "        plt.subplot(n_rows, n_cols, index + 1)\n",
    "        plt.imshow(X_train[index], cmap=\"binary\", interpolation=\"nearest\")\n",
    "        plt.axis('off')\n",
    "        plt.title(class_names[y_train[index]], fontsize=12)\n",
    "plt.subplots_adjust(wspace=0.2, hspace=0.5)\n",
    "plt.show()"
   ]
  },
  {
   "cell_type": "markdown",
   "metadata": {},
   "source": [
    "층을 하나씩 추가하지 않고 Sequential 모델을 만들 때 층의 리스트를 전달하는 방식으로 모델을 생성할 수 있음."
   ]
  },
  {
   "cell_type": "code",
   "execution_count": 12,
   "metadata": {
    "ExecuteTime": {
     "end_time": "2022-07-19T09:29:36.258710Z",
     "start_time": "2022-07-19T09:29:36.170343Z"
    }
   },
   "outputs": [],
   "source": [
    "# Sequential 모델 생성\n",
    "model = keras.models.Sequential([\n",
    "    keras.layers.Flatten(input_shape=[28, 28]),\n",
    "    keras.layers.Dense(300, activation=\"relu\"),\n",
    "    keras.layers.Dense(100, activation=\"relu\"),\n",
    "    keras.layers.Dense(10, activation=\"softmax\")\n",
    "])"
   ]
  },
  {
   "cell_type": "code",
   "execution_count": 13,
   "metadata": {
    "ExecuteTime": {
     "end_time": "2022-07-19T09:29:36.273637Z",
     "start_time": "2022-07-19T09:29:36.260063Z"
    }
   },
   "outputs": [
    {
     "name": "stdout",
     "output_type": "stream",
     "text": [
      "Model: \"sequential\"\n",
      "_________________________________________________________________\n",
      "Layer (type)                 Output Shape              Param #   \n",
      "=================================================================\n",
      "flatten (Flatten)            (None, 784)               0         \n",
      "_________________________________________________________________\n",
      "dense (Dense)                (None, 300)               235500    \n",
      "_________________________________________________________________\n",
      "dense_1 (Dense)              (None, 100)               30100     \n",
      "_________________________________________________________________\n",
      "dense_2 (Dense)              (None, 10)                1010      \n",
      "=================================================================\n",
      "Total params: 266,610\n",
      "Trainable params: 266,610\n",
      "Non-trainable params: 0\n",
      "_________________________________________________________________\n"
     ]
    }
   ],
   "source": [
    "model.summary()"
   ]
  },
  {
   "cell_type": "markdown",
   "metadata": {},
   "source": [
    "Dense 층은 많은 파라미터를 가진다. 학습하기 충분한 유연성을 가지지만 반대로 과대적합의 위험도 존재한다.\n",
    "> 이 문제에 대해서는 나중에 고려"
   ]
  },
  {
   "cell_type": "markdown",
   "metadata": {},
   "source": [
    "모델에 있는 층의 리스트를 출력하거나 인덱스로 층을 선택할 수 있고, 이름으로도 선택할 수 있다."
   ]
  },
  {
   "cell_type": "code",
   "execution_count": 14,
   "metadata": {
    "ExecuteTime": {
     "end_time": "2022-07-19T09:29:36.288649Z",
     "start_time": "2022-07-19T09:29:36.275631Z"
    }
   },
   "outputs": [
    {
     "data": {
      "text/plain": [
       "[<keras.layers.core.Flatten at 0x1697cefe160>,\n",
       " <keras.layers.core.Dense at 0x1697082bd60>,\n",
       " <keras.layers.core.Dense at 0x1697cf95070>,\n",
       " <keras.layers.core.Dense at 0x1697cf95370>]"
      ]
     },
     "execution_count": 14,
     "metadata": {},
     "output_type": "execute_result"
    }
   ],
   "source": [
    "model.layers"
   ]
  },
  {
   "cell_type": "code",
   "execution_count": 15,
   "metadata": {
    "ExecuteTime": {
     "end_time": "2022-07-19T09:29:36.303556Z",
     "start_time": "2022-07-19T09:29:36.291588Z"
    }
   },
   "outputs": [
    {
     "data": {
      "text/plain": [
       "'dense'"
      ]
     },
     "execution_count": 15,
     "metadata": {},
     "output_type": "execute_result"
    }
   ],
   "source": [
    "hidden1 = model.layers[1]\n",
    "hidden1.name"
   ]
  },
  {
   "cell_type": "code",
   "execution_count": 16,
   "metadata": {
    "ExecuteTime": {
     "end_time": "2022-07-19T09:29:36.318515Z",
     "start_time": "2022-07-19T09:29:36.304554Z"
    }
   },
   "outputs": [
    {
     "data": {
      "text/plain": [
       "True"
      ]
     },
     "execution_count": 16,
     "metadata": {},
     "output_type": "execute_result"
    }
   ],
   "source": [
    "model.get_layer(hidden1.name) is hidden1"
   ]
  },
  {
   "cell_type": "markdown",
   "metadata": {},
   "source": [
    "층의 파라미터는 get_weights() 메서드와 set_weights() 메서드를 사용해서 접근할 수 있다. Dense층의 경우 연결 가중치와 편향이 모두 포함되어 있다."
   ]
  },
  {
   "cell_type": "code",
   "execution_count": 17,
   "metadata": {
    "ExecuteTime": {
     "end_time": "2022-07-19T09:29:36.343554Z",
     "start_time": "2022-07-19T09:29:36.320512Z"
    }
   },
   "outputs": [],
   "source": [
    "weights, bias = hidden1.get_weights()"
   ]
  },
  {
   "cell_type": "code",
   "execution_count": 18,
   "metadata": {
    "ExecuteTime": {
     "end_time": "2022-07-19T09:29:36.364392Z",
     "start_time": "2022-07-19T09:29:36.345444Z"
    }
   },
   "outputs": [
    {
     "name": "stdout",
     "output_type": "stream",
     "text": [
      "(784, 300)\n",
      "[[ 0.04360454  0.01617707 -0.06270931 ...  0.00788605  0.05956057\n",
      "   0.00241943]\n",
      " [ 0.04076345  0.0612286   0.06322175 ...  0.0033657  -0.04981204\n",
      "  -0.02285985]\n",
      " [ 0.04305305  0.01606725  0.06731656 ... -0.05209358 -0.03413086\n",
      "   0.02172706]\n",
      " ...\n",
      " [-0.03189527  0.05504732  0.03009623 ...  0.03771348  0.0077345\n",
      "   0.03515758]\n",
      " [ 0.05257106 -0.03209358 -0.02268842 ...  0.03153296 -0.04805424\n",
      "  -0.03425997]\n",
      " [-0.04700671 -0.05082727  0.06530562 ... -0.0089292  -0.02158074\n",
      "   0.02416912]]\n"
     ]
    }
   ],
   "source": [
    "print(weights.shape)\n",
    "print(weights)"
   ]
  },
  {
   "cell_type": "code",
   "execution_count": 19,
   "metadata": {
    "ExecuteTime": {
     "end_time": "2022-07-19T09:29:36.379409Z",
     "start_time": "2022-07-19T09:29:36.366388Z"
    }
   },
   "outputs": [
    {
     "name": "stdout",
     "output_type": "stream",
     "text": [
      "(300,)\n",
      "[0. 0. 0. 0. 0. 0. 0. 0. 0. 0. 0. 0. 0. 0. 0. 0. 0. 0. 0. 0. 0. 0. 0. 0.\n",
      " 0. 0. 0. 0. 0. 0. 0. 0. 0. 0. 0. 0. 0. 0. 0. 0. 0. 0. 0. 0. 0. 0. 0. 0.\n",
      " 0. 0. 0. 0. 0. 0. 0. 0. 0. 0. 0. 0. 0. 0. 0. 0. 0. 0. 0. 0. 0. 0. 0. 0.\n",
      " 0. 0. 0. 0. 0. 0. 0. 0. 0. 0. 0. 0. 0. 0. 0. 0. 0. 0. 0. 0. 0. 0. 0. 0.\n",
      " 0. 0. 0. 0. 0. 0. 0. 0. 0. 0. 0. 0. 0. 0. 0. 0. 0. 0. 0. 0. 0. 0. 0. 0.\n",
      " 0. 0. 0. 0. 0. 0. 0. 0. 0. 0. 0. 0. 0. 0. 0. 0. 0. 0. 0. 0. 0. 0. 0. 0.\n",
      " 0. 0. 0. 0. 0. 0. 0. 0. 0. 0. 0. 0. 0. 0. 0. 0. 0. 0. 0. 0. 0. 0. 0. 0.\n",
      " 0. 0. 0. 0. 0. 0. 0. 0. 0. 0. 0. 0. 0. 0. 0. 0. 0. 0. 0. 0. 0. 0. 0. 0.\n",
      " 0. 0. 0. 0. 0. 0. 0. 0. 0. 0. 0. 0. 0. 0. 0. 0. 0. 0. 0. 0. 0. 0. 0. 0.\n",
      " 0. 0. 0. 0. 0. 0. 0. 0. 0. 0. 0. 0. 0. 0. 0. 0. 0. 0. 0. 0. 0. 0. 0. 0.\n",
      " 0. 0. 0. 0. 0. 0. 0. 0. 0. 0. 0. 0. 0. 0. 0. 0. 0. 0. 0. 0. 0. 0. 0. 0.\n",
      " 0. 0. 0. 0. 0. 0. 0. 0. 0. 0. 0. 0. 0. 0. 0. 0. 0. 0. 0. 0. 0. 0. 0. 0.\n",
      " 0. 0. 0. 0. 0. 0. 0. 0. 0. 0. 0. 0.]\n"
     ]
    }
   ],
   "source": [
    "print(bias.shape)\n",
    "print(bias)"
   ]
  },
  {
   "cell_type": "markdown",
   "metadata": {},
   "source": [
    "Dense 층에서는 가중치가 무작위로 초기화된다(대칭성을 깨뜨리기 위해).\n",
    "\n",
    "Bias는 0으로 초기화된다.\n",
    "- 다른 초기화 방법도 존재하지만 나중에 고려함"
   ]
  },
  {
   "cell_type": "markdown",
   "metadata": {},
   "source": [
    "**모델 컴파일**\n",
    "모델을 생성한 후에 compile() 메서드를 호출하여 사용할 손실 함수와 옵티마이저를 지정해야 한다.\n",
    "부가적으로 훈련과 평가 시에 계산할 지표를 추가로 지정할 수 있다. "
   ]
  },
  {
   "cell_type": "code",
   "execution_count": 20,
   "metadata": {
    "ExecuteTime": {
     "end_time": "2022-07-19T09:29:36.394314Z",
     "start_time": "2022-07-19T09:29:36.381348Z"
    }
   },
   "outputs": [],
   "source": [
    "model.compile(loss = 'sparse_categorical_crossentropy', \n",
    "              optimizer = 'sgd', \n",
    "              metrics = ['accuracy'])"
   ]
  },
  {
   "cell_type": "markdown",
   "metadata": {},
   "source": [
    "레이블이 하나의 정수로 이루어져있고 클래스가 배타적이기 때문에 **sparse_categorical_crossentropy**를 사용한다. \n",
    "\n",
    "만약 샘플별로 각 클래스 별 확률을 가지고 있다면 (예를 들어 클래스 3인 경우 [0, 0, 0, 1, 0, 0, 0, 0, 0, 0]인 원-핫 벡터라면) **categorical_crossentropy**를 사용한다. \n",
    "\n",
    "이진 분류를 사용한다면 출력층에 **softmax** 대신 **sigmoid** 함수를 사용하고 **binary_crossentropy** 손실을 사용한다."
   ]
  },
  {
   "cell_type": "markdown",
   "metadata": {},
   "source": [
    "SGD 옵티마이저를 사용할 때 학습률을 튜닝하는 것이 중요하다. 보통 \n",
    "\n",
    "```{python}\n",
    "optimizer = keras.optimizers.SGD(lr = ??)\n",
    "```\n",
    "와 같이 사용한다. \n",
    "\n",
    "```{python}\n",
    "optimizer = 'sgd'\n",
    "```\n",
    "의 경우 기본값인 lr = 0.01을 사용한다."
   ]
  },
  {
   "cell_type": "markdown",
   "metadata": {},
   "source": [
    "**모델 훈련과 평가**"
   ]
  },
  {
   "cell_type": "code",
   "execution_count": 21,
   "metadata": {
    "ExecuteTime": {
     "end_time": "2022-07-19T09:30:58.594210Z",
     "start_time": "2022-07-19T09:29:36.397688Z"
    },
    "scrolled": true
   },
   "outputs": [
    {
     "name": "stdout",
     "output_type": "stream",
     "text": [
      "Epoch 1/30\n",
      "1719/1719 [==============================] - 3s 2ms/step - loss: 0.7134 - accuracy: 0.7650 - val_loss: 0.5183 - val_accuracy: 0.8280\n",
      "Epoch 2/30\n",
      "1719/1719 [==============================] - 3s 2ms/step - loss: 0.4891 - accuracy: 0.8285 - val_loss: 0.4494 - val_accuracy: 0.8456\n",
      "Epoch 3/30\n",
      "1719/1719 [==============================] - 3s 1ms/step - loss: 0.4441 - accuracy: 0.8443 - val_loss: 0.4727 - val_accuracy: 0.8372\n",
      "Epoch 4/30\n",
      "1719/1719 [==============================] - 3s 1ms/step - loss: 0.4191 - accuracy: 0.8530 - val_loss: 0.4286 - val_accuracy: 0.8514\n",
      "Epoch 5/30\n",
      "1719/1719 [==============================] - 2s 1ms/step - loss: 0.3989 - accuracy: 0.8602 - val_loss: 0.3792 - val_accuracy: 0.8674\n",
      "Epoch 6/30\n",
      "1719/1719 [==============================] - 3s 2ms/step - loss: 0.3821 - accuracy: 0.8646 - val_loss: 0.3720 - val_accuracy: 0.8740\n",
      "Epoch 7/30\n",
      "1719/1719 [==============================] - 3s 2ms/step - loss: 0.3675 - accuracy: 0.8692 - val_loss: 0.4073 - val_accuracy: 0.8538\n",
      "Epoch 8/30\n",
      "1719/1719 [==============================] - 3s 2ms/step - loss: 0.3569 - accuracy: 0.8731 - val_loss: 0.3584 - val_accuracy: 0.8768\n",
      "Epoch 9/30\n",
      "1719/1719 [==============================] - 2s 1ms/step - loss: 0.3453 - accuracy: 0.8777 - val_loss: 0.3603 - val_accuracy: 0.8702\n",
      "Epoch 10/30\n",
      "1719/1719 [==============================] - 3s 2ms/step - loss: 0.3355 - accuracy: 0.8811 - val_loss: 0.3457 - val_accuracy: 0.8766\n",
      "Epoch 11/30\n",
      "1719/1719 [==============================] - 3s 2ms/step - loss: 0.3266 - accuracy: 0.8836 - val_loss: 0.3393 - val_accuracy: 0.8744\n",
      "Epoch 12/30\n",
      "1719/1719 [==============================] - 3s 2ms/step - loss: 0.3186 - accuracy: 0.8861 - val_loss: 0.3496 - val_accuracy: 0.8758\n",
      "Epoch 13/30\n",
      "1719/1719 [==============================] - 3s 2ms/step - loss: 0.3109 - accuracy: 0.8882 - val_loss: 0.3337 - val_accuracy: 0.8788\n",
      "Epoch 14/30\n",
      "1719/1719 [==============================] - 3s 2ms/step - loss: 0.3043 - accuracy: 0.8903 - val_loss: 0.3238 - val_accuracy: 0.8860\n",
      "Epoch 15/30\n",
      "1719/1719 [==============================] - 3s 2ms/step - loss: 0.2972 - accuracy: 0.8926 - val_loss: 0.3338 - val_accuracy: 0.8798\n",
      "Epoch 16/30\n",
      "1719/1719 [==============================] - 3s 2ms/step - loss: 0.2913 - accuracy: 0.8949 - val_loss: 0.3230 - val_accuracy: 0.8848\n",
      "Epoch 17/30\n",
      "1719/1719 [==============================] - 3s 2ms/step - loss: 0.2865 - accuracy: 0.8969 - val_loss: 0.3162 - val_accuracy: 0.8842\n",
      "Epoch 18/30\n",
      "1719/1719 [==============================] - 3s 2ms/step - loss: 0.2812 - accuracy: 0.8971 - val_loss: 0.3120 - val_accuracy: 0.8846\n",
      "Epoch 19/30\n",
      "1719/1719 [==============================] - 3s 1ms/step - loss: 0.2748 - accuracy: 0.9013 - val_loss: 0.3137 - val_accuracy: 0.8882\n",
      "Epoch 20/30\n",
      "1719/1719 [==============================] - 3s 1ms/step - loss: 0.2699 - accuracy: 0.9024 - val_loss: 0.3143 - val_accuracy: 0.8872\n",
      "Epoch 21/30\n",
      "1719/1719 [==============================] - 3s 2ms/step - loss: 0.2653 - accuracy: 0.9032 - val_loss: 0.3066 - val_accuracy: 0.8886\n",
      "Epoch 22/30\n",
      "1719/1719 [==============================] - 3s 2ms/step - loss: 0.2604 - accuracy: 0.9058 - val_loss: 0.3131 - val_accuracy: 0.8850\n",
      "Epoch 23/30\n",
      "1719/1719 [==============================] - 3s 2ms/step - loss: 0.2561 - accuracy: 0.9073 - val_loss: 0.3030 - val_accuracy: 0.8918\n",
      "Epoch 24/30\n",
      "1719/1719 [==============================] - 3s 2ms/step - loss: 0.2512 - accuracy: 0.9085 - val_loss: 0.3321 - val_accuracy: 0.8806\n",
      "Epoch 25/30\n",
      "1719/1719 [==============================] - 2s 1ms/step - loss: 0.2473 - accuracy: 0.9102 - val_loss: 0.3020 - val_accuracy: 0.8876\n",
      "Epoch 26/30\n",
      "1719/1719 [==============================] - 3s 2ms/step - loss: 0.2432 - accuracy: 0.9119 - val_loss: 0.2967 - val_accuracy: 0.8922\n",
      "Epoch 27/30\n",
      "1719/1719 [==============================] - 3s 2ms/step - loss: 0.2380 - accuracy: 0.9130 - val_loss: 0.3410 - val_accuracy: 0.8774\n",
      "Epoch 28/30\n",
      "1719/1719 [==============================] - 3s 2ms/step - loss: 0.2355 - accuracy: 0.9156 - val_loss: 0.3037 - val_accuracy: 0.8882\n",
      "Epoch 29/30\n",
      "1719/1719 [==============================] - 3s 1ms/step - loss: 0.2315 - accuracy: 0.9169 - val_loss: 0.3028 - val_accuracy: 0.8918\n",
      "Epoch 30/30\n",
      "1719/1719 [==============================] - 2s 1ms/step - loss: 0.2270 - accuracy: 0.9187 - val_loss: 0.2977 - val_accuracy: 0.8906\n"
     ]
    }
   ],
   "source": [
    "history = model.fit(X_train, y_train, epochs = 30, \n",
    "                    validation_data = (X_valid, y_valid))"
   ]
  },
  {
   "cell_type": "code",
   "execution_count": 22,
   "metadata": {
    "ExecuteTime": {
     "end_time": "2022-07-19T09:30:58.609190Z",
     "start_time": "2022-07-19T09:30:58.595451Z"
    }
   },
   "outputs": [
    {
     "name": "stdout",
     "output_type": "stream",
     "text": [
      "{'verbose': 1, 'epochs': 30, 'steps': 1719}\n",
      "[0, 1, 2, 3, 4, 5, 6, 7, 8, 9, 10, 11, 12, 13, 14, 15, 16, 17, 18, 19, 20, 21, 22, 23, 24, 25, 26, 27, 28, 29]\n",
      "dict_keys(['loss', 'accuracy', 'val_loss', 'val_accuracy'])\n"
     ]
    }
   ],
   "source": [
    "print(history.params)\n",
    "print(history.epoch)\n",
    "print(history.history.keys())"
   ]
  },
  {
   "cell_type": "markdown",
   "metadata": {},
   "source": [
    "훈련 데이터와 검증 데이터의 정확도의 차이가 크지 않기 때문에 과대적합이 일어나지 않은 것으로 판단된다."
   ]
  },
  {
   "cell_type": "markdown",
   "metadata": {},
   "source": [
    "클래스별 비율이 차이나는 경우 fit() 메서드를 호출할 때 class_weight 매개변수를 지정하는 것이 좋다. \n",
    "- 적게 등장하는 클래스에는 높은 가중치, 많이 등장하는 클래스에는 낮은 가중치를 부여\n",
    "\n",
    "fit() 메서드가 반환하는 History 객체에는 훈련 파라미터(history.params), 수행된 에포크 리스트(history.epoch)가 포함된다. 이 객체의 가장 중요한 속성은 에포크가 끝날 때마다 훈련 세트와 검증 세트에 대한 손실과 측정한 지표를 담은 딕셔너리이다.(history.history)\n",
    "- 이 딕셔너리를 이용해 판다스 데이터프레임을 만들고 plot() 메서드를 호출하면 learning curve를 볼 수 있다."
   ]
  },
  {
   "cell_type": "code",
   "execution_count": 23,
   "metadata": {
    "ExecuteTime": {
     "end_time": "2022-07-19T09:30:58.878501Z",
     "start_time": "2022-07-19T09:30:58.610470Z"
    }
   },
   "outputs": [
    {
     "data": {
      "image/png": "[encoded data removed]",
      "text/plain": [
       "<Figure size 936x432 with 1 Axes>"
      ]
     },
     "metadata": {
      "needs_background": "light"
     },
     "output_type": "display_data"
    }
   ],
   "source": [
    "import pandas as pd \n",
    "import matplotlib.pyplot as plt \n",
    "pd.DataFrame(history.history).plot(figsize = (13, 6))\n",
    "plt.grid(True)\n",
    "plt.gca().set_ylim(0, 1)\n",
    "plt.show()"
   ]
  },
  {
   "cell_type": "markdown",
   "metadata": {},
   "source": [
    "검증 손실이 계속해서 감소하고 있다는 것은 아직 모델이 완전히 수렴되지 않았다는 의미로 볼 수 있다.\n",
    "- 훈련을 더 진행할 필요가 있음\n",
    "- 이 경우 fit() 메서드를 다시 호출하면 중지되었던 곳에서 이어서 학습을 진행한다."
   ]
  },
  {
   "cell_type": "code",
   "execution_count": 24,
   "metadata": {
    "ExecuteTime": {
     "end_time": "2022-07-19T09:32:19.647514Z",
     "start_time": "2022-07-19T09:30:58.879849Z"
    }
   },
   "outputs": [
    {
     "name": "stdout",
     "output_type": "stream",
     "text": [
      "Epoch 1/30\n",
      "1719/1719 [==============================] - 3s 2ms/step - loss: 0.2240 - accuracy: 0.9191 - val_loss: 0.3012 - val_accuracy: 0.8896\n",
      "Epoch 2/30\n",
      "1719/1719 [==============================] - 2s 1ms/step - loss: 0.2199 - accuracy: 0.9208 - val_loss: 0.3093 - val_accuracy: 0.8886\n",
      "Epoch 3/30\n",
      "1719/1719 [==============================] - 3s 2ms/step - loss: 0.2162 - accuracy: 0.9228 - val_loss: 0.3387 - val_accuracy: 0.8828\n",
      "Epoch 4/30\n",
      "1719/1719 [==============================] - 3s 2ms/step - loss: 0.2122 - accuracy: 0.9225 - val_loss: 0.3002 - val_accuracy: 0.8904\n",
      "Epoch 5/30\n",
      "1719/1719 [==============================] - 3s 1ms/step - loss: 0.2087 - accuracy: 0.9246 - val_loss: 0.3071 - val_accuracy: 0.8856\n",
      "Epoch 6/30\n",
      "1719/1719 [==============================] - 3s 2ms/step - loss: 0.2067 - accuracy: 0.9255 - val_loss: 0.2900 - val_accuracy: 0.8942\n",
      "Epoch 7/30\n",
      "1719/1719 [==============================] - 3s 2ms/step - loss: 0.2026 - accuracy: 0.9287 - val_loss: 0.3060 - val_accuracy: 0.8904\n",
      "Epoch 8/30\n",
      "1719/1719 [==============================] - 3s 2ms/step - loss: 0.1998 - accuracy: 0.9287 - val_loss: 0.3013 - val_accuracy: 0.8918\n",
      "Epoch 9/30\n",
      "1719/1719 [==============================] - 3s 2ms/step - loss: 0.1959 - accuracy: 0.9301 - val_loss: 0.2975 - val_accuracy: 0.8898\n",
      "Epoch 10/30\n",
      "1719/1719 [==============================] - 3s 2ms/step - loss: 0.1934 - accuracy: 0.9308 - val_loss: 0.3030 - val_accuracy: 0.8900\n",
      "Epoch 11/30\n",
      "1719/1719 [==============================] - 3s 2ms/step - loss: 0.1898 - accuracy: 0.9324 - val_loss: 0.2939 - val_accuracy: 0.8930\n",
      "Epoch 12/30\n",
      "1719/1719 [==============================] - 3s 2ms/step - loss: 0.1876 - accuracy: 0.9329 - val_loss: 0.2992 - val_accuracy: 0.8904\n",
      "Epoch 13/30\n",
      "1719/1719 [==============================] - 3s 2ms/step - loss: 0.1836 - accuracy: 0.9345 - val_loss: 0.2985 - val_accuracy: 0.8944\n",
      "Epoch 14/30\n",
      "1719/1719 [==============================] - 3s 2ms/step - loss: 0.1813 - accuracy: 0.9357 - val_loss: 0.2976 - val_accuracy: 0.8946\n",
      "Epoch 15/30\n",
      "1719/1719 [==============================] - 3s 2ms/step - loss: 0.1788 - accuracy: 0.9361 - val_loss: 0.2984 - val_accuracy: 0.8936\n",
      "Epoch 16/30\n",
      "1719/1719 [==============================] - 3s 2ms/step - loss: 0.1757 - accuracy: 0.9376 - val_loss: 0.3070 - val_accuracy: 0.8880\n",
      "Epoch 17/30\n",
      "1719/1719 [==============================] - 3s 2ms/step - loss: 0.1729 - accuracy: 0.9386 - val_loss: 0.3254 - val_accuracy: 0.8898\n",
      "Epoch 18/30\n",
      "1719/1719 [==============================] - 3s 1ms/step - loss: 0.1708 - accuracy: 0.9392 - val_loss: 0.3047 - val_accuracy: 0.8932\n",
      "Epoch 19/30\n",
      "1719/1719 [==============================] - 3s 1ms/step - loss: 0.1673 - accuracy: 0.9398 - val_loss: 0.3115 - val_accuracy: 0.8914\n",
      "Epoch 20/30\n",
      "1719/1719 [==============================] - 2s 1ms/step - loss: 0.1645 - accuracy: 0.9420 - val_loss: 0.3139 - val_accuracy: 0.8892\n",
      "Epoch 21/30\n",
      "1719/1719 [==============================] - 3s 1ms/step - loss: 0.1635 - accuracy: 0.9420 - val_loss: 0.3022 - val_accuracy: 0.8914\n",
      "Epoch 22/30\n",
      "1719/1719 [==============================] - 3s 1ms/step - loss: 0.1600 - accuracy: 0.9436 - val_loss: 0.3025 - val_accuracy: 0.8936\n",
      "Epoch 23/30\n",
      "1719/1719 [==============================] - 3s 1ms/step - loss: 0.1578 - accuracy: 0.9442 - val_loss: 0.3094 - val_accuracy: 0.8932\n",
      "Epoch 24/30\n",
      "1719/1719 [==============================] - 3s 1ms/step - loss: 0.1548 - accuracy: 0.9452 - val_loss: 0.3120 - val_accuracy: 0.8908\n",
      "Epoch 25/30\n",
      "1719/1719 [==============================] - 3s 2ms/step - loss: 0.1524 - accuracy: 0.9461 - val_loss: 0.3062 - val_accuracy: 0.8928\n",
      "Epoch 26/30\n",
      "1719/1719 [==============================] - 3s 2ms/step - loss: 0.1491 - accuracy: 0.9474 - val_loss: 0.3000 - val_accuracy: 0.8944\n",
      "Epoch 27/30\n",
      "1719/1719 [==============================] - 2s 1ms/step - loss: 0.1474 - accuracy: 0.9486 - val_loss: 0.3119 - val_accuracy: 0.8932\n",
      "Epoch 28/30\n",
      "1719/1719 [==============================] - 3s 1ms/step - loss: 0.1463 - accuracy: 0.9482 - val_loss: 0.3145 - val_accuracy: 0.8934\n",
      "Epoch 29/30\n",
      "1719/1719 [==============================] - 3s 1ms/step - loss: 0.1433 - accuracy: 0.9497 - val_loss: 0.3213 - val_accuracy: 0.8884\n",
      "Epoch 30/30\n",
      "1719/1719 [==============================] - 3s 1ms/step - loss: 0.1419 - accuracy: 0.9497 - val_loss: 0.3755 - val_accuracy: 0.8806\n"
     ]
    }
   ],
   "source": [
    "history = model.fit(X_train, y_train, epochs = 30, \n",
    "                    validation_data = (X_valid, y_valid))"
   ]
  },
  {
   "cell_type": "code",
   "execution_count": 25,
   "metadata": {
    "ExecuteTime": {
     "end_time": "2022-07-19T09:32:19.931850Z",
     "start_time": "2022-07-19T09:32:19.652502Z"
    }
   },
   "outputs": [
    {
     "data": {
      "image/png": "[encoded data removed]",
      "text/plain": [
       "<Figure size 936x432 with 1 Axes>"
      ]
     },
     "metadata": {
      "needs_background": "light"
     },
     "output_type": "display_data"
    }
   ],
   "source": [
    "pd.DataFrame(history.history).plot(figsize = (13, 6))\n",
    "plt.grid(True)\n",
    "plt.gca().set_ylim(0, 1)\n",
    "plt.show()"
   ]
  },
  {
   "cell_type": "markdown",
   "metadata": {},
   "source": [
    "모델 성능이 만족스럽지 않은 경우 하이퍼파라미터를 튜닝해야 한다.\n",
    "- 첫 번째로 학습률을 확인해야 한다. \n",
    "- 학습률이 도움이 되지 않는 경우 다른 옵티마이저를 테스트해보는 것이 좋다. \n",
    "    - 항상 다른 하이퍼 파라미터를 튜닝하고 나서는 학습률을 다시 튜닝해야 한다.\n",
    "- 여전히 성능이 만족스럽지 않으면 층 개수, 층에 있는 뉴런 개수, 은닉층이 사용하는 활성화 함수와 같은 모델의 하이퍼 파라미터를 튜닝한다. 배치 크기와 같이 다른 하이퍼 파라미터를 튜닝할 수도 있다.\n",
    "- 성능이 만족스럽다면 상용 환경으로 배포하기 전에 테스트 세트로 모델을 평가하여 일반화 오차를 추정해야 한다. 이 때 evaluate() 메서드를 사용한다. "
   ]
  },
  {
   "cell_type": "code",
   "execution_count": 26,
   "metadata": {
    "ExecuteTime": {
     "end_time": "2022-07-19T09:32:20.305620Z",
     "start_time": "2022-07-19T09:32:19.935744Z"
    },
    "scrolled": true
   },
   "outputs": [
    {
     "name": "stdout",
     "output_type": "stream",
     "text": [
      "313/313 [==============================] - 0s 927us/step - loss: 0.4058 - accuracy: 0.8708\n"
     ]
    },
    {
     "data": {
      "text/plain": [
       "[0.4057953953742981, 0.8708000183105469]"
      ]
     },
     "execution_count": 26,
     "metadata": {},
     "output_type": "execute_result"
    }
   ],
   "source": [
    "model.evaluate(X_test, y_test)"
   ]
  },
  {
   "cell_type": "markdown",
   "metadata": {},
   "source": [
    "**모델을 사용해서 예측 만들기**"
   ]
  },
  {
   "cell_type": "code",
   "execution_count": 27,
   "metadata": {
    "ExecuteTime": {
     "end_time": "2022-07-19T09:32:20.454902Z",
     "start_time": "2022-07-19T09:32:20.306644Z"
    }
   },
   "outputs": [
    {
     "data": {
      "text/plain": [
       "array([[0., 0., 0., 0., 0., 0., 0., 0., 0., 1.],\n",
       "       [0., 0., 1., 0., 0., 0., 0., 0., 0., 0.],\n",
       "       [0., 1., 0., 0., 0., 0., 0., 0., 0., 0.]], dtype=float32)"
      ]
     },
     "execution_count": 27,
     "metadata": {},
     "output_type": "execute_result"
    }
   ],
   "source": [
    "X_new = X_test[:3]\n",
    "y_proba = model.predict(X_new)\n",
    "y_proba.round(2)"
   ]
  },
  {
   "cell_type": "code",
   "execution_count": 28,
   "metadata": {
    "ExecuteTime": {
     "end_time": "2022-07-19T09:32:20.529757Z",
     "start_time": "2022-07-19T09:32:20.456809Z"
    }
   },
   "outputs": [
    {
     "data": {
      "text/plain": [
       "array([9, 2, 1], dtype=int64)"
      ]
     },
     "execution_count": 28,
     "metadata": {},
     "output_type": "execute_result"
    }
   ],
   "source": [
    "y_pred = np.argmax(model.predict(X_new), axis=-1)\n",
    "y_pred"
   ]
  },
  {
   "cell_type": "code",
   "execution_count": 29,
   "metadata": {
    "ExecuteTime": {
     "end_time": "2022-07-19T09:32:20.544605Z",
     "start_time": "2022-07-19T09:32:20.530982Z"
    }
   },
   "outputs": [
    {
     "data": {
      "text/plain": [
       "array(['Ankle boot', 'Pullover', 'Trouser'], dtype='<U11')"
      ]
     },
     "execution_count": 29,
     "metadata": {},
     "output_type": "execute_result"
    }
   ],
   "source": [
    "np.array(class_names)[y_pred]"
   ]
  },
  {
   "cell_type": "code",
   "execution_count": 30,
   "metadata": {
    "ExecuteTime": {
     "end_time": "2022-07-19T09:32:20.559533Z",
     "start_time": "2022-07-19T09:32:20.546161Z"
    }
   },
   "outputs": [
    {
     "data": {
      "text/plain": [
       "'Ankle boot'"
      ]
     },
     "execution_count": 30,
     "metadata": {},
     "output_type": "execute_result"
    }
   ],
   "source": [
    "class_names[y_test[0]]"
   ]
  },
  {
   "cell_type": "code",
   "execution_count": 31,
   "metadata": {
    "ExecuteTime": {
     "end_time": "2022-07-19T09:32:20.933533Z",
     "start_time": "2022-07-19T09:32:20.560532Z"
    }
   },
   "outputs": [
    {
     "data": {
      "text/plain": [
       "Text(0.5, 1.0, 'Trouser')"
      ]
     },
     "execution_count": 31,
     "metadata": {},
     "output_type": "execute_result"
    },
    {
     "data": {
      "image/png": "[encoded data removed]",
      "text/plain": [
       "<Figure size 1152x360 with 3 Axes>"
      ]
     },
     "metadata": {
      "needs_background": "light"
     },
     "output_type": "display_data"
    }
   ],
   "source": [
    "fig, ax = plt.subplots(1, 3, figsize = (16, 5))\n",
    "ax[0].imshow(X_test[0], cmap = 'gray_r')\n",
    "ax[0].set_title(class_names[y_test[0]])\n",
    "ax[1].imshow(X_test[1], cmap = 'gray_r')\n",
    "ax[1].set_title(class_names[y_test[1]])\n",
    "ax[2].imshow(X_test[2], cmap = 'gray_r')\n",
    "ax[2].set_title(class_names[y_test[2]])"
   ]
  },
  {
   "cell_type": "markdown",
   "metadata": {},
   "source": [
    "## 시퀀셜 API를 이용해서 회귀용 다층 퍼셉트론 만들기"
   ]
  },
  {
   "cell_type": "code",
   "execution_count": 32,
   "metadata": {
    "ExecuteTime": {
     "end_time": "2022-07-19T09:32:22.823332Z",
     "start_time": "2022-07-19T09:32:20.935529Z"
    }
   },
   "outputs": [],
   "source": [
    "from sklearn.datasets import fetch_california_housing\n",
    "from sklearn.model_selection import train_test_split\n",
    "from sklearn.preprocessing import StandardScaler\n",
    "\n",
    "housing = fetch_california_housing()\n",
    "\n",
    "X_train_full, X_test, y_train_full, y_test = train_test_split(housing.data, housing.target, random_state=42)\n",
    "X_train, X_valid, y_train, y_valid = train_test_split(X_train_full, y_train_full, random_state=42)\n",
    "\n",
    "scaler = StandardScaler()\n",
    "X_train = scaler.fit_transform(X_train)\n",
    "X_valid = scaler.transform(X_valid)\n",
    "X_test = scaler.transform(X_test)"
   ]
  },
  {
   "cell_type": "markdown",
   "metadata": {},
   "source": [
    "회귀용 MLP을 구축, 훈련, 평가, 예측하는 과정은 분류에서 했던 것과 매우 비슷하다.\n",
    "\n",
    "주된 차이점은 출력층이 활성화 함수가 없는 하나의 뉴런을 가진다는 것과 손실 함수로 평균 제곱 오차를 사용한다는 것이다. \n",
    "\n",
    "노이즈가 많은 데이터셋이기 때문에 과대적합을 막는 용도로 뉴런 수가 적은 은닉층 하나만을 사용한다."
   ]
  },
  {
   "cell_type": "code",
   "execution_count": 33,
   "metadata": {
    "ExecuteTime": {
     "end_time": "2022-07-19T09:32:22.838225Z",
     "start_time": "2022-07-19T09:32:22.825288Z"
    }
   },
   "outputs": [],
   "source": [
    "np.random.seed(42)\n",
    "tf.random.set_seed(42)"
   ]
  },
  {
   "cell_type": "code",
   "execution_count": 34,
   "metadata": {
    "ExecuteTime": {
     "end_time": "2022-07-19T09:32:28.405177Z",
     "start_time": "2022-07-19T09:32:22.840131Z"
    }
   },
   "outputs": [
    {
     "name": "stdout",
     "output_type": "stream",
     "text": [
      "Epoch 1/20\n",
      "363/363 [==============================] - 0s 793us/step - loss: 0.7294 - val_loss: 15.9921\n",
      "Epoch 2/20\n",
      "363/363 [==============================] - 0s 642us/step - loss: 0.6180 - val_loss: 9.6009\n",
      "Epoch 3/20\n",
      "363/363 [==============================] - 0s 677us/step - loss: 0.5292 - val_loss: 0.4534\n",
      "Epoch 4/20\n",
      "363/363 [==============================] - 0s 686us/step - loss: 0.3957 - val_loss: 0.3639\n",
      "Epoch 5/20\n",
      "363/363 [==============================] - 0s 719us/step - loss: 0.3849 - val_loss: 0.3605\n",
      "Epoch 6/20\n",
      "363/363 [==============================] - 0s 660us/step - loss: 0.3776 - val_loss: 0.3825\n",
      "Epoch 7/20\n",
      "363/363 [==============================] - 0s 694us/step - loss: 0.3765 - val_loss: 0.3767\n",
      "Epoch 8/20\n",
      "363/363 [==============================] - 0s 791us/step - loss: 0.3689 - val_loss: 0.3864\n",
      "Epoch 9/20\n",
      "363/363 [==============================] - 0s 809us/step - loss: 0.3649 - val_loss: 0.4068\n",
      "Epoch 10/20\n",
      "363/363 [==============================] - 0s 669us/step - loss: 0.3633 - val_loss: 0.3810\n",
      "Epoch 11/20\n",
      "363/363 [==============================] - 0s 678us/step - loss: 0.3598 - val_loss: 0.3596\n",
      "Epoch 12/20\n",
      "363/363 [==============================] - 0s 722us/step - loss: 0.3585 - val_loss: 0.3756\n",
      "Epoch 13/20\n",
      "363/363 [==============================] - 0s 644us/step - loss: 0.3549 - val_loss: 0.3618\n",
      "Epoch 14/20\n",
      "363/363 [==============================] - 0s 617us/step - loss: 0.3520 - val_loss: 0.3504\n",
      "Epoch 15/20\n",
      "363/363 [==============================] - 0s 739us/step - loss: 0.3546 - val_loss: 0.3635\n",
      "Epoch 16/20\n",
      "363/363 [==============================] - 0s 642us/step - loss: 0.3494 - val_loss: 0.3388\n",
      "Epoch 17/20\n",
      "363/363 [==============================] - 0s 695us/step - loss: 0.3476 - val_loss: 0.3475\n",
      "Epoch 18/20\n",
      "363/363 [==============================] - 0s 699us/step - loss: 0.3467 - val_loss: 0.3460\n",
      "Epoch 19/20\n",
      "363/363 [==============================] - 0s 714us/step - loss: 0.3551 - val_loss: 0.3390\n",
      "Epoch 20/20\n",
      "363/363 [==============================] - 0s 717us/step - loss: 0.3451 - val_loss: 0.3897\n",
      "162/162 [==============================] - 0s 440us/step - loss: 0.3437\n"
     ]
    }
   ],
   "source": [
    "model = keras.models.Sequential([\n",
    "    keras.layers.Dense(30, activation = 'relu', input_shape = X_train.shape[1:]),\n",
    "    keras.layers.Dense(1)\n",
    "])\n",
    "\n",
    "model.compile(loss = 'mean_squared_error', optimizer = 'sgd')\n",
    "history = model.fit(X_train, y_train, epochs = 20, \n",
    "                    validation_data = (X_valid, y_valid))\n",
    "\n",
    "mse_test = model.evaluate(X_test, y_test)\n",
    "X_new = X_test[:3]\n",
    "y_pred = model.predict(X_new)"
   ]
  },
  {
   "cell_type": "code",
   "execution_count": 35,
   "metadata": {
    "ExecuteTime": {
     "end_time": "2022-07-19T09:32:28.599802Z",
     "start_time": "2022-07-19T09:32:28.407171Z"
    }
   },
   "outputs": [
    {
     "data": {
      "image/png": "[encoded data removed]",
      "text/plain": [
       "<Figure size 432x288 with 1 Axes>"
      ]
     },
     "metadata": {
      "needs_background": "light"
     },
     "output_type": "display_data"
    }
   ],
   "source": [
    "plt.plot(pd.DataFrame(history.history))\n",
    "plt.grid(True)\n",
    "plt.gca().set_ylim(0, 1)\n",
    "plt.show()"
   ]
  },
  {
   "cell_type": "markdown",
   "metadata": {},
   "source": [
    "입력과 출력이 여러 개거나 더 복잡한 네트워크 토폴로지를 갖는 신경망을 만들어야 하는 경우가 있다.\n",
    "> 케라스는 함수형 API를 제공 "
   ]
  },
  {
   "cell_type": "markdown",
   "metadata": {},
   "source": [
    "## 함수형 API를 사용해 복잡한 모델 만들기"
   ]
  },
  {
   "attachments": {
    "image.png": {
     "image/png": "[encoded data removed]"
    }
   },
   "cell_type": "markdown",
   "metadata": {},
   "source": [
    "순차적이지 않은 신경망의 한 예는 와이드&딥 신경망이다. \n",
    "![image.png](attachment:image.png)\n",
    "이 신경망은 입력층의 일부 또는 전체가 출력층으로 바로 연결되는 구조를 갖는다.\n",
    "\n",
    "이 구조를 사용하면 복잡한 패턴과 간단한 규칙을 모두 학습할 수 있다. 이와는 대조적으로 MLP는 모든 층에 데이터를 통과시키기 때문에 간단한 패턴이 연속된 변환으로 인해 왜곡될 수 있다."
   ]
  },
  {
   "cell_type": "code",
   "execution_count": 36,
   "metadata": {
    "ExecuteTime": {
     "end_time": "2022-07-19T09:32:28.644537Z",
     "start_time": "2022-07-19T09:32:28.602497Z"
    }
   },
   "outputs": [],
   "source": [
    "# Input 객체 생성\n",
    "input_ = keras.layers.Input(shape = X_train.shape[1:])\n",
    "\n",
    "# Dense층 생성, 생성하자마자 입력과 함께 함수처럼 호출됨\n",
    "hidden1 = keras.layers.Dense(30, activation = 'relu')(input_)\n",
    "\n",
    "# 두 번째 은닉층을 만들고 함수처럼 호출한다. 첫 번째 층의 출력을 전달했음\n",
    "hidden2 = keras.layers.Dense(30, activation = 'relu')(hidden1)\n",
    "\n",
    "# Concatenate층을 만들고 또 다시 함수처럼 연결하여 두 번째 은닉층의 출력과 입력을 연결함\n",
    "concat = keras.layers.Concatenate()([input_, hidden2])\n",
    "\n",
    "# 하나의 뉴런과 활성화 함수가 없는 출력층을 만들고 Concatenate층이 만든 결과를 사용해 호출\n",
    "output = keras.layers.Dense(1)(concat)\n",
    "\n",
    "# 사용할 입력과 출력을 지정하여 Model 생성\n",
    "model = keras.Model(inputs = [input_], outputs = [output])"
   ]
  },
  {
   "cell_type": "code",
   "execution_count": 37,
   "metadata": {
    "ExecuteTime": {
     "end_time": "2022-07-19T09:32:28.659584Z",
     "start_time": "2022-07-19T09:32:28.645942Z"
    }
   },
   "outputs": [
    {
     "name": "stdout",
     "output_type": "stream",
     "text": [
      "Model: \"model\"\n",
      "__________________________________________________________________________________________________\n",
      "Layer (type)                    Output Shape         Param #     Connected to                     \n",
      "==================================================================================================\n",
      "input_1 (InputLayer)            [(None, 8)]          0                                            \n",
      "__________________________________________________________________________________________________\n",
      "dense_5 (Dense)                 (None, 30)           270         input_1[0][0]                    \n",
      "__________________________________________________________________________________________________\n",
      "dense_6 (Dense)                 (None, 30)           930         dense_5[0][0]                    \n",
      "__________________________________________________________________________________________________\n",
      "concatenate (Concatenate)       (None, 38)           0           input_1[0][0]                    \n",
      "                                                                 dense_6[0][0]                    \n",
      "__________________________________________________________________________________________________\n",
      "dense_7 (Dense)                 (None, 1)            39          concatenate[0][0]                \n",
      "==================================================================================================\n",
      "Total params: 1,239\n",
      "Trainable params: 1,239\n",
      "Non-trainable params: 0\n",
      "__________________________________________________________________________________________________\n"
     ]
    }
   ],
   "source": [
    "model.summary()"
   ]
  },
  {
   "cell_type": "code",
   "execution_count": 38,
   "metadata": {
    "ExecuteTime": {
     "end_time": "2022-07-19T09:33:27.314825Z",
     "start_time": "2022-07-19T09:33:20.550220Z"
    }
   },
   "outputs": [
    {
     "name": "stdout",
     "output_type": "stream",
     "text": [
      "Epoch 1/20\n",
      "363/363 [==============================] - 1s 1ms/step - loss: 1.8772 - val_loss: 0.6913\n",
      "Epoch 2/20\n",
      "363/363 [==============================] - 0s 911us/step - loss: 0.6501 - val_loss: 0.9454\n",
      "Epoch 3/20\n",
      "363/363 [==============================] - 0s 661us/step - loss: 0.6012 - val_loss: 0.6622\n",
      "Epoch 4/20\n",
      "363/363 [==============================] - 0s 716us/step - loss: 0.5654 - val_loss: 0.5284\n",
      "Epoch 5/20\n",
      "363/363 [==============================] - 0s 764us/step - loss: 0.5414 - val_loss: 0.5004\n",
      "Epoch 6/20\n",
      "363/363 [==============================] - 0s 663us/step - loss: 0.5181 - val_loss: 0.5894\n",
      "Epoch 7/20\n",
      "363/363 [==============================] - 0s 752us/step - loss: 0.5035 - val_loss: 0.5889\n",
      "Epoch 8/20\n",
      "363/363 [==============================] - 0s 707us/step - loss: 0.4904 - val_loss: 0.4690\n",
      "Epoch 9/20\n",
      "363/363 [==============================] - 0s 856us/step - loss: 0.4769 - val_loss: 0.5305\n",
      "Epoch 10/20\n",
      "363/363 [==============================] - 0s 887us/step - loss: 0.4676 - val_loss: 0.5466\n",
      "Epoch 11/20\n",
      "363/363 [==============================] - 0s 931us/step - loss: 0.4601 - val_loss: 0.4996\n",
      "Epoch 12/20\n",
      "363/363 [==============================] - 0s 989us/step - loss: 0.4524 - val_loss: 0.7264\n",
      "Epoch 13/20\n",
      "363/363 [==============================] - 0s 984us/step - loss: 0.4486 - val_loss: 0.4205\n",
      "Epoch 14/20\n",
      "363/363 [==============================] - 0s 769us/step - loss: 0.4415 - val_loss: 0.4467\n",
      "Epoch 15/20\n",
      "363/363 [==============================] - 0s 838us/step - loss: 0.4367 - val_loss: 0.4167\n",
      "Epoch 16/20\n",
      "363/363 [==============================] - 0s 843us/step - loss: 0.4323 - val_loss: 0.4486\n",
      "Epoch 17/20\n",
      "363/363 [==============================] - 0s 989us/step - loss: 0.4286 - val_loss: 0.4021\n",
      "Epoch 18/20\n",
      "363/363 [==============================] - 0s 1ms/step - loss: 0.4255 - val_loss: 0.3991\n",
      "Epoch 19/20\n",
      "363/363 [==============================] - 0s 934us/step - loss: 0.4215 - val_loss: 0.4348\n",
      "Epoch 20/20\n",
      "363/363 [==============================] - 0s 783us/step - loss: 0.4192 - val_loss: 0.3965\n",
      "162/162 [==============================] - 0s 701us/step - loss: 0.4164\n"
     ]
    }
   ],
   "source": [
    "model.compile(loss=\"mean_squared_error\", \n",
    "              optimizer=keras.optimizers.SGD(learning_rate=1e-3))\n",
    "history = model.fit(X_train, y_train, epochs=20,\n",
    "                    validation_data=(X_valid, y_valid))\n",
    "mse_test = model.evaluate(X_test, y_test)\n",
    "y_pred = model.predict(X_new)"
   ]
  },
  {
   "attachments": {
    "image.png": {
     "image/png": "[encoded data removed]"
    }
   },
   "cell_type": "markdown",
   "metadata": {},
   "source": [
    "일부 특성은 짧은 경로로, 일부 특성은 깊은 경로로 전달하고 싶으면(중복도 허용해서) 가능한 한 가지 방법은 여러 입력을 사용하는 것이다. 예를 들어 5개(0\\~4 인덱스)의 특성은 짧은 경로로 보내고 6개(2\\~7 인덱스)의 특성은 깊은 경로로 보낸다고 가정해보자.\n",
    "\n",
    "![image.png](attachment:image.png)"
   ]
  },
  {
   "cell_type": "code",
   "execution_count": 39,
   "metadata": {
    "ExecuteTime": {
     "end_time": "2022-07-19T09:33:34.378418Z",
     "start_time": "2022-07-19T09:33:34.331544Z"
    }
   },
   "outputs": [],
   "source": [
    "# Input A 객체 생성\n",
    "input_A = keras.layers.Input(shape = [5], name = 'wide_input')\n",
    "\n",
    "# Input B 객체 생성\n",
    "input_B = keras.layers.Input(shape = [6], name = 'deep_input')\n",
    "\n",
    "# Dense층 생성, 입력 B를 받게 됨\n",
    "hidden1 = keras.layers.Dense(30, activation = 'relu')(input_B)\n",
    "\n",
    "# Dense층 생성, 입력 B를 받은 은닉층1을 받게 됨\n",
    "hidden2 = keras.layers.Dense(30, activation = 'relu')(hidden1)\n",
    "\n",
    "# Concatenate층 생성, 입력층 A와 입력 B, 은닉층 1을 받은 은닉층2를 받게 됨\n",
    "concat = keras.layers.Concatenate()([input_A, hidden2])\n",
    "\n",
    "# 하나의 뉴런과 활성화 함수가 없는 출력층을 만들고 Concatenate층이 만든 결과를 사용해 호출\n",
    "output = keras.layers.Dense(1, name = 'output')(concat)\n",
    "\n",
    "# 사용할 입력과 출력을 지정하여 Model 생성\n",
    "model = keras.Model(inputs = [input_A, input_B], outputs = [output])"
   ]
  },
  {
   "cell_type": "markdown",
   "metadata": {},
   "source": [
    "모델을 컴파일할 때 입력 행렬 하나를 전달하는 것이 아니라 입력마다 하나씩 행렬의 튜플(X_train_A, X_train_B)를 전달해야 한다. \n",
    "\n",
    "이는 X_valid에도 동일하게 적용되고, evaluate()나 predict()를 호출할 때 X_test에도 동일하게 적용된다."
   ]
  },
  {
   "cell_type": "code",
   "execution_count": 40,
   "metadata": {
    "ExecuteTime": {
     "end_time": "2022-07-19T09:33:41.717338Z",
     "start_time": "2022-07-19T09:33:34.834142Z"
    }
   },
   "outputs": [
    {
     "name": "stderr",
     "output_type": "stream",
     "text": [
      "C:\\ProgramData\\Anaconda3\\lib\\site-packages\\keras\\optimizer_v2\\optimizer_v2.py:355: UserWarning: The `lr` argument is deprecated, use `learning_rate` instead.\n",
      "  warnings.warn(\n"
     ]
    },
    {
     "name": "stdout",
     "output_type": "stream",
     "text": [
      "Epoch 1/20\n",
      "363/363 [==============================] - 1s 969us/step - loss: 2.0090 - val_loss: 0.9850\n",
      "Epoch 2/20\n",
      "363/363 [==============================] - 0s 799us/step - loss: 0.7896 - val_loss: 0.7180\n",
      "Epoch 3/20\n",
      "363/363 [==============================] - 0s 744us/step - loss: 0.6514 - val_loss: 0.6402\n",
      "Epoch 4/20\n",
      "363/363 [==============================] - 0s 901us/step - loss: 0.5991 - val_loss: 0.5778\n",
      "Epoch 5/20\n",
      "363/363 [==============================] - 0s 796us/step - loss: 0.5671 - val_loss: 0.5449\n",
      "Epoch 6/20\n",
      "363/363 [==============================] - 0s 956us/step - loss: 0.5423 - val_loss: 0.5190\n",
      "Epoch 7/20\n",
      "363/363 [==============================] - 0s 1ms/step - loss: 0.5228 - val_loss: 0.5011\n",
      "Epoch 8/20\n",
      "363/363 [==============================] - 0s 774us/step - loss: 0.5073 - val_loss: 0.4808\n",
      "Epoch 9/20\n",
      "363/363 [==============================] - 0s 686us/step - loss: 0.4945 - val_loss: 0.4661\n",
      "Epoch 10/20\n",
      "363/363 [==============================] - 0s 824us/step - loss: 0.4841 - val_loss: 0.4553\n",
      "Epoch 11/20\n",
      "363/363 [==============================] - 0s 788us/step - loss: 0.4758 - val_loss: 0.4457\n",
      "Epoch 12/20\n",
      "363/363 [==============================] - 0s 909us/step - loss: 0.4687 - val_loss: 0.4377\n",
      "Epoch 13/20\n",
      "363/363 [==============================] - 0s 913us/step - loss: 0.4627 - val_loss: 0.4322\n",
      "Epoch 14/20\n",
      "363/363 [==============================] - 0s 798us/step - loss: 0.4579 - val_loss: 0.4273\n",
      "Epoch 15/20\n",
      "363/363 [==============================] - 0s 1ms/step - loss: 0.4536 - val_loss: 0.4230\n",
      "Epoch 16/20\n",
      "363/363 [==============================] - 0s 1ms/step - loss: 0.4500 - val_loss: 0.4185\n",
      "Epoch 17/20\n",
      "363/363 [==============================] - 0s 1ms/step - loss: 0.4466 - val_loss: 0.4177\n",
      "Epoch 18/20\n",
      "363/363 [==============================] - 0s 896us/step - loss: 0.4441 - val_loss: 0.4169\n",
      "Epoch 19/20\n",
      "363/363 [==============================] - 0s 697us/step - loss: 0.4409 - val_loss: 0.4134\n",
      "Epoch 20/20\n",
      "363/363 [==============================] - 0s 730us/step - loss: 0.4386 - val_loss: 0.4224\n",
      "162/162 [==============================] - 0s 452us/step - loss: 0.4297\n"
     ]
    }
   ],
   "source": [
    "model.compile(loss = 'mse', optimizer = keras.optimizers.SGD(lr = 1e-3))\n",
    "\n",
    "X_train_A, X_train_B = X_train[:, :5], X_train[:, 2:]\n",
    "X_valid_A, X_valid_B = X_valid[:, :5], X_valid[:, 2:]\n",
    "X_test_A, X_test_B = X_test[:, :5], X_test[:, 2:]\n",
    "X_new_A, X_new_B = X_test_A[:3], X_test_B[:3]\n",
    "\n",
    "history = model.fit((X_train_A, X_train_B), y_train, epochs = 20,\n",
    "                    validation_data = ((X_valid_A, X_valid_B), y_valid))\n",
    "mse_test = model.evaluate((X_test_A, X_test_B), y_test)\n",
    "y_pred = model.predict((X_new_A, X_new_B))"
   ]
  },
  {
   "cell_type": "markdown",
   "metadata": {},
   "source": [
    "**여러 개의 출력이 필요한 경우?**\n",
    "- 여러 출력이 필요한 작업 \n",
    "    - 예를 들어 그림에 있는 주요 물체를 파악하고 위치를 알아야 할 수가 있다. 회귀 작업(물체 중심의 좌표와 너비, 높이 탐색)과 분류 작업을 함께 하는 경우\n",
    "\n",
    "- 동일한 데이터에서 독립적인 작업을 수행하는 경우 \n",
    "    - 작업마다 새로운 신경망을 훈련할 수 있지만 작업마다 하나의 출력을 가진 단일 신경망을 훈련하는 것이 보통 더 나은 결과를 낸다. 신경망이 여러 작업에 걸쳐 유용한 특성을 학습할 수 있기 때문이다. \n",
    "    - 예를 들어 얼굴 사진으로 다중 분류를 수행하는 경우\n",
    "        - 한 출력은 사람의 얼굴 표정을 분류\n",
    "        - 다른 한 출력은 안경 유무를 분류\n",
    "- 규제 기법으로 사용하는 경우(과대적합 방지)\n",
    "    - 신경망 구조 안에 보조 출력을 추가할 수 있다. 보조 출력을 이용해 하위 네트워크가 나머지 네트워크에 의존하지 않고 그 자체로 유용한 것을 학습하는지 확인할 수 있다."
   ]
  },
  {
   "attachments": {
    "image.png": {
     "image/png": "[encoded data removed]"
    }
   },
   "cell_type": "markdown",
   "metadata": {},
   "source": [
    "![image.png](attachment:image.png)"
   ]
  },
  {
   "cell_type": "markdown",
   "metadata": {},
   "source": [
    "보조 출력 추가하기"
   ]
  },
  {
   "cell_type": "code",
   "execution_count": 41,
   "metadata": {
    "ExecuteTime": {
     "end_time": "2022-07-19T09:33:49.105162Z",
     "start_time": "2022-07-19T09:33:49.058236Z"
    }
   },
   "outputs": [],
   "source": [
    "# Input A 객체 생성\n",
    "input_A = keras.layers.Input(shape = [5], name = 'wide_input')\n",
    "\n",
    "# Input B 객체 생성\n",
    "input_B = keras.layers.Input(shape = [6], name = 'deep_input')\n",
    "\n",
    "# Dense층 생성, 입력 B를 받게 됨\n",
    "hidden1 = keras.layers.Dense(30, activation = 'relu')(input_B)\n",
    "\n",
    "# Dense층 생성, 입력 B를 받은 은닉층1을 받게 됨\n",
    "hidden2 = keras.layers.Dense(30, activation = 'relu')(hidden1)\n",
    "\n",
    "# Concatenate층 생성, 입력층 A와 입력 B, 은닉층 1을 받은 은닉층2를 받게 됨\n",
    "concat = keras.layers.Concatenate()([input_A, hidden2])\n",
    "\n",
    "# 하나의 뉴런과 활성화 함수가 없는 출력층을 만들고 Concatenate층이 만든 결과를 사용해 호출\n",
    "output = keras.layers.Dense(1, name = 'output')(concat)\n",
    "\n",
    "# 보조출력 추가\n",
    "aux_output = keras.layers.Dense(1, name = 'aux_output')(hidden2)\n",
    "\n",
    "# 사용할 입력과 출력을 지정하여 Model 생성\n",
    "model = keras.Model(inputs = [input_A, input_B], outputs = [output, aux_output])"
   ]
  },
  {
   "cell_type": "markdown",
   "metadata": {},
   "source": [
    "각 출력은 자신만의 손실 함수가 필요하다. 기본적으로 케라스는 나열된 손실을 모두 더하여 최종 손실을 계산한다. 보조 출력은 규제로만 사용되기 때문에 주 출력의 손실에 더 많은 가중치를 부여해야 한다."
   ]
  },
  {
   "cell_type": "code",
   "execution_count": 42,
   "metadata": {
    "ExecuteTime": {
     "end_time": "2022-07-19T09:33:49.734566Z",
     "start_time": "2022-07-19T09:33:49.725767Z"
    }
   },
   "outputs": [],
   "source": [
    "model.compile(loss = ['mse', 'mse'], loss_weights = [0.9, 0.1], optimizer = 'sgd')"
   ]
  },
  {
   "cell_type": "markdown",
   "metadata": {},
   "source": [
    "각 출력에 대한 레이블 제공해야 한다. 여기서는 주 출력과 보조 출력이 같은 것을 예측해야 하기 때문에 동일한 레이블을 사용한다. "
   ]
  },
  {
   "cell_type": "code",
   "execution_count": 43,
   "metadata": {
    "ExecuteTime": {
     "end_time": "2022-07-19T09:33:58.503386Z",
     "start_time": "2022-07-19T09:33:50.883213Z"
    },
    "scrolled": true
   },
   "outputs": [
    {
     "name": "stdout",
     "output_type": "stream",
     "text": [
      "Epoch 1/20\n",
      "363/363 [==============================] - 1s 1ms/step - loss: 0.9014 - output_loss: 0.7646 - aux_output_loss: 2.1322 - val_loss: 2.2432 - val_output_loss: 2.3473 - val_aux_output_loss: 1.3063\n",
      "Epoch 2/20\n",
      "363/363 [==============================] - 0s 912us/step - loss: 0.5549 - output_loss: 0.4924 - aux_output_loss: 1.1172 - val_loss: 7.4504 - val_output_loss: 8.1643 - val_aux_output_loss: 1.0256\n",
      "Epoch 3/20\n",
      "363/363 [==============================] - 0s 937us/step - loss: 0.5726 - output_loss: 0.5261 - aux_output_loss: 0.9914 - val_loss: 0.5967 - val_output_loss: 0.4033 - val_aux_output_loss: 2.3374\n",
      "Epoch 4/20\n",
      "363/363 [==============================] - 0s 1ms/step - loss: 0.4770 - output_loss: 0.4327 - aux_output_loss: 0.8757 - val_loss: 0.5180 - val_output_loss: 0.4091 - val_aux_output_loss: 1.4986\n",
      "Epoch 5/20\n",
      "363/363 [==============================] - 0s 1ms/step - loss: 0.4595 - output_loss: 0.4236 - aux_output_loss: 0.7825 - val_loss: 0.4813 - val_output_loss: 0.4108 - val_aux_output_loss: 1.1157\n",
      "Epoch 6/20\n",
      "363/363 [==============================] - 0s 1ms/step - loss: 0.4478 - output_loss: 0.4181 - aux_output_loss: 0.7147 - val_loss: 0.4900 - val_output_loss: 0.4417 - val_aux_output_loss: 0.9246\n",
      "Epoch 7/20\n",
      "363/363 [==============================] - 0s 1ms/step - loss: 0.4523 - output_loss: 0.4280 - aux_output_loss: 0.6706 - val_loss: 0.4389 - val_output_loss: 0.3975 - val_aux_output_loss: 0.8120\n",
      "Epoch 8/20\n",
      "363/363 [==============================] - 0s 945us/step - loss: 0.4311 - output_loss: 0.4083 - aux_output_loss: 0.6360 - val_loss: 0.4174 - val_output_loss: 0.3790 - val_aux_output_loss: 0.7621\n",
      "Epoch 9/20\n",
      "363/363 [==============================] - 0s 883us/step - loss: 0.4216 - output_loss: 0.4003 - aux_output_loss: 0.6132 - val_loss: 0.4321 - val_output_loss: 0.4028 - val_aux_output_loss: 0.6957\n",
      "Epoch 10/20\n",
      "363/363 [==============================] - 0s 1ms/step - loss: 0.4184 - output_loss: 0.3986 - aux_output_loss: 0.5964 - val_loss: 0.4116 - val_output_loss: 0.3833 - val_aux_output_loss: 0.6656\n",
      "Epoch 11/20\n",
      "363/363 [==============================] - 0s 1ms/step - loss: 0.4170 - output_loss: 0.3984 - aux_output_loss: 0.5846 - val_loss: 0.3913 - val_output_loss: 0.3642 - val_aux_output_loss: 0.6353\n",
      "Epoch 12/20\n",
      "363/363 [==============================] - 0s 1ms/step - loss: 0.4127 - output_loss: 0.3948 - aux_output_loss: 0.5742 - val_loss: 0.4391 - val_output_loss: 0.4210 - val_aux_output_loss: 0.6028\n",
      "Epoch 13/20\n",
      "363/363 [==============================] - 0s 904us/step - loss: 0.4101 - output_loss: 0.3933 - aux_output_loss: 0.5615 - val_loss: 0.3843 - val_output_loss: 0.3634 - val_aux_output_loss: 0.5717\n",
      "Epoch 14/20\n",
      "363/363 [==============================] - 0s 867us/step - loss: 0.4051 - output_loss: 0.3887 - aux_output_loss: 0.5534 - val_loss: 0.3884 - val_output_loss: 0.3713 - val_aux_output_loss: 0.5419\n",
      "Epoch 15/20\n",
      "363/363 [==============================] - 0s 893us/step - loss: 0.4008 - output_loss: 0.3849 - aux_output_loss: 0.5438 - val_loss: 0.4156 - val_output_loss: 0.4038 - val_aux_output_loss: 0.5218\n",
      "Epoch 16/20\n",
      "363/363 [==============================] - 0s 802us/step - loss: 0.3893 - output_loss: 0.3730 - aux_output_loss: 0.5353 - val_loss: 0.3859 - val_output_loss: 0.3691 - val_aux_output_loss: 0.5364\n",
      "Epoch 17/20\n",
      "363/363 [==============================] - 0s 810us/step - loss: 0.3876 - output_loss: 0.3723 - aux_output_loss: 0.5254 - val_loss: 0.3824 - val_output_loss: 0.3634 - val_aux_output_loss: 0.5533\n",
      "Epoch 18/20\n",
      "363/363 [==============================] - 0s 799us/step - loss: 0.3812 - output_loss: 0.3660 - aux_output_loss: 0.5183 - val_loss: 0.3884 - val_output_loss: 0.3709 - val_aux_output_loss: 0.5459\n",
      "Epoch 19/20\n",
      "363/363 [==============================] - 0s 868us/step - loss: 0.3994 - output_loss: 0.3862 - aux_output_loss: 0.5182 - val_loss: 0.3619 - val_output_loss: 0.3460 - val_aux_output_loss: 0.5051\n",
      "Epoch 20/20\n",
      "363/363 [==============================] - 0s 893us/step - loss: 0.3777 - output_loss: 0.3638 - aux_output_loss: 0.5031 - val_loss: 0.4555 - val_output_loss: 0.4466 - val_aux_output_loss: 0.5351\n"
     ]
    }
   ],
   "source": [
    "history = model.fit(\n",
    "    [X_train_A, X_train_B], [y_train, y_train], epochs = 20,\n",
    "    validation_data = ([X_valid_A, X_valid_B], [y_valid, y_valid]))"
   ]
  },
  {
   "cell_type": "code",
   "execution_count": 44,
   "metadata": {
    "ExecuteTime": {
     "end_time": "2022-07-19T09:33:59.087265Z",
     "start_time": "2022-07-19T09:33:58.819979Z"
    }
   },
   "outputs": [
    {
     "name": "stdout",
     "output_type": "stream",
     "text": [
      "162/162 [==============================] - 0s 768us/step - loss: 0.3673 - output_loss: 0.3545 - aux_output_loss: 0.4831\n",
      "WARNING:tensorflow:5 out of the last 6 calls to <function Model.make_predict_function.<locals>.predict_function at 0x0000016973B86040> triggered tf.function retracing. Tracing is expensive and the excessive number of tracings could be due to (1) creating @tf.function repeatedly in a loop, (2) passing tensors with different shapes, (3) passing Python objects instead of tensors. For (1), please define your @tf.function outside of the loop. For (2), @tf.function has experimental_relax_shapes=True option that relaxes argument shapes that can avoid unnecessary retracing. For (3), please refer to https://www.tensorflow.org/guide/function#controlling_retracing and https://www.tensorflow.org/api_docs/python/tf/function for  more details.\n",
      "[[0.57737625]\n",
      " [1.660349  ]\n",
      " [3.465272  ]]\n",
      "[[0.96942735]\n",
      " [1.9277482 ]\n",
      " [2.9906895 ]]\n"
     ]
    }
   ],
   "source": [
    "total_loss, main_loss, aux_loss = model.evaluate(\n",
    "    [X_test_A, X_test_B], [y_test, y_test])\n",
    "y_pred_main, y_pred_aux = model.predict([X_new_A, X_new_B])\n",
    "print(y_pred_main)\n",
    "print(y_pred_aux)"
   ]
  },
  {
   "cell_type": "markdown",
   "metadata": {
    "ExecuteTime": {
     "end_time": "2022-07-18T09:55:31.541001Z",
     "start_time": "2022-07-18T09:55:31.534088Z"
    }
   },
   "source": [
    "## 서브클래싱 API로 동적 모델 만들기"
   ]
  },
  {
   "cell_type": "markdown",
   "metadata": {},
   "source": [
    "시퀀셜 API와 함수형 API는 모두 선언적이다.\n",
    "- 사용할 층과 연결 방식을 먼저 정의해야 함\n",
    "- 그 후에 모델에 데이터를 주입하여 훈련이나 추론을 시작할 수 있다.\n",
    "- 모델을 저장하거나 복사, 공유하기 쉽다는 장점이 있다. 또한 모델의 구조를 출력하거나 분석하기 좋다\n",
    "- 프레임워크가 크기를 짐작하고 타입을 확인하여 에러를 일찍 발견할 수 있다는 장점이 있다.\n",
    "- 전체 모델이 층으로 구성된 정적 그래프이므로 디버깅하기도 쉽다.\n",
    "    - 어떤 모델은 반복문을 포함하고 다양한 크기를 다루어야 하며 조건문을 가지는 등 여러 동적인 구조를 필요로 한다는 점에서 정적이라는 것이 단점으로 작용할 수도 있다.\n",
    "\n",
    "> 이런 경우에 조금 더 명령형 프로그래밍 스타일이 필요하다면 서브클래싱 API가 정답일 수 있다."
   ]
  },
  {
   "cell_type": "markdown",
   "metadata": {},
   "source": [
    "1. Model 클래스를 상속한 다음 생성자 안에서 필요한 층을 만든다. \n",
    "2. 그 다음 call() 메서드 안에 수행하려는 연산을 기술한다.\n",
    "    - 예를 들어 WideAndDeepModel 클래스의 인스턴스는 앞서 함수형 API로 만든 모델과 동일한 기능을 수행한다.\n"
   ]
  },
  {
   "cell_type": "code",
   "execution_count": 47,
   "metadata": {
    "ExecuteTime": {
     "end_time": "2022-07-19T09:34:32.279138Z",
     "start_time": "2022-07-19T09:34:32.258594Z"
    }
   },
   "outputs": [],
   "source": [
    "class WideAndDeepModel(keras.models.Model):\n",
    "    def __init__(self, units=30, activation=\"relu\", **kwargs):\n",
    "        super().__init__(**kwargs)\n",
    "        self.hidden1 = keras.layers.Dense(units, activation=activation)\n",
    "        self.hidden2 = keras.layers.Dense(units, activation=activation)\n",
    "        self.main_output = keras.layers.Dense(1)\n",
    "        self.aux_output = keras.layers.Dense(1)\n",
    "        \n",
    "    def call(self, inputs):\n",
    "        input_A, input_B = inputs\n",
    "        hidden1 = self.hidden1(input_B)\n",
    "        hidden2 = self.hidden2(hidden1)\n",
    "        concat = keras.layers.concatenate([input_A, hidden2])\n",
    "        main_output = self.main_output(concat)\n",
    "        aux_output = self.aux_output(hidden2)\n",
    "        return main_output, aux_output\n",
    "\n",
    "model = WideAndDeepModel(30, activation=\"relu\")"
   ]
  },
  {
   "cell_type": "code",
   "execution_count": 48,
   "metadata": {
    "ExecuteTime": {
     "end_time": "2022-07-19T09:34:37.795744Z",
     "start_time": "2022-07-19T09:34:33.191168Z"
    }
   },
   "outputs": [
    {
     "name": "stdout",
     "output_type": "stream",
     "text": [
      "Epoch 1/10\n",
      "363/363 [==============================] - 1s 1ms/step - loss: 2.4779 - output_1_loss: 2.2495 - output_2_loss: 4.5334 - val_loss: 2.3091 - val_output_1_loss: 2.1650 - val_output_2_loss: 3.6064\n",
      "Epoch 2/10\n",
      "363/363 [==============================] - 0s 1ms/step - loss: 1.0367 - output_1_loss: 0.8524 - output_2_loss: 2.6948 - val_loss: 1.1543 - val_output_1_loss: 0.9436 - val_output_2_loss: 3.0508\n",
      "Epoch 3/10\n",
      "363/363 [==============================] - 0s 1ms/step - loss: 0.8111 - output_1_loss: 0.6882 - output_2_loss: 1.9164 - val_loss: 0.8972 - val_output_1_loss: 0.6708 - val_output_2_loss: 2.9343\n",
      "Epoch 4/10\n",
      "363/363 [==============================] - 0s 1ms/step - loss: 0.7203 - output_1_loss: 0.6216 - output_2_loss: 1.6083 - val_loss: 0.8175 - val_output_1_loss: 0.5908 - val_output_2_loss: 2.8576\n",
      "Epoch 5/10\n",
      "363/363 [==============================] - 0s 1ms/step - loss: 0.6718 - output_1_loss: 0.5819 - output_2_loss: 1.4805 - val_loss: 0.7650 - val_output_1_loss: 0.5440 - val_output_2_loss: 2.7535\n",
      "Epoch 6/10\n",
      "363/363 [==============================] - 0s 992us/step - loss: 0.6404 - output_1_loss: 0.5542 - output_2_loss: 1.4164 - val_loss: 0.7292 - val_output_1_loss: 0.5186 - val_output_2_loss: 2.6250\n",
      "Epoch 7/10\n",
      "363/363 [==============================] - 0s 1ms/step - loss: 0.6174 - output_1_loss: 0.5332 - output_2_loss: 1.3752 - val_loss: 0.6941 - val_output_1_loss: 0.4962 - val_output_2_loss: 2.4752\n",
      "Epoch 8/10\n",
      "363/363 [==============================] - 0s 937us/step - loss: 0.5992 - output_1_loss: 0.5169 - output_2_loss: 1.3405 - val_loss: 0.6642 - val_output_1_loss: 0.4795 - val_output_2_loss: 2.3269\n",
      "Epoch 9/10\n",
      "363/363 [==============================] - 0s 920us/step - loss: 0.5837 - output_1_loss: 0.5029 - output_2_loss: 1.3106 - val_loss: 0.6393 - val_output_1_loss: 0.4672 - val_output_2_loss: 2.1884\n",
      "Epoch 10/10\n",
      "363/363 [==============================] - 0s 929us/step - loss: 0.5704 - output_1_loss: 0.4912 - output_2_loss: 1.2830 - val_loss: 0.6155 - val_output_1_loss: 0.4558 - val_output_2_loss: 2.0534\n",
      "162/162 [==============================] - 0s 508us/step - loss: 0.5569 - output_1_loss: 0.4791 - output_2_loss: 1.2571\n",
      "WARNING:tensorflow:6 out of the last 7 calls to <function Model.make_predict_function.<locals>.predict_function at 0x0000016975F5C0D0> triggered tf.function retracing. Tracing is expensive and the excessive number of tracings could be due to (1) creating @tf.function repeatedly in a loop, (2) passing tensors with different shapes, (3) passing Python objects instead of tensors. For (1), please define your @tf.function outside of the loop. For (2), @tf.function has experimental_relax_shapes=True option that relaxes argument shapes that can avoid unnecessary retracing. For (3), please refer to https://www.tensorflow.org/guide/function#controlling_retracing and https://www.tensorflow.org/api_docs/python/tf/function for  more details.\n"
     ]
    }
   ],
   "source": [
    "model.compile(loss=\"mse\", loss_weights=[0.9, 0.1], \n",
    "              optimizer=keras.optimizers.SGD(learning_rate=1e-3))\n",
    "history = model.fit((X_train_A, X_train_B), (y_train, y_train), epochs=10,\n",
    "                    validation_data=((X_valid_A, X_valid_B), (y_valid, y_valid)))\n",
    "total_loss, main_loss, aux_loss = model.evaluate((X_test_A, X_test_B), (y_test, y_test))\n",
    "y_pred_main, y_pred_aux = model.predict((X_new_A, X_new_B))"
   ]
  },
  {
   "cell_type": "markdown",
   "metadata": {},
   "source": [
    "## 모델 저장과 복원 "
   ]
  },
  {
   "cell_type": "markdown",
   "metadata": {},
   "source": [
    "시퀀셜 API와 함수형 API를 사용하면 훈련된 케라스 모델을 저장하는 것은 다음과 같이 매우 쉬워진다."
   ]
  },
  {
   "cell_type": "markdown",
   "metadata": {},
   "source": [
    "```python\n",
    "model = keras.models.Sequential([...])\n",
    "model.compile([...])\n",
    "model.fit([...])\n",
    "model.save('my_keras_model.h5')\n",
    "```\n"
   ]
  },
  {
   "cell_type": "markdown",
   "metadata": {},
   "source": [
    "케라스는 HDF5 포맷을 사용하여 모델 구조와 층의 모든 모델 파라미터(연결 가중치, 편향)을 저장한다. 또한 옵티마이저도 저장한다. \n",
    "\n",
    "일반적으로 하나의 파이썬 스크립트에서 모델을 훈련하고 저장한 다음 하나 이상의 스크립트 또는 웹 서비스에서 모델을 로드하고 예측을 만드는 데 사용한다. 모델 로드는 다음과 같이 간단하다.\n",
    "\n",
    "```{python}\n",
    "model = keras.models.load_model('my_keras_model.h5')\n",
    "```"
   ]
  },
  {
   "cell_type": "markdown",
   "metadata": {},
   "source": [
    "훈련이 몇 시간동안 저장되는 경우는 중간에 문제가 생겨서 훈련이 중단되면 모든 정보가 사라진다. 이를 방지하기 위해 훈련 도중 일정 간격으로 체크포인트를 저장해야 한다. \n",
    "\n",
    "> 콜백을 사용하면 fit() 메서드에서 체크포인트를 생성할 수 있다."
   ]
  },
  {
   "cell_type": "code",
   "execution_count": 49,
   "metadata": {
    "ExecuteTime": {
     "end_time": "2022-07-19T09:36:06.204749Z",
     "start_time": "2022-07-19T09:36:06.183123Z"
    }
   },
   "outputs": [],
   "source": [
    "np.random.seed(42)\n",
    "tf.random.set_seed(42)"
   ]
  },
  {
   "cell_type": "code",
   "execution_count": 50,
   "metadata": {
    "ExecuteTime": {
     "end_time": "2022-07-19T09:36:09.596594Z",
     "start_time": "2022-07-19T09:36:09.557663Z"
    }
   },
   "outputs": [],
   "source": [
    "model = keras.models.Sequential([\n",
    "    keras.layers.Dense(30, activation=\"relu\", input_shape=[8]),\n",
    "    keras.layers.Dense(30, activation=\"relu\"),\n",
    "    keras.layers.Dense(1)\n",
    "])    "
   ]
  },
  {
   "cell_type": "code",
   "execution_count": 51,
   "metadata": {
    "ExecuteTime": {
     "end_time": "2022-07-19T09:36:16.416032Z",
     "start_time": "2022-07-19T09:36:13.132953Z"
    }
   },
   "outputs": [
    {
     "name": "stdout",
     "output_type": "stream",
     "text": [
      "Epoch 1/10\n",
      "363/363 [==============================] - 1s 962us/step - loss: 1.8866 - val_loss: 0.7126\n",
      "Epoch 2/10\n",
      "363/363 [==============================] - 0s 672us/step - loss: 0.6577 - val_loss: 0.6880\n",
      "Epoch 3/10\n",
      "363/363 [==============================] - 0s 730us/step - loss: 0.5934 - val_loss: 0.5803\n",
      "Epoch 4/10\n",
      "363/363 [==============================] - 0s 776us/step - loss: 0.5557 - val_loss: 0.5166\n",
      "Epoch 5/10\n",
      "363/363 [==============================] - 0s 685us/step - loss: 0.5272 - val_loss: 0.4895\n",
      "Epoch 6/10\n",
      "363/363 [==============================] - 0s 657us/step - loss: 0.5033 - val_loss: 0.4951\n",
      "Epoch 7/10\n",
      "363/363 [==============================] - 0s 849us/step - loss: 0.4854 - val_loss: 0.4861\n",
      "Epoch 8/10\n",
      "363/363 [==============================] - 0s 696us/step - loss: 0.4709 - val_loss: 0.4554\n",
      "Epoch 9/10\n",
      "363/363 [==============================] - 0s 876us/step - loss: 0.4578 - val_loss: 0.4413\n",
      "Epoch 10/10\n",
      "363/363 [==============================] - 0s 956us/step - loss: 0.4474 - val_loss: 0.4379\n",
      "162/162 [==============================] - 0s 601us/step - loss: 0.4382\n"
     ]
    }
   ],
   "source": [
    "model.compile(loss=\"mse\", optimizer=keras.optimizers.SGD(learning_rate=1e-3))\n",
    "history = model.fit(X_train, y_train, epochs=10, validation_data=(X_valid, y_valid))\n",
    "mse_test = model.evaluate(X_test, y_test)"
   ]
  },
  {
   "cell_type": "code",
   "execution_count": 52,
   "metadata": {
    "ExecuteTime": {
     "end_time": "2022-07-19T09:36:19.295049Z",
     "start_time": "2022-07-19T09:36:19.248175Z"
    }
   },
   "outputs": [],
   "source": [
    "model.save(\"my_keras_model.h5\")"
   ]
  },
  {
   "cell_type": "code",
   "execution_count": 53,
   "metadata": {
    "ExecuteTime": {
     "end_time": "2022-07-19T09:36:24.009903Z",
     "start_time": "2022-07-19T09:36:23.958049Z"
    }
   },
   "outputs": [],
   "source": [
    "model = keras.models.load_model(\"my_keras_model.h5\")"
   ]
  },
  {
   "cell_type": "code",
   "execution_count": 54,
   "metadata": {
    "ExecuteTime": {
     "end_time": "2022-07-19T09:36:27.383761Z",
     "start_time": "2022-07-19T09:36:27.305859Z"
    }
   },
   "outputs": [
    {
     "data": {
      "text/plain": [
       "array([[0.5400236],\n",
       "       [1.6505971],\n",
       "       [3.0098243]], dtype=float32)"
      ]
     },
     "execution_count": 54,
     "metadata": {},
     "output_type": "execute_result"
    }
   ],
   "source": [
    "model.predict(X_new)"
   ]
  },
  {
   "cell_type": "code",
   "execution_count": 55,
   "metadata": {
    "ExecuteTime": {
     "end_time": "2022-07-19T09:36:31.084471Z",
     "start_time": "2022-07-19T09:36:31.022633Z"
    }
   },
   "outputs": [],
   "source": [
    "model.save_weights(\"my_keras_weights.ckpt\")"
   ]
  },
  {
   "cell_type": "code",
   "execution_count": 56,
   "metadata": {
    "ExecuteTime": {
     "end_time": "2022-07-19T09:36:34.479095Z",
     "start_time": "2022-07-19T09:36:34.451106Z"
    }
   },
   "outputs": [
    {
     "data": {
      "text/plain": [
       "<tensorflow.python.training.tracking.util.CheckpointLoadStatus at 0x16973be8c70>"
      ]
     },
     "execution_count": 56,
     "metadata": {},
     "output_type": "execute_result"
    }
   ],
   "source": [
    "model.load_weights(\"my_keras_weights.ckpt\")"
   ]
  },
  {
   "cell_type": "markdown",
   "metadata": {},
   "source": [
    "## 콜백 사용하기"
   ]
  },
  {
   "cell_type": "markdown",
   "metadata": {},
   "source": [
    "에포크의 시작이나 끝, 각 배치 처리 전후에 호출할 수 있다.\n",
    "\n",
    "예를 들어 ModelCheckpoint는 훈련하는 동안 일정한 간격으로 체크포인트를 저장한다. 기본적으로 매 에포크의 끝에서 호출된다.\n",
    "\n",
    "```python\n",
    "checkpoint_cn = keras.callbacks.ModelCheckpoint('my_keras_model.h5')\n",
    "history = model.fit(X_train, y_train, epochs = 10, callbacks = [checkpoint_ch])\n",
    "```"
   ]
  },
  {
   "cell_type": "markdown",
   "metadata": {},
   "source": [
    "훈련하는 동안 검증 세트를 사용하면 ModelCheckpoint를 만들 때 save_best_only = True로 지정할 수 있다. 최상의 검증 세트 점수에서만 모델을 저장하기 때문에 과대적합의 걱정이 없다. \n",
    "\n",
    "조기 종료를 구현한 코드"
   ]
  },
  {
   "cell_type": "code",
   "execution_count": 57,
   "metadata": {
    "ExecuteTime": {
     "end_time": "2022-07-19T09:36:44.383195Z",
     "start_time": "2022-07-19T09:36:44.371155Z"
    }
   },
   "outputs": [],
   "source": [
    "keras.backend.clear_session()\n",
    "np.random.seed(42)\n",
    "tf.random.set_seed(42)"
   ]
  },
  {
   "cell_type": "code",
   "execution_count": 58,
   "metadata": {
    "ExecuteTime": {
     "end_time": "2022-07-19T09:37:20.209984Z",
     "start_time": "2022-07-19T09:37:16.898238Z"
    }
   },
   "outputs": [
    {
     "name": "stdout",
     "output_type": "stream",
     "text": [
      "Epoch 1/10\n",
      "363/363 [==============================] - 0s 818us/step - loss: 1.8866 - val_loss: 0.7126\n",
      "Epoch 2/10\n",
      "363/363 [==============================] - 0s 638us/step - loss: 0.6577 - val_loss: 0.6880\n",
      "Epoch 3/10\n",
      "363/363 [==============================] - 0s 700us/step - loss: 0.5934 - val_loss: 0.5803\n",
      "Epoch 4/10\n",
      "363/363 [==============================] - 0s 711us/step - loss: 0.5557 - val_loss: 0.5166\n",
      "Epoch 5/10\n",
      "363/363 [==============================] - 0s 818us/step - loss: 0.5272 - val_loss: 0.4895\n",
      "Epoch 6/10\n",
      "363/363 [==============================] - 0s 727us/step - loss: 0.5033 - val_loss: 0.4951\n",
      "Epoch 7/10\n",
      "363/363 [==============================] - 0s 799us/step - loss: 0.4854 - val_loss: 0.4861\n",
      "Epoch 8/10\n",
      "363/363 [==============================] - 0s 652us/step - loss: 0.4709 - val_loss: 0.4554\n",
      "Epoch 9/10\n",
      "363/363 [==============================] - 0s 707us/step - loss: 0.4578 - val_loss: 0.4413\n",
      "Epoch 10/10\n",
      "363/363 [==============================] - 0s 774us/step - loss: 0.4474 - val_loss: 0.4379\n",
      "162/162 [==============================] - 0s 571us/step - loss: 0.4382\n"
     ]
    }
   ],
   "source": [
    "model = keras.models.Sequential([\n",
    "    keras.layers.Dense(30, activation=\"relu\", input_shape=[8]),\n",
    "    keras.layers.Dense(30, activation=\"relu\"),\n",
    "    keras.layers.Dense(1)\n",
    "])    \n",
    "\n",
    "model.compile(loss=\"mse\", optimizer = keras.optimizers.SGD(learning_rate = 1e-3))\n",
    "checkpoint_cb = keras.callbacks.ModelCheckpoint(\"my_keras_model.h5\", save_best_only=True)\n",
    "history = model.fit(X_train, y_train, epochs = 10,\n",
    "                    validation_data=(X_valid, y_valid),\n",
    "                    callbacks=[checkpoint_cb])\n",
    "model = keras.models.load_model(\"my_keras_model.h5\") # 최상의 모델로 롤백\n",
    "mse_test = model.evaluate(X_test, y_test)"
   ]
  },
  {
   "cell_type": "markdown",
   "metadata": {
    "ExecuteTime": {
     "end_time": "2022-07-18T10:28:07.737184Z",
     "start_time": "2022-07-18T10:28:07.727211Z"
    }
   },
   "source": [
    "조기 종료를 구현하는 또 다른 방법은 EarlyStopping 콜백을 사용하는 것이다.\n",
    "\n",
    "일정 에포크동안 검증 세트에 대한 점수가 향상되지 않으면 훈련을 멈춘다.\n",
    "\n",
    "체크 포인트 저장 콜백과 진전이 없는 경우 훈련을 멈추는 콜백을 함께 사용할 수 있다."
   ]
  },
  {
   "cell_type": "code",
   "execution_count": 59,
   "metadata": {
    "ExecuteTime": {
     "end_time": "2022-07-19T09:38:12.382746Z",
     "start_time": "2022-07-19T09:37:43.027072Z"
    }
   },
   "outputs": [
    {
     "name": "stdout",
     "output_type": "stream",
     "text": [
      "Epoch 1/100\n",
      "363/363 [==============================] - 1s 893us/step - loss: 0.4393 - val_loss: 0.4110\n",
      "Epoch 2/100\n",
      "363/363 [==============================] - 0s 747us/step - loss: 0.4315 - val_loss: 0.4266\n",
      "Epoch 3/100\n",
      "363/363 [==============================] - 0s 755us/step - loss: 0.4259 - val_loss: 0.3996\n",
      "Epoch 4/100\n",
      "363/363 [==============================] - 0s 762us/step - loss: 0.4201 - val_loss: 0.3939\n",
      "Epoch 5/100\n",
      "363/363 [==============================] - 0s 755us/step - loss: 0.4154 - val_loss: 0.3889\n",
      "Epoch 6/100\n",
      "363/363 [==============================] - 0s 738us/step - loss: 0.4111 - val_loss: 0.3866\n",
      "Epoch 7/100\n",
      "363/363 [==============================] - 0s 690us/step - loss: 0.4074 - val_loss: 0.3860\n",
      "Epoch 8/100\n",
      "363/363 [==============================] - ETA: 0s - loss: 0.401 - 0s 769us/step - loss: 0.4040 - val_loss: 0.3793\n",
      "Epoch 9/100\n",
      "363/363 [==============================] - 0s 692us/step - loss: 0.4008 - val_loss: 0.3746\n",
      "Epoch 10/100\n",
      "363/363 [==============================] - 0s 951us/step - loss: 0.3976 - val_loss: 0.3723\n",
      "Epoch 11/100\n",
      "363/363 [==============================] - 0s 874us/step - loss: 0.3950 - val_loss: 0.3697\n",
      "Epoch 12/100\n",
      "363/363 [==============================] - 0s 1ms/step - loss: 0.3923 - val_loss: 0.3669\n",
      "Epoch 13/100\n",
      "363/363 [==============================] - 0s 995us/step - loss: 0.3897 - val_loss: 0.3661\n",
      "Epoch 14/100\n",
      "363/363 [==============================] - 0s 727us/step - loss: 0.3874 - val_loss: 0.3631\n",
      "Epoch 15/100\n",
      "363/363 [==============================] - 0s 735us/step - loss: 0.3851 - val_loss: 0.3660\n",
      "Epoch 16/100\n",
      "363/363 [==============================] - 0s 782us/step - loss: 0.3829 - val_loss: 0.3625\n",
      "Epoch 17/100\n",
      "363/363 [==============================] - 0s 690us/step - loss: 0.3810 - val_loss: 0.3592\n",
      "Epoch 18/100\n",
      "363/363 [==============================] - 0s 798us/step - loss: 0.3788 - val_loss: 0.3563\n",
      "Epoch 19/100\n",
      "363/363 [==============================] - 0s 774us/step - loss: 0.3766 - val_loss: 0.3535\n",
      "Epoch 20/100\n",
      "363/363 [==============================] - 0s 791us/step - loss: 0.3750 - val_loss: 0.3709\n",
      "Epoch 21/100\n",
      "363/363 [==============================] - 0s 711us/step - loss: 0.3732 - val_loss: 0.3512\n",
      "Epoch 22/100\n",
      "363/363 [==============================] - 0s 1ms/step - loss: 0.3715 - val_loss: 0.3700\n",
      "Epoch 23/100\n",
      "363/363 [==============================] - 0s 799us/step - loss: 0.3700 - val_loss: 0.3476\n",
      "Epoch 24/100\n",
      "363/363 [==============================] - 0s 736us/step - loss: 0.3685 - val_loss: 0.3561\n",
      "Epoch 25/100\n",
      "363/363 [==============================] - 0s 744us/step - loss: 0.3671 - val_loss: 0.3527\n",
      "Epoch 26/100\n",
      "363/363 [==============================] - 0s 692us/step - loss: 0.3658 - val_loss: 0.3701\n",
      "Epoch 27/100\n",
      "363/363 [==============================] - 0s 716us/step - loss: 0.3647 - val_loss: 0.3432\n",
      "Epoch 28/100\n",
      "363/363 [==============================] - 0s 656us/step - loss: 0.3635 - val_loss: 0.3592\n",
      "Epoch 29/100\n",
      "363/363 [==============================] - 0s 818us/step - loss: 0.3625 - val_loss: 0.3521\n",
      "Epoch 30/100\n",
      "363/363 [==============================] - 0s 732us/step - loss: 0.3613 - val_loss: 0.3626\n",
      "Epoch 31/100\n",
      "363/363 [==============================] - 0s 693us/step - loss: 0.3601 - val_loss: 0.3431\n",
      "Epoch 32/100\n",
      "363/363 [==============================] - 0s 680us/step - loss: 0.3589 - val_loss: 0.3765\n",
      "Epoch 33/100\n",
      "363/363 [==============================] - 0s 1ms/step - loss: 0.3584 - val_loss: 0.3374\n",
      "Epoch 34/100\n",
      "363/363 [==============================] - 0s 975us/step - loss: 0.3572 - val_loss: 0.3407\n",
      "Epoch 35/100\n",
      "363/363 [==============================] - 0s 843us/step - loss: 0.3563 - val_loss: 0.3614\n",
      "Epoch 36/100\n",
      "363/363 [==============================] - 0s 962us/step - loss: 0.3555 - val_loss: 0.3348\n",
      "Epoch 37/100\n",
      "363/363 [==============================] - 0s 895us/step - loss: 0.3546 - val_loss: 0.3573\n",
      "Epoch 38/100\n",
      "363/363 [==============================] - 0s 923us/step - loss: 0.3538 - val_loss: 0.3367\n",
      "Epoch 39/100\n",
      "363/363 [==============================] - 0s 1ms/step - loss: 0.3530 - val_loss: 0.3425\n",
      "Epoch 40/100\n",
      "363/363 [==============================] - 0s 1ms/step - loss: 0.3523 - val_loss: 0.3368\n",
      "Epoch 41/100\n",
      "363/363 [==============================] - 0s 851us/step - loss: 0.3515 - val_loss: 0.3514\n",
      "Epoch 42/100\n",
      "363/363 [==============================] - 0s 763us/step - loss: 0.3511 - val_loss: 0.3426\n",
      "Epoch 43/100\n",
      "363/363 [==============================] - 0s 841us/step - loss: 0.3500 - val_loss: 0.3677\n",
      "Epoch 44/100\n",
      "363/363 [==============================] - 0s 1ms/step - loss: 0.3496 - val_loss: 0.3563\n",
      "Epoch 45/100\n",
      "363/363 [==============================] - 0s 678us/step - loss: 0.3490 - val_loss: 0.3336\n",
      "Epoch 46/100\n",
      "363/363 [==============================] - 0s 810us/step - loss: 0.3481 - val_loss: 0.3455\n",
      "Epoch 47/100\n",
      "363/363 [==============================] - 0s 744us/step - loss: 0.3478 - val_loss: 0.3434\n",
      "Epoch 48/100\n",
      "363/363 [==============================] - 0s 777us/step - loss: 0.3471 - val_loss: 0.3657\n",
      "Epoch 49/100\n",
      "363/363 [==============================] - 0s 722us/step - loss: 0.3466 - val_loss: 0.3287\n",
      "Epoch 50/100\n",
      "363/363 [==============================] - 0s 862us/step - loss: 0.3460 - val_loss: 0.3267\n",
      "Epoch 51/100\n",
      "363/363 [==============================] - 0s 939us/step - loss: 0.3454 - val_loss: 0.3439\n",
      "Epoch 52/100\n",
      "363/363 [==============================] - 0s 788us/step - loss: 0.3449 - val_loss: 0.3262\n",
      "Epoch 53/100\n",
      "363/363 [==============================] - 0s 724us/step - loss: 0.3444 - val_loss: 0.3912\n",
      "Epoch 54/100\n",
      "363/363 [==============================] - 0s 939us/step - loss: 0.3439 - val_loss: 0.3275\n",
      "Epoch 55/100\n",
      "363/363 [==============================] - 0s 1ms/step - loss: 0.3435 - val_loss: 0.3560\n",
      "Epoch 56/100\n",
      "363/363 [==============================] - 0s 774us/step - loss: 0.3430 - val_loss: 0.3237\n",
      "Epoch 57/100\n",
      "363/363 [==============================] - 0s 649us/step - loss: 0.3423 - val_loss: 0.3242\n",
      "Epoch 58/100\n",
      "363/363 [==============================] - 0s 816us/step - loss: 0.3419 - val_loss: 0.3765\n",
      "Epoch 59/100\n",
      "363/363 [==============================] - 0s 988us/step - loss: 0.3417 - val_loss: 0.3289\n",
      "Epoch 60/100\n",
      "363/363 [==============================] - 0s 741us/step - loss: 0.3410 - val_loss: 0.3501\n",
      "Epoch 61/100\n",
      "363/363 [==============================] - 0s 937us/step - loss: 0.3404 - val_loss: 0.3456\n",
      "Epoch 62/100\n",
      "363/363 [==============================] - 0s 863us/step - loss: 0.3402 - val_loss: 0.3446\n",
      "Epoch 63/100\n",
      "363/363 [==============================] - 0s 849us/step - loss: 0.3392 - val_loss: 0.3290\n",
      "Epoch 64/100\n",
      "363/363 [==============================] - 0s 1ms/step - loss: 0.3393 - val_loss: 0.3217\n",
      "Epoch 65/100\n",
      "363/363 [==============================] - 0s 1ms/step - loss: 0.3387 - val_loss: 0.3352\n",
      "Epoch 66/100\n",
      "363/363 [==============================] - 0s 861us/step - loss: 0.3383 - val_loss: 0.3232\n",
      "Epoch 67/100\n",
      "363/363 [==============================] - 0s 748us/step - loss: 0.3376 - val_loss: 0.3567\n",
      "Epoch 68/100\n",
      "363/363 [==============================] - 0s 738us/step - loss: 0.3374 - val_loss: 0.3256\n",
      "Epoch 69/100\n",
      "363/363 [==============================] - 0s 691us/step - loss: 0.3370 - val_loss: 0.3349\n",
      "Epoch 70/100\n",
      "363/363 [==============================] - 0s 677us/step - loss: 0.3365 - val_loss: 0.3559\n",
      "Epoch 71/100\n",
      "363/363 [==============================] - 0s 962us/step - loss: 0.3361 - val_loss: 0.3583\n",
      "Epoch 72/100\n",
      "363/363 [==============================] - 0s 878us/step - loss: 0.3357 - val_loss: 0.3287\n",
      "Epoch 73/100\n",
      "363/363 [==============================] - 0s 830us/step - loss: 0.3351 - val_loss: 0.3203\n",
      "Epoch 74/100\n",
      "363/363 [==============================] - 0s 898us/step - loss: 0.3350 - val_loss: 0.3841\n",
      "Epoch 75/100\n",
      "363/363 [==============================] - 0s 845us/step - loss: 0.3347 - val_loss: 0.3234\n",
      "Epoch 76/100\n",
      "363/363 [==============================] - 0s 755us/step - loss: 0.3342 - val_loss: 0.3476\n",
      "Epoch 77/100\n",
      "363/363 [==============================] - 0s 799us/step - loss: 0.3338 - val_loss: 0.3408\n",
      "Epoch 78/100\n",
      "363/363 [==============================] - 0s 840us/step - loss: 0.3335 - val_loss: 0.3462\n",
      "Epoch 79/100\n",
      "363/363 [==============================] - 0s 788us/step - loss: 0.3332 - val_loss: 0.3347\n"
     ]
    },
    {
     "name": "stdout",
     "output_type": "stream",
     "text": [
      "Epoch 80/100\n",
      "363/363 [==============================] - 0s 661us/step - loss: 0.3329 - val_loss: 0.3353\n",
      "Epoch 81/100\n",
      "363/363 [==============================] - 0s 658us/step - loss: 0.3324 - val_loss: 0.3276\n",
      "Epoch 82/100\n",
      "363/363 [==============================] - 0s 653us/step - loss: 0.3320 - val_loss: 0.3167\n",
      "Epoch 83/100\n",
      "363/363 [==============================] - 0s 773us/step - loss: 0.3317 - val_loss: 0.3281\n",
      "Epoch 84/100\n",
      "363/363 [==============================] - 0s 728us/step - loss: 0.3312 - val_loss: 0.3636\n",
      "Epoch 85/100\n",
      "363/363 [==============================] - 0s 714us/step - loss: 0.3310 - val_loss: 0.3175\n",
      "Epoch 86/100\n",
      "363/363 [==============================] - 0s 796us/step - loss: 0.3308 - val_loss: 0.3156\n",
      "Epoch 87/100\n",
      "363/363 [==============================] - 0s 806us/step - loss: 0.3305 - val_loss: 0.3532\n",
      "Epoch 88/100\n",
      "363/363 [==============================] - 0s 873us/step - loss: 0.3299 - val_loss: 0.3256\n",
      "Epoch 89/100\n",
      "363/363 [==============================] - 0s 777us/step - loss: 0.3294 - val_loss: 0.3630\n",
      "Epoch 90/100\n",
      "363/363 [==============================] - 0s 788us/step - loss: 0.3296 - val_loss: 0.3375\n",
      "Epoch 91/100\n",
      "363/363 [==============================] - 0s 642us/step - loss: 0.3291 - val_loss: 0.3212\n",
      "Epoch 92/100\n",
      "363/363 [==============================] - 0s 650us/step - loss: 0.3287 - val_loss: 0.3455\n",
      "Epoch 93/100\n",
      "363/363 [==============================] - 0s 647us/step - loss: 0.3285 - val_loss: 0.3159\n",
      "Epoch 94/100\n",
      "363/363 [==============================] - 0s 705us/step - loss: 0.3281 - val_loss: 0.3407\n",
      "Epoch 95/100\n",
      "363/363 [==============================] - 0s 1ms/step - loss: 0.3277 - val_loss: 0.3382\n",
      "Epoch 96/100\n",
      "363/363 [==============================] - 0s 754us/step - loss: 0.3273 - val_loss: 0.3212\n",
      "162/162 [==============================] - 0s 489us/step - loss: 0.3310\n"
     ]
    }
   ],
   "source": [
    "model.compile(loss=\"mse\", optimizer=keras.optimizers.SGD(learning_rate=1e-3))\n",
    "early_stopping_cb = keras.callbacks.EarlyStopping(patience=10,\n",
    "                                                  restore_best_weights=True)\n",
    "history = model.fit(X_train, y_train, epochs=100,\n",
    "                    validation_data=(X_valid, y_valid),\n",
    "                    callbacks=[checkpoint_cb, early_stopping_cb])\n",
    "mse_test = model.evaluate(X_test, y_test)"
   ]
  },
  {
   "cell_type": "code",
   "execution_count": 60,
   "metadata": {
    "ExecuteTime": {
     "end_time": "2022-07-19T09:38:14.323542Z",
     "start_time": "2022-07-19T09:38:14.310436Z"
    }
   },
   "outputs": [],
   "source": [
    "class PrintValTrainRatioCallback(keras.callbacks.Callback):\n",
    "    def on_epoch_end(self, epoch, logs):\n",
    "        print(\"\\nval/train: {:.2f}\".format(logs[\"val_loss\"] / logs[\"loss\"]))"
   ]
  },
  {
   "cell_type": "code",
   "execution_count": 61,
   "metadata": {
    "ExecuteTime": {
     "end_time": "2022-07-19T09:38:15.843470Z",
     "start_time": "2022-07-19T09:38:15.463846Z"
    }
   },
   "outputs": [
    {
     "name": "stdout",
     "output_type": "stream",
     "text": [
      "363/363 [==============================] - 0s 884us/step - loss: 0.3302 - val_loss: 0.3559\n",
      "\n",
      "val/train: 1.08\n"
     ]
    }
   ],
   "source": [
    "val_train_ratio_cb = PrintValTrainRatioCallback()\n",
    "history = model.fit(X_train, y_train, epochs=1,\n",
    "                    validation_data=(X_valid, y_valid),\n",
    "                    callbacks=[val_train_ratio_cb])"
   ]
  },
  {
   "cell_type": "markdown",
   "metadata": {},
   "source": [
    "## 텐서보드를 활용해서 시각화하기"
   ]
  },
  {
   "cell_type": "markdown",
   "metadata": {},
   "source": [
    "텐서보드를 사용하려면 프로그램을 수정하여 이벤트 파일이라는 특별한 이진 로그 파일에 시각화하려는 데이터를 출력해야 한다. 각각의 이진 데이터 레코드를 summary라고 한다. \n",
    "\n",
    "텐서보드 서버는 로그 디렉토리를 모니터링하고 자동으로 변경사항을 읽어 그래프를 업데이트한다. \n",
    "\n",
    "훈련하는 중간에 실시간으로 시각화할 수 있다.\n",
    "\n",
    "일반적으로 텐서보드 서버가 루트 로그 디렉토리를 가리키고 프로그램을 실행할 때마다 다른 서브디렉토리에 이벤트를 기록한다. 이렇게 하면 복잡하지 않게 하나의 텐서보드 서버가 여러 번 실행한 프로그램의 결과를 시각화하고 비교할 수 있다."
   ]
  },
  {
   "cell_type": "markdown",
   "metadata": {},
   "source": [
    "텐서보드 로그를 위해 사용할 루트 로그 디렉토리를 정의\n",
    "- 현재 날짜와 시간을 이용해 실행할 때마다 다른 서브디렉토리 경로를 생성하는 함수도 생성\n",
    "- 테스트하는 하이퍼파라미터값과 같은 정보를 로그 디렉토리 이름으로 지정할 수 있다."
   ]
  },
  {
   "cell_type": "code",
   "execution_count": 62,
   "metadata": {
    "ExecuteTime": {
     "end_time": "2022-07-19T09:38:34.505903Z",
     "start_time": "2022-07-19T09:38:34.493854Z"
    }
   },
   "outputs": [
    {
     "data": {
      "text/plain": [
       "'.\\\\my_logs\\\\run_2022_07_19-18_38_34'"
      ]
     },
     "execution_count": 62,
     "metadata": {},
     "output_type": "execute_result"
    }
   ],
   "source": [
    "import os \n",
    "root_logdir = os.path.join(os.curdir, \"my_logs\")\n",
    "\n",
    "def get_run_logdir():\n",
    "    import time\n",
    "    run_id = time.strftime(\"run_%Y_%m_%d-%H_%M_%S\")\n",
    "    return os.path.join(root_logdir, run_id)\n",
    "\n",
    "run_logdir = get_run_logdir()\n",
    "run_logdir"
   ]
  },
  {
   "cell_type": "code",
   "execution_count": null,
   "metadata": {
    "ExecuteTime": {
     "end_time": "2022-07-19T09:15:53.898592Z",
     "start_time": "2022-07-19T09:12:48.549Z"
    }
   },
   "outputs": [],
   "source": [
    "model = keras.models.Sequential([\n",
    "    keras.layers.Dense(30, activation = 'relu', input_shape = X_train.shape[1:]),\n",
    "    keras.layers.Dense(1)\n",
    "])\n",
    "\n",
    "model.compile(loss = 'mean_squared_error', optimizer = 'sgd')\n",
    "\n",
    "tensorboard_cb = keras.callbacks.TensorBoard(run_logdir)\n",
    "\n",
    "history = model.fit(X_train, y_train, epochs = 30, \n",
    "                    validation_data = (X_valid, y_valid),\n",
    "                    callbacks = [tensorboard_cb])"
   ]
  },
  {
   "cell_type": "code",
   "execution_count": 63,
   "metadata": {
    "ExecuteTime": {
     "end_time": "2022-07-19T09:38:40.557836Z",
     "start_time": "2022-07-19T09:38:40.544041Z"
    }
   },
   "outputs": [],
   "source": [
    "keras.backend.clear_session()\n",
    "np.random.seed(42)\n",
    "tf.random.set_seed(42)"
   ]
  },
  {
   "cell_type": "code",
   "execution_count": 64,
   "metadata": {
    "ExecuteTime": {
     "end_time": "2022-07-19T09:38:45.956925Z",
     "start_time": "2022-07-19T09:38:45.914041Z"
    }
   },
   "outputs": [],
   "source": [
    "model = keras.models.Sequential([\n",
    "    keras.layers.Dense(30, activation=\"relu\", input_shape=[8]),\n",
    "    keras.layers.Dense(30, activation=\"relu\"),\n",
    "    keras.layers.Dense(1)\n",
    "])    \n",
    "model.compile(loss=\"mse\", optimizer=keras.optimizers.SGD(learning_rate=1e-3))"
   ]
  },
  {
   "cell_type": "code",
   "execution_count": 65,
   "metadata": {
    "ExecuteTime": {
     "end_time": "2022-07-19T09:39:03.193711Z",
     "start_time": "2022-07-19T09:38:53.872133Z"
    }
   },
   "outputs": [
    {
     "name": "stdout",
     "output_type": "stream",
     "text": [
      "Epoch 1/30\n",
      "363/363 [==============================] - 1s 1ms/step - loss: 1.8866 - val_loss: 0.7126\n",
      "Epoch 2/30\n",
      "363/363 [==============================] - 0s 641us/step - loss: 0.6577 - val_loss: 0.6880\n",
      "Epoch 3/30\n",
      "363/363 [==============================] - 0s 686us/step - loss: 0.5934 - val_loss: 0.5803\n",
      "Epoch 4/30\n",
      "363/363 [==============================] - 0s 758us/step - loss: 0.5557 - val_loss: 0.5166\n",
      "Epoch 5/30\n",
      "363/363 [==============================] - 0s 680us/step - loss: 0.5272 - val_loss: 0.4895\n",
      "Epoch 6/30\n",
      "363/363 [==============================] - 0s 720us/step - loss: 0.5033 - val_loss: 0.4951\n",
      "Epoch 7/30\n",
      "363/363 [==============================] - ETA: 0s - loss: 0.484 - 0s 758us/step - loss: 0.4854 - val_loss: 0.4861\n",
      "Epoch 8/30\n",
      "363/363 [==============================] - 0s 1ms/step - loss: 0.4709 - val_loss: 0.4554\n",
      "Epoch 9/30\n",
      "363/363 [==============================] - 0s 988us/step - loss: 0.4578 - val_loss: 0.4413\n",
      "Epoch 10/30\n",
      "363/363 [==============================] - 0s 987us/step - loss: 0.4474 - val_loss: 0.4379\n",
      "Epoch 11/30\n",
      "363/363 [==============================] - 0s 751us/step - loss: 0.4393 - val_loss: 0.4396\n",
      "Epoch 12/30\n",
      "363/363 [==============================] - 0s 723us/step - loss: 0.4318 - val_loss: 0.4507\n",
      "Epoch 13/30\n",
      "363/363 [==============================] - 0s 664us/step - loss: 0.4261 - val_loss: 0.3997\n",
      "Epoch 14/30\n",
      "363/363 [==============================] - 0s 687us/step - loss: 0.4202 - val_loss: 0.3956\n",
      "Epoch 15/30\n",
      "363/363 [==============================] - 0s 671us/step - loss: 0.4155 - val_loss: 0.3916\n",
      "Epoch 16/30\n",
      "363/363 [==============================] - 0s 677us/step - loss: 0.4112 - val_loss: 0.3937\n",
      "Epoch 17/30\n",
      "363/363 [==============================] - 0s 704us/step - loss: 0.4077 - val_loss: 0.3809\n",
      "Epoch 18/30\n",
      "363/363 [==============================] - 0s 718us/step - loss: 0.4040 - val_loss: 0.3793\n",
      "Epoch 19/30\n",
      "363/363 [==============================] - 0s 835us/step - loss: 0.4004 - val_loss: 0.3850\n",
      "Epoch 20/30\n",
      "363/363 [==============================] - 0s 759us/step - loss: 0.3980 - val_loss: 0.3809\n",
      "Epoch 21/30\n",
      "363/363 [==============================] - 0s 794us/step - loss: 0.3949 - val_loss: 0.3701\n",
      "Epoch 22/30\n",
      "363/363 [==============================] - 0s 686us/step - loss: 0.3924 - val_loss: 0.3781\n",
      "Epoch 23/30\n",
      "363/363 [==============================] - 0s 767us/step - loss: 0.3898 - val_loss: 0.3650\n",
      "Epoch 24/30\n",
      "363/363 [==============================] - 0s 869us/step - loss: 0.3874 - val_loss: 0.3655\n",
      "Epoch 25/30\n",
      "363/363 [==============================] - 0s 920us/step - loss: 0.3851 - val_loss: 0.3611\n",
      "Epoch 26/30\n",
      "363/363 [==============================] - 0s 771us/step - loss: 0.3829 - val_loss: 0.3626\n",
      "Epoch 27/30\n",
      "363/363 [==============================] - 0s 1ms/step - loss: 0.3809 - val_loss: 0.3564\n",
      "Epoch 28/30\n",
      "363/363 [==============================] - 0s 1ms/step - loss: 0.3788 - val_loss: 0.3579\n",
      "Epoch 29/30\n",
      "363/363 [==============================] - 0s 1ms/step - loss: 0.3769 - val_loss: 0.3561\n",
      "Epoch 30/30\n",
      "363/363 [==============================] - 0s 714us/step - loss: 0.3750 - val_loss: 0.3548\n"
     ]
    }
   ],
   "source": [
    "tensorboard_cb = keras.callbacks.TensorBoard(run_logdir)\n",
    "history = model.fit(X_train, y_train, epochs=30,\n",
    "                    validation_data=(X_valid, y_valid),\n",
    "                    callbacks=[checkpoint_cb, tensorboard_cb])"
   ]
  },
  {
   "cell_type": "code",
   "execution_count": 73,
   "metadata": {
    "ExecuteTime": {
     "end_time": "2022-07-19T09:40:50.631121Z",
     "start_time": "2022-07-19T09:40:50.473639Z"
    }
   },
   "outputs": [
    {
     "name": "stderr",
     "output_type": "stream",
     "text": [
      "kill: 16836: No such process\n"
     ]
    }
   ],
   "source": [
    "!kill 16836"
   ]
  },
  {
   "cell_type": "code",
   "execution_count": 74,
   "metadata": {
    "ExecuteTime": {
     "end_time": "2022-07-19T09:41:46.444443Z",
     "start_time": "2022-07-19T09:41:23.886780Z"
    },
    "scrolled": true
   },
   "outputs": [
    {
     "name": "stdout",
     "output_type": "stream",
     "text": [
      "The tensorboard extension is already loaded. To reload it, use:\n",
      "  %reload_ext tensorboard\n"
     ]
    },
    {
     "data": {
      "text/html": [
       "\n",
       "      <iframe id=\"tensorboard-frame-6d3b5a407591b016\" width=\"100%\" height=\"800\" frameborder=\"0\">\n",
       "      </iframe>\n",
       "      <script>\n",
       "        (function() {\n",
       "          const frame = document.getElementById(\"tensorboard-frame-6d3b5a407591b016\");\n",
       "          const url = new URL(\"/\", window.location);\n",
       "          const port = 6007;\n",
       "          if (port) {\n",
       "            url.port = port;\n",
       "          }\n",
       "          frame.src = url;\n",
       "        })();\n",
       "      </script>\n",
       "    "
      ],
      "text/plain": [
       "<IPython.core.display.HTML object>"
      ]
     },
     "metadata": {},
     "output_type": "display_data"
    }
   ],
   "source": [
    "%load_ext tensorboard\n",
    "%tensorboard --logdir=./my_logs --port=6007"
   ]
  },
  {
   "cell_type": "code",
   "execution_count": 75,
   "metadata": {
    "ExecuteTime": {
     "end_time": "2022-07-19T09:45:32.547909Z",
     "start_time": "2022-07-19T09:45:32.533803Z"
    }
   },
   "outputs": [
    {
     "data": {
      "text/plain": [
       "'.\\\\my_logs\\\\run_2022_07_19-18_45_32'"
      ]
     },
     "execution_count": 75,
     "metadata": {},
     "output_type": "execute_result"
    }
   ],
   "source": [
    "run_logdir2 = get_run_logdir()\n",
    "run_logdir2"
   ]
  },
  {
   "cell_type": "code",
   "execution_count": 76,
   "metadata": {
    "ExecuteTime": {
     "end_time": "2022-07-19T09:45:33.063715Z",
     "start_time": "2022-07-19T09:45:33.044617Z"
    }
   },
   "outputs": [],
   "source": [
    "keras.backend.clear_session()\n",
    "np.random.seed(42)\n",
    "tf.random.set_seed(42)"
   ]
  },
  {
   "cell_type": "code",
   "execution_count": 77,
   "metadata": {
    "ExecuteTime": {
     "end_time": "2022-07-19T09:45:33.710463Z",
     "start_time": "2022-07-19T09:45:33.662348Z"
    }
   },
   "outputs": [],
   "source": [
    "model = keras.models.Sequential([\n",
    "    keras.layers.Dense(30, activation=\"relu\", input_shape=[8]),\n",
    "    keras.layers.Dense(30, activation=\"relu\"),\n",
    "    keras.layers.Dense(1)\n",
    "])    \n",
    "model.compile(loss=\"mse\", optimizer=keras.optimizers.SGD(learning_rate=0.05))"
   ]
  },
  {
   "cell_type": "code",
   "execution_count": 78,
   "metadata": {
    "ExecuteTime": {
     "end_time": "2022-07-19T09:45:44.970697Z",
     "start_time": "2022-07-19T09:45:34.939323Z"
    }
   },
   "outputs": [
    {
     "name": "stdout",
     "output_type": "stream",
     "text": [
      "Epoch 1/30\n",
      "363/363 [==============================] - 1s 1ms/step - loss: 0.5530 - val_loss: 302.8466\n",
      "Epoch 2/30\n",
      "363/363 [==============================] - 0s 731us/step - loss: 63.6669 - val_loss: 0.9735\n",
      "Epoch 3/30\n",
      "363/363 [==============================] - 0s 831us/step - loss: 0.9411 - val_loss: 0.9599\n",
      "Epoch 4/30\n",
      "363/363 [==============================] - 0s 1ms/step - loss: 0.9197 - val_loss: 0.8464\n",
      "Epoch 5/30\n",
      "363/363 [==============================] - 0s 1ms/step - loss: 0.9819 - val_loss: 0.9281\n",
      "Epoch 6/30\n",
      "363/363 [==============================] - 0s 1ms/step - loss: 0.9240 - val_loss: 0.9089\n",
      "Epoch 7/30\n",
      "363/363 [==============================] - 0s 751us/step - loss: 0.9179 - val_loss: 0.8815\n",
      "Epoch 8/30\n",
      "363/363 [==============================] - 0s 747us/step - loss: 0.8950 - val_loss: 0.9007\n",
      "Epoch 9/30\n",
      "363/363 [==============================] - 0s 788us/step - loss: 0.9150 - val_loss: 0.8734\n",
      "Epoch 10/30\n",
      "363/363 [==============================] - 0s 767us/step - loss: 0.8921 - val_loss: 0.8507\n",
      "Epoch 11/30\n",
      "363/363 [==============================] - 0s 840us/step - loss: 0.9377 - val_loss: 0.8663\n",
      "Epoch 12/30\n",
      "363/363 [==============================] - 0s 859us/step - loss: 0.8821 - val_loss: 0.8661\n",
      "Epoch 13/30\n",
      "363/363 [==============================] - 0s 791us/step - loss: 0.8820 - val_loss: 0.8442\n",
      "Epoch 14/30\n",
      "363/363 [==============================] - 0s 862us/step - loss: 0.8723 - val_loss: 0.8376\n",
      "Epoch 15/30\n",
      "363/363 [==============================] - 0s 987us/step - loss: 2.0060 - val_loss: 0.8278\n",
      "Epoch 16/30\n",
      "363/363 [==============================] - 0s 678us/step - loss: 1.0323 - val_loss: 0.8264\n",
      "Epoch 17/30\n",
      "363/363 [==============================] - 0s 793us/step - loss: 0.8477 - val_loss: 0.8303\n",
      "Epoch 18/30\n",
      "363/363 [==============================] - 0s 934us/step - loss: 0.8441 - val_loss: 0.8028\n",
      "Epoch 19/30\n",
      "363/363 [==============================] - 0s 766us/step - loss: 0.8270 - val_loss: 0.8049\n",
      "Epoch 20/30\n",
      "363/363 [==============================] - 0s 1ms/step - loss: 0.8190 - val_loss: 0.7881\n",
      "Epoch 21/30\n",
      "363/363 [==============================] - 0s 1ms/step - loss: 0.8061 - val_loss: 0.8479\n",
      "Epoch 22/30\n",
      "363/363 [==============================] - 0s 814us/step - loss: 0.7955 - val_loss: 0.7850\n",
      "Epoch 23/30\n",
      "363/363 [==============================] - 0s 745us/step - loss: 0.7825 - val_loss: 0.7543\n",
      "Epoch 24/30\n",
      "363/363 [==============================] - 0s 1ms/step - loss: 0.7755 - val_loss: 0.7205\n",
      "Epoch 25/30\n",
      "363/363 [==============================] - 0s 861us/step - loss: 0.7554 - val_loss: 0.8237\n",
      "Epoch 26/30\n",
      "363/363 [==============================] - 0s 657us/step - loss: 0.8110 - val_loss: 0.7646\n",
      "Epoch 27/30\n",
      "363/363 [==============================] - 0s 669us/step - loss: 0.7860 - val_loss: 0.7630\n",
      "Epoch 28/30\n",
      "363/363 [==============================] - 0s 760us/step - loss: 0.7753 - val_loss: 0.7558\n",
      "Epoch 29/30\n",
      "363/363 [==============================] - 0s 955us/step - loss: 0.7526 - val_loss: 2.6873\n",
      "Epoch 30/30\n",
      "363/363 [==============================] - 0s 771us/step - loss: 0.7860 - val_loss: 0.7643\n"
     ]
    }
   ],
   "source": [
    "tensorboard_cb = keras.callbacks.TensorBoard(run_logdir2)\n",
    "history = model.fit(X_train, y_train, epochs=30,\n",
    "                    validation_data=(X_valid, y_valid),\n",
    "                    callbacks=[checkpoint_cb, tensorboard_cb])"
   ]
  },
  {
   "cell_type": "markdown",
   "metadata": {},
   "source": [
    "# 신경망 하이퍼 파라미터 튜닝"
   ]
  },
  {
   "cell_type": "markdown",
   "metadata": {},
   "source": [
    "첫 번째 방법은 GridSearchCV나 RandomizedSearchCV를 통해 하이퍼 파라미터 공간을 탐색하는 것이다. \n",
    "\n",
    "이렇게 하려면 케라스 모델을 사이킷런 추정기처럼 보이도록 바꿔야 한다. "
   ]
  },
  {
   "cell_type": "code",
   "execution_count": 79,
   "metadata": {
    "ExecuteTime": {
     "end_time": "2022-07-19T09:45:51.860003Z",
     "start_time": "2022-07-19T09:45:51.839315Z"
    }
   },
   "outputs": [],
   "source": [
    "keras.backend.clear_session()\n",
    "np.random.seed(42)\n",
    "tf.random.set_seed(42)"
   ]
  },
  {
   "cell_type": "code",
   "execution_count": 80,
   "metadata": {
    "ExecuteTime": {
     "end_time": "2022-07-19T09:45:56.441170Z",
     "start_time": "2022-07-19T09:45:56.430355Z"
    }
   },
   "outputs": [],
   "source": [
    "def build_model(n_hidden = 1, n_neurons = 30, learning_rate = 3e-3, input_shape = [8]) : \n",
    "    model = keras.models.Sequential()\n",
    "    model.add(keras.layers.InputLayer(input_shape = input_shape))\n",
    "    for layer in range(n_hidden) : \n",
    "        model.add(keras.layers.Dense(n_neurons, activation = 'relu'))\n",
    "    model.add(keras.layers.Dense(1))\n",
    "    optimizer = keras.optimizers.SGD(lr = learning_rate)\n",
    "    model.compile(loss = 'mse', optimizer = optimizer)\n",
    "    return model"
   ]
  },
  {
   "cell_type": "code",
   "execution_count": 81,
   "metadata": {
    "ExecuteTime": {
     "end_time": "2022-07-19T09:45:58.186224Z",
     "start_time": "2022-07-19T09:45:58.174563Z"
    }
   },
   "outputs": [],
   "source": [
    "keras_reg = keras.wrappers.scikit_learn.KerasRegressor(build_model)"
   ]
  },
  {
   "cell_type": "code",
   "execution_count": 82,
   "metadata": {
    "ExecuteTime": {
     "end_time": "2022-07-19T09:46:22.811188Z",
     "start_time": "2022-07-19T09:46:01.370327Z"
    }
   },
   "outputs": [
    {
     "name": "stdout",
     "output_type": "stream",
     "text": [
      "Epoch 1/100\n",
      "363/363 [==============================] - 1s 888us/step - loss: 1.0896 - val_loss: 20.7721\n",
      "Epoch 2/100\n",
      "363/363 [==============================] - 0s 838us/step - loss: 0.7606 - val_loss: 5.0266\n",
      "Epoch 3/100\n",
      "363/363 [==============================] - 0s 730us/step - loss: 0.5456 - val_loss: 0.5490\n",
      "Epoch 4/100\n",
      "363/363 [==============================] - 0s 738us/step - loss: 0.4732 - val_loss: 0.4529\n",
      "Epoch 5/100\n",
      "363/363 [==============================] - 0s 708us/step - loss: 0.4503 - val_loss: 0.4188\n",
      "Epoch 6/100\n",
      "363/363 [==============================] - 0s 711us/step - loss: 0.4338 - val_loss: 0.4129\n",
      "Epoch 7/100\n",
      "363/363 [==============================] - 0s 688us/step - loss: 0.4241 - val_loss: 0.4004\n",
      "Epoch 8/100\n",
      "363/363 [==============================] - 0s 617us/step - loss: 0.4168 - val_loss: 0.3944\n",
      "Epoch 9/100\n",
      "363/363 [==============================] - 0s 612us/step - loss: 0.4108 - val_loss: 0.3961\n",
      "Epoch 10/100\n",
      "363/363 [==============================] - 0s 664us/step - loss: 0.4060 - val_loss: 0.4071\n",
      "Epoch 11/100\n",
      "363/363 [==============================] - 0s 936us/step - loss: 0.4021 - val_loss: 0.3855\n",
      "Epoch 12/100\n",
      "363/363 [==============================] - 0s 796us/step - loss: 0.3984 - val_loss: 0.4136\n",
      "Epoch 13/100\n",
      "363/363 [==============================] - 0s 1ms/step - loss: 0.3951 - val_loss: 0.3997\n",
      "Epoch 14/100\n",
      "363/363 [==============================] - 0s 893us/step - loss: 0.3921 - val_loss: 0.3818\n",
      "Epoch 15/100\n",
      "363/363 [==============================] - 0s 959us/step - loss: 0.3894 - val_loss: 0.3829\n",
      "Epoch 16/100\n",
      "363/363 [==============================] - 0s 1ms/step - loss: 0.3869 - val_loss: 0.3739\n",
      "Epoch 17/100\n",
      "363/363 [==============================] - 0s 816us/step - loss: 0.3848 - val_loss: 0.4022\n",
      "Epoch 18/100\n",
      "363/363 [==============================] - 0s 823us/step - loss: 0.3829 - val_loss: 0.3873\n",
      "Epoch 19/100\n",
      "363/363 [==============================] - 0s 647us/step - loss: 0.3807 - val_loss: 0.3768\n",
      "Epoch 20/100\n",
      "363/363 [==============================] - 0s 826us/step - loss: 0.3791 - val_loss: 0.4191\n",
      "Epoch 21/100\n",
      "363/363 [==============================] - 0s 679us/step - loss: 0.3774 - val_loss: 0.3927\n",
      "Epoch 22/100\n",
      "363/363 [==============================] - 0s 802us/step - loss: 0.3756 - val_loss: 0.4237\n",
      "Epoch 23/100\n",
      "363/363 [==============================] - 0s 702us/step - loss: 0.3742 - val_loss: 0.3523\n",
      "Epoch 24/100\n",
      "363/363 [==============================] - 0s 884us/step - loss: 0.3725 - val_loss: 0.3842\n",
      "Epoch 25/100\n",
      "363/363 [==============================] - 0s 669us/step - loss: 0.3710 - val_loss: 0.4162\n",
      "Epoch 26/100\n",
      "363/363 [==============================] - 0s 686us/step - loss: 0.3700 - val_loss: 0.3980\n",
      "Epoch 27/100\n",
      "363/363 [==============================] - 0s 861us/step - loss: 0.3691 - val_loss: 0.3473\n",
      "Epoch 28/100\n",
      "363/363 [==============================] - 0s 953us/step - loss: 0.3677 - val_loss: 0.3921\n",
      "Epoch 29/100\n",
      "363/363 [==============================] - 0s 650us/step - loss: 0.3670 - val_loss: 0.3566\n",
      "Epoch 30/100\n",
      "363/363 [==============================] - 0s 698us/step - loss: 0.3653 - val_loss: 0.4191\n",
      "Epoch 31/100\n",
      "363/363 [==============================] - 0s 612us/step - loss: 0.3647 - val_loss: 0.3722\n",
      "Epoch 32/100\n",
      "363/363 [==============================] - 0s 607us/step - loss: 0.3633 - val_loss: 0.3948\n",
      "Epoch 33/100\n",
      "363/363 [==============================] - 0s 605us/step - loss: 0.3632 - val_loss: 0.3423\n",
      "Epoch 34/100\n",
      "363/363 [==============================] - 0s 777us/step - loss: 0.3617 - val_loss: 0.3454\n",
      "Epoch 35/100\n",
      "363/363 [==============================] - 0s 835us/step - loss: 0.3610 - val_loss: 0.4068\n",
      "Epoch 36/100\n",
      "363/363 [==============================] - 0s 872us/step - loss: 0.3608 - val_loss: 0.3417\n",
      "Epoch 37/100\n",
      "363/363 [==============================] - 0s 685us/step - loss: 0.3596 - val_loss: 0.3787\n",
      "Epoch 38/100\n",
      "363/363 [==============================] - 0s 748us/step - loss: 0.3589 - val_loss: 0.3379\n",
      "Epoch 39/100\n",
      "363/363 [==============================] - 0s 1ms/step - loss: 0.3582 - val_loss: 0.3419\n",
      "Epoch 40/100\n",
      "363/363 [==============================] - 0s 809us/step - loss: 0.3572 - val_loss: 0.3705\n",
      "Epoch 41/100\n",
      "363/363 [==============================] - 0s 677us/step - loss: 0.3570 - val_loss: 0.3660\n",
      "Epoch 42/100\n",
      "363/363 [==============================] - 0s 786us/step - loss: 0.3563 - val_loss: 0.3803\n",
      "Epoch 43/100\n",
      "363/363 [==============================] - 0s 975us/step - loss: 0.3552 - val_loss: 0.3766\n",
      "Epoch 44/100\n",
      "363/363 [==============================] - 0s 665us/step - loss: 0.3548 - val_loss: 0.3814\n",
      "Epoch 45/100\n",
      "363/363 [==============================] - 0s 589us/step - loss: 0.3543 - val_loss: 0.3326\n",
      "Epoch 46/100\n",
      "363/363 [==============================] - 0s 821us/step - loss: 0.3532 - val_loss: 0.3385\n",
      "Epoch 47/100\n",
      "363/363 [==============================] - 0s 827us/step - loss: 0.3527 - val_loss: 0.3657\n",
      "Epoch 48/100\n",
      "363/363 [==============================] - 0s 788us/step - loss: 0.3521 - val_loss: 0.3576\n",
      "Epoch 49/100\n",
      "363/363 [==============================] - 0s 739us/step - loss: 0.3525 - val_loss: 0.3358\n",
      "Epoch 50/100\n",
      "363/363 [==============================] - 0s 1ms/step - loss: 0.3510 - val_loss: 0.3317\n",
      "Epoch 51/100\n",
      "363/363 [==============================] - 0s 686us/step - loss: 0.3504 - val_loss: 0.3564\n",
      "Epoch 52/100\n",
      "363/363 [==============================] - 0s 643us/step - loss: 0.3502 - val_loss: 0.3522\n",
      "Epoch 53/100\n",
      "363/363 [==============================] - 0s 576us/step - loss: 0.3496 - val_loss: 0.4581\n",
      "Epoch 54/100\n",
      "363/363 [==============================] - 0s 578us/step - loss: 0.3497 - val_loss: 0.3808\n",
      "Epoch 55/100\n",
      "363/363 [==============================] - 0s 571us/step - loss: 0.3490 - val_loss: 0.3539\n",
      "Epoch 56/100\n",
      "363/363 [==============================] - 0s 641us/step - loss: 0.3485 - val_loss: 0.3721\n",
      "Epoch 57/100\n",
      "363/363 [==============================] - 0s 617us/step - loss: 0.3479 - val_loss: 0.3336\n",
      "Epoch 58/100\n",
      "363/363 [==============================] - 0s 725us/step - loss: 0.3470 - val_loss: 0.4011\n",
      "Epoch 59/100\n",
      "363/363 [==============================] - 0s 741us/step - loss: 0.3475 - val_loss: 0.3263\n",
      "Epoch 60/100\n",
      "363/363 [==============================] - 0s 677us/step - loss: 0.3465 - val_loss: 0.3271\n",
      "Epoch 61/100\n",
      "363/363 [==============================] - 0s 570us/step - loss: 0.3452 - val_loss: 0.3348\n",
      "Epoch 62/100\n",
      "363/363 [==============================] - 0s 573us/step - loss: 0.3453 - val_loss: 0.3492\n",
      "Epoch 63/100\n",
      "363/363 [==============================] - 0s 633us/step - loss: 0.3444 - val_loss: 0.3401\n",
      "Epoch 64/100\n",
      "363/363 [==============================] - 0s 636us/step - loss: 0.3450 - val_loss: 0.3274\n",
      "Epoch 65/100\n",
      "363/363 [==============================] - 0s 622us/step - loss: 0.3437 - val_loss: 0.3296\n",
      "Epoch 66/100\n",
      "363/363 [==============================] - 0s 631us/step - loss: 0.3431 - val_loss: 0.3307\n",
      "Epoch 67/100\n",
      "363/363 [==============================] - 0s 672us/step - loss: 0.3428 - val_loss: 0.3252\n",
      "Epoch 68/100\n",
      "363/363 [==============================] - 0s 653us/step - loss: 0.3423 - val_loss: 0.3242\n",
      "Epoch 69/100\n",
      "363/363 [==============================] - 0s 702us/step - loss: 0.3419 - val_loss: 0.3254\n",
      "Epoch 70/100\n",
      "363/363 [==============================] - 0s 642us/step - loss: 0.3413 - val_loss: 0.3659\n",
      "Epoch 71/100\n",
      "363/363 [==============================] - 0s 589us/step - loss: 0.3414 - val_loss: 0.3379\n",
      "Epoch 72/100\n",
      "363/363 [==============================] - 0s 616us/step - loss: 0.3405 - val_loss: 0.3272\n",
      "Epoch 73/100\n",
      "363/363 [==============================] - 0s 683us/step - loss: 0.3399 - val_loss: 0.3242\n",
      "Epoch 74/100\n",
      "363/363 [==============================] - 0s 597us/step - loss: 0.3402 - val_loss: 0.3661\n",
      "Epoch 75/100\n",
      "363/363 [==============================] - 0s 635us/step - loss: 0.3397 - val_loss: 0.3284\n",
      "Epoch 76/100\n",
      "363/363 [==============================] - 0s 658us/step - loss: 0.3394 - val_loss: 0.3243\n",
      "Epoch 77/100\n",
      "363/363 [==============================] - 0s 747us/step - loss: 0.3383 - val_loss: 0.3372\n",
      "Epoch 78/100\n",
      "363/363 [==============================] - 0s 623us/step - loss: 0.3384 - val_loss: 0.3366\n",
      "162/162 [==============================] - 0s 557us/step - loss: 0.3412\n"
     ]
    }
   ],
   "source": [
    "keras_reg.fit(X_train, y_train, epochs = 100,\n",
    "              validation_data = (X_valid, y_valid),\n",
    "              callbacks = [keras.callbacks.EarlyStopping(patience = 10)])\n",
    "mse_test = keras_reg.score(X_test, y_test)\n",
    "y_pred = keras_reg.predict(X_new)"
   ]
  },
  {
   "cell_type": "code",
   "execution_count": 84,
   "metadata": {
    "ExecuteTime": {
     "end_time": "2022-07-19T09:46:48.477353Z",
     "start_time": "2022-07-19T09:46:48.420505Z"
    }
   },
   "outputs": [
    {
     "data": {
      "text/plain": [
       "array([0.6514432, 1.6107497, 4.071351 ], dtype=float32)"
      ]
     },
     "execution_count": 84,
     "metadata": {},
     "output_type": "execute_result"
    }
   ],
   "source": [
    "y_pred = keras_reg.predict(X_new)\n",
    "y_pred"
   ]
  },
  {
   "cell_type": "markdown",
   "metadata": {},
   "source": [
    "하나의 모델에 대한 훈련과 평가의 과정이 아니라 수백 개의 모델을 훈련하고 검증 세트에서 최상의 모델을 선택해야 한다. 하이퍼 파라미터가 많기 때문에 랜덤 서치가 좋다. "
   ]
  },
  {
   "cell_type": "code",
   "execution_count": null,
   "metadata": {
    "ExecuteTime": {
     "end_time": "2022-07-19T09:15:53.903580Z",
     "start_time": "2022-07-19T09:12:48.569Z"
    }
   },
   "outputs": [],
   "source": [
    "from scipy.stats import reciprocal \n",
    "from sklearn.model_selection import RandomizedSearchCV\n",
    "\n",
    "param_distribs = {\n",
    "    'n_hidden' : [0, 1, 2, 3],\n",
    "    'n_neurons' : np.arange(1, 100),\n",
    "    'learning_rate' : reciprocal(3e-4, 3e-2)\n",
    "}\n",
    "\n",
    "rnd_search_cv = RandomizedSearchCV(keras_reg, param_distribs, n_iter = 10, cv = 3)\n",
    "rnd_search_cv.fit(X_train, y_train, epochs = 100,\n",
    "              validation_data = (X_valid, y_valid),\n",
    "              callbacks = [keras.callbacks.EarlyStopping(patience = 10)])"
   ]
  },
  {
   "cell_type": "code",
   "execution_count": null,
   "metadata": {
    "ExecuteTime": {
     "end_time": "2022-07-19T09:15:53.905575Z",
     "start_time": "2022-07-19T09:12:48.572Z"
    }
   },
   "outputs": [],
   "source": [
    "rnd_search_cv.best_params_"
   ]
  },
  {
   "cell_type": "code",
   "execution_count": null,
   "metadata": {
    "ExecuteTime": {
     "end_time": "2022-07-19T09:15:53.906572Z",
     "start_time": "2022-07-19T09:12:48.575Z"
    }
   },
   "outputs": [],
   "source": [
    "rnd_search_cv.best_score_"
   ]
  },
  {
   "cell_type": "code",
   "execution_count": null,
   "metadata": {
    "ExecuteTime": {
     "end_time": "2022-07-19T09:15:53.907568Z",
     "start_time": "2022-07-19T09:12:48.578Z"
    }
   },
   "outputs": [],
   "source": [
    "model = rnd_search_cv.best_estimator_.model"
   ]
  },
  {
   "cell_type": "markdown",
   "metadata": {},
   "source": [
    "## 은닉층 개수"
   ]
  },
  {
   "cell_type": "code",
   "execution_count": null,
   "metadata": {},
   "outputs": [],
   "source": []
  }
 ],
 "metadata": {
  "hide_input": false,
  "kernelspec": {
   "display_name": "Python 3",
   "language": "python",
   "name": "python3"
  },
  "toc": {
   "base_numbering": 1,
   "nav_menu": {},
   "number_sections": true,
   "sideBar": true,
   "skip_h1_title": false,
   "title_cell": "Table of Contents",
   "title_sidebar": "Contents",
   "toc_cell": false,
   "toc_position": {},
   "toc_section_display": true,
   "toc_window_display": true
  },
  "varInspector": {
   "cols": {
    "lenName": 16,
    "lenType": 16,
    "lenVar": 40
   },
   "kernels_config": {
    "python": {
     "delete_cmd_postfix": "",
     "delete_cmd_prefix": "del ",
     "library": "var_list.py",
     "varRefreshCmd": "print(var_dic_list())"
    },
    "r": {
     "delete_cmd_postfix": ") ",
     "delete_cmd_prefix": "rm(",
     "library": "var_list.r",
     "varRefreshCmd": "cat(var_dic_list()) "
    }
   },
   "types_to_exclude": [
    "module",
    "function",
    "builtin_function_or_method",
    "instance",
    "_Feature"
   ],
   "window_display": false
  }
 },
 "nbformat": 4,
 "nbformat_minor": 4
}
