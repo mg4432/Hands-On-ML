{
 "cells": [
  {
   "cell_type": "code",
   "execution_count": 1,
   "metadata": {
    "ExecuteTime": {
     "end_time": "2022-08-15T03:31:56.370799Z",
     "start_time": "2022-08-15T03:31:54.971385Z"
    }
   },
   "outputs": [],
   "source": [
    "import os \n",
    "import tensorflow as tf\n",
    "os.environ[\"CUDA_VISIBLE_DEVICES\"] = \"1\""
   ]
  },
  {
   "cell_type": "code",
   "execution_count": 2,
   "metadata": {
    "ExecuteTime": {
     "end_time": "2022-08-15T03:31:57.194022Z",
     "start_time": "2022-08-15T03:31:56.845488Z"
    }
   },
   "outputs": [],
   "source": [
    "# 파이썬 ≥3.5 필수\n",
    "import sys\n",
    "assert sys.version_info >= (3, 5)\n",
    "\n",
    "# 사이킷런 ≥0.20 필수\n",
    "import sklearn\n",
    "assert sklearn.__version__ >= \"0.20\"\n",
    "\n",
    "# 텐서플로 ≥2.0 필수\n",
    "from tensorflow import keras\n",
    "assert tf.__version__ >= \"2.0\"\n",
    "\n",
    "%load_ext tensorboard\n",
    "\n",
    "# 공통 모듈 임포트\n",
    "import numpy as np\n",
    "# 노트북 실행 결과를 동일하게 유지하기 위해\n",
    "np.random.seed(42)\n",
    "\n",
    "# 깔끔한 그래프 출력을 위해\n",
    "%matplotlib inline\n",
    "import matplotlib as mpl\n",
    "import matplotlib.pyplot as plt\n",
    "mpl.rc('axes', labelsize=14)\n",
    "mpl.rc('xtick', labelsize=12)\n",
    "mpl.rc('ytick', labelsize=12)\n",
    "\n",
    "# 그림을 저장할 위치\n",
    "PROJECT_ROOT_DIR = \".\"\n",
    "CHAPTER_ID = \"deep\"\n",
    "IMAGES_PATH = os.path.join(PROJECT_ROOT_DIR, \"images\", CHAPTER_ID)\n",
    "os.makedirs(IMAGES_PATH, exist_ok=True)\n",
    "\n",
    "def save_fig(fig_id, tight_layout=True, fig_extension=\"png\", resolution=300):\n",
    "    path = os.path.join(IMAGES_PATH, fig_id + \".\" + fig_extension)\n",
    "    print(\"그림 저장:\", fig_id)\n",
    "    if tight_layout:\n",
    "        plt.tight_layout()\n",
    "    plt.savefig(path, format=fig_extension, dpi=resolution)"
   ]
  },
  {
   "cell_type": "code",
   "execution_count": 3,
   "metadata": {
    "ExecuteTime": {
     "end_time": "2022-08-15T03:31:57.231900Z",
     "start_time": "2022-08-15T03:31:57.217332Z"
    }
   },
   "outputs": [
    {
     "name": "stdout",
     "output_type": "stream",
     "text": [
      "sklearn : 1.0.2\n",
      "keras : 2.2.4-tf\n",
      "tensorflow : 2.0.0\n"
     ]
    }
   ],
   "source": [
    "print(f'sklearn : {sklearn.__version__}')\n",
    "print(f'keras : {keras.__version__}')\n",
    "print(f'tensorflow : {tf.__version__}')"
   ]
  },
  {
   "cell_type": "markdown",
   "metadata": {},
   "source": [
    "# 심층 신경망 훈련하기"
   ]
  },
  {
   "cell_type": "markdown",
   "metadata": {},
   "source": [
    "이전에 몇 개의 은닉층으로 이루어진 얕은 네트워크를 훈련했음.\n",
    "\n",
    "고해상도 이미지에서 수백 종류의 물체를 감지하는 것처럼 아주 복잡한 문제를 다루는 경우 수백 개의 뉴런으로 구성된 10개 이상의 층을 수십만 개의 가중치로 연결해서 훨씬 더 깊은 신경망을 훈련해야 함.\n",
    "\n",
    "하지만 깊은 신경망을 이용해 훈련하는 경우 다음과 같은 문제를 마주할 수 있음.\n",
    "\n",
    "- gradient vanishing 또는 gradient exploding 문제에 직면할 수 있다.\n",
    "- 대규모 신경망을 위한 훈련 데이터가 충분하지 않거나 레이블을 만드는 과정에 비용이 많이 들 수 있다.\n",
    "- 훈련이 극단적으로 느려질 수 있다.\n",
    "- 과대적합의 우려가 있다.\n",
    "    - 특히 훈련 샘플이 충분하지 않거나 noise가 많은 경우"
   ]
  },
  {
   "cell_type": "markdown",
   "metadata": {},
   "source": [
    "## 그래디언트 소실(gradient vanishing)과 그래디언트 폭주(gradient exploding)"
   ]
  },
  {
   "cell_type": "markdown",
   "metadata": {},
   "source": [
    "역전파 알고리즘은 출력층에서 입력층으로 오차 그래디언트를 전파하면서 진행된다. 알고리즘이 신경망의 모든 파라미터에 대한 오차 함수의 그래디언트를 계산하면 경사하강법 단계에서 이 그래디언트를 사용하여 각 파라미터를 수정한다. \n",
    "\n",
    "그런데 하위층으로 진행될수록 점점 그래디언트가 작아지는 경우가 많이 발생한다. 이 때 하위층의 연결 가중치를 변경하지 않은 채로 둔다면 훈련이 잘 진행되지 않을 수 있다. 이를 **그래디언트 소실**이라고 한다.\n",
    "\n",
    "이 반대의 경우도 가능한데, 그래디언트가 점점 커지면서 여러 층이 비정상적으로 큰 가중치로 갱신되면 알고리즘은 발산한다. 이를 **그래디언트 폭주**라고 하며 순환 신경망에서 자주 나타난다.\n"
   ]
  },
  {
   "cell_type": "code",
   "execution_count": 4,
   "metadata": {
    "ExecuteTime": {
     "end_time": "2022-08-15T03:31:58.830864Z",
     "start_time": "2022-08-15T03:31:58.107882Z"
    }
   },
   "outputs": [
    {
     "name": "stdout",
     "output_type": "stream",
     "text": [
      "그림 저장: sigmoid_saturation_plot\n"
     ]
    },
    {
     "data": {
      "image/png": "[encoded data removed]",
      "text/plain": [
       "<Figure size 432x288 with 1 Axes>"
      ]
     },
     "metadata": {
      "needs_background": "light"
     },
     "output_type": "display_data"
    }
   ],
   "source": [
    "def logit(z):\n",
    "    return 1 / (1 + np.exp(-z))\n",
    "\n",
    "z = np.linspace(-5, 5, 200)\n",
    "\n",
    "plt.plot([-5, 5], [0, 0], 'k-')\n",
    "plt.plot([-5, 5], [1, 1], 'k--')\n",
    "plt.plot([0, 0], [-0.2, 1.2], 'k-')\n",
    "plt.plot([-5, 5], [-3/4, 7/4], 'g--')\n",
    "\n",
    "plt.plot(z, logit(z), \"b-\", linewidth=2)\n",
    "props = dict(facecolor='black', shrink=0.1)\n",
    "plt.annotate('Saturating', xytext=(3.5, 0.7), xy=(5, 1), arrowprops=props, fontsize=14, ha=\"center\")\n",
    "plt.annotate('Saturating', xytext=(-3.5, 0.3), xy=(-5, 0), arrowprops=props, fontsize=14, ha=\"center\")\n",
    "plt.annotate('Linear', xytext=(2, 0.2), xy=(0, 0.5), arrowprops=props, fontsize=14, ha=\"center\")\n",
    "plt.grid(True)\n",
    "plt.title(\"Sigmoid activation function\", fontsize=14)\n",
    "plt.axis([-5, 5, -0.2, 1.2])\n",
    "\n",
    "save_fig(\"sigmoid_saturation_plot\")\n",
    "plt.show()"
   ]
  },
  {
   "cell_type": "markdown",
   "metadata": {},
   "source": [
    "로지스틱 활성화 함수를 보면 입력의 절대값이 커지면 0이나 1로 수렴해서 기울기가 0에 매우 가까워지는 것을 알 수 있다. 그래서 역전파를 수행할 때 전파할 그래디언트가 거의 없고 조금 있는 그래디언트는 최상위층에서 역전파가 진행되면서 서서히 약해지면서 사실상 아래쪽 층에는 아무 값도 도달하지 않게 된다."
   ]
  },
  {
   "cell_type": "markdown",
   "metadata": {},
   "source": [
    "### 글로럿과 He 초기화"
   ]
  },
  {
   "cell_type": "markdown",
   "metadata": {},
   "source": [
    "글로럿과 벤지오는 불안정한 그래디언트 문제를 완화하는 방법을 제시했다.\n",
    "\n",
    "예측을 할 때는 정방향으로, 그래디언트를 역전파할때는 역방향으로 양방향 신호가 적절히 흘러야 한다. 그러기 위해서는 신호가 사라지거나 폭주하지 않아야 한다.\n",
    "- 이를 위해서는 각 층의 출력에 대한 분산이 입력에 대한 분산과 같아야 한다고 주장했다.\n",
    "- 그리고, 역방향에서 층을 통과하기 전과 후의 그래디언트 분산이 동일해야 한다.\n",
    "\n",
    "이 때, 층의 입력과 출력 연결 개수(fan-in, fan-out)가 다르면 이 두 가지를 보장할 수 없다. 하지만 글로럿과 벤지오는 실전에서 매우 잘 작동한다고 입증된 대안을 제시했다. \n",
    "- 각 층의 연결 가중치를 아래와 같이 무작위로 초기화하는 것이다.\n",
    "\n",
    "**글로럿 초기화**(로지스틱 활성화 함수를 사용할 때)\n",
    "- 평균이 0이고 분산이 $\\sigma^2 = \\dfrac{1}{fan_{\\text{avg}}}$인 정규분포\n",
    "- 또는 $r = \\sqrt{\\dfrac{3}{fan_{\\text{avg}}}}$일 때 $-r$과 $+r$ 사이의 균등분포\n",
    "\n",
    "위의 식에서 $fan_{\\text{avg}}$를 $fan_{\\text{in}}$으로 바꾸면 1990년에 얀 르쿤이 제안한 초기화 전략이 되며, 이를 르쿤 초기화라고 부른다.\n",
    "\n",
    "$fan_{\\text{avg}} = fan_{\\text{in}}$이면 르쿤 초기화는 글로럿 초기화와 동일하게 된다. "
   ]
  },
  {
   "cell_type": "markdown",
   "metadata": {},
   "source": [
    "**초기화 전략**\n",
    "\n",
    "|초기화 전략|활성화 함수|$\\sigma^2$|\n",
    "|-----|:---|---|\n",
    "|글로럿|활성화함수 없음, 하이퍼볼릭 탄젠트, 로지스틱, 소프트맥스|$\\dfrac{1}{fan_{\\text{avg}}}$|\n",
    "|He|ReLU 함수와 ReLU함수의 변종|$\\dfrac{2}{fan_{\\text{in}}}$|\n",
    "|르쿤|SELU|$\\dfrac{1}{fan_{\\text{in}}}$|"
   ]
  },
  {
   "cell_type": "code",
   "execution_count": 5,
   "metadata": {
    "ExecuteTime": {
     "end_time": "2022-08-15T03:31:58.890986Z",
     "start_time": "2022-08-15T03:31:58.885153Z"
    }
   },
   "outputs": [
    {
     "data": {
      "text/plain": [
       "['Constant',\n",
       " 'GlorotNormal',\n",
       " 'GlorotUniform',\n",
       " 'Identity',\n",
       " 'Initializer',\n",
       " 'Ones',\n",
       " 'Orthogonal',\n",
       " 'RandomNormal',\n",
       " 'RandomUniform',\n",
       " 'TruncatedNormal',\n",
       " 'VarianceScaling',\n",
       " 'Zeros',\n",
       " 'constant',\n",
       " 'deserialize',\n",
       " 'get',\n",
       " 'glorot_normal',\n",
       " 'glorot_uniform',\n",
       " 'he_normal',\n",
       " 'he_uniform',\n",
       " 'identity',\n",
       " 'lecun_normal',\n",
       " 'lecun_uniform',\n",
       " 'ones',\n",
       " 'orthogonal',\n",
       " 'serialize',\n",
       " 'zeros']"
      ]
     },
     "execution_count": 5,
     "metadata": {},
     "output_type": "execute_result"
    }
   ],
   "source": [
    "[name for name in dir(keras.initializers) if not name.startswith('_')]"
   ]
  },
  {
   "cell_type": "markdown",
   "metadata": {},
   "source": [
    "케라스는 기본적으로 uniform distribution의 글로럿 초기화를 사용한다. 층을 만들 때 `kernel_initializer = 'he_uniform'`이나 `kernel_initializer = 'he_normal'`로 바꾸어 He 초기화를 사용할 수도 있다."
   ]
  },
  {
   "cell_type": "code",
   "execution_count": 6,
   "metadata": {
    "ExecuteTime": {
     "end_time": "2022-08-15T03:31:59.194008Z",
     "start_time": "2022-08-15T03:31:59.177288Z"
    }
   },
   "outputs": [
    {
     "data": {
      "text/plain": [
       "<tensorflow.python.keras.layers.core.Dense at 0x7fd6ac3db910>"
      ]
     },
     "execution_count": 6,
     "metadata": {},
     "output_type": "execute_result"
    }
   ],
   "source": [
    "keras.layers.Dense(10, activation = 'relu', kernel_initializer = 'he_normal')"
   ]
  },
  {
   "cell_type": "markdown",
   "metadata": {},
   "source": [
    "$fan_{\\text{in}}$ 대신 $fan_{\\text{out}}$기반의 균등분포 He 초기화를 사용하고 싶다면 다음과 같이 `Variance Scaling`을 사용할 수 있다."
   ]
  },
  {
   "cell_type": "code",
   "execution_count": 7,
   "metadata": {
    "ExecuteTime": {
     "end_time": "2022-08-15T03:31:59.549943Z",
     "start_time": "2022-08-15T03:31:59.536036Z"
    }
   },
   "outputs": [
    {
     "data": {
      "text/plain": [
       "<tensorflow.python.keras.layers.core.Dense at 0x7fd6b464b090>"
      ]
     },
     "execution_count": 7,
     "metadata": {},
     "output_type": "execute_result"
    }
   ],
   "source": [
    "he_avg_init = keras.initializers.VarianceScaling(scale = 2., mode = 'fan_avg',\n",
    "                                                 distribution = 'uniform')\n",
    "\n",
    "keras.layers.Dense(10, activation = 'sigmoid', kernel_initializer = he_avg_init)"
   ]
  },
  {
   "cell_type": "markdown",
   "metadata": {},
   "source": [
    "## 수렴하지 않는 활성화 함수 "
   ]
  },
  {
   "cell_type": "markdown",
   "metadata": {},
   "source": [
    "글로럿과 벤지오의 2010년 논문에서의 통찰 중 하나는 활성화 함수를 잘못 선택하면 그래디언트 소실이나 폭주로 이어질 수 있다는 것이다. 그 전에는 생물학적 뉴런의 방식과 비슷한 시그모이드가 최선이라고 생각했지만 실제로 다른 함수가 훨씬 더 심층 신경망에서 잘 작동한다는 것이 밝혀졌다. 특히 ReLU는 특정 양수값에 수렴하지 않는다는 큰 장점이 있고 계산도 빠르다. \n",
    "\n",
    "하지만 ReLU도 완벽하지 않다.(죽은 ReLU 문제) \n",
    "- 훈련하는 동안 일부 뉴런이 0 이외의 값을 출력하지 않는다는 의미에서 죽었다고 표현한다. \n",
    "- 어떤 경우에는 큰 학습률을 사용하면 신경망의 뉴런 절반이 죽어있기도 한다. \n",
    "- 뉴런의 가중치가 바뀌어 훈련 세트에 있는 모든 샘플에 대해 입력의 가중치 합이 음수가 되면 뉴런이 죽게 된다. \n",
    "    - 가중치 합이 음수이면 ReLU함수의 그래디언트가 0이 되므로 경사하강법이 더 이상 진행되지 않는다. \n",
    "   \n",
    "이러한 문제를 해결하기 위해 LeakyReLU와 같은 ReLU함수의 변종을 사용한다. \n",
    "\n",
    "$$\\text{LeakyReLU}_{\\alpha}(z) = \\text{max}(\\alpha z, z)$$로 정의된다.\n",
    "\n",
    "이 때, $\\alpha$가 새는(leaky) 정도를 결정한다. 이는 $z<0$일 때의 함수의 기울기이며, 일반적으로 0.01로 설정한다. 이렇게 되면 뉴런을 절대 죽지 않게 만들 수 있다. "
   ]
  },
  {
   "cell_type": "code",
   "execution_count": 8,
   "metadata": {
    "ExecuteTime": {
     "end_time": "2022-08-15T03:32:00.729653Z",
     "start_time": "2022-08-15T03:32:00.102819Z"
    }
   },
   "outputs": [
    {
     "name": "stdout",
     "output_type": "stream",
     "text": [
      "그림 저장: leaky_relu_plot\n"
     ]
    },
    {
     "data": {
      "image/png": "[encoded data removed]",
      "text/plain": [
       "<Figure size 432x288 with 1 Axes>"
      ]
     },
     "metadata": {
      "needs_background": "light"
     },
     "output_type": "display_data"
    }
   ],
   "source": [
    "def leaky_relu(z, alpha=0.01):\n",
    "    return np.maximum(alpha*z, z)\n",
    "plt.plot(z, leaky_relu(z, 0.05), \"b-\", linewidth=2)\n",
    "plt.plot([-5, 5], [0, 0], 'k-')\n",
    "plt.plot([0, 0], [-0.5, 4.2], 'k-')\n",
    "plt.grid(True)\n",
    "props = dict(facecolor='black', shrink=0.1)\n",
    "plt.annotate('Leak', xytext=(-3.5, 0.5), xy=(-5, -0.2), arrowprops=props, fontsize=14, ha=\"center\")\n",
    "plt.title(\"Leaky ReLU activation function\", fontsize=14)\n",
    "plt.axis([-5, 5, -0.5, 4.2])\n",
    "\n",
    "save_fig(\"leaky_relu_plot\")\n",
    "plt.show()"
   ]
  },
  {
   "cell_type": "code",
   "execution_count": 9,
   "metadata": {
    "ExecuteTime": {
     "end_time": "2022-08-15T03:32:00.736049Z",
     "start_time": "2022-08-15T03:32:00.731473Z"
    }
   },
   "outputs": [
    {
     "data": {
      "text/plain": [
       "['deserialize',\n",
       " 'elu',\n",
       " 'exponential',\n",
       " 'get',\n",
       " 'hard_sigmoid',\n",
       " 'linear',\n",
       " 'relu',\n",
       " 'selu',\n",
       " 'serialize',\n",
       " 'sigmoid',\n",
       " 'softmax',\n",
       " 'softplus',\n",
       " 'softsign',\n",
       " 'tanh']"
      ]
     },
     "execution_count": 9,
     "metadata": {},
     "output_type": "execute_result"
    }
   ],
   "source": [
    "[name for name in dir(keras.activations) if not name.startswith('_')]"
   ]
  },
  {
   "cell_type": "code",
   "execution_count": 10,
   "metadata": {
    "ExecuteTime": {
     "end_time": "2022-08-15T03:32:00.750743Z",
     "start_time": "2022-08-15T03:32:00.740944Z"
    }
   },
   "outputs": [
    {
     "data": {
      "text/plain": [
       "['LeakyReLU', 'PReLU', 'ReLU', 'ThresholdedReLU']"
      ]
     },
     "execution_count": 10,
     "metadata": {},
     "output_type": "execute_result"
    }
   ],
   "source": [
    "[m for m in dir(keras.layers) if \"relu\" in m.lower()]"
   ]
  },
  {
   "cell_type": "markdown",
   "metadata": {},
   "source": [
    "LeakyReLU를 이용해 fashion MNIST에서 신경망 훈련"
   ]
  },
  {
   "cell_type": "code",
   "execution_count": 11,
   "metadata": {
    "ExecuteTime": {
     "end_time": "2022-08-15T03:32:01.601732Z",
     "start_time": "2022-08-15T03:32:00.816984Z"
    }
   },
   "outputs": [],
   "source": [
    "(X_train_full, y_train_full), (X_test, y_test) = keras.datasets.fashion_mnist.load_data()\n",
    "\n",
    "X_train_full = X_train_full / 255.0\n",
    "X_test = X_test / 255.0 \n",
    "\n",
    "X_valid, X_train = X_train_full[:5000], X_train_full[5000:]\n",
    "y_valid, y_train = y_train_full[:5000], y_train_full[5000:]"
   ]
  },
  {
   "cell_type": "code",
   "execution_count": 12,
   "metadata": {
    "ExecuteTime": {
     "end_time": "2022-08-15T03:32:01.690344Z",
     "start_time": "2022-08-15T03:32:01.604318Z"
    }
   },
   "outputs": [],
   "source": [
    "tf.random.set_seed(42)\n",
    "np.random.seed(42)\n",
    "\n",
    "model = keras.models.Sequential([\n",
    "    keras.layers.Flatten(input_shape = [28, 28]),\n",
    "    keras.layers.Dense(300, kernel_initializer = 'he_normal'),\n",
    "    keras.layers.LeakyReLU(),\n",
    "    keras.layers.Dense(100, kernel_initializer = 'he_normal'),\n",
    "    keras.layers.LeakyReLU(),\n",
    "    keras.layers.Dense(10, activation = 'softmax')\n",
    "])"
   ]
  },
  {
   "cell_type": "code",
   "execution_count": 13,
   "metadata": {
    "ExecuteTime": {
     "end_time": "2022-08-15T03:32:01.791285Z",
     "start_time": "2022-08-15T03:32:01.692401Z"
    }
   },
   "outputs": [],
   "source": [
    "model.compile(loss = 'sparse_categorical_crossentropy',\n",
    "              optimizer = keras.optimizers.SGD(learning_rate = 1e-3),\n",
    "              metrics = ['accuracy'])"
   ]
  },
  {
   "cell_type": "code",
   "execution_count": 14,
   "metadata": {
    "ExecuteTime": {
     "end_time": "2022-08-15T03:32:42.880505Z",
     "start_time": "2022-08-15T03:32:01.793312Z"
    }
   },
   "outputs": [
    {
     "name": "stdout",
     "output_type": "stream",
     "text": [
      "Train on 55000 samples, validate on 5000 samples\n",
      "Epoch 1/10\n",
      "55000/55000 [==============================] - 5s 82us/sample - loss: 1.2806 - accuracy: 0.6250 - val_loss: 0.8883 - val_accuracy: 0.7152\n",
      "Epoch 2/10\n",
      "55000/55000 [==============================] - 4s 70us/sample - loss: 0.7954 - accuracy: 0.7374 - val_loss: 0.7135 - val_accuracy: 0.7648\n",
      "Epoch 3/10\n",
      "55000/55000 [==============================] - 4s 73us/sample - loss: 0.6816 - accuracy: 0.7727 - val_loss: 0.6356 - val_accuracy: 0.7882\n",
      "Epoch 4/10\n",
      "55000/55000 [==============================] - 4s 75us/sample - loss: 0.6215 - accuracy: 0.7936 - val_loss: 0.5922 - val_accuracy: 0.8012\n",
      "Epoch 5/10\n",
      "55000/55000 [==============================] - 4s 74us/sample - loss: 0.5830 - accuracy: 0.8082 - val_loss: 0.5596 - val_accuracy: 0.8172\n",
      "Epoch 6/10\n",
      "55000/55000 [==============================] - 4s 74us/sample - loss: 0.5553 - accuracy: 0.8156 - val_loss: 0.5338 - val_accuracy: 0.8238\n",
      "Epoch 7/10\n",
      "55000/55000 [==============================] - 4s 73us/sample - loss: 0.5340 - accuracy: 0.8221 - val_loss: 0.5157 - val_accuracy: 0.8314\n",
      "Epoch 8/10\n",
      "55000/55000 [==============================] - 4s 75us/sample - loss: 0.5172 - accuracy: 0.8265 - val_loss: 0.5035 - val_accuracy: 0.8336\n",
      "Epoch 9/10\n",
      "55000/55000 [==============================] - 4s 74us/sample - loss: 0.5036 - accuracy: 0.8298 - val_loss: 0.4950 - val_accuracy: 0.8356\n",
      "Epoch 10/10\n",
      "55000/55000 [==============================] - 4s 74us/sample - loss: 0.4922 - accuracy: 0.8323 - val_loss: 0.4797 - val_accuracy: 0.8428\n"
     ]
    }
   ],
   "source": [
    "history = model.fit(X_train, y_train, epochs = 10, \n",
    "                    validation_data = (X_valid, y_valid),)"
   ]
  },
  {
   "cell_type": "markdown",
   "metadata": {},
   "source": [
    "PReLU를 이용해 fashion MNIST에서 신경망 훈련"
   ]
  },
  {
   "cell_type": "code",
   "execution_count": 15,
   "metadata": {
    "ExecuteTime": {
     "end_time": "2022-08-15T03:33:28.551194Z",
     "start_time": "2022-08-15T03:32:42.883786Z"
    }
   },
   "outputs": [
    {
     "name": "stdout",
     "output_type": "stream",
     "text": [
      "Train on 55000 samples, validate on 5000 samples\n",
      "Epoch 1/10\n",
      "55000/55000 [==============================] - 5s 91us/sample - loss: 1.3470 - accuracy: 0.6225 - val_loss: 0.9268 - val_accuracy: 0.7200\n",
      "Epoch 2/10\n",
      "55000/55000 [==============================] - 4s 81us/sample - loss: 0.8209 - accuracy: 0.7357 - val_loss: 0.7322 - val_accuracy: 0.7640\n",
      "Epoch 3/10\n",
      "55000/55000 [==============================] - 5s 83us/sample - loss: 0.6972 - accuracy: 0.7697 - val_loss: 0.6494 - val_accuracy: 0.7866\n",
      "Epoch 4/10\n",
      "55000/55000 [==============================] - 4s 79us/sample - loss: 0.6332 - accuracy: 0.7904 - val_loss: 0.6027 - val_accuracy: 0.8024\n",
      "Epoch 5/10\n",
      "55000/55000 [==============================] - 5s 84us/sample - loss: 0.5918 - accuracy: 0.8051 - val_loss: 0.5675 - val_accuracy: 0.8140\n",
      "Epoch 6/10\n",
      "55000/55000 [==============================] - 5s 83us/sample - loss: 0.5619 - accuracy: 0.8140 - val_loss: 0.5393 - val_accuracy: 0.8252\n",
      "Epoch 7/10\n",
      "55000/55000 [==============================] - 5s 83us/sample - loss: 0.5391 - accuracy: 0.8215 - val_loss: 0.5203 - val_accuracy: 0.8302\n",
      "Epoch 8/10\n",
      "55000/55000 [==============================] - 4s 81us/sample - loss: 0.5212 - accuracy: 0.8250 - val_loss: 0.5070 - val_accuracy: 0.8332\n",
      "Epoch 9/10\n",
      "55000/55000 [==============================] - 4s 79us/sample - loss: 0.5067 - accuracy: 0.8289 - val_loss: 0.4971 - val_accuracy: 0.8332\n",
      "Epoch 10/10\n",
      "55000/55000 [==============================] - 5s 82us/sample - loss: 0.4944 - accuracy: 0.8320 - val_loss: 0.4811 - val_accuracy: 0.8416\n"
     ]
    }
   ],
   "source": [
    "tf.random.set_seed(42)\n",
    "np.random.seed(42)\n",
    "\n",
    "model = keras.models.Sequential([\n",
    "    keras.layers.Flatten(input_shape=[28, 28]),\n",
    "    keras.layers.Dense(300, kernel_initializer=\"he_normal\"),\n",
    "    keras.layers.PReLU(),\n",
    "    keras.layers.Dense(100, kernel_initializer=\"he_normal\"),\n",
    "    keras.layers.PReLU(),\n",
    "    keras.layers.Dense(10, activation=\"softmax\")\n",
    "])\n",
    "\n",
    "model.compile(loss=\"sparse_categorical_crossentropy\",\n",
    "              optimizer=keras.optimizers.SGD(learning_rate=1e-3),\n",
    "              metrics=[\"accuracy\"])\n",
    "\n",
    "history = model.fit(X_train, y_train, epochs=10,\n",
    "                    validation_data=(X_valid, y_valid))"
   ]
  },
  {
   "cell_type": "markdown",
   "metadata": {},
   "source": [
    "**ELU**"
   ]
  },
  {
   "cell_type": "markdown",
   "metadata": {},
   "source": [
    "마지막으로 툐르크-아르네 클레베르트(Djork-Ame Clevert)등의 2015년 논문은 **ELU**(Exponential linear unit)이라는 새로운 활성화 함수를 제안했다. 이 함수는 모든 ReLU의 변종의 성능을 앞질렀다. 훈련 시간이 줄고 신경망의 테스트 세트 성능도 증가했다.\n",
    "\n",
    "$$\\text{ELU}_{\\alpha}(z) = \\begin{cases}\n",
    "\\alpha(\\text{exp}(z)-1), z<0 \\\\ \n",
    "z, z\\ge0\n",
    "\\end{cases}$$로 정의된다."
   ]
  },
  {
   "cell_type": "markdown",
   "metadata": {},
   "source": [
    "이 함수는 ReLU와 매우 비슷하지만 다음의 몇 가지의 차이점이 있다.\n",
    "\n",
    "- z<0 일 때 음수값이 들어오기 때문에 활성화 함수의 평균 출력이 0에 가까워진다. 이는 그래디언트 소실 문제를 완화해준다. \n",
    "- z<0 이어도 그래디언트가 0이 아니기 때문에 죽은 뉴런을 만들지 않는다. \n",
    "- $\\alpha=1$이면 이 함수는 z=0에서 급격히 변동하지 않으므로 z=0을 포함해 모든 구간에서 매끄럽기 때문에 경사하강법의 속도를 높여준다.\n",
    "\n",
    "ELU의 주요 단점은 지수함수를 사용하기 때문에 ReLU나 다른 변종에 비해 계산이 느리다는 것이다. 훈련하는 동안에는 수렴 속도가 빠르기 때문에 느린 계산이 상쇄되지만 테스트 시에는 ELU를 사용한 네트워크가 ReLU를 사용한 네트워크보다 느려진다. "
   ]
  },
  {
   "cell_type": "code",
   "execution_count": 16,
   "metadata": {
    "ExecuteTime": {
     "end_time": "2022-08-15T03:33:28.556572Z",
     "start_time": "2022-08-15T03:33:28.553246Z"
    }
   },
   "outputs": [],
   "source": [
    "def elu(z, alpha = 1) : \n",
    "    return np.where(z < 0, alpha * (np.exp(z) - 1), z)"
   ]
  },
  {
   "cell_type": "code",
   "execution_count": 17,
   "metadata": {
    "ExecuteTime": {
     "end_time": "2022-08-15T03:33:29.184422Z",
     "start_time": "2022-08-15T03:33:28.558389Z"
    }
   },
   "outputs": [
    {
     "name": "stdout",
     "output_type": "stream",
     "text": [
      "그림 저장: elu_plot\n"
     ]
    },
    {
     "data": {
      "image/png": "[encoded data removed]",
      "text/plain": [
       "<Figure size 432x288 with 1 Axes>"
      ]
     },
     "metadata": {
      "needs_background": "light"
     },
     "output_type": "display_data"
    }
   ],
   "source": [
    "plt.plot(z, elu(z), \"b-\", linewidth=2)\n",
    "plt.plot([-5, 5], [0, 0], 'k-')\n",
    "plt.plot([-5, 5], [-1, -1], 'k--')\n",
    "plt.plot([0, 0], [-2.2, 3.2], 'k-')\n",
    "plt.grid(True)\n",
    "plt.title(r\"ELU activation function ($\\alpha=1$)\", fontsize=14)\n",
    "plt.axis([-5, 5, -2.2, 3.2])\n",
    "\n",
    "save_fig(\"elu_plot\")\n",
    "plt.show()"
   ]
  },
  {
   "cell_type": "markdown",
   "metadata": {},
   "source": [
    "텐서플로에서 쉽게 ELU를 적용할 수 있다. 층을 만들 때 활성화 함수로 지정하면 된다."
   ]
  },
  {
   "cell_type": "code",
   "execution_count": 18,
   "metadata": {
    "ExecuteTime": {
     "end_time": "2022-08-15T03:33:29.190550Z",
     "start_time": "2022-08-15T03:33:29.186299Z"
    }
   },
   "outputs": [
    {
     "data": {
      "text/plain": [
       "<tensorflow.python.keras.layers.core.Dense at 0x7fd6a1768f90>"
      ]
     },
     "execution_count": 18,
     "metadata": {},
     "output_type": "execute_result"
    }
   ],
   "source": [
    "keras.layers.Dense(10, activation = 'elu')"
   ]
  },
  {
   "cell_type": "markdown",
   "metadata": {},
   "source": [
    "**SELU**"
   ]
  },
  {
   "cell_type": "markdown",
   "metadata": {},
   "source": [
    "권터 클람바우어는 SELU(Scaled ELU)를 소개했다. (스케일이 조정된 ELU 활성화 함수의 변종)\n",
    "\n",
    "연구진은 FC layer만 쌓아서 신경망을 구성하고 모든 은닉층이 SELU 활성화 함수를 사용하면 네트워크가 자기정규화된다는 것을 보였다. 즉, 훈련하는 동안 각 층의 출력이 평균 0과 표준편차 1을 유지하는 경향이 있다. \n",
    "- 이는 그래디언트 소실과 폭주 문제를 막아준다.\n",
    "\n",
    "하지만 자기 정규화가 일어나기 위한 몇 가지 조건이 있다.\n",
    "- 입력 특성이 반드시 표준화되어야 한다.\n",
    "- 모든 은닉층의 가중치는 르쿤 정규분포 초기화로 초기화되어야 한다. \n",
    "    - 케라스에서는 `kernel_initializer=lecun_normal`로 설정\n",
    "- 네트워크는 일렬로 쌓은 층으로 구성되어야 한다. RNN이나 skip connection(즉, wide&deep 네트워크에서 건너뛰어 연결된 층)과 같은 순차적이지 않은 구조에 SELU를 사용하면 자기정규화가 보장되지 않는다."
   ]
  },
  {
   "cell_type": "code",
   "execution_count": 19,
   "metadata": {
    "ExecuteTime": {
     "end_time": "2022-08-15T03:33:29.197199Z",
     "start_time": "2022-08-15T03:33:29.192128Z"
    }
   },
   "outputs": [],
   "source": [
    "from scipy.special import erfc\n",
    "\n",
    "# alpha와 scale은 평균 0과 표준 편차 1로 자기 정규화\n",
    "# (논문에 있는 식 14 참조):\n",
    "alpha_0_1 = -np.sqrt(2 / np.pi) / (erfc(1/np.sqrt(2)) * np.exp(1/2) - 1)\n",
    "scale_0_1 = (1 - erfc(1 / np.sqrt(2)) * np.sqrt(np.e)) * np.sqrt(2 * np.pi) *\\\n",
    "(2 * erfc(np.sqrt(2))*np.e**2 + np.pi*erfc(1/np.sqrt(2))**2*np.e - 2*(2+np.pi)*erfc(1/np.sqrt(2))*np.sqrt(np.e)+np.pi+2)**(-1/2)\n"
   ]
  },
  {
   "cell_type": "code",
   "execution_count": 20,
   "metadata": {
    "ExecuteTime": {
     "end_time": "2022-08-15T03:33:29.202876Z",
     "start_time": "2022-08-15T03:33:29.198723Z"
    }
   },
   "outputs": [],
   "source": [
    "def selu(z, scale=scale_0_1, alpha=alpha_0_1):\n",
    "    return scale * elu(z, alpha)"
   ]
  },
  {
   "cell_type": "code",
   "execution_count": 21,
   "metadata": {
    "ExecuteTime": {
     "end_time": "2022-08-15T03:33:29.638310Z",
     "start_time": "2022-08-15T03:33:29.204078Z"
    }
   },
   "outputs": [
    {
     "name": "stdout",
     "output_type": "stream",
     "text": [
      "그림 저장: selu_plot\n"
     ]
    },
    {
     "data": {
      "image/png": "[encoded data removed]",
      "text/plain": [
       "<Figure size 432x288 with 1 Axes>"
      ]
     },
     "metadata": {
      "needs_background": "light"
     },
     "output_type": "display_data"
    }
   ],
   "source": [
    "plt.plot(z, selu(z), \"b-\", linewidth=2)\n",
    "plt.plot([-5, 5], [0, 0], 'k-')\n",
    "plt.plot([-5, 5], [-1.758, -1.758], 'k--')\n",
    "plt.plot([0, 0], [-2.2, 3.2], 'k-')\n",
    "plt.grid(True)\n",
    "plt.title(\"SELU activation function\", fontsize=14)\n",
    "plt.axis([-5, 5, -2.2, 3.2])\n",
    "\n",
    "save_fig(\"selu_plot\")\n",
    "plt.show()"
   ]
  },
  {
   "cell_type": "code",
   "execution_count": 22,
   "metadata": {
    "ExecuteTime": {
     "end_time": "2022-08-15T03:33:31.773168Z",
     "start_time": "2022-08-15T03:33:29.639752Z"
    }
   },
   "outputs": [
    {
     "name": "stdout",
     "output_type": "stream",
     "text": [
      "layer 0 : mean -0.00, std 0.999333\n",
      "layer 100 : mean 0.02, std 0.962431\n",
      "layer 200 : mean 0.01, std 0.904488\n",
      "layer 300 : mean -0.02, std 0.923692\n",
      "layer 400 : mean 0.05, std 0.891603\n",
      "layer 500 : mean 0.01, std 0.928646\n",
      "layer 600 : mean 0.02, std 0.916642\n",
      "layer 700 : mean -0.02, std 0.903355\n",
      "layer 800 : mean 0.05, std 0.825012\n",
      "layer 900 : mean 0.02, std 0.995589\n"
     ]
    }
   ],
   "source": [
    "np.random.seed(42)\n",
    "\n",
    "Z = np.random.normal(size = (500, 100))\n",
    "for layer in range(1000) : \n",
    "    W = np.random.normal(size = (100, 100), scale = np.sqrt(1/100)) # LeCun 초기화\n",
    "    Z = selu(np.dot(Z, W))\n",
    "    means = np.mean(Z, axis = 0).mean()\n",
    "    stds = np.std(Z, axis = 0).mean()\n",
    "    if layer % 100 == 0 : \n",
    "        print('layer {} : mean {:.2f}, std {:2f}'.format(layer, means, stds))"
   ]
  },
  {
   "cell_type": "code",
   "execution_count": 23,
   "metadata": {
    "ExecuteTime": {
     "end_time": "2022-08-15T03:33:31.779544Z",
     "start_time": "2022-08-15T03:33:31.774821Z"
    }
   },
   "outputs": [
    {
     "data": {
      "text/plain": [
       "<tensorflow.python.keras.layers.core.Dense at 0x7fd6743cc210>"
      ]
     },
     "execution_count": 23,
     "metadata": {},
     "output_type": "execute_result"
    }
   ],
   "source": [
    "keras.layers.Dense(10, activation=\"selu\",\n",
    "                   kernel_initializer=\"lecun_normal\")"
   ]
  },
  {
   "cell_type": "markdown",
   "metadata": {},
   "source": [
    "100개의 은닉층과 SELU 활성화 함수를 사용한 fashion MNIST 신경망"
   ]
  },
  {
   "cell_type": "code",
   "execution_count": 24,
   "metadata": {
    "ExecuteTime": {
     "end_time": "2022-08-15T03:33:33.393547Z",
     "start_time": "2022-08-15T03:33:31.781089Z"
    }
   },
   "outputs": [],
   "source": [
    "np.random.seed(42)\n",
    "tf.random.set_seed(42)\n",
    "\n",
    "model = keras.models.Sequential()\n",
    "model.add(keras.layers.Flatten(input_shape = [28, 28]))\n",
    "model.add(keras.layers.Dense(300, activation = 'selu', \n",
    "                             kernel_initializer = 'lecun_normal'))\n",
    "\n",
    "for layer in range(99) : \n",
    "    model.add(keras.layers.Dense(100, activation = 'selu',\n",
    "                                 kernel_initializer = 'lecun_normal'))\n",
    "    \n",
    "model.add(keras.layers.Dense(10, activation = 'softmax'))\n",
    "\n",
    "model.compile(loss = 'sparse_categorical_crossentropy',\n",
    "              optimizer = keras.optimizers.SGD(learning_rate = 1e-3),\n",
    "              metrics = ['accuracy'])"
   ]
  },
  {
   "cell_type": "markdown",
   "metadata": {},
   "source": [
    "훈련하기 전에 입력을 평균 0과 표준편차 1로 바꿔야 함."
   ]
  },
  {
   "cell_type": "code",
   "execution_count": 25,
   "metadata": {
    "ExecuteTime": {
     "end_time": "2022-08-15T03:33:33.735789Z",
     "start_time": "2022-08-15T03:33:33.395260Z"
    }
   },
   "outputs": [],
   "source": [
    "pixel_means = X_train.mean(axis = 0, keepdims = True)\n",
    "pixel_stds = X_train.std(axis = 0, keepdims = True)\n",
    "X_train_scaled = (X_train - pixel_means) / pixel_stds\n",
    "X_valid_scaled = (X_valid - pixel_means) / pixel_stds\n",
    "X_test_scaled = (X_test - pixel_means) / pixel_stds\n"
   ]
  },
  {
   "cell_type": "code",
   "execution_count": 26,
   "metadata": {
    "ExecuteTime": {
     "end_time": "2022-08-15T03:38:49.519884Z",
     "start_time": "2022-08-15T03:33:33.737418Z"
    }
   },
   "outputs": [
    {
     "name": "stdout",
     "output_type": "stream",
     "text": [
      "Train on 55000 samples, validate on 5000 samples\n",
      "Epoch 1/5\n",
      "55000/55000 [==============================] - 65s 1ms/sample - loss: 1.0585 - accuracy: 0.5893 - val_loss: 0.6899 - val_accuracy: 0.7546\n",
      "Epoch 2/5\n",
      "55000/55000 [==============================] - 63s 1ms/sample - loss: 0.6699 - accuracy: 0.7652 - val_loss: 0.6600 - val_accuracy: 0.7760\n",
      "Epoch 3/5\n",
      "55000/55000 [==============================] - 62s 1ms/sample - loss: 0.5659 - accuracy: 0.8060 - val_loss: 0.5700 - val_accuracy: 0.8064\n",
      "Epoch 4/5\n",
      "55000/55000 [==============================] - 61s 1ms/sample - loss: 0.5194 - accuracy: 0.8236 - val_loss: 0.5188 - val_accuracy: 0.8176\n",
      "Epoch 5/5\n",
      "55000/55000 [==============================] - 64s 1ms/sample - loss: 0.4777 - accuracy: 0.8353 - val_loss: 0.4691 - val_accuracy: 0.8388\n"
     ]
    }
   ],
   "source": [
    "history = model.fit(X_train_scaled, y_train, epochs = 5,\n",
    "                    validation_data = (X_valid_scaled, y_valid))"
   ]
  },
  {
   "cell_type": "markdown",
   "metadata": {},
   "source": [
    "ReLU함수를 이용해 학습"
   ]
  },
  {
   "cell_type": "code",
   "execution_count": 27,
   "metadata": {
    "ExecuteTime": {
     "end_time": "2022-08-15T03:41:35.394446Z",
     "start_time": "2022-08-15T03:38:49.524921Z"
    }
   },
   "outputs": [
    {
     "name": "stdout",
     "output_type": "stream",
     "text": [
      "Train on 55000 samples, validate on 5000 samples\n",
      "Epoch 1/5\n",
      "55000/55000 [==============================] - 32s 578us/sample - loss: 1.7940 - accuracy: 0.2739 - val_loss: 1.1652 - val_accuracy: 0.5412\n",
      "Epoch 2/5\n",
      "55000/55000 [==============================] - 32s 576us/sample - loss: 1.1181 - accuracy: 0.5403 - val_loss: 1.0631 - val_accuracy: 0.6040\n",
      "Epoch 3/5\n",
      "55000/55000 [==============================] - 34s 615us/sample - loss: 0.9124 - accuracy: 0.6366 - val_loss: 0.7725 - val_accuracy: 0.7020\n",
      "Epoch 4/5\n",
      "55000/55000 [==============================] - 33s 607us/sample - loss: 0.8735 - accuracy: 0.6489 - val_loss: 0.7368 - val_accuracy: 0.7086\n",
      "Epoch 5/5\n",
      "55000/55000 [==============================] - 34s 612us/sample - loss: 0.7181 - accuracy: 0.7219 - val_loss: 0.6821 - val_accuracy: 0.7304\n"
     ]
    }
   ],
   "source": [
    "np.random.seed(42)\n",
    "tf.random.set_seed(42)\n",
    "\n",
    "model = keras.models.Sequential()\n",
    "model.add(keras.layers.Flatten(input_shape = [28, 28]))\n",
    "model.add(keras.layers.Dense(300, activation = 'relu', \n",
    "                             kernel_initializer = 'he_normal'))\n",
    "\n",
    "for layer in range(99) : \n",
    "    model.add(keras.layers.Dense(100, activation = 'relu',\n",
    "                                 kernel_initializer = 'he_normal'))\n",
    "    \n",
    "model.add(keras.layers.Dense(10, activation = 'softmax'))\n",
    "\n",
    "model.compile(loss = 'sparse_categorical_crossentropy',\n",
    "              optimizer = keras.optimizers.SGD(learning_rate = 1e-3),\n",
    "              metrics = ['accuracy'])\n",
    "\n",
    "history = model.fit(X_train_scaled, y_train, epochs = 5,\n",
    "                    validation_data = (X_valid_scaled, y_valid))"
   ]
  },
  {
   "cell_type": "markdown",
   "metadata": {},
   "source": [
    "## 배치 정규화"
   ]
  },
  {
   "cell_type": "markdown",
   "metadata": {},
   "source": [
    "ELU나 다른 ReLU의 변종과 함께 He 초기화를 사용하면 훈련 초기에 그래디언트 소실이나 폭주 문제를 크게 감소시킬 수 있지만 여전히 훈련하는 동안 다시 발생할 수 있다. \n",
    "\n",
    "2015년에 세르게이 이오페와 치리슈티언 세게지가 그래디언트 소실과 폭주 문제를 해결하기 위한 배치 정규화(Batch Normalization, BN) 기법을 제안했다. 이 기법은 각 층에서 활성화 함수를 통과하기 전이나 후에 모델에 연산을 하나 추가한다.\n",
    "- 단순히 입력을 원점에 맞추고 정규화한 다음 각 층에서 두 개의 새로운 파라미터로 결과값의 스케일을 조정하고 이동시킨다.\n",
    "    - 하나는 스케일, 하나는 이동에 사용한다.\n",
    "  \n",
    "많은 경우 신경망의 첫 번째 층으로 배치 정규화를 추가하면 훈련 세트를 표준화할 필요가 없다. 배치 정규화 층이 이러한 역할을 대신한다. \n",
    "\n",
    "입력 데이터를 원점에 맞추고 정규화하려면 알고리즘은 평균과 표준편차를 추정해야 한다. 이를 위해 현재 미니배치에서 입력의 평균과 표준편차를 계산한다. \n",
    "\n",
    "**배치 정규화 알고리즘**\n",
    "\n",
    "1.$\\mu_{B}=\\dfrac{1}{m_\\text{B}} \\sum_{i=1}^{m_\\text{B}}\\mathbf{x}^{(i)}$\n",
    "\n",
    "2.${\\sigma_\\text{B}}^2=\\dfrac{1}{m_\\text{B}}\\sum_{i=1}^{m_\\text{B}}(\\mathbf{x}^{(i)}-\\mu_\\text{B})^2$\n",
    "\n",
    "3.$\\hat{{\\mathbf{x}}}^{(i)}=\\dfrac{\\mathbf{x}^{(i)}-\\mu_\\text{B}}{\\sqrt{{\\sigma_B}^2+\\epsilon}}$\n",
    "\n",
    "4.$\\mathbf{z}^{(i)}=\\gamma\\bigotimes\\hat{\\mathbf{x}}^{(i)}+\\beta$\n"
   ]
  },
  {
   "cell_type": "code",
   "execution_count": 28,
   "metadata": {
    "ExecuteTime": {
     "end_time": "2022-08-15T03:41:35.522169Z",
     "start_time": "2022-08-15T03:41:35.396689Z"
    }
   },
   "outputs": [
    {
     "name": "stdout",
     "output_type": "stream",
     "text": [
      "Model: \"sequential_4\"\n",
      "_________________________________________________________________\n",
      "Layer (type)                 Output Shape              Param #   \n",
      "=================================================================\n",
      "flatten_4 (Flatten)          (None, 784)               0         \n",
      "_________________________________________________________________\n",
      "batch_normalization (BatchNo (None, 784)               3136      \n",
      "_________________________________________________________________\n",
      "dense_212 (Dense)            (None, 300)               235500    \n",
      "_________________________________________________________________\n",
      "batch_normalization_1 (Batch (None, 300)               1200      \n",
      "_________________________________________________________________\n",
      "dense_213 (Dense)            (None, 100)               30100     \n",
      "_________________________________________________________________\n",
      "batch_normalization_2 (Batch (None, 100)               400       \n",
      "_________________________________________________________________\n",
      "dense_214 (Dense)            (None, 10)                1010      \n",
      "=================================================================\n",
      "Total params: 271,346\n",
      "Trainable params: 268,978\n",
      "Non-trainable params: 2,368\n",
      "_________________________________________________________________\n"
     ]
    }
   ],
   "source": [
    "model = keras.models.Sequential([\n",
    "    keras.layers.Flatten(input_shape = [28, 28]),\n",
    "    keras.layers.BatchNormalization(),\n",
    "    keras.layers.Dense(300, activation = 'relu'),\n",
    "    keras.layers.BatchNormalization(),\n",
    "    keras.layers.Dense(100, activation = 'relu'),\n",
    "    keras.layers.BatchNormalization(),\n",
    "    keras.layers.Dense(10, activation = 'softmax'),\n",
    "])\n",
    "\n",
    "model.summary()"
   ]
  },
  {
   "cell_type": "code",
   "execution_count": 29,
   "metadata": {
    "ExecuteTime": {
     "end_time": "2022-08-15T03:41:35.528797Z",
     "start_time": "2022-08-15T03:41:35.523823Z"
    }
   },
   "outputs": [
    {
     "data": {
      "text/plain": [
       "[('batch_normalization/gamma:0', True),\n",
       " ('batch_normalization/beta:0', True),\n",
       " ('batch_normalization/moving_mean:0', False),\n",
       " ('batch_normalization/moving_variance:0', False)]"
      ]
     },
     "execution_count": 29,
     "metadata": {},
     "output_type": "execute_result"
    }
   ],
   "source": [
    "bn1 = model.layers[1]\n",
    "[(var.name, var.trainable) for var in bn1.variables]"
   ]
  },
  {
   "cell_type": "markdown",
   "metadata": {},
   "source": [
    "배치 정규화 층은 입력마다 네 개의 파라미터 $\\gamma, \\beta, \\mu, \\sigma$를 추가한다. 이 때 $\\mu, \\sigma$는 학습되지 않기 때문에 Non-trainable params로 분류한다.\n",
    "- 전체 파라미터는 3136+1200+400 = 4736\n",
    "- 이를 2로 나누면 Non-trainable params 2368이 계산된다."
   ]
  },
  {
   "cell_type": "code",
   "execution_count": 30,
   "metadata": {
    "ExecuteTime": {
     "end_time": "2022-08-15T03:41:35.573939Z",
     "start_time": "2022-08-15T03:41:35.530517Z"
    }
   },
   "outputs": [],
   "source": [
    "model.compile(loss=\"sparse_categorical_crossentropy\",\n",
    "              optimizer=keras.optimizers.SGD(learning_rate=1e-3),\n",
    "              metrics=[\"accuracy\"])"
   ]
  },
  {
   "cell_type": "code",
   "execution_count": 31,
   "metadata": {
    "ExecuteTime": {
     "end_time": "2022-08-15T03:42:34.087428Z",
     "start_time": "2022-08-15T03:41:35.575455Z"
    }
   },
   "outputs": [
    {
     "name": "stdout",
     "output_type": "stream",
     "text": [
      "Train on 55000 samples, validate on 5000 samples\n",
      "Epoch 1/10\n",
      "55000/55000 [==============================] - 6s 117us/sample - loss: 0.8767 - accuracy: 0.7137 - val_loss: 0.5531 - val_accuracy: 0.8206\n",
      "Epoch 2/10\n",
      "55000/55000 [==============================] - 6s 105us/sample - loss: 0.5755 - accuracy: 0.8019 - val_loss: 0.4758 - val_accuracy: 0.8460\n",
      "Epoch 3/10\n",
      "55000/55000 [==============================] - 6s 108us/sample - loss: 0.5154 - accuracy: 0.8212 - val_loss: 0.4397 - val_accuracy: 0.8536\n",
      "Epoch 4/10\n",
      "55000/55000 [==============================] - 6s 105us/sample - loss: 0.4842 - accuracy: 0.8311 - val_loss: 0.4162 - val_accuracy: 0.8592\n",
      "Epoch 5/10\n",
      "55000/55000 [==============================] - 6s 105us/sample - loss: 0.4560 - accuracy: 0.8422 - val_loss: 0.4002 - val_accuracy: 0.8652\n",
      "Epoch 6/10\n",
      "55000/55000 [==============================] - 6s 105us/sample - loss: 0.4400 - accuracy: 0.8469 - val_loss: 0.3883 - val_accuracy: 0.8698\n",
      "Epoch 7/10\n",
      "55000/55000 [==============================] - 6s 104us/sample - loss: 0.4245 - accuracy: 0.8509 - val_loss: 0.3795 - val_accuracy: 0.8728\n",
      "Epoch 8/10\n",
      "55000/55000 [==============================] - 6s 105us/sample - loss: 0.4114 - accuracy: 0.8563 - val_loss: 0.3735 - val_accuracy: 0.8722\n",
      "Epoch 9/10\n",
      "55000/55000 [==============================] - 6s 104us/sample - loss: 0.4030 - accuracy: 0.8585 - val_loss: 0.3663 - val_accuracy: 0.8752\n",
      "Epoch 10/10\n",
      "55000/55000 [==============================] - 6s 103us/sample - loss: 0.3955 - accuracy: 0.8602 - val_loss: 0.3594 - val_accuracy: 0.8758\n"
     ]
    }
   ],
   "source": [
    "history = model.fit(X_train, y_train, epochs=10,\n",
    "                    validation_data=(X_valid, y_valid))"
   ]
  },
  {
   "cell_type": "markdown",
   "metadata": {},
   "source": [
    "배치 정규화 층은 입력마다 이동 파라미터를 포함하기 때문에 이전 층에서 편향을 뺄 수 있다.(층을 만들 때 use_bias = False로 설정) "
   ]
  },
  {
   "cell_type": "code",
   "execution_count": 32,
   "metadata": {
    "ExecuteTime": {
     "end_time": "2022-08-15T03:43:32.956294Z",
     "start_time": "2022-08-15T03:42:34.089144Z"
    }
   },
   "outputs": [
    {
     "name": "stdout",
     "output_type": "stream",
     "text": [
      "Train on 55000 samples, validate on 5000 samples\n",
      "Epoch 1/10\n",
      "55000/55000 [==============================] - 7s 126us/sample - loss: 1.0323 - accuracy: 0.6754 - val_loss: 0.6734 - val_accuracy: 0.7840\n",
      "Epoch 2/10\n",
      "55000/55000 [==============================] - 6s 105us/sample - loss: 0.6778 - accuracy: 0.7816 - val_loss: 0.5572 - val_accuracy: 0.8198\n",
      "Epoch 3/10\n",
      "55000/55000 [==============================] - 6s 106us/sample - loss: 0.5923 - accuracy: 0.8049 - val_loss: 0.5003 - val_accuracy: 0.8346\n",
      "Epoch 4/10\n",
      "55000/55000 [==============================] - 6s 103us/sample - loss: 0.5449 - accuracy: 0.8167 - val_loss: 0.4668 - val_accuracy: 0.8436\n",
      "Epoch 5/10\n",
      "55000/55000 [==============================] - 6s 105us/sample - loss: 0.5117 - accuracy: 0.8269 - val_loss: 0.4432 - val_accuracy: 0.8516\n",
      "Epoch 6/10\n",
      "55000/55000 [==============================] - 6s 103us/sample - loss: 0.4886 - accuracy: 0.8353 - val_loss: 0.4278 - val_accuracy: 0.8548\n",
      "Epoch 7/10\n",
      "55000/55000 [==============================] - 6s 105us/sample - loss: 0.4710 - accuracy: 0.8388 - val_loss: 0.4143 - val_accuracy: 0.8564\n",
      "Epoch 8/10\n",
      "55000/55000 [==============================] - 6s 103us/sample - loss: 0.4560 - accuracy: 0.8436 - val_loss: 0.4044 - val_accuracy: 0.8618\n",
      "Epoch 9/10\n",
      "55000/55000 [==============================] - 6s 106us/sample - loss: 0.4436 - accuracy: 0.8471 - val_loss: 0.3943 - val_accuracy: 0.8640\n",
      "Epoch 10/10\n",
      "55000/55000 [==============================] - 6s 103us/sample - loss: 0.4363 - accuracy: 0.8501 - val_loss: 0.3880 - val_accuracy: 0.8682\n"
     ]
    }
   ],
   "source": [
    "model = keras.models.Sequential([\n",
    "    keras.layers.Flatten(input_shape=[28, 28]),\n",
    "    keras.layers.BatchNormalization(),\n",
    "    keras.layers.Dense(300, use_bias=False),\n",
    "    keras.layers.BatchNormalization(),\n",
    "    keras.layers.Activation(\"relu\"),\n",
    "    keras.layers.Dense(100, use_bias=False),\n",
    "    keras.layers.BatchNormalization(),\n",
    "    keras.layers.Activation(\"relu\"),\n",
    "    keras.layers.Dense(10, activation=\"softmax\")\n",
    "])\n",
    "\n",
    "model.compile(loss=\"sparse_categorical_crossentropy\",\n",
    "              optimizer=keras.optimizers.SGD(learning_rate=1e-3),\n",
    "              metrics=[\"accuracy\"])\n",
    "\n",
    "\n",
    "history = model.fit(X_train, y_train, epochs=10,\n",
    "                    validation_data=(X_valid, y_valid))"
   ]
  },
  {
   "cell_type": "markdown",
   "metadata": {},
   "source": [
    "## 그래디언트 클리핑"
   ]
  },
  {
   "cell_type": "markdown",
   "metadata": {},
   "source": [
    "그래디언트 폭주 문제를 완화하는 다른 방법은 역전파 때 일정 임계값을 넘어서지 못하게 그래디언트를 잘라내는 것이다. 이를 그래디언트 클리핑(gradient clipping)이라고 한다. \n",
    "- 순환 신경망의 경우 배치 정규화를 적용하기 어렵기 때문에 그래디언트 클리핑을 많이 사용한다. "
   ]
  },
  {
   "cell_type": "markdown",
   "metadata": {},
   "source": [
    "```python\n",
    "optimizer = keras.optimizers.SGD(clipvalue = 1.0)\n",
    "model.compile(loss = 'mse')\n",
    "```"
   ]
  },
  {
   "cell_type": "markdown",
   "metadata": {},
   "source": [
    "이 옵티마이저는 그래디언트 벡터의 모든 원소를 -1과 1 사이로 클리핑한다. 이 기능은 그래디언트 벡터의 방향을 바꿀 수 있다.\n",
    "- 예를 들면, 원래 그래디언트 벡터가 [0.9, 100]일 때 대부분 두 번째 축 방향을 향한다. 하지만 클리핑을 수행하면 [0.9, 1]이 되고 거의 대각선 방향을 향하게 된다. \n",
    "- 실전에는 이 방법이 잘 작동한다. \n",
    "- 만약 그래디언트 클리핑이 벡터의 방향을 바꾸지 못하게 하려면 `clipvalue` 대신 `clipnorm`을 지정하여 norm으로 클리핑 해야한다. \n",
    "    - 예를 들어 `clipnorm=1.0`으로 지정하면 벡터 [0.9, 100]이 [0.00899964, 0.9999595]로 클리핑되기 때문에 방향을 유지한다. 하지만 첫 번째 원소는 거의 무시된다.\n",
    "    \n",
    "- 훈련 과정에서 그래디언트가 폭주한다면 다른 임계값으로 클리핑할 수 있다."
   ]
  },
  {
   "cell_type": "markdown",
   "metadata": {},
   "source": [
    "# 사전훈련된 층 재사용하기"
   ]
  },
  {
   "attachments": {
    "image.png": {
     "image/png": "[encoded data removed]"
    }
   },
   "cell_type": "markdown",
   "metadata": {},
   "source": [
    "일반적으로 아주 큰 규모의 DNN을 처음부터 새로 훈련하는 것은 좋은 방법이 아니다. 해결하려는 문제와 비슷한 문제를 처리한 신경망이 있는지 찾아본 다음 그 신경망의 하위층을 재사용하는 것이 좋다. 이를 전이학습(transfer learning)이라고 한다. \n",
    "- 이 방법은 훈련 속도를 크게 높일 뿐만 아니라 필요한 훈련 데이터도 크게 줄여준다. \n",
    "\n",
    "동물, 식물, 자동차, 생활용품을 포함한 100개의 카테고리로 구분된 이미지를 분류하도록 훈련한 DNN을 가지고 있다고 가정해보자. 이 때, 구체적인 자동차의 종류를 분류하는 DNN을 훈련하려고 할 때, 이 작업들은 비슷한 점이 많고 일부 겹치기도 하기 때문에 첫 번째 신경망의 일부를 재사용할 필요가 있다.\n",
    "\n",
    "![image.png](attachment:image.png)"
   ]
  },
  {
   "cell_type": "markdown",
   "metadata": {},
   "source": [
    "만약 원래 문제에서 사용한 이미지와 크기가 다른 이미지를 입력으로 사용할 때는 원본 모델에 맞는 이미지 크기로 바꿔주는 전처리 단계가 필요하다. 일반적으로 전이학습은 저수준 특성이 비슷한 입력에서 잘 작동한다."
   ]
  },
  {
   "cell_type": "markdown",
   "metadata": {},
   "source": [
    "보통 원본 모델의 출력층을 바꿔야 한다. 기존의 출력층은 새로운 작업의 목적에 있어 유용하지 않은 층이고 새로운 작업의 출력 개수와 맞지 않을 수도 있다. 비슷한 원리로 원본 모델의 상위 은닉층은 하위 은닉층보다 덜 유용하다. 새로운 작업에 유용한 고수준 특성은 원본 작업에서 작업했던 유용한 특성과는 상당히 다르기 때문이다. 따라서 몇 개의 층을 사용할지 잘 선택해야 한다. "
   ]
  },
  {
   "cell_type": "markdown",
   "metadata": {},
   "source": [
    "먼저 재사용하는 층을 모두 동결한다.(즉, 경사 하강법으로 가중치가 바뀌지 않도록 훈련되지 않는 가중치로 만든다.) 그 후에 모델을 훈련하고 성능을 측정한다. 맨 위에 있는 한두개의 은닉층의 동결을 해제하고 역전파를 통해 가중치를 조정하여 성능이 확인되는지 확인한다.  훈련 데이터가 많을수록 많은 층의 동결을 해제할 수 있다. \n",
    "- 재사용 층의 동결을 해제할 때는 학습률을 줄이는 것이 가중치를 세밀하게 튜닝하는 데 도움이 되기 때문에 좋다.\n",
    "\n",
    "여전히 성능이 좋지 않고 훈련 데이터가 적다면 상위 은닉층을 제거하고 남은 은닉층을 다시 동결해본다. 이런 식으로 적절한 개수의 은닉층을 찾을 때까지 반복한다. 훈련 데이터가 아주 많다면 은닉층을 제거하는 대신 다른 것으로 바꾸거나 더 추가할 수도 있다."
   ]
  },
  {
   "cell_type": "markdown",
   "metadata": {},
   "source": [
    "## 케라스를 사용한 전이학습"
   ]
  },
  {
   "cell_type": "markdown",
   "metadata": {},
   "source": [
    "예) 8개의 클래스만 있는 fashion MNIST 데이터셋이 있다고 가정해보자. 이 데이터셋에는 샌들과 셔츠를 제외한 다른 클래스가 있다. 누군가 이 클래스를 분류하는 작업 A를 해결하는 모델을 만들어 꽤 좋은 성능(90%이상의 정확도)을 얻었다. 이를 **모델A**라고 하자.\n",
    "\n",
    "샌들과 셔츠 이미지를 구분하는 작업 B를 해결하기 위해 이진 분류기를 훈련하려 한다.(양성=셔츠, 음성=샌들). 레이블된 이미지는 고작 200개로 매우 적다. 이를 위해 모델 A와 구조가 거의 비슷한 **모델B**라는 새 모델을 만들었다. 모델 B는 꽤 좋은 성능(97.2%의 정확도) 하지만 모델B는 클래스가 2개 뿐인 쉬운 문제이므로 성능을 더 올리고 싶다. 이 때 작업 B는 작업 A와 매우 비슷하다는 것을 깨달았을 때, 혹시 전이 학습이 도움이 될 수 있을까?"
   ]
  },
  {
   "cell_type": "markdown",
   "metadata": {},
   "source": [
    "모델 A와 모델 B 생성"
   ]
  },
  {
   "cell_type": "code",
   "execution_count": 33,
   "metadata": {
    "ExecuteTime": {
     "end_time": "2022-08-15T03:43:33.049685Z",
     "start_time": "2022-08-15T03:43:32.958554Z"
    }
   },
   "outputs": [],
   "source": [
    "def split_dataset(X, y):\n",
    "    y_5_or_6 = (y == 5) | (y == 6) # sandals or shirts\n",
    "    y_A = y[~y_5_or_6]\n",
    "    y_A[y_A > 6] -= 2 # class indices 7, 8, 9 should be moved to 5, 6, 7\n",
    "    y_B = (y[y_5_or_6] == 6).astype(np.float32) # binary classification task: is it a shirt (class 6)?\n",
    "    return ((X[~y_5_or_6], y_A),\n",
    "            (X[y_5_or_6], y_B))\n",
    "\n",
    "(X_train_A, y_train_A), (X_train_B, y_train_B) = split_dataset(X_train, y_train)\n",
    "(X_valid_A, y_valid_A), (X_valid_B, y_valid_B) = split_dataset(X_valid, y_valid)\n",
    "(X_test_A, y_test_A), (X_test_B, y_test_B) = split_dataset(X_test, y_test)\n",
    "X_train_B = X_train_B[:200]\n",
    "y_train_B = y_train_B[:200]"
   ]
  },
  {
   "cell_type": "code",
   "execution_count": 34,
   "metadata": {
    "ExecuteTime": {
     "end_time": "2022-08-15T03:43:33.055595Z",
     "start_time": "2022-08-15T03:43:33.051465Z"
    }
   },
   "outputs": [
    {
     "name": "stdout",
     "output_type": "stream",
     "text": [
      "(43986, 28, 28)\n",
      "(200, 28, 28)\n"
     ]
    }
   ],
   "source": [
    "print(X_train_A.shape)\n",
    "print(X_train_B.shape)"
   ]
  },
  {
   "cell_type": "code",
   "execution_count": 35,
   "metadata": {
    "ExecuteTime": {
     "end_time": "2022-08-15T03:45:04.383791Z",
     "start_time": "2022-08-15T03:43:33.057158Z"
    }
   },
   "outputs": [
    {
     "name": "stdout",
     "output_type": "stream",
     "text": [
      "Train on 43986 samples, validate on 4014 samples\n",
      "Epoch 1/20\n",
      "43986/43986 [==============================] - 5s 113us/sample - loss: 0.5909 - accuracy: 0.8100 - val_loss: 0.3771 - val_accuracy: 0.8712\n",
      "Epoch 2/20\n",
      "43986/43986 [==============================] - 4s 95us/sample - loss: 0.3521 - accuracy: 0.8794 - val_loss: 0.3395 - val_accuracy: 0.8777\n",
      "Epoch 3/20\n",
      "43986/43986 [==============================] - 5s 106us/sample - loss: 0.3167 - accuracy: 0.8890 - val_loss: 0.3017 - val_accuracy: 0.8961\n",
      "Epoch 4/20\n",
      "43986/43986 [==============================] - 5s 103us/sample - loss: 0.2970 - accuracy: 0.8967 - val_loss: 0.2858 - val_accuracy: 0.9028\n",
      "Epoch 5/20\n",
      "43986/43986 [==============================] - 5s 105us/sample - loss: 0.2824 - accuracy: 0.9030 - val_loss: 0.2806 - val_accuracy: 0.9063\n",
      "Epoch 6/20\n",
      "43986/43986 [==============================] - 5s 109us/sample - loss: 0.2721 - accuracy: 0.9072 - val_loss: 0.2684 - val_accuracy: 0.9103\n",
      "Epoch 7/20\n",
      "43986/43986 [==============================] - 5s 105us/sample - loss: 0.2642 - accuracy: 0.9096 - val_loss: 0.2681 - val_accuracy: 0.9103\n",
      "Epoch 8/20\n",
      "43986/43986 [==============================] - 5s 109us/sample - loss: 0.2570 - accuracy: 0.9116 - val_loss: 0.2740 - val_accuracy: 0.9048\n",
      "Epoch 9/20\n",
      "43986/43986 [==============================] - 5s 113us/sample - loss: 0.2514 - accuracy: 0.9140 - val_loss: 0.2588 - val_accuracy: 0.9116\n",
      "Epoch 10/20\n",
      "43986/43986 [==============================] - 4s 102us/sample - loss: 0.2456 - accuracy: 0.9164 - val_loss: 0.2597 - val_accuracy: 0.9108\n",
      "Epoch 11/20\n",
      "43986/43986 [==============================] - 5s 104us/sample - loss: 0.2415 - accuracy: 0.9181 - val_loss: 0.2486 - val_accuracy: 0.9163\n",
      "Epoch 12/20\n",
      "43986/43986 [==============================] - 4s 99us/sample - loss: 0.2378 - accuracy: 0.9187 - val_loss: 0.2449 - val_accuracy: 0.9163\n",
      "Epoch 13/20\n",
      "43986/43986 [==============================] - 4s 96us/sample - loss: 0.2342 - accuracy: 0.9205 - val_loss: 0.2453 - val_accuracy: 0.9160\n",
      "Epoch 14/20\n",
      "43986/43986 [==============================] - 4s 100us/sample - loss: 0.2307 - accuracy: 0.9209 - val_loss: 0.2440 - val_accuracy: 0.9158\n",
      "Epoch 15/20\n",
      "43986/43986 [==============================] - 4s 102us/sample - loss: 0.2278 - accuracy: 0.9217 - val_loss: 0.2393 - val_accuracy: 0.9185\n",
      "Epoch 16/20\n",
      "43986/43986 [==============================] - 5s 102us/sample - loss: 0.2249 - accuracy: 0.9227 - val_loss: 0.2394 - val_accuracy: 0.9180\n",
      "Epoch 17/20\n",
      "43986/43986 [==============================] - 5s 103us/sample - loss: 0.2218 - accuracy: 0.9240 - val_loss: 0.2388 - val_accuracy: 0.9180\n",
      "Epoch 18/20\n",
      "43986/43986 [==============================] - 4s 102us/sample - loss: 0.2199 - accuracy: 0.9244 - val_loss: 0.2401 - val_accuracy: 0.9170\n",
      "Epoch 19/20\n",
      "43986/43986 [==============================] - 4s 100us/sample - loss: 0.2177 - accuracy: 0.9251 - val_loss: 0.2329 - val_accuracy: 0.9208\n",
      "Epoch 20/20\n",
      "43986/43986 [==============================] - 4s 101us/sample - loss: 0.2154 - accuracy: 0.9254 - val_loss: 0.2328 - val_accuracy: 0.9203\n"
     ]
    }
   ],
   "source": [
    "tf.random.set_seed(42)\n",
    "np.random.seed(42)\n",
    "\n",
    "model_A = keras.models.Sequential()\n",
    "model_A.add(keras.layers.Flatten(input_shape=[28, 28]))\n",
    "for n_hidden in (300, 100, 50, 50, 50):\n",
    "    model_A.add(keras.layers.Dense(n_hidden, activation=\"selu\"))\n",
    "model_A.add(keras.layers.Dense(8, activation=\"softmax\"))\n",
    "\n",
    "model_A.compile(loss=\"sparse_categorical_crossentropy\",\n",
    "                optimizer=keras.optimizers.SGD(learning_rate=1e-3),\n",
    "                metrics=[\"accuracy\"])\n",
    "\n",
    "history = model_A.fit(X_train_A, y_train_A, epochs=20,\n",
    "                    validation_data=(X_valid_A, y_valid_A))"
   ]
  },
  {
   "cell_type": "code",
   "execution_count": 36,
   "metadata": {
    "ExecuteTime": {
     "end_time": "2022-08-15T03:45:04.408545Z",
     "start_time": "2022-08-15T03:45:04.386015Z"
    }
   },
   "outputs": [],
   "source": [
    "model_A.save(\"my_model_A.h5\")"
   ]
  },
  {
   "cell_type": "code",
   "execution_count": 37,
   "metadata": {
    "ExecuteTime": {
     "end_time": "2022-08-15T03:45:07.711831Z",
     "start_time": "2022-08-15T03:45:04.410908Z"
    }
   },
   "outputs": [
    {
     "name": "stdout",
     "output_type": "stream",
     "text": [
      "Train on 200 samples, validate on 986 samples\n",
      "Epoch 1/20\n",
      "200/200 [==============================] - 1s 4ms/sample - loss: 0.9545 - accuracy: 0.4600 - val_loss: 0.6655 - val_accuracy: 0.5385\n",
      "Epoch 2/20\n",
      "200/200 [==============================] - 0s 734us/sample - loss: 0.5899 - accuracy: 0.6900 - val_loss: 0.4785 - val_accuracy: 0.8519\n",
      "Epoch 3/20\n",
      "200/200 [==============================] - 0s 624us/sample - loss: 0.4512 - accuracy: 0.8800 - val_loss: 0.4098 - val_accuracy: 0.8945\n",
      "Epoch 4/20\n",
      "200/200 [==============================] - 0s 524us/sample - loss: 0.3871 - accuracy: 0.9100 - val_loss: 0.3666 - val_accuracy: 0.9128\n",
      "Epoch 5/20\n",
      "200/200 [==============================] - 0s 613us/sample - loss: 0.3438 - accuracy: 0.9250 - val_loss: 0.3315 - val_accuracy: 0.9300\n",
      "Epoch 6/20\n",
      "200/200 [==============================] - 0s 664us/sample - loss: 0.3095 - accuracy: 0.9300 - val_loss: 0.3034 - val_accuracy: 0.9402\n",
      "Epoch 7/20\n",
      "200/200 [==============================] - 0s 568us/sample - loss: 0.2810 - accuracy: 0.9400 - val_loss: 0.2808 - val_accuracy: 0.9432\n",
      "Epoch 8/20\n",
      "200/200 [==============================] - 0s 659us/sample - loss: 0.2580 - accuracy: 0.9500 - val_loss: 0.2618 - val_accuracy: 0.9462\n",
      "Epoch 9/20\n",
      "200/200 [==============================] - 0s 603us/sample - loss: 0.2372 - accuracy: 0.9600 - val_loss: 0.2447 - val_accuracy: 0.9513\n",
      "Epoch 10/20\n",
      "200/200 [==============================] - 0s 579us/sample - loss: 0.2196 - accuracy: 0.9650 - val_loss: 0.2316 - val_accuracy: 0.9513\n",
      "Epoch 11/20\n",
      "200/200 [==============================] - 0s 507us/sample - loss: 0.2048 - accuracy: 0.9650 - val_loss: 0.2182 - val_accuracy: 0.9533\n",
      "Epoch 12/20\n",
      "200/200 [==============================] - 0s 508us/sample - loss: 0.1915 - accuracy: 0.9650 - val_loss: 0.2071 - val_accuracy: 0.9564\n",
      "Epoch 13/20\n",
      "200/200 [==============================] - 0s 541us/sample - loss: 0.1791 - accuracy: 0.9650 - val_loss: 0.1959 - val_accuracy: 0.9594\n",
      "Epoch 14/20\n",
      "200/200 [==============================] - 0s 691us/sample - loss: 0.1681 - accuracy: 0.9700 - val_loss: 0.1864 - val_accuracy: 0.9604\n",
      "Epoch 15/20\n",
      "200/200 [==============================] - 0s 621us/sample - loss: 0.1579 - accuracy: 0.9850 - val_loss: 0.1778 - val_accuracy: 0.9625\n",
      "Epoch 16/20\n",
      "200/200 [==============================] - 0s 548us/sample - loss: 0.1491 - accuracy: 0.9850 - val_loss: 0.1695 - val_accuracy: 0.9675\n",
      "Epoch 17/20\n",
      "200/200 [==============================] - 0s 511us/sample - loss: 0.1411 - accuracy: 0.9900 - val_loss: 0.1626 - val_accuracy: 0.9686\n",
      "Epoch 18/20\n",
      "200/200 [==============================] - 0s 701us/sample - loss: 0.1339 - accuracy: 0.9900 - val_loss: 0.1570 - val_accuracy: 0.9686\n",
      "Epoch 19/20\n",
      "200/200 [==============================] - 0s 676us/sample - loss: 0.1277 - accuracy: 0.9900 - val_loss: 0.1522 - val_accuracy: 0.9696\n",
      "Epoch 20/20\n",
      "200/200 [==============================] - 0s 603us/sample - loss: 0.1217 - accuracy: 0.9900 - val_loss: 0.1471 - val_accuracy: 0.9696\n"
     ]
    }
   ],
   "source": [
    "model_B = keras.models.Sequential()\n",
    "model_B.add(keras.layers.Flatten(input_shape = [28, 28]))\n",
    "for n_hidden in (300, 100, 50, 50, 50) : \n",
    "    model_B.add(keras.layers.Dense(n_hidden, activation = 'selu'))\n",
    "model_B.add(keras.layers.Dense(1, activation = 'sigmoid'))\n",
    "\n",
    "model_B.compile(loss = 'binary_crossentropy',\n",
    "                optimizer = keras.optimizers.SGD(learning_rate = 1e-3),\n",
    "                metrics = ['accuracy'])\n",
    "\n",
    "history = model_B.fit(X_train_B, y_train_B, epochs = 20,\n",
    "                      validation_data = (X_valid_B, y_valid_B))"
   ]
  },
  {
   "cell_type": "code",
   "execution_count": 38,
   "metadata": {
    "ExecuteTime": {
     "end_time": "2022-08-15T03:45:07.726999Z",
     "start_time": "2022-08-15T03:45:07.716473Z"
    }
   },
   "outputs": [
    {
     "name": "stdout",
     "output_type": "stream",
     "text": [
      "Model: \"sequential_7\"\n",
      "_________________________________________________________________\n",
      "Layer (type)                 Output Shape              Param #   \n",
      "=================================================================\n",
      "flatten_7 (Flatten)          (None, 784)               0         \n",
      "_________________________________________________________________\n",
      "dense_224 (Dense)            (None, 300)               235500    \n",
      "_________________________________________________________________\n",
      "dense_225 (Dense)            (None, 100)               30100     \n",
      "_________________________________________________________________\n",
      "dense_226 (Dense)            (None, 50)                5050      \n",
      "_________________________________________________________________\n",
      "dense_227 (Dense)            (None, 50)                2550      \n",
      "_________________________________________________________________\n",
      "dense_228 (Dense)            (None, 50)                2550      \n",
      "_________________________________________________________________\n",
      "dense_229 (Dense)            (None, 1)                 51        \n",
      "=================================================================\n",
      "Total params: 275,801\n",
      "Trainable params: 275,801\n",
      "Non-trainable params: 0\n",
      "_________________________________________________________________\n"
     ]
    }
   ],
   "source": [
    "model_B.summary()"
   ]
  },
  {
   "cell_type": "markdown",
   "metadata": {},
   "source": [
    "모델 A를 로드하고 이 모델의 층을 기반으로 세로운 모델(**model_B_on_A**)을 생성"
   ]
  },
  {
   "cell_type": "markdown",
   "metadata": {},
   "source": [
    "```python\n",
    "model_A = keras.models.load_model('my_model_A.h5')\n",
    "model_B_on_A = keras.models.Sequential(model_A.layers[:-1])\n",
    "model_B_on_A.add(keras.layers.Dense(1, activation = 'sigmoid'))\n",
    "```\n",
    "위와 같이 훈련하면 `model_B_on_A`와 `model_A`는 같은 층을 공유하기 때문에 두 모델이 업데이트 된다. 이를 방지하기 위해 `model_A`를 클론한 것을 사용해 `model_B_on_A`를 만들어야 한다."
   ]
  },
  {
   "cell_type": "code",
   "execution_count": 39,
   "metadata": {
    "ExecuteTime": {
     "end_time": "2022-08-15T03:45:08.187244Z",
     "start_time": "2022-08-15T03:45:07.731177Z"
    }
   },
   "outputs": [],
   "source": [
    "model_A_clone = keras.models.clone_model(model_A)\n",
    "model_A_clone.set_weights(model_A.get_weights())\n",
    "model_B_on_A = keras.models.Sequential(model_A_clone.layers[:-1])\n",
    "model_B_on_A.add(keras.layers.Dense(1, activation=\"sigmoid\"))"
   ]
  },
  {
   "cell_type": "markdown",
   "metadata": {},
   "source": [
    "처음 몇 번의 에포크동안은 출력층이 랜덤하게 초기화되어있기 때문에 큰 오차가 발생한다. 큰 오차가 재사용된 가중치를 망칠 수 있다. 이를 막기 위한 한 가지 방법은 처음 몇 번의 에포크동안 재사용된 층을 동결하고 새로운 층에게 적절한 가중치를 학습할 시간을 주는 것이다."
   ]
  },
  {
   "cell_type": "code",
   "execution_count": 40,
   "metadata": {
    "ExecuteTime": {
     "end_time": "2022-08-15T03:45:09.299095Z",
     "start_time": "2022-08-15T03:45:08.189786Z"
    }
   },
   "outputs": [
    {
     "name": "stdout",
     "output_type": "stream",
     "text": [
      "Train on 200 samples, validate on 986 samples\n",
      "Epoch 1/4\n",
      "200/200 [==============================] - 1s 3ms/sample - loss: 0.5783 - accuracy: 0.6500 - val_loss: 0.5792 - val_accuracy: 0.6460\n",
      "Epoch 2/4\n",
      "200/200 [==============================] - 0s 579us/sample - loss: 0.5405 - accuracy: 0.7000 - val_loss: 0.5450 - val_accuracy: 0.6795\n",
      "Epoch 3/4\n",
      "200/200 [==============================] - 0s 494us/sample - loss: 0.5067 - accuracy: 0.7150 - val_loss: 0.5147 - val_accuracy: 0.7160\n",
      "Epoch 4/4\n",
      "200/200 [==============================] - 0s 476us/sample - loss: 0.4768 - accuracy: 0.7550 - val_loss: 0.4855 - val_accuracy: 0.7302\n"
     ]
    }
   ],
   "source": [
    "for layer in model_B_on_A.layers[:-1]:\n",
    "    layer.trainable = False\n",
    "\n",
    "model_B_on_A.compile(loss=\"binary_crossentropy\",\n",
    "                     optimizer=keras.optimizers.SGD(learning_rate=1e-3),\n",
    "                     metrics=[\"accuracy\"])\n",
    "\n",
    "history = model_B_on_A.fit(X_train_B, y_train_B, epochs=4,\n",
    "                           validation_data=(X_valid_B, y_valid_B))"
   ]
  },
  {
   "cell_type": "code",
   "execution_count": 41,
   "metadata": {
    "ExecuteTime": {
     "end_time": "2022-08-15T03:45:12.134585Z",
     "start_time": "2022-08-15T03:45:09.301607Z"
    }
   },
   "outputs": [
    {
     "name": "stdout",
     "output_type": "stream",
     "text": [
      "Train on 200 samples, validate on 986 samples\n",
      "Epoch 1/16\n",
      "200/200 [==============================] - 1s 4ms/sample - loss: 0.3950 - accuracy: 0.8250 - val_loss: 0.3376 - val_accuracy: 0.8722\n",
      "Epoch 2/16\n",
      "200/200 [==============================] - 0s 600us/sample - loss: 0.2746 - accuracy: 0.9250 - val_loss: 0.2608 - val_accuracy: 0.9270\n",
      "Epoch 3/16\n",
      "200/200 [==============================] - 0s 509us/sample - loss: 0.2105 - accuracy: 0.9650 - val_loss: 0.2149 - val_accuracy: 0.9523\n",
      "Epoch 4/16\n",
      "200/200 [==============================] - 0s 528us/sample - loss: 0.1707 - accuracy: 0.9750 - val_loss: 0.1804 - val_accuracy: 0.9645\n",
      "Epoch 5/16\n",
      "200/200 [==============================] - 0s 544us/sample - loss: 0.1412 - accuracy: 0.9800 - val_loss: 0.1573 - val_accuracy: 0.9757\n",
      "Epoch 6/16\n",
      "200/200 [==============================] - 0s 624us/sample - loss: 0.1212 - accuracy: 0.9900 - val_loss: 0.1395 - val_accuracy: 0.9817\n",
      "Epoch 7/16\n",
      "200/200 [==============================] - 0s 614us/sample - loss: 0.1056 - accuracy: 0.9950 - val_loss: 0.1260 - val_accuracy: 0.9828\n",
      "Epoch 8/16\n",
      "200/200 [==============================] - 0s 627us/sample - loss: 0.0935 - accuracy: 1.0000 - val_loss: 0.1154 - val_accuracy: 0.9848\n",
      "Epoch 9/16\n",
      "200/200 [==============================] - 0s 679us/sample - loss: 0.0840 - accuracy: 1.0000 - val_loss: 0.1072 - val_accuracy: 0.9858\n",
      "Epoch 10/16\n",
      "200/200 [==============================] - 0s 766us/sample - loss: 0.0767 - accuracy: 1.0000 - val_loss: 0.1006 - val_accuracy: 0.9858\n",
      "Epoch 11/16\n",
      "200/200 [==============================] - 0s 630us/sample - loss: 0.0707 - accuracy: 1.0000 - val_loss: 0.0950 - val_accuracy: 0.9899\n",
      "Epoch 12/16\n",
      "200/200 [==============================] - 0s 677us/sample - loss: 0.0657 - accuracy: 1.0000 - val_loss: 0.0898 - val_accuracy: 0.9899\n",
      "Epoch 13/16\n",
      "200/200 [==============================] - 0s 732us/sample - loss: 0.0608 - accuracy: 1.0000 - val_loss: 0.0851 - val_accuracy: 0.9899\n",
      "Epoch 14/16\n",
      "200/200 [==============================] - 0s 677us/sample - loss: 0.0567 - accuracy: 1.0000 - val_loss: 0.0811 - val_accuracy: 0.9899\n",
      "Epoch 15/16\n",
      "200/200 [==============================] - 0s 633us/sample - loss: 0.0531 - accuracy: 1.0000 - val_loss: 0.0777 - val_accuracy: 0.9899\n",
      "Epoch 16/16\n",
      "200/200 [==============================] - 0s 680us/sample - loss: 0.0501 - accuracy: 1.0000 - val_loss: 0.0744 - val_accuracy: 0.9899\n"
     ]
    }
   ],
   "source": [
    "for layer in model_B_on_A.layers[:-1]:\n",
    "    layer.trainable = True\n",
    "\n",
    "model_B_on_A.compile(loss=\"binary_crossentropy\",\n",
    "                     optimizer=keras.optimizers.SGD(learning_rate=1e-3),\n",
    "                     metrics=[\"accuracy\"])\n",
    "history = model_B_on_A.fit(X_train_B, y_train_B, epochs=16,\n",
    "                           validation_data=(X_valid_B, y_valid_B))"
   ]
  },
  {
   "cell_type": "code",
   "execution_count": 42,
   "metadata": {
    "ExecuteTime": {
     "end_time": "2022-08-15T03:45:12.348268Z",
     "start_time": "2022-08-15T03:45:12.137224Z"
    }
   },
   "outputs": [
    {
     "data": {
      "text/plain": [
       "[0.14446662020683287, 0.9695]"
      ]
     },
     "execution_count": 42,
     "metadata": {},
     "output_type": "execute_result"
    }
   ],
   "source": [
    "model_B.evaluate(X_test_B, y_test_B, verbose = 0)"
   ]
  },
  {
   "cell_type": "code",
   "execution_count": 43,
   "metadata": {
    "ExecuteTime": {
     "end_time": "2022-08-15T03:45:12.584094Z",
     "start_time": "2022-08-15T03:45:12.351173Z"
    }
   },
   "outputs": [
    {
     "data": {
      "text/plain": [
       "[0.06896587526798248, 0.9925]"
      ]
     },
     "execution_count": 43,
     "metadata": {},
     "output_type": "execute_result"
    }
   ],
   "source": [
    "model_B_on_A.evaluate(X_test_B, y_test_B, verbose = 0)"
   ]
  },
  {
   "cell_type": "code",
   "execution_count": 44,
   "metadata": {
    "ExecuteTime": {
     "end_time": "2022-08-15T03:45:12.593278Z",
     "start_time": "2022-08-15T03:45:12.587211Z"
    }
   },
   "outputs": [
    {
     "data": {
      "text/plain": [
       "4.066666666666663"
      ]
     },
     "execution_count": 44,
     "metadata": {},
     "output_type": "execute_result"
    }
   ],
   "source": [
    "(100 - 96.95) / (100 - 99.25)"
   ]
  },
  {
   "cell_type": "markdown",
   "metadata": {},
   "source": [
    "실제로 전이학습은 작은 완전 연결 네트워크에서는 잘 동작하지 않는다. \n",
    "- 작은 네트워크는 패턴 수를 적게 학습하고 완전 연결 네트워크는 특정 패턴을 학습할 것이기 때문\n",
    "\n",
    "전이 학습은 조금 더 일반적인 특성(특히 아래쪽 층에서) 감지하는 경향이 있는 심층 합성곱 신경망에서 잘 동작한다. "
   ]
  },
  {
   "cell_type": "markdown",
   "metadata": {},
   "source": [
    "## 비지도 사전 훈련"
   ]
  },
  {
   "cell_type": "markdown",
   "metadata": {},
   "source": [
    "레이블된 훈련 데이터가 많지 않은 상태에서 비슷한 작업에 대해 훈련된 모델마저 찾을 수 없는 상황을 가정해보자. \n",
    "이 때 가장 먼저 시도할 수 있는 방법은 레이블된 훈련 데이터를 더 모으는 것이다. 만약 이것이 어렵다면 **비지도 사전 훈련**을 수행할 수 있다. \n",
    "\n",
    "레이블이 없는 훈련 데이터를 모으는 것은 비용이 적게 들지만 레이블을 부여하는 과정이 비용이 많이 든다. \n",
    "레이블되지 않은 훈련 데이터를 많이 모을 수 있다면 이를 이용하여 오토인코더나 GAN같은 비지도 학습 모델을 훈련할 수 있다. 그 다음 오토인코더나 GAN 판별자의 하위층을 재사용하고 그 위에 새로운 작업에 맞는 출력층을 추가할 수 있다. 그 다음 지도학습으로(레이블된 훈련 샘플로) 최종 네트워크를 세밀하게 튜닝한다. \n",
    "\n"
   ]
  },
  {
   "cell_type": "markdown",
   "metadata": {},
   "source": [
    "## 보조 작업에서 사전 훈련 "
   ]
  },
  {
   "cell_type": "markdown",
   "metadata": {},
   "source": [
    "레이블된 훈련 데이터가 많지 않다면 마지막 선택 사항은 레이블된 훈련 데이터를 쉽게 얻거나 생성할 수 있는 보조 작업에서 첫 번째 신경망을 훈련하는 것이다. 그리고 이 신경망의 하위층을 실제 작업을 위해 재사용한다. 첫 번째 신경망의 하위층은 두 번째 신경망에 재사용될 수 있는 특성 추출기를 학습하게 된다. \n",
    "\n",
    "예를 들어 얼굴을 인식하는 시스템을 만들려고 하는데 개인별 이미지가 얼마 없다면 좋은 분류기를 훈련하기에 충분하지 않다. 각 사람의 사진을 수백 개씩 모으기는 현실적으로 어렵다. 그러나 인터넷에서 무작위로 많은 인물의 이미지를 수집해서 두 개의 다른 이미지가 같은 사람의 것인지 감지하는 첫 번째 신경망을 훈련할 수 있다. 이런 신경망은 얼굴의 특성을 잘 감지하도록 학습된다. 이런 신경망의 하위층을 이용해서 적은 양의 훈련 데이터에서 얼굴을 잘 구분하는 분류기를 학습할 수 있다. \n",
    "\n",
    "\n",
    "**NLP** 애플리케이션에서는 수백만 개의 텍스트 문서로 이루어진 코퍼스를 다운로드하고 이 데이터에서 레이블된 데이터를 자동으로 생성할 수 있다. 예를 들어 일부 단어를 랜덤하게 지우고 누락된 단어를 예측하는 모델을 훈련할 수 있다.\n",
    "- What ___ you saying? 이라는 문장이 있으면 are 또는 were로 예측해야 한다. \n",
    "\n",
    "이 작업에서 좋은 성능을 내는 모델을 훈련할 수 있다면 이 모델은 언어에 대해서 상당히 많은 것을 알고 있는 모델이다. 실제 작업에 이 모델을 재사용하고 레이블된 데이터를 활용하여 세부 튜닝할 수 있다."
   ]
  },
  {
   "cell_type": "markdown",
   "metadata": {},
   "source": [
    "# 고속 옵티마이저"
   ]
  },
  {
   "cell_type": "markdown",
   "metadata": {},
   "source": [
    "아주 큰 심층 신경망의 속도는 심각하게 느릴 수 있다. 지금까지 훈련 속도를 높이는 4가지 방법을 알아보았다.\n",
    "- 연결 가중치에 좋은 초기화 전략 사용하기\n",
    "- 좋은 활성화 함수 사용하기\n",
    "- 배치 정규화 사용하기\n",
    "- 사전 훈련된 네트워크의 일부를 재사용하기 \n",
    "\n",
    "훈련 속도를 높일 수 있는 또 다른 방법으로 표준적인 경사 하강법 대신 더 빠른 옵티마이저를 사용하는 것이 있다. \n",
    "- 모멘텀 최적화\n",
    "- 네스테로프 가속 경사\n",
    "- AdaGrad\n",
    "- RMSProp\n",
    "- Adam\n",
    "- Nadam"
   ]
  },
  {
   "cell_type": "markdown",
   "metadata": {},
   "source": [
    "## 모멘텀 최적화"
   ]
  },
  {
   "cell_type": "markdown",
   "metadata": {},
   "source": [
    "볼링공이 매끈한 표면의 완만한 경사를 따라 굴러간다고 해보자. 처음에는 느리게 출발하지만 종단속도에 도달할 때까지는 빠르게 가속된다. \n",
    "이것이 보리스 폴랴크가 제안한 모멘텀 최적화의 간단한 원리이다. 반대로 표준적인 경사 하강법은 경사면을 따라 일정한 크기의 스텝으로 조금씩 내려가기 때문에 맨 아래에 도착하는 데 시간이 더 오래 걸린다. \n",
    "\n",
    "경사 하강법은 가중치에 대한 비용 함수 $J(\\theta)$의 그래디언트 $\\nabla_\\theta J(\\theta)$에 학습률 $\\eta$를 곱한 것을 바로 차감하여 가중치 $\\theta$를 갱신한다. 공식은 $$\\theta \\leftarrow \\theta - \\eta \\nabla_\\theta J(\\theta)$$\n",
    "\n",
    "이다. 이 식은 이전 그래디언트가 얼마였는지 고려하지 않는다. 국부적으로 그래디언트가 아주 작으면 매우 느려진다. \n",
    "\n",
    "모멘텀 최적화는 이전 그래디언트가 얼마였는지를 중요하게 생각한다. 매 반복에서 현재 그래디언트를 학습률 $\\eta$를 곱한 후에 모멘텀 벡터에 더하고 이 값을 빼는 방식으로 가중치를 갱신한다. 다시 말해 그래디언트를 속도가 아닌 가속도로 사용한다. 일종의 마찰 저항을 표현하고 모멘텀이 너무 커지는 것을 막기 위해 모멘텀이라는 새로운 하이퍼파라미터 $\\beta$가 등장한다. 이 값은 높은 마찰의 경우 0, 마찰 저항이 없는 경우 1이며 이 사이로 설정되어야 한다. 일반적으로 0.9를 사용한다.\n",
    "\n",
    "1. $m \\leftarrow \\beta m - \\eta \\nabla_\\theta J(\\theta)$\n",
    "2. $\\theta \\leftarrow \\theta + m$"
   ]
  },
  {
   "cell_type": "markdown",
   "metadata": {},
   "source": [
    "그래디언트가 일정하면 종단속도는 학습률 $\\eta$를 곱한 그래디언트에 $\\dfrac{1}{1-\\beta}$를 곱한 것과 같음을 알 수 있다. 예를 들어 $\\beta = 0.9$면 모멘텀 최적화가 경사 하강법보다 10배 빠르게 진행된다. \n",
    "\n",
    "모멘텀 최적화의 단점은 하이퍼 파라미터의 개수가 하나 늘어난다는 것이지만, 실제로 모멘텀 0.9에서 보통 잘 작동하며 경사 하강법보다 거의 항상 더 빠르다. "
   ]
  },
  {
   "cell_type": "markdown",
   "metadata": {},
   "source": [
    "모멘텀 최적화 구현\n",
    "```python\n",
    "optimizer = keras.optimizers.SGD(learning_rate=0.001, momentum=0.9)\n",
    "```"
   ]
  },
  {
   "cell_type": "markdown",
   "metadata": {},
   "source": [
    "## 네스테로프 가속 경사"
   ]
  },
  {
   "attachments": {
    "image.png": {
     "image/png": "[encoded data removed]"
    }
   },
   "cell_type": "markdown",
   "metadata": {},
   "source": [
    "네스테로프 가속 경사는 기본 모멘텀 최적화보다 거의 항상 더 빠르다. 이는 현재 위치가 $\\theta$가 아니라 모멘텀의 방향으로 조금 앞선 $\\theta+\\beta m$에서 비용 함수의 그래디언트를 계산하는 것이다. \n",
    "\n",
    "1. $m \\leftarrow \\beta m - \\eta \\nabla_\\theta J(\\theta+\\beta m)$\n",
    "2. $\\theta \\leftarrow \\theta + m$\n",
    "\n",
    "일반적으로 모멘텀 벡터가 최적점을 향하는 방향을 향하고 있을 것이므로 이런 변경이 가능하다. \n",
    "\n",
    "![image.png](attachment:image.png)\n",
    "\n",
    "위의 그림처럼 원래 위치에서의 그래디언트를 사용하는 것보다 그 방향으로 조금 더 나아가서 측정한 그래디언트를 이용하는 것이 조금 더 정확할 것이다. ($\\nabla_1$은 $\\theta$에서, $\\nabla_2$는 $\\theta+\\beta m$에서 측정한 그래디언트"
   ]
  },
  {
   "cell_type": "markdown",
   "metadata": {},
   "source": [
    "네스테로프 가속 경사 구현\n",
    "```python\n",
    "optimizer = keras.optimizers.SGD(learning_rate=0.001, momentum=0.9, nesterov = True)\n",
    "```"
   ]
  },
  {
   "cell_type": "markdown",
   "metadata": {},
   "source": [
    "## AdaGrad"
   ]
  },
  {
   "attachments": {
    "image.png": {
     "image/png": "[encoded data removed]"
    }
   },
   "cell_type": "markdown",
   "metadata": {},
   "source": [
    "![image.png](attachment:image.png)"
   ]
  },
  {
   "cell_type": "markdown",
   "metadata": {},
   "source": [
    "스케일이 달라서 한 쪽이 길쭉한 그릇의 형태가 되는 문제를 생각해보자. 경사 하강법은 가장 가파른 경사를 따라 빠르게 내려가서 골짜기 아래로 느리게 이동한다. 알고리즘이 이를 일직 감지하고 전역 최적점 쪽으로 좀 더 정확하게 방향을 잡는 것이 좋다.\n",
    "\n",
    "AdaGrad 알고리즘은 가장 가파른 차원을 따라 그래디언트 벡터의 스케일을 감소시켜 이 문제를 해결한다.\n",
    "\n",
    "1. $s \\leftarrow s + \\nabla_\\theta J(\\theta) \\bigotimes \\nabla_\\theta J(\\theta)$\n",
    "2. $\\theta \\leftarrow \\theta - \\eta \\nabla_\\theta J(\\theta) ⊘ \\sqrt{s+\\epsilon}$"
   ]
  },
  {
   "cell_type": "markdown",
   "metadata": {},
   "source": [
    "그래디언트의 제곱을 벡터 $s$에 누적한 다음 두 번째 단계에서 경사하강법을 수행한다. 이 때 그래디언트 벡터를 $sqrt{s+\\epsilon}$으로 나누어 스케일을 조정한다. 학습률을 감소시키지만 경사가 완만한 차원보다 가파른 차원에 대해 더 빠르게 감소한다.\n",
    "\n",
    "간단한 2차방정식 문제에서는 잘 작동하지만 신경망을 훈련할 때 너무 일찍 멈추는 경우가 종종 있다는 장점이 존재한다. "
   ]
  },
  {
   "cell_type": "markdown",
   "metadata": {
    "ExecuteTime": {
     "end_time": "2022-08-15T05:27:46.931964Z",
     "start_time": "2022-08-15T05:27:46.922161Z"
    }
   },
   "source": [
    "AdaGrad 구현\n",
    "```python\n",
    "optimizer = keras.optimizers.Adagrad(learning_rate=0.001)\n",
    "```"
   ]
  },
  {
   "cell_type": "markdown",
   "metadata": {},
   "source": [
    "## RMSProp\n",
    "AdaGrad는 너무 빨리 느려져서 전역 최적점에 수렴하지 못하는 위험이 있다. RMSProp은 가장 최근 반복에서 비롯된 그래디언트만 누적함으로써 이 문제를 해결했다. "
   ]
  },
  {
   "cell_type": "markdown",
   "metadata": {},
   "source": [
    "1. $s \\leftarrow \\beta s + (1- \\beta)\\nabla_\\theta J(\\theta) \\bigotimes \\nabla_\\theta J(\\theta)$\n",
    "2. $\\theta \\leftarrow \\theta - \\eta \\nabla_\\theta J(\\theta) ⊘ \\sqrt{s+\\epsilon}$"
   ]
  },
  {
   "cell_type": "markdown",
   "metadata": {},
   "source": [
    "아주 간단한 문제를 제외하고는 이 옵티마이저가 언제나 AdaGrad보다 성능이 좋기 때문에 Adam 최적화가 나오기 전까지는 연구자들이 가장 선호하는 알고리즘이었다."
   ]
  },
  {
   "cell_type": "markdown",
   "metadata": {},
   "source": [
    "RMSProp 구현\n",
    "```python\n",
    ".optimizer = keras.optimizers.RMSprop(learning_rate=0.001, rho=0.9)\n",
    "```"
   ]
  },
  {
   "cell_type": "markdown",
   "metadata": {},
   "source": [
    "## Adam과 Nadam 최적화"
   ]
  },
  {
   "cell_type": "markdown",
   "metadata": {},
   "source": [
    "적응적 모멘트 추정(Adaptive Moment Estimation)을 의미하는 Adam은 모멘텀 최적화와 RMSProp의 아이디어를 합친 것이다. 모멘텀 최적화처럼 지난 그래디언트의 지수 감소 평균을 따르고 RMSProp처럼 지난 그래디언트 지수 감소된 평균을 따른다. "
   ]
  },
  {
   "cell_type": "markdown",
   "metadata": {},
   "source": [
    "1. $m \\leftarrow \\beta_1 m - (1- \\beta_1)\\nabla_\\theta J(\\theta) $\n",
    "2. $s \\leftarrow \\beta_2 s + (1- \\beta_2)\\nabla_\\theta J(\\theta) \\bigotimes \\nabla_\\theta J(\\theta)$\n",
    "3. $\\hat{m} \\leftarrow \\dfrac{m}{1-\\beta^{t}_1}$\n",
    "4. $\\hat{s} \\leftarrow \\dfrac{s}{1-\\beta^{t}_2}$\n",
    "5. $\\theta \\leftarrow \\theta + \\eta \\hat{m}⊘ \\sqrt{\\hat{s}+\\epsilon}$\n",
    "\n"
   ]
  },
  {
   "cell_type": "markdown",
   "metadata": {},
   "source": [
    "Adam 옵티마이저 구현\n",
    "```python\n",
    "optimizer = keras.optimizers.Adam(learning_rate=0.001, beta_1=0.9, beta_2=0.999)\n",
    "```"
   ]
  },
  {
   "cell_type": "markdown",
   "metadata": {},
   "source": [
    "**Nadam**\n",
    "\n",
    "Adam 옵티마이저에 네스테로프 기법을 더한 것이다. 따라서 종종 Adam보다 빠르게 수렴한다.\n",
    "\n",
    "Nadam 옵티마이저 구현\n",
    "```python\n",
    "optimizer = keras.optimizers.Nadam(learning_rate=0.001, beta_1=0.9, beta_2=0.999)\n",
    "```"
   ]
  },
  {
   "cell_type": "markdown",
   "metadata": {},
   "source": [
    "|클래스|수렴 속도|수렴 품질|\n",
    "|---|---|---|\n",
    "|SGD|*|***|\n",
    "|SGD(momentum = ...)|**|***|\n",
    "|SGD(momentum = ..., nesterov = True)|**|***|\n",
    "|Adagrad|***|*(너무 일찍 중단)|\n",
    "|RMSProp|***|** 또는***|\n",
    "|Adam|***|** 또는***|\n",
    "|Nadam|***|** 또는***|\n",
    "|AdaMax|***|** 또는***|\n"
   ]
  },
  {
   "cell_type": "markdown",
   "metadata": {},
   "source": [
    "## 학습률 스케줄링"
   ]
  },
  {
   "cell_type": "markdown",
   "metadata": {},
   "source": [
    "좋은 학습률을 찾는 것이 매우 중요하다. 학습률이 너무 큰 경우 훈련이 발산할 수 있다. 너무 작은 경우 수렴은 하겠지만 시간이 매우 오래 걸린다. 조금 크게 잡으면 처음에는 빠르게 훈련이 진행되지만 최적점 근처에서는 요동치면서 수렴하지 못 할 수 있다. 컴퓨팅 자원이 한정적이라면 차선의 솔루션을 만들기 위해 완전히 수렴하기 전에 훈련을 멈추어야 한다. "
   ]
  },
  {
   "attachments": {
    "image.png": {
     "image/png": "[encoded data removed]"
    }
   },
   "cell_type": "markdown",
   "metadata": {},
   "source": [
    "![image.png](attachment:image.png)"
   ]
  },
  {
   "cell_type": "markdown",
   "metadata": {},
   "source": [
    "매우 작은 값에서 매우 큰 값까지 지수적으로 학습률을 증가시키면서 모델 훈련을 수백 번 반복하여 좋은 학습률을 찾을 수 있지만 더 나은 방법이 있다. 큰 학습률로 시작해서 학습 속도가 느려질 때 학습률을 낮추면 최적의 고정 학습률보다 좋은 솔루션을 더 빨리 발견할 수 있다. 이런 전략을 **학습 스케줄**이라고 한다. "
   ]
  },
  {
   "cell_type": "markdown",
   "metadata": {},
   "source": [
    "**거듭제곱 기반 스케줄링**\n",
    "학습률을 반복 횟수 t에 대한 함수 $\\eta(t)=\\eta_0 / (1+t/s)^c$로 초기 학습률 $\\eta_0$, 거듭제곱 수 $c$(일반적으로 1), 스텝 횟수 $s$는 하이퍼 파라미터이다. 학습률은 각 스텝마다 감소된다. $s$번 스텝 후에 학습률은 $\\eta_0 /2$로 줄어든다. $s$번 스텝이 더 진행된 후에는 학습률이 $\\eta_0/3$으로 줄어드는 식으로 감소한다. 처음에는 빠르게 감소하다가 점점 더 느리게 감소한다. "
   ]
  },
  {
   "cell_type": "code",
   "execution_count": 49,
   "metadata": {
    "ExecuteTime": {
     "end_time": "2022-08-15T06:13:07.043539Z",
     "start_time": "2022-08-15T06:11:15.268434Z"
    }
   },
   "outputs": [
    {
     "name": "stdout",
     "output_type": "stream",
     "text": [
      "Train on 55000 samples, validate on 5000 samples\n",
      "Epoch 1/25\n",
      "55000/55000 [==============================] - 5s 91us/sample - loss: 0.4875 - accuracy: 0.8287 - val_loss: 0.4052 - val_accuracy: 0.8632\n",
      "Epoch 2/25\n",
      "55000/55000 [==============================] - 4s 80us/sample - loss: 0.3814 - accuracy: 0.8658 - val_loss: 0.3917 - val_accuracy: 0.8632\n",
      "Epoch 3/25\n",
      "55000/55000 [==============================] - 4s 81us/sample - loss: 0.3479 - accuracy: 0.8766 - val_loss: 0.3629 - val_accuracy: 0.8710\n",
      "Epoch 4/25\n",
      "55000/55000 [==============================] - 4s 81us/sample - loss: 0.3266 - accuracy: 0.8842 - val_loss: 0.3525 - val_accuracy: 0.8764\n",
      "Epoch 5/25\n",
      "55000/55000 [==============================] - 4s 80us/sample - loss: 0.3109 - accuracy: 0.8903 - val_loss: 0.3435 - val_accuracy: 0.8806\n",
      "Epoch 6/25\n",
      "55000/55000 [==============================] - 4s 81us/sample - loss: 0.2978 - accuracy: 0.8949 - val_loss: 0.3427 - val_accuracy: 0.8810\n",
      "Epoch 7/25\n",
      "55000/55000 [==============================] - 5s 83us/sample - loss: 0.2870 - accuracy: 0.8982 - val_loss: 0.3353 - val_accuracy: 0.8828\n",
      "Epoch 8/25\n",
      "55000/55000 [==============================] - 4s 80us/sample - loss: 0.2784 - accuracy: 0.9021 - val_loss: 0.3375 - val_accuracy: 0.8758\n",
      "Epoch 9/25\n",
      "55000/55000 [==============================] - 4s 80us/sample - loss: 0.2698 - accuracy: 0.9044 - val_loss: 0.3378 - val_accuracy: 0.8822\n",
      "Epoch 10/25\n",
      "55000/55000 [==============================] - 4s 80us/sample - loss: 0.2629 - accuracy: 0.9068 - val_loss: 0.3267 - val_accuracy: 0.8854\n",
      "Epoch 11/25\n",
      "55000/55000 [==============================] - 4s 81us/sample - loss: 0.2572 - accuracy: 0.9088 - val_loss: 0.3240 - val_accuracy: 0.8844\n",
      "Epoch 12/25\n",
      "55000/55000 [==============================] - 4s 80us/sample - loss: 0.2510 - accuracy: 0.9116 - val_loss: 0.3266 - val_accuracy: 0.8874\n",
      "Epoch 13/25\n",
      "55000/55000 [==============================] - 5s 85us/sample - loss: 0.2460 - accuracy: 0.9129 - val_loss: 0.3206 - val_accuracy: 0.8872\n",
      "Epoch 14/25\n",
      "55000/55000 [==============================] - 4s 81us/sample - loss: 0.2416 - accuracy: 0.9151 - val_loss: 0.3214 - val_accuracy: 0.8864\n",
      "Epoch 15/25\n",
      "55000/55000 [==============================] - 5s 82us/sample - loss: 0.2368 - accuracy: 0.9169 - val_loss: 0.3230 - val_accuracy: 0.8852\n",
      "Epoch 16/25\n",
      "55000/55000 [==============================] - 4s 80us/sample - loss: 0.2325 - accuracy: 0.9190 - val_loss: 0.3199 - val_accuracy: 0.8862\n",
      "Epoch 17/25\n",
      "55000/55000 [==============================] - 4s 82us/sample - loss: 0.2285 - accuracy: 0.9202 - val_loss: 0.3204 - val_accuracy: 0.8858\n",
      "Epoch 18/25\n",
      "55000/55000 [==============================] - 4s 79us/sample - loss: 0.2250 - accuracy: 0.9214 - val_loss: 0.3208 - val_accuracy: 0.8868\n",
      "Epoch 19/25\n",
      "55000/55000 [==============================] - 4s 81us/sample - loss: 0.2220 - accuracy: 0.9226 - val_loss: 0.3180 - val_accuracy: 0.8866\n",
      "Epoch 20/25\n",
      "55000/55000 [==============================] - 4s 80us/sample - loss: 0.2188 - accuracy: 0.9245 - val_loss: 0.3171 - val_accuracy: 0.8836\n",
      "Epoch 21/25\n",
      "55000/55000 [==============================] - 4s 79us/sample - loss: 0.2159 - accuracy: 0.9244 - val_loss: 0.3168 - val_accuracy: 0.8870\n",
      "Epoch 22/25\n",
      "55000/55000 [==============================] - 4s 78us/sample - loss: 0.2127 - accuracy: 0.9269 - val_loss: 0.3223 - val_accuracy: 0.8880\n",
      "Epoch 23/25\n",
      "55000/55000 [==============================] - 4s 79us/sample - loss: 0.2106 - accuracy: 0.9282 - val_loss: 0.3171 - val_accuracy: 0.8862\n",
      "Epoch 24/25\n",
      "55000/55000 [==============================] - 4s 78us/sample - loss: 0.2079 - accuracy: 0.9281 - val_loss: 0.3152 - val_accuracy: 0.8880\n",
      "Epoch 25/25\n",
      "55000/55000 [==============================] - 5s 83us/sample - loss: 0.2052 - accuracy: 0.9300 - val_loss: 0.3185 - val_accuracy: 0.8876\n"
     ]
    }
   ],
   "source": [
    "optimizer = keras.optimizers.SGD(learning_rate = 0.01, decay = 1e-4)\n",
    "\n",
    "model = keras.models.Sequential([\n",
    "    keras.layers.Flatten(input_shape = [28, 28]),\n",
    "    keras.layers.Dense(300, activation = 'selu', kernel_initializer = 'lecun_normal'),\n",
    "    keras.layers.Dense(100, activation = 'selu', kernel_initializer = 'lecun_normal'),\n",
    "    keras.layers.Dense(10, activation = 'softmax')\n",
    "])\n",
    "\n",
    "model.compile(loss = 'sparse_categorical_crossentropy', optimizer = optimizer, metrics = ['accuracy'])\n",
    "\n",
    "n_epochs = 25 \n",
    "history = model.fit(X_train_scaled, y_train, epochs = n_epochs,\n",
    "                    validation_data = (X_valid_scaled, y_valid))"
   ]
  },
  {
   "cell_type": "code",
   "execution_count": 55,
   "metadata": {
    "ExecuteTime": {
     "end_time": "2022-08-15T06:20:05.163079Z",
     "start_time": "2022-08-15T06:20:04.912978Z"
    }
   },
   "outputs": [
    {
     "data": {
      "image/png": "[encoded data removed]",
      "text/plain": [
       "<Figure size 432x288 with 1 Axes>"
      ]
     },
     "metadata": {
      "needs_background": "light"
     },
     "output_type": "display_data"
    }
   ],
   "source": [
    "import math \n",
    "\n",
    "learning_rate = 0.01 \n",
    "decay = 1e-4\n",
    "batch_size = 32 \n",
    "n_steps_per_epoch = math.ceil(len(X_train) / batch_size)\n",
    "epochs = np.arange(n_epochs)\n",
    "lrs = learning_rate / (1 + decay * epochs * n_steps_per_epoch)\n",
    "\n",
    "plt.plot(epochs, lrs, 'o--')\n",
    "plt.axis([0, n_epochs - 1, 0, 0.01])\n",
    "plt.xlabel('Epoch')\n",
    "plt.ylabel('Learning Rate')\n",
    "plt.title('Power Scheduling', fontsize = 14)\n",
    "plt.grid(True)\n",
    "plt.show()"
   ]
  },
  {
   "cell_type": "markdown",
   "metadata": {},
   "source": [
    "**지수 기반 스케줄링**"
   ]
  },
  {
   "cell_type": "markdown",
   "metadata": {},
   "source": [
    "학습률을 $\\eta(t)= \\eta_0 {0.1}^{t/s}$로 설정한다. $s$ 스텝마다 10배씩 점차 줄어든다."
   ]
  },
  {
   "cell_type": "code",
   "execution_count": 61,
   "metadata": {
    "ExecuteTime": {
     "end_time": "2022-08-15T06:25:27.478792Z",
     "start_time": "2022-08-15T06:25:27.468421Z"
    }
   },
   "outputs": [],
   "source": [
    "def exponential_decay(lr0, s) : \n",
    "    def exponential_decay_fn(epoch) : \n",
    "        return 0.01 * 0.1 ** (epoch / s)\n",
    "    return exponential_decay_fn\n",
    "\n",
    "exponential_decay_fn = exponential_decay(lr0 = 0.01, s = 20)"
   ]
  },
  {
   "cell_type": "code",
   "execution_count": 62,
   "metadata": {
    "ExecuteTime": {
     "end_time": "2022-08-15T06:27:46.690855Z",
     "start_time": "2022-08-15T06:25:27.917530Z"
    }
   },
   "outputs": [
    {
     "name": "stdout",
     "output_type": "stream",
     "text": [
      "Train on 55000 samples, validate on 5000 samples\n",
      "Epoch 1/25\n",
      "55000/55000 [==============================] - 6s 115us/sample - loss: 0.8587 - accuracy: 0.7541 - val_loss: 0.7588 - val_accuracy: 0.7654\n",
      "Epoch 2/25\n",
      "55000/55000 [==============================] - 6s 100us/sample - loss: 0.6871 - accuracy: 0.7942 - val_loss: 0.7926 - val_accuracy: 0.7930\n",
      "Epoch 3/25\n",
      "55000/55000 [==============================] - 5s 100us/sample - loss: 0.6362 - accuracy: 0.8088 - val_loss: 0.6735 - val_accuracy: 0.8104\n",
      "Epoch 4/25\n",
      "55000/55000 [==============================] - 5s 100us/sample - loss: 0.5552 - accuracy: 0.8307 - val_loss: 0.5272 - val_accuracy: 0.8158\n",
      "Epoch 5/25\n",
      "55000/55000 [==============================] - 6s 100us/sample - loss: 0.4942 - accuracy: 0.8439 - val_loss: 0.5152 - val_accuracy: 0.8494\n",
      "Epoch 6/25\n",
      "55000/55000 [==============================] - 5s 99us/sample - loss: 0.4520 - accuracy: 0.8584 - val_loss: 0.5240 - val_accuracy: 0.8466\n",
      "Epoch 7/25\n",
      "55000/55000 [==============================] - 6s 100us/sample - loss: 0.4089 - accuracy: 0.8700 - val_loss: 0.5516 - val_accuracy: 0.8544\n",
      "Epoch 8/25\n",
      "55000/55000 [==============================] - 6s 100us/sample - loss: 0.3838 - accuracy: 0.8805 - val_loss: 0.5205 - val_accuracy: 0.8702\n",
      "Epoch 9/25\n",
      "55000/55000 [==============================] - 6s 100us/sample - loss: 0.3490 - accuracy: 0.8875 - val_loss: 0.4680 - val_accuracy: 0.8734\n",
      "Epoch 10/25\n",
      "55000/55000 [==============================] - 5s 99us/sample - loss: 0.3264 - accuracy: 0.8927 - val_loss: 0.4475 - val_accuracy: 0.8694\n",
      "Epoch 11/25\n",
      "55000/55000 [==============================] - 6s 101us/sample - loss: 0.3094 - accuracy: 0.8989 - val_loss: 0.4689 - val_accuracy: 0.8778\n",
      "Epoch 12/25\n",
      "55000/55000 [==============================] - 6s 100us/sample - loss: 0.2809 - accuracy: 0.9067 - val_loss: 0.4780 - val_accuracy: 0.8798\n",
      "Epoch 13/25\n",
      "55000/55000 [==============================] - 6s 100us/sample - loss: 0.2597 - accuracy: 0.9136 - val_loss: 0.4578 - val_accuracy: 0.8826\n",
      "Epoch 14/25\n",
      "55000/55000 [==============================] - 6s 101us/sample - loss: 0.2460 - accuracy: 0.9173 - val_loss: 0.4223 - val_accuracy: 0.8862\n",
      "Epoch 15/25\n",
      "55000/55000 [==============================] - 6s 100us/sample - loss: 0.2253 - accuracy: 0.9236 - val_loss: 0.4382 - val_accuracy: 0.8860\n",
      "Epoch 16/25\n",
      "55000/55000 [==============================] - 5s 100us/sample - loss: 0.2122 - accuracy: 0.9279 - val_loss: 0.4547 - val_accuracy: 0.8852\n",
      "Epoch 17/25\n",
      "55000/55000 [==============================] - 5s 100us/sample - loss: 0.1997 - accuracy: 0.9328 - val_loss: 0.5645 - val_accuracy: 0.8820\n",
      "Epoch 18/25\n",
      "55000/55000 [==============================] - 6s 100us/sample - loss: 0.1836 - accuracy: 0.9375 - val_loss: 0.4853 - val_accuracy: 0.8828\n",
      "Epoch 19/25\n",
      "55000/55000 [==============================] - 5s 100us/sample - loss: 0.1712 - accuracy: 0.9418 - val_loss: 0.5106 - val_accuracy: 0.8898\n",
      "Epoch 20/25\n",
      "55000/55000 [==============================] - 6s 100us/sample - loss: 0.1624 - accuracy: 0.9449 - val_loss: 0.4816 - val_accuracy: 0.8860\n",
      "Epoch 21/25\n",
      "55000/55000 [==============================] - 6s 100us/sample - loss: 0.1498 - accuracy: 0.9497 - val_loss: 0.5195 - val_accuracy: 0.8880\n",
      "Epoch 22/25\n",
      "55000/55000 [==============================] - 5s 100us/sample - loss: 0.1415 - accuracy: 0.9525 - val_loss: 0.5733 - val_accuracy: 0.8888\n",
      "Epoch 23/25\n",
      "55000/55000 [==============================] - 5s 99us/sample - loss: 0.1325 - accuracy: 0.9564 - val_loss: 0.5490 - val_accuracy: 0.8878\n",
      "Epoch 24/25\n",
      "55000/55000 [==============================] - 6s 100us/sample - loss: 0.1253 - accuracy: 0.9591 - val_loss: 0.5912 - val_accuracy: 0.8850\n",
      "Epoch 25/25\n",
      "55000/55000 [==============================] - 5s 99us/sample - loss: 0.1190 - accuracy: 0.9606 - val_loss: 0.5835 - val_accuracy: 0.8876\n"
     ]
    }
   ],
   "source": [
    "model = keras.models.Sequential([\n",
    "    keras.layers.Flatten(input_shape = [28, 28]),\n",
    "    keras.layers.Dense(300, activation = 'selu', kernel_initializer = 'lecun_normal'),\n",
    "    keras.layers.Dense(100, activation = 'selu', kernel_initializer = 'lecun_normal'),\n",
    "    keras.layers.Dense(10, activation = 'softmax')\n",
    "])\n",
    "\n",
    "model.compile(loss = 'sparse_categorical_crossentropy', optimizer = 'nadam', metrics = ['accuracy'])\n",
    "\n",
    "n_epochs = 25 \n",
    "lr_scheduler = keras.callbacks.LearningRateScheduler(exponential_decay_fn)\n",
    "history = model.fit(X_train_scaled, y_train, epochs = n_epochs,\n",
    "                    validation_data = (X_valid_scaled, y_valid),\n",
    "                    callbacks=[lr_scheduler])"
   ]
  },
  {
   "cell_type": "code",
   "execution_count": 64,
   "metadata": {
    "ExecuteTime": {
     "end_time": "2022-08-15T06:49:32.865746Z",
     "start_time": "2022-08-15T06:49:32.616042Z"
    }
   },
   "outputs": [
    {
     "data": {
      "image/png": "[encoded data removed]",
      "text/plain": [
       "<Figure size 432x288 with 1 Axes>"
      ]
     },
     "metadata": {
      "needs_background": "light"
     },
     "output_type": "display_data"
    }
   ],
   "source": [
    "plt.plot(history.epoch, history.history[\"lr\"], \"o--\")\n",
    "plt.axis([0, n_epochs - 1, 0, 0.011])\n",
    "plt.xlabel(\"Epoch\")\n",
    "plt.ylabel(\"Learning Rate\")\n",
    "plt.title(\"Exponential Scheduling\", fontsize=14)\n",
    "plt.grid(True)\n",
    "plt.show()"
   ]
  },
  {
   "cell_type": "markdown",
   "metadata": {},
   "source": [
    "지수 기반 스케줄링 함수는 두 번째 매개변수로 현재 학습률을 받을 수 있다."
   ]
  },
  {
   "cell_type": "code",
   "execution_count": 66,
   "metadata": {
    "ExecuteTime": {
     "end_time": "2022-08-15T06:51:24.260635Z",
     "start_time": "2022-08-15T06:51:24.253317Z"
    }
   },
   "outputs": [],
   "source": [
    "def exponential_decay_fn(epoch, lr):\n",
    "    return lr * 0.1**(1 / 20)"
   ]
  },
  {
   "cell_type": "markdown",
   "metadata": {},
   "source": [
    "에포크가 아니라 반복마다 학습률을 업데이트하려면 사용자 정의 콜백 클래스를 작성해야 한다."
   ]
  },
  {
   "cell_type": "code",
   "execution_count": 67,
   "metadata": {
    "ExecuteTime": {
     "end_time": "2022-08-15T06:54:36.198835Z",
     "start_time": "2022-08-15T06:52:01.081276Z"
    }
   },
   "outputs": [
    {
     "name": "stdout",
     "output_type": "stream",
     "text": [
      "Train on 55000 samples, validate on 5000 samples\n",
      "Epoch 1/25\n",
      "55000/55000 [==============================] - 7s 130us/sample - loss: 0.8089 - accuracy: 0.7667 - val_loss: 0.6506 - val_accuracy: 0.8044\n",
      "Epoch 2/25\n",
      "55000/55000 [==============================] - 6s 112us/sample - loss: 0.6146 - accuracy: 0.8110 - val_loss: 0.6566 - val_accuracy: 0.8038\n",
      "Epoch 3/25\n",
      "55000/55000 [==============================] - 6s 112us/sample - loss: 0.6009 - accuracy: 0.8216 - val_loss: 0.6280 - val_accuracy: 0.8320\n",
      "Epoch 4/25\n",
      "55000/55000 [==============================] - 6s 112us/sample - loss: 0.5171 - accuracy: 0.8395 - val_loss: 0.5206 - val_accuracy: 0.8430\n",
      "Epoch 5/25\n",
      "55000/55000 [==============================] - 6s 113us/sample - loss: 0.4473 - accuracy: 0.8558 - val_loss: 0.5150 - val_accuracy: 0.8594\n",
      "Epoch 6/25\n",
      "55000/55000 [==============================] - 6s 112us/sample - loss: 0.4154 - accuracy: 0.8663 - val_loss: 0.4789 - val_accuracy: 0.8600\n",
      "Epoch 7/25\n",
      "55000/55000 [==============================] - 6s 112us/sample - loss: 0.3884 - accuracy: 0.8737 - val_loss: 0.4462 - val_accuracy: 0.8646\n",
      "Epoch 8/25\n",
      "55000/55000 [==============================] - 6s 113us/sample - loss: 0.3603 - accuracy: 0.8818 - val_loss: 0.4930 - val_accuracy: 0.8634\n",
      "Epoch 9/25\n",
      "55000/55000 [==============================] - 6s 111us/sample - loss: 0.3415 - accuracy: 0.8882 - val_loss: 0.5045 - val_accuracy: 0.8636\n",
      "Epoch 10/25\n",
      "55000/55000 [==============================] - 6s 111us/sample - loss: 0.3145 - accuracy: 0.8955 - val_loss: 0.4087 - val_accuracy: 0.8766\n",
      "Epoch 11/25\n",
      "55000/55000 [==============================] - 6s 112us/sample - loss: 0.2869 - accuracy: 0.9015 - val_loss: 0.5003 - val_accuracy: 0.8686\n",
      "Epoch 12/25\n",
      "55000/55000 [==============================] - 6s 111us/sample - loss: 0.2695 - accuracy: 0.9076 - val_loss: 0.4600 - val_accuracy: 0.8824\n",
      "Epoch 13/25\n",
      "55000/55000 [==============================] - 6s 111us/sample - loss: 0.2459 - accuracy: 0.9146 - val_loss: 0.4495 - val_accuracy: 0.8844\n",
      "Epoch 14/25\n",
      "55000/55000 [==============================] - 6s 111us/sample - loss: 0.2304 - accuracy: 0.9201 - val_loss: 0.4272 - val_accuracy: 0.8832\n",
      "Epoch 15/25\n",
      "55000/55000 [==============================] - 6s 112us/sample - loss: 0.2160 - accuracy: 0.9251 - val_loss: 0.4409 - val_accuracy: 0.8862\n",
      "Epoch 16/25\n",
      "55000/55000 [==============================] - 6s 112us/sample - loss: 0.2011 - accuracy: 0.9301 - val_loss: 0.4846 - val_accuracy: 0.8832\n",
      "Epoch 17/25\n",
      "55000/55000 [==============================] - 6s 112us/sample - loss: 0.1864 - accuracy: 0.9365 - val_loss: 0.5067 - val_accuracy: 0.8856\n",
      "Epoch 18/25\n",
      "55000/55000 [==============================] - 6s 112us/sample - loss: 0.1744 - accuracy: 0.9399 - val_loss: 0.4890 - val_accuracy: 0.8874\n",
      "Epoch 19/25\n",
      "55000/55000 [==============================] - 6s 112us/sample - loss: 0.1616 - accuracy: 0.9444 - val_loss: 0.5103 - val_accuracy: 0.8924\n",
      "Epoch 20/25\n",
      "55000/55000 [==============================] - 6s 112us/sample - loss: 0.1510 - accuracy: 0.9484 - val_loss: 0.5389 - val_accuracy: 0.8892\n",
      "Epoch 21/25\n",
      "55000/55000 [==============================] - 6s 112us/sample - loss: 0.1400 - accuracy: 0.9531 - val_loss: 0.5279 - val_accuracy: 0.8896\n",
      "Epoch 22/25\n",
      "55000/55000 [==============================] - 6s 112us/sample - loss: 0.1310 - accuracy: 0.9558 - val_loss: 0.5578 - val_accuracy: 0.8904\n",
      "Epoch 23/25\n",
      "55000/55000 [==============================] - 6s 112us/sample - loss: 0.1240 - accuracy: 0.9593 - val_loss: 0.5753 - val_accuracy: 0.8920\n",
      "Epoch 24/25\n",
      "55000/55000 [==============================] - 6s 113us/sample - loss: 0.1126 - accuracy: 0.9633 - val_loss: 0.6412 - val_accuracy: 0.8868\n",
      "Epoch 25/25\n",
      "55000/55000 [==============================] - 6s 112us/sample - loss: 0.1050 - accuracy: 0.9646 - val_loss: 0.6621 - val_accuracy: 0.8898\n"
     ]
    }
   ],
   "source": [
    "K = keras.backend\n",
    "\n",
    "class ExponentialDecay(keras.callbacks.Callback):\n",
    "    def __init__(self, s=40000):\n",
    "        super().__init__()\n",
    "        self.s = s\n",
    "\n",
    "    def on_batch_begin(self, batch, logs=None):\n",
    "        # 에포크마다 `batch` 매개변수가 재설정된다\n",
    "        lr = K.get_value(self.model.optimizer.lr)\n",
    "        K.set_value(self.model.optimizer.lr, lr * 0.1**(1 / self.s))\n",
    "\n",
    "    def on_epoch_end(self, epoch, logs=None):\n",
    "        logs = logs or {}\n",
    "        logs['lr'] = K.get_value(self.model.optimizer.lr)\n",
    "\n",
    "model = keras.models.Sequential([\n",
    "    keras.layers.Flatten(input_shape=[28, 28]),\n",
    "    keras.layers.Dense(300, activation=\"selu\", kernel_initializer=\"lecun_normal\"),\n",
    "    keras.layers.Dense(100, activation=\"selu\", kernel_initializer=\"lecun_normal\"),\n",
    "    keras.layers.Dense(10, activation=\"softmax\")\n",
    "])\n",
    "lr0 = 0.01\n",
    "optimizer = keras.optimizers.Nadam(learning_rate=lr0)\n",
    "model.compile(loss=\"sparse_categorical_crossentropy\", optimizer=optimizer, metrics=[\"accuracy\"])\n",
    "n_epochs = 25\n",
    "\n",
    "s = 20 * len(X_train) // 32 # 20 에포크 동안 스텝 횟수 (배치 크기 = 32)\n",
    "exp_decay = ExponentialDecay(s)\n",
    "history = model.fit(X_train_scaled, y_train, epochs=n_epochs,\n",
    "                    validation_data=(X_valid_scaled, y_valid),\n",
    "                    callbacks=[exp_decay])"
   ]
  },
  {
   "cell_type": "code",
   "execution_count": 68,
   "metadata": {
    "ExecuteTime": {
     "end_time": "2022-08-15T06:54:36.366808Z",
     "start_time": "2022-08-15T06:54:36.200876Z"
    }
   },
   "outputs": [
    {
     "data": {
      "image/png": "[encoded data removed]",
      "text/plain": [
       "<Figure size 432x288 with 1 Axes>"
      ]
     },
     "metadata": {
      "needs_background": "light"
     },
     "output_type": "display_data"
    }
   ],
   "source": [
    "n_steps = n_epochs * len(X_train) // 32\n",
    "steps = np.arange(n_steps)\n",
    "lrs = lr0 * 0.1**(steps / s)\n",
    "plt.plot(steps, lrs, \"-\", linewidth=2)\n",
    "plt.axis([0, n_steps - 1, 0, lr0 * 1.1])\n",
    "plt.xlabel(\"Batch\")\n",
    "plt.ylabel(\"Learning Rate\")\n",
    "plt.title(\"Exponential Scheduling (per batch)\", fontsize=14)\n",
    "plt.grid(True)\n",
    "plt.show()"
   ]
  },
  {
   "cell_type": "markdown",
   "metadata": {},
   "source": [
    "**구간별 고정 스케줄링**\n",
    "\n",
    "일정 횟수의 에포크동안 일정한 학습률을 사용하고 또 다른 횟수의 에포크 동안 작은 학습률을 사용하는 방법이다. 잘 동작할 수 있지만 적절한 학습률과 에포크 횟수의 조합을 찾으려면 여러 가지를 시도해야 한다."
   ]
  },
  {
   "cell_type": "code",
   "execution_count": 69,
   "metadata": {
    "ExecuteTime": {
     "end_time": "2022-08-15T06:55:25.274264Z",
     "start_time": "2022-08-15T06:55:25.262244Z"
    }
   },
   "outputs": [],
   "source": [
    "def piecewise_constant(boundaries, values):\n",
    "    boundaries = np.array([0] + boundaries)\n",
    "    values = np.array(values)\n",
    "    def piecewise_constant_fn(epoch):\n",
    "        return values[np.argmax(boundaries > epoch) - 1]\n",
    "    return piecewise_constant_fn\n",
    "\n",
    "piecewise_constant_fn = piecewise_constant([5, 15], [0.01, 0.005, 0.001])"
   ]
  },
  {
   "cell_type": "code",
   "execution_count": 70,
   "metadata": {
    "ExecuteTime": {
     "end_time": "2022-08-15T06:57:50.571603Z",
     "start_time": "2022-08-15T06:55:30.324342Z"
    }
   },
   "outputs": [
    {
     "name": "stdout",
     "output_type": "stream",
     "text": [
      "Train on 55000 samples, validate on 5000 samples\n",
      "Epoch 1/25\n",
      "55000/55000 [==============================] - 6s 117us/sample - loss: 0.8948 - accuracy: 0.7483 - val_loss: 0.7323 - val_accuracy: 0.7788\n",
      "Epoch 2/25\n",
      "55000/55000 [==============================] - 6s 102us/sample - loss: 0.8119 - accuracy: 0.7577 - val_loss: 1.1811 - val_accuracy: 0.6858\n",
      "Epoch 3/25\n",
      "55000/55000 [==============================] - 6s 101us/sample - loss: 0.8648 - accuracy: 0.7493 - val_loss: 1.2180 - val_accuracy: 0.7036\n",
      "Epoch 4/25\n",
      "55000/55000 [==============================] - 6s 101us/sample - loss: 0.9750 - accuracy: 0.7065 - val_loss: 0.8883 - val_accuracy: 0.7024\n",
      "Epoch 5/25\n",
      "55000/55000 [==============================] - 6s 101us/sample - loss: 0.9603 - accuracy: 0.7136 - val_loss: 1.2482 - val_accuracy: 0.6350\n",
      "Epoch 6/25\n",
      "55000/55000 [==============================] - 6s 102us/sample - loss: 0.5960 - accuracy: 0.8123 - val_loss: 0.5662 - val_accuracy: 0.8440\n",
      "Epoch 7/25\n",
      "55000/55000 [==============================] - 6s 102us/sample - loss: 0.5066 - accuracy: 0.8431 - val_loss: 0.7283 - val_accuracy: 0.8248\n",
      "Epoch 8/25\n",
      "55000/55000 [==============================] - 6s 101us/sample - loss: 0.4767 - accuracy: 0.8521 - val_loss: 0.5940 - val_accuracy: 0.8326\n",
      "Epoch 9/25\n",
      "55000/55000 [==============================] - 6s 100us/sample - loss: 0.4781 - accuracy: 0.8578 - val_loss: 0.5551 - val_accuracy: 0.8528\n",
      "Epoch 10/25\n",
      "55000/55000 [==============================] - 6s 101us/sample - loss: 0.4659 - accuracy: 0.8609 - val_loss: 0.5576 - val_accuracy: 0.8632\n",
      "Epoch 11/25\n",
      "55000/55000 [==============================] - 6s 101us/sample - loss: 0.4426 - accuracy: 0.8689 - val_loss: 0.5234 - val_accuracy: 0.8690\n",
      "Epoch 12/25\n",
      "55000/55000 [==============================] - 6s 102us/sample - loss: 0.4355 - accuracy: 0.8692 - val_loss: 0.6490 - val_accuracy: 0.8536\n",
      "Epoch 13/25\n",
      "55000/55000 [==============================] - 6s 102us/sample - loss: 0.4329 - accuracy: 0.8732 - val_loss: 0.5973 - val_accuracy: 0.8650\n",
      "Epoch 14/25\n",
      "55000/55000 [==============================] - 6s 101us/sample - loss: 0.4259 - accuracy: 0.8769 - val_loss: 0.5935 - val_accuracy: 0.8628\n",
      "Epoch 15/25\n",
      "55000/55000 [==============================] - 6s 102us/sample - loss: 0.4026 - accuracy: 0.8799 - val_loss: 0.5181 - val_accuracy: 0.8664\n",
      "Epoch 16/25\n",
      "55000/55000 [==============================] - 6s 101us/sample - loss: 0.2813 - accuracy: 0.9082 - val_loss: 0.4555 - val_accuracy: 0.8820\n",
      "Epoch 17/25\n",
      "55000/55000 [==============================] - 6s 101us/sample - loss: 0.2537 - accuracy: 0.9160 - val_loss: 0.4980 - val_accuracy: 0.8792\n",
      "Epoch 18/25\n",
      "55000/55000 [==============================] - 6s 101us/sample - loss: 0.2475 - accuracy: 0.9196 - val_loss: 0.4876 - val_accuracy: 0.8854\n",
      "Epoch 19/25\n",
      "55000/55000 [==============================] - 6s 101us/sample - loss: 0.2346 - accuracy: 0.9236 - val_loss: 0.5141 - val_accuracy: 0.8830\n",
      "Epoch 20/25\n",
      "55000/55000 [==============================] - 6s 101us/sample - loss: 0.2266 - accuracy: 0.9256 - val_loss: 0.5036 - val_accuracy: 0.8800\n",
      "Epoch 21/25\n",
      "55000/55000 [==============================] - 6s 101us/sample - loss: 0.2191 - accuracy: 0.9277 - val_loss: 0.5237 - val_accuracy: 0.8814\n",
      "Epoch 22/25\n",
      "55000/55000 [==============================] - 6s 100us/sample - loss: 0.2117 - accuracy: 0.9309 - val_loss: 0.5074 - val_accuracy: 0.8864\n",
      "Epoch 23/25\n",
      "55000/55000 [==============================] - 6s 101us/sample - loss: 0.2048 - accuracy: 0.9333 - val_loss: 0.5194 - val_accuracy: 0.8828\n",
      "Epoch 24/25\n",
      "55000/55000 [==============================] - 5s 100us/sample - loss: 0.2004 - accuracy: 0.9346 - val_loss: 0.5334 - val_accuracy: 0.8838\n",
      "Epoch 25/25\n",
      "55000/55000 [==============================] - 6s 102us/sample - loss: 0.1917 - accuracy: 0.9381 - val_loss: 0.5503 - val_accuracy: 0.8834\n"
     ]
    }
   ],
   "source": [
    "lr_scheduler = keras.callbacks.LearningRateScheduler(piecewise_constant_fn)\n",
    "\n",
    "model = keras.models.Sequential([\n",
    "    keras.layers.Flatten(input_shape=[28, 28]),\n",
    "    keras.layers.Dense(300, activation=\"selu\", kernel_initializer=\"lecun_normal\"),\n",
    "    keras.layers.Dense(100, activation=\"selu\", kernel_initializer=\"lecun_normal\"),\n",
    "    keras.layers.Dense(10, activation=\"softmax\")\n",
    "])\n",
    "model.compile(loss=\"sparse_categorical_crossentropy\", optimizer=\"nadam\", metrics=[\"accuracy\"])\n",
    "n_epochs = 25\n",
    "history = model.fit(X_train_scaled, y_train, epochs=n_epochs,\n",
    "                    validation_data=(X_valid_scaled, y_valid),\n",
    "                    callbacks=[lr_scheduler])"
   ]
  },
  {
   "cell_type": "code",
   "execution_count": 71,
   "metadata": {
    "ExecuteTime": {
     "end_time": "2022-08-15T06:57:50.734902Z",
     "start_time": "2022-08-15T06:57:50.573721Z"
    }
   },
   "outputs": [
    {
     "data": {
      "image/png": "[encoded data removed]",
      "text/plain": [
       "<Figure size 432x288 with 1 Axes>"
      ]
     },
     "metadata": {
      "needs_background": "light"
     },
     "output_type": "display_data"
    }
   ],
   "source": [
    "plt.plot(history.epoch, [piecewise_constant_fn(epoch) for epoch in history.epoch], \"o-\")\n",
    "plt.axis([0, n_epochs - 1, 0, 0.011])\n",
    "plt.xlabel(\"Epoch\")\n",
    "plt.ylabel(\"Learning Rate\")\n",
    "plt.title(\"Piecewise Constant Scheduling\", fontsize=14)\n",
    "plt.grid(True)\n",
    "plt.show()"
   ]
  },
  {
   "cell_type": "markdown",
   "metadata": {},
   "source": [
    "**성능 기반 스케줄링**\n",
    "\n",
    "매 $N$스텝마다 검증 오차를 측정하고 오차가 줄어들지 않으면 $\\lambda$배 만큼 학습률을 감소시킨다."
   ]
  },
  {
   "cell_type": "code",
   "execution_count": 72,
   "metadata": {
    "ExecuteTime": {
     "end_time": "2022-08-15T06:59:49.447758Z",
     "start_time": "2022-08-15T06:57:50.736773Z"
    }
   },
   "outputs": [
    {
     "name": "stdout",
     "output_type": "stream",
     "text": [
      "Train on 55000 samples, validate on 5000 samples\n",
      "Epoch 1/25\n",
      "55000/55000 [==============================] - 5s 96us/sample - loss: 0.6131 - accuracy: 0.8034 - val_loss: 0.5470 - val_accuracy: 0.8098\n",
      "Epoch 2/25\n",
      "55000/55000 [==============================] - 5s 86us/sample - loss: 0.5148 - accuracy: 0.8384 - val_loss: 0.5110 - val_accuracy: 0.8316\n",
      "Epoch 3/25\n",
      "55000/55000 [==============================] - 5s 88us/sample - loss: 0.5229 - accuracy: 0.8433 - val_loss: 0.4830 - val_accuracy: 0.8582\n",
      "Epoch 4/25\n",
      "55000/55000 [==============================] - 5s 88us/sample - loss: 0.5111 - accuracy: 0.8463 - val_loss: 0.5296 - val_accuracy: 0.8476\n",
      "Epoch 5/25\n",
      "55000/55000 [==============================] - 5s 87us/sample - loss: 0.5303 - accuracy: 0.8483 - val_loss: 0.6190 - val_accuracy: 0.8294\n",
      "Epoch 6/25\n",
      "55000/55000 [==============================] - 5s 87us/sample - loss: 0.5125 - accuracy: 0.8536 - val_loss: 0.6550 - val_accuracy: 0.8354\n",
      "Epoch 7/25\n",
      "55000/55000 [==============================] - 5s 86us/sample - loss: 0.5297 - accuracy: 0.8535 - val_loss: 0.6242 - val_accuracy: 0.8300\n",
      "Epoch 8/25\n",
      "55000/55000 [==============================] - 5s 86us/sample - loss: 0.5234 - accuracy: 0.8572 - val_loss: 0.8019 - val_accuracy: 0.8318\n",
      "Epoch 9/25\n",
      "55000/55000 [==============================] - 5s 87us/sample - loss: 0.3016 - accuracy: 0.8968 - val_loss: 0.4168 - val_accuracy: 0.8750\n",
      "Epoch 10/25\n",
      "55000/55000 [==============================] - 5s 86us/sample - loss: 0.2482 - accuracy: 0.9095 - val_loss: 0.3852 - val_accuracy: 0.8834\n",
      "Epoch 11/25\n",
      "55000/55000 [==============================] - 5s 84us/sample - loss: 0.2321 - accuracy: 0.9144 - val_loss: 0.4163 - val_accuracy: 0.8926\n",
      "Epoch 12/25\n",
      "55000/55000 [==============================] - 5s 86us/sample - loss: 0.2142 - accuracy: 0.9206 - val_loss: 0.4045 - val_accuracy: 0.8916\n",
      "Epoch 13/25\n",
      "55000/55000 [==============================] - 5s 85us/sample - loss: 0.2000 - accuracy: 0.9257 - val_loss: 0.4500 - val_accuracy: 0.8860\n",
      "Epoch 14/25\n",
      "55000/55000 [==============================] - 5s 84us/sample - loss: 0.1897 - accuracy: 0.9291 - val_loss: 0.4975 - val_accuracy: 0.8794\n",
      "Epoch 15/25\n",
      "55000/55000 [==============================] - 5s 87us/sample - loss: 0.1815 - accuracy: 0.9322 - val_loss: 0.4486 - val_accuracy: 0.8902\n",
      "Epoch 16/25\n",
      "55000/55000 [==============================] - 5s 87us/sample - loss: 0.1261 - accuracy: 0.9506 - val_loss: 0.4417 - val_accuracy: 0.8958\n",
      "Epoch 17/25\n",
      "55000/55000 [==============================] - 5s 88us/sample - loss: 0.1138 - accuracy: 0.9560 - val_loss: 0.4680 - val_accuracy: 0.8958\n",
      "Epoch 18/25\n",
      "55000/55000 [==============================] - 5s 86us/sample - loss: 0.1064 - accuracy: 0.9587 - val_loss: 0.4793 - val_accuracy: 0.8960\n",
      "Epoch 19/25\n",
      "55000/55000 [==============================] - 5s 84us/sample - loss: 0.0987 - accuracy: 0.9619 - val_loss: 0.4776 - val_accuracy: 0.8984\n",
      "Epoch 20/25\n",
      "55000/55000 [==============================] - 5s 84us/sample - loss: 0.0946 - accuracy: 0.9636 - val_loss: 0.4938 - val_accuracy: 0.8968\n",
      "Epoch 21/25\n",
      "55000/55000 [==============================] - 5s 85us/sample - loss: 0.0741 - accuracy: 0.9723 - val_loss: 0.5131 - val_accuracy: 0.9010\n",
      "Epoch 22/25\n",
      "55000/55000 [==============================] - 5s 86us/sample - loss: 0.0688 - accuracy: 0.9740 - val_loss: 0.5330 - val_accuracy: 0.8984\n",
      "Epoch 23/25\n",
      "55000/55000 [==============================] - 5s 83us/sample - loss: 0.0652 - accuracy: 0.9761 - val_loss: 0.5347 - val_accuracy: 0.8982\n",
      "Epoch 24/25\n",
      "55000/55000 [==============================] - 5s 82us/sample - loss: 0.0622 - accuracy: 0.9770 - val_loss: 0.5535 - val_accuracy: 0.8990\n",
      "Epoch 25/25\n",
      "55000/55000 [==============================] - 5s 86us/sample - loss: 0.0590 - accuracy: 0.9785 - val_loss: 0.5668 - val_accuracy: 0.8982\n"
     ]
    }
   ],
   "source": [
    "tf.random.set_seed(42)\n",
    "np.random.seed(42)\n",
    "\n",
    "lr_scheduler = keras.callbacks.ReduceLROnPlateau(factor=0.5, patience=5)\n",
    "\n",
    "model = keras.models.Sequential([\n",
    "    keras.layers.Flatten(input_shape=[28, 28]),\n",
    "    keras.layers.Dense(300, activation=\"selu\", kernel_initializer=\"lecun_normal\"),\n",
    "    keras.layers.Dense(100, activation=\"selu\", kernel_initializer=\"lecun_normal\"),\n",
    "    keras.layers.Dense(10, activation=\"softmax\")\n",
    "])\n",
    "optimizer = keras.optimizers.SGD(learning_rate=0.02, momentum=0.9)\n",
    "model.compile(loss=\"sparse_categorical_crossentropy\", optimizer=optimizer, metrics=[\"accuracy\"])\n",
    "n_epochs = 25\n",
    "history = model.fit(X_train_scaled, y_train, epochs=n_epochs,\n",
    "                    validation_data=(X_valid_scaled, y_valid),\n",
    "                    callbacks=[lr_scheduler])"
   ]
  },
  {
   "cell_type": "code",
   "execution_count": 73,
   "metadata": {
    "ExecuteTime": {
     "end_time": "2022-08-15T06:59:49.720388Z",
     "start_time": "2022-08-15T06:59:49.449736Z"
    }
   },
   "outputs": [
    {
     "data": {
      "image/png": "[encoded data removed]",
      "text/plain": [
       "<Figure size 432x288 with 2 Axes>"
      ]
     },
     "metadata": {
      "needs_background": "light"
     },
     "output_type": "display_data"
    }
   ],
   "source": [
    "plt.plot(history.epoch, history.history[\"lr\"], \"bo-\")\n",
    "plt.xlabel(\"Epoch\")\n",
    "plt.ylabel(\"Learning Rate\", color='b')\n",
    "plt.tick_params('y', colors='b')\n",
    "plt.gca().set_xlim(0, n_epochs - 1)\n",
    "plt.grid(True)\n",
    "\n",
    "ax2 = plt.gca().twinx()\n",
    "ax2.plot(history.epoch, history.history[\"val_loss\"], \"r^-\")\n",
    "ax2.set_ylabel('Validation Loss', color='r')\n",
    "ax2.tick_params('y', colors='r')\n",
    "\n",
    "plt.title(\"Reduce LR on Plateau\", fontsize=14)\n",
    "plt.show()"
   ]
  },
  {
   "cell_type": "markdown",
   "metadata": {},
   "source": [
    "**tf.keras 스케줄러**"
   ]
  },
  {
   "cell_type": "code",
   "execution_count": 74,
   "metadata": {
    "ExecuteTime": {
     "end_time": "2022-08-15T07:04:50.574209Z",
     "start_time": "2022-08-15T07:02:59.341935Z"
    }
   },
   "outputs": [
    {
     "name": "stdout",
     "output_type": "stream",
     "text": [
      "Train on 55000 samples, validate on 5000 samples\n",
      "Epoch 1/25\n",
      "55000/55000 [==============================] - 5s 90us/sample - loss: 0.4888 - accuracy: 0.8271 - val_loss: 0.4078 - val_accuracy: 0.8594\n",
      "Epoch 2/25\n",
      "55000/55000 [==============================] - 5s 82us/sample - loss: 0.3818 - accuracy: 0.8653 - val_loss: 0.3883 - val_accuracy: 0.8666\n",
      "Epoch 3/25\n",
      "55000/55000 [==============================] - 4s 81us/sample - loss: 0.3480 - accuracy: 0.8766 - val_loss: 0.3674 - val_accuracy: 0.8688\n",
      "Epoch 4/25\n",
      "55000/55000 [==============================] - 4s 77us/sample - loss: 0.3265 - accuracy: 0.8835 - val_loss: 0.3518 - val_accuracy: 0.8788\n",
      "Epoch 5/25\n",
      "55000/55000 [==============================] - 4s 80us/sample - loss: 0.3100 - accuracy: 0.8900 - val_loss: 0.3429 - val_accuracy: 0.8790\n",
      "Epoch 6/25\n",
      "55000/55000 [==============================] - 4s 78us/sample - loss: 0.2961 - accuracy: 0.8947 - val_loss: 0.3404 - val_accuracy: 0.8816\n",
      "Epoch 7/25\n",
      "55000/55000 [==============================] - 4s 76us/sample - loss: 0.2850 - accuracy: 0.8982 - val_loss: 0.3331 - val_accuracy: 0.8820\n",
      "Epoch 8/25\n",
      "55000/55000 [==============================] - 4s 78us/sample - loss: 0.2762 - accuracy: 0.9028 - val_loss: 0.3357 - val_accuracy: 0.8798\n",
      "Epoch 9/25\n",
      "55000/55000 [==============================] - 4s 81us/sample - loss: 0.2678 - accuracy: 0.9048 - val_loss: 0.3337 - val_accuracy: 0.8822\n",
      "Epoch 10/25\n",
      "55000/55000 [==============================] - 4s 78us/sample - loss: 0.2610 - accuracy: 0.9075 - val_loss: 0.3258 - val_accuracy: 0.8870\n",
      "Epoch 11/25\n",
      "55000/55000 [==============================] - 4s 78us/sample - loss: 0.2554 - accuracy: 0.9093 - val_loss: 0.3225 - val_accuracy: 0.8866\n",
      "Epoch 12/25\n",
      "55000/55000 [==============================] - 4s 81us/sample - loss: 0.2499 - accuracy: 0.9110 - val_loss: 0.3260 - val_accuracy: 0.8868\n",
      "Epoch 13/25\n",
      "55000/55000 [==============================] - 4s 81us/sample - loss: 0.2454 - accuracy: 0.9130 - val_loss: 0.3209 - val_accuracy: 0.8874\n",
      "Epoch 14/25\n",
      "55000/55000 [==============================] - 4s 82us/sample - loss: 0.2416 - accuracy: 0.9144 - val_loss: 0.3206 - val_accuracy: 0.8892\n",
      "Epoch 15/25\n",
      "55000/55000 [==============================] - 5s 82us/sample - loss: 0.2376 - accuracy: 0.9166 - val_loss: 0.3201 - val_accuracy: 0.8866\n",
      "Epoch 16/25\n",
      "55000/55000 [==============================] - 5s 82us/sample - loss: 0.2344 - accuracy: 0.9175 - val_loss: 0.3189 - val_accuracy: 0.8886\n",
      "Epoch 17/25\n",
      "55000/55000 [==============================] - 5s 82us/sample - loss: 0.2316 - accuracy: 0.9186 - val_loss: 0.3186 - val_accuracy: 0.8888\n",
      "Epoch 18/25\n",
      "55000/55000 [==============================] - 4s 81us/sample - loss: 0.2290 - accuracy: 0.9195 - val_loss: 0.3184 - val_accuracy: 0.8892\n",
      "Epoch 19/25\n",
      "55000/55000 [==============================] - 4s 77us/sample - loss: 0.2270 - accuracy: 0.9202 - val_loss: 0.3164 - val_accuracy: 0.8902\n",
      "Epoch 20/25\n",
      "55000/55000 [==============================] - 4s 81us/sample - loss: 0.2250 - accuracy: 0.9212 - val_loss: 0.3175 - val_accuracy: 0.8882\n",
      "Epoch 21/25\n",
      "55000/55000 [==============================] - 5s 82us/sample - loss: 0.2234 - accuracy: 0.9221 - val_loss: 0.3160 - val_accuracy: 0.8878\n",
      "Epoch 22/25\n",
      "55000/55000 [==============================] - 5s 82us/sample - loss: 0.2217 - accuracy: 0.9229 - val_loss: 0.3194 - val_accuracy: 0.8888\n",
      "Epoch 23/25\n",
      "55000/55000 [==============================] - 5s 82us/sample - loss: 0.2206 - accuracy: 0.9239 - val_loss: 0.3166 - val_accuracy: 0.8898\n",
      "Epoch 24/25\n",
      "55000/55000 [==============================] - 4s 79us/sample - loss: 0.2193 - accuracy: 0.9234 - val_loss: 0.3156 - val_accuracy: 0.8904\n",
      "Epoch 25/25\n",
      "55000/55000 [==============================] - 4s 81us/sample - loss: 0.2181 - accuracy: 0.9241 - val_loss: 0.3154 - val_accuracy: 0.8902\n"
     ]
    }
   ],
   "source": [
    "model = keras.models.Sequential([\n",
    "    keras.layers.Flatten(input_shape=[28, 28]),\n",
    "    keras.layers.Dense(300, activation=\"selu\", kernel_initializer=\"lecun_normal\"),\n",
    "    keras.layers.Dense(100, activation=\"selu\", kernel_initializer=\"lecun_normal\"),\n",
    "    keras.layers.Dense(10, activation=\"softmax\")\n",
    "])\n",
    "s = 20 * len(X_train) // 32 # number of steps in 20 epochs (batch size = 32)\n",
    "learning_rate = keras.optimizers.schedules.ExponentialDecay(0.01, s, 0.1)\n",
    "optimizer = keras.optimizers.SGD(learning_rate)\n",
    "model.compile(loss=\"sparse_categorical_crossentropy\", optimizer=optimizer, metrics=[\"accuracy\"])\n",
    "n_epochs = 25\n",
    "history = model.fit(X_train_scaled, y_train, epochs=n_epochs,\n",
    "                    validation_data=(X_valid_scaled, y_valid))"
   ]
  },
  {
   "cell_type": "code",
   "execution_count": 75,
   "metadata": {
    "ExecuteTime": {
     "end_time": "2022-08-15T07:05:09.122011Z",
     "start_time": "2022-08-15T07:05:09.113002Z"
    }
   },
   "outputs": [],
   "source": [
    "learning_rate = keras.optimizers.schedules.PiecewiseConstantDecay(\n",
    "    boundaries=[5. * n_steps_per_epoch, 15. * n_steps_per_epoch],\n",
    "    values=[0.01, 0.005, 0.001])"
   ]
  },
  {
   "cell_type": "code",
   "execution_count": 76,
   "metadata": {
    "ExecuteTime": {
     "end_time": "2022-08-15T07:05:14.137334Z",
     "start_time": "2022-08-15T07:05:14.104291Z"
    }
   },
   "outputs": [],
   "source": [
    "K = keras.backend\n",
    "\n",
    "class ExponentialLearningRate(keras.callbacks.Callback):\n",
    "    def __init__(self, factor):\n",
    "        self.factor = factor\n",
    "        self.rates = []\n",
    "        self.losses = []\n",
    "    def on_batch_end(self, batch, logs):\n",
    "        self.rates.append(K.get_value(self.model.optimizer.lr))\n",
    "        self.losses.append(logs[\"loss\"])\n",
    "        K.set_value(self.model.optimizer.lr, self.model.optimizer.lr * self.factor)\n",
    "\n",
    "def find_learning_rate(model, X, y, epochs=1, batch_size=32, min_rate=10**-5, max_rate=10):\n",
    "    init_weights = model.get_weights()\n",
    "    iterations = math.ceil(len(X) / batch_size) * epochs\n",
    "    factor = np.exp(np.log(max_rate / min_rate) / iterations)\n",
    "    init_lr = K.get_value(model.optimizer.lr)\n",
    "    K.set_value(model.optimizer.lr, min_rate)\n",
    "    exp_lr = ExponentialLearningRate(factor)\n",
    "    history = model.fit(X, y, epochs=epochs, batch_size=batch_size,\n",
    "                        callbacks=[exp_lr])\n",
    "    K.set_value(model.optimizer.lr, init_lr)\n",
    "    model.set_weights(init_weights)\n",
    "    return exp_lr.rates, exp_lr.losses\n",
    "\n",
    "def plot_lr_vs_loss(rates, losses):\n",
    "    plt.plot(rates, losses)\n",
    "    plt.gca().set_xscale('log')\n",
    "    plt.hlines(min(losses), min(rates), max(rates))\n",
    "    plt.axis([min(rates), max(rates), min(losses), (losses[0] + min(losses)) / 2])\n",
    "    plt.xlabel(\"Learning rate\")\n",
    "    plt.ylabel(\"Loss\")"
   ]
  },
  {
   "cell_type": "code",
   "execution_count": 77,
   "metadata": {
    "ExecuteTime": {
     "end_time": "2022-08-15T07:05:20.820034Z",
     "start_time": "2022-08-15T07:05:20.666132Z"
    }
   },
   "outputs": [],
   "source": [
    "tf.random.set_seed(42)\n",
    "np.random.seed(42)\n",
    "\n",
    "model = keras.models.Sequential([\n",
    "    keras.layers.Flatten(input_shape=[28, 28]),\n",
    "    keras.layers.Dense(300, activation=\"selu\", kernel_initializer=\"lecun_normal\"),\n",
    "    keras.layers.Dense(100, activation=\"selu\", kernel_initializer=\"lecun_normal\"),\n",
    "    keras.layers.Dense(10, activation=\"softmax\")\n",
    "])\n",
    "model.compile(loss=\"sparse_categorical_crossentropy\",\n",
    "              optimizer=keras.optimizers.SGD(learning_rate=1e-3),\n",
    "              metrics=[\"accuracy\"])"
   ]
  },
  {
   "cell_type": "code",
   "execution_count": 78,
   "metadata": {
    "ExecuteTime": {
     "end_time": "2022-08-15T07:05:27.290398Z",
     "start_time": "2022-08-15T07:05:24.505808Z"
    }
   },
   "outputs": [
    {
     "name": "stdout",
     "output_type": "stream",
     "text": [
      "Train on 55000 samples\n",
      "55000/55000 [==============================] - 2s 40us/sample - loss: 436799759473112030906417152.0000 - accuracy: 0.3895\n"
     ]
    },
    {
     "data": {
      "image/png": "[encoded data removed]",
      "text/plain": [
       "<Figure size 432x288 with 1 Axes>"
      ]
     },
     "metadata": {
      "needs_background": "light"
     },
     "output_type": "display_data"
    }
   ],
   "source": [
    "batch_size = 128\n",
    "rates, losses = find_learning_rate(model, X_train_scaled, y_train, epochs=1, batch_size=batch_size)\n",
    "plot_lr_vs_loss(rates, losses)"
   ]
  },
  {
   "cell_type": "code",
   "execution_count": 79,
   "metadata": {
    "ExecuteTime": {
     "end_time": "2022-08-15T07:06:11.734824Z",
     "start_time": "2022-08-15T07:06:11.708699Z"
    }
   },
   "outputs": [],
   "source": [
    "class OneCycleScheduler(keras.callbacks.Callback):\n",
    "    def __init__(self, iterations, max_rate, start_rate=None,\n",
    "                 last_iterations=None, last_rate=None):\n",
    "        self.iterations = iterations\n",
    "        self.max_rate = max_rate\n",
    "        self.start_rate = start_rate or max_rate / 10\n",
    "        self.last_iterations = last_iterations or iterations // 10 + 1\n",
    "        self.half_iteration = (iterations - self.last_iterations) // 2\n",
    "        self.last_rate = last_rate or self.start_rate / 1000\n",
    "        self.iteration = 0\n",
    "    def _interpolate(self, iter1, iter2, rate1, rate2):\n",
    "        return ((rate2 - rate1) * (self.iteration - iter1)\n",
    "                / (iter2 - iter1) + rate1)\n",
    "    def on_batch_begin(self, batch, logs):\n",
    "        if self.iteration < self.half_iteration:\n",
    "            rate = self._interpolate(0, self.half_iteration, self.start_rate, self.max_rate)\n",
    "        elif self.iteration < 2 * self.half_iteration:\n",
    "            rate = self._interpolate(self.half_iteration, 2 * self.half_iteration,\n",
    "                                     self.max_rate, self.start_rate)\n",
    "        else:\n",
    "            rate = self._interpolate(2 * self.half_iteration, self.iterations,\n",
    "                                     self.start_rate, self.last_rate)\n",
    "        self.iteration += 1\n",
    "        K.set_value(self.model.optimizer.lr, rate)"
   ]
  },
  {
   "cell_type": "code",
   "execution_count": 80,
   "metadata": {
    "ExecuteTime": {
     "end_time": "2022-08-15T07:07:00.489373Z",
     "start_time": "2022-08-15T07:06:15.937313Z"
    }
   },
   "outputs": [
    {
     "name": "stdout",
     "output_type": "stream",
     "text": [
      "Train on 55000 samples, validate on 5000 samples\n",
      "Epoch 1/25\n",
      "55000/55000 [==============================] - 2s 36us/sample - loss: 0.6570 - accuracy: 0.7749 - val_loss: 0.4876 - val_accuracy: 0.8300\n",
      "Epoch 2/25\n",
      "55000/55000 [==============================] - 2s 32us/sample - loss: 0.4585 - accuracy: 0.8390 - val_loss: 0.4392 - val_accuracy: 0.8474\n",
      "Epoch 3/25\n",
      "55000/55000 [==============================] - 2s 32us/sample - loss: 0.4125 - accuracy: 0.8541 - val_loss: 0.4103 - val_accuracy: 0.8574\n",
      "Epoch 4/25\n",
      "55000/55000 [==============================] - 2s 32us/sample - loss: 0.3842 - accuracy: 0.8645 - val_loss: 0.3890 - val_accuracy: 0.8654\n",
      "Epoch 5/25\n",
      "55000/55000 [==============================] - 2s 32us/sample - loss: 0.3640 - accuracy: 0.8707 - val_loss: 0.3732 - val_accuracy: 0.8690\n",
      "Epoch 6/25\n",
      "55000/55000 [==============================] - 2s 32us/sample - loss: 0.3456 - accuracy: 0.8778 - val_loss: 0.3649 - val_accuracy: 0.8726\n",
      "Epoch 7/25\n",
      "55000/55000 [==============================] - 2s 32us/sample - loss: 0.3319 - accuracy: 0.8817 - val_loss: 0.3595 - val_accuracy: 0.8768\n",
      "Epoch 8/25\n",
      "55000/55000 [==============================] - 2s 32us/sample - loss: 0.3182 - accuracy: 0.8861 - val_loss: 0.3846 - val_accuracy: 0.8598\n",
      "Epoch 9/25\n",
      "55000/55000 [==============================] - 2s 32us/sample - loss: 0.3063 - accuracy: 0.8892 - val_loss: 0.3828 - val_accuracy: 0.8650\n",
      "Epoch 10/25\n",
      "55000/55000 [==============================] - 2s 32us/sample - loss: 0.2939 - accuracy: 0.8933 - val_loss: 0.3512 - val_accuracy: 0.8776\n",
      "Epoch 11/25\n",
      "55000/55000 [==============================] - 2s 32us/sample - loss: 0.2839 - accuracy: 0.8972 - val_loss: 0.3612 - val_accuracy: 0.8754\n",
      "Epoch 12/25\n",
      "55000/55000 [==============================] - 2s 32us/sample - loss: 0.2711 - accuracy: 0.9024 - val_loss: 0.3841 - val_accuracy: 0.8652\n",
      "Epoch 13/25\n",
      "55000/55000 [==============================] - 2s 32us/sample - loss: 0.2543 - accuracy: 0.9089 - val_loss: 0.3278 - val_accuracy: 0.8852\n",
      "Epoch 14/25\n",
      "55000/55000 [==============================] - 2s 32us/sample - loss: 0.2390 - accuracy: 0.9133 - val_loss: 0.3345 - val_accuracy: 0.8828\n",
      "Epoch 15/25\n",
      "55000/55000 [==============================] - 2s 32us/sample - loss: 0.2273 - accuracy: 0.9182 - val_loss: 0.3291 - val_accuracy: 0.8880\n",
      "Epoch 16/25\n",
      "55000/55000 [==============================] - 2s 32us/sample - loss: 0.2155 - accuracy: 0.9232 - val_loss: 0.3279 - val_accuracy: 0.8866\n",
      "Epoch 17/25\n",
      "55000/55000 [==============================] - 2s 32us/sample - loss: 0.2060 - accuracy: 0.9266 - val_loss: 0.3210 - val_accuracy: 0.8898\n",
      "Epoch 18/25\n",
      "55000/55000 [==============================] - 2s 32us/sample - loss: 0.1970 - accuracy: 0.9305 - val_loss: 0.3283 - val_accuracy: 0.8918\n",
      "Epoch 19/25\n",
      "55000/55000 [==============================] - 2s 32us/sample - loss: 0.1890 - accuracy: 0.9347 - val_loss: 0.3224 - val_accuracy: 0.8906\n",
      "Epoch 20/25\n",
      "55000/55000 [==============================] - 2s 32us/sample - loss: 0.1819 - accuracy: 0.9366 - val_loss: 0.3197 - val_accuracy: 0.8914\n",
      "Epoch 21/25\n",
      "55000/55000 [==============================] - 2s 32us/sample - loss: 0.1755 - accuracy: 0.9389 - val_loss: 0.3184 - val_accuracy: 0.8938\n",
      "Epoch 22/25\n",
      "55000/55000 [==============================] - 2s 32us/sample - loss: 0.1696 - accuracy: 0.9422 - val_loss: 0.3220 - val_accuracy: 0.8902\n",
      "Epoch 23/25\n",
      "55000/55000 [==============================] - 2s 32us/sample - loss: 0.1654 - accuracy: 0.9442 - val_loss: 0.3173 - val_accuracy: 0.8940\n",
      "Epoch 24/25\n",
      "55000/55000 [==============================] - 2s 32us/sample - loss: 0.1626 - accuracy: 0.9458 - val_loss: 0.3162 - val_accuracy: 0.8958\n",
      "Epoch 25/25\n",
      "55000/55000 [==============================] - 2s 32us/sample - loss: 0.1605 - accuracy: 0.9467 - val_loss: 0.3168 - val_accuracy: 0.8940\n"
     ]
    }
   ],
   "source": [
    "n_epochs = 25\n",
    "onecycle = OneCycleScheduler(math.ceil(len(X_train) / batch_size) * n_epochs, max_rate=0.05)\n",
    "history = model.fit(X_train_scaled, y_train, epochs=n_epochs, batch_size=batch_size,\n",
    "                    validation_data=(X_valid_scaled, y_valid),\n",
    "                    callbacks=[onecycle])"
   ]
  },
  {
   "cell_type": "markdown",
   "metadata": {},
   "source": [
    "# 규제를 사용해 과대적합 피하기"
   ]
  },
  {
   "cell_type": "markdown",
   "metadata": {},
   "source": [
    "## $l_1$과 $l_2$ 규제"
   ]
  },
  {
   "cell_type": "code",
   "execution_count": 81,
   "metadata": {
    "ExecuteTime": {
     "end_time": "2022-08-15T07:09:23.720487Z",
     "start_time": "2022-08-15T07:09:23.709405Z"
    }
   },
   "outputs": [],
   "source": [
    "layer = keras.layers.Dense(100, activation = 'elu', \n",
    "                           kernel_initializer = 'he_normal', \n",
    "                           kernel_regularizer = keras.regularizers.l2(0.01))"
   ]
  },
  {
   "cell_type": "code",
   "execution_count": 82,
   "metadata": {
    "ExecuteTime": {
     "end_time": "2022-08-15T07:11:55.448749Z",
     "start_time": "2022-08-15T07:11:43.325097Z"
    }
   },
   "outputs": [
    {
     "name": "stdout",
     "output_type": "stream",
     "text": [
      "Train on 55000 samples, validate on 5000 samples\n",
      "Epoch 1/2\n",
      "55000/55000 [==============================] - 6s 115us/sample - loss: 1.5895 - accuracy: 0.8103 - val_loss: 0.7553 - val_accuracy: 0.8096\n",
      "Epoch 2/2\n",
      "55000/55000 [==============================] - 5s 99us/sample - loss: 0.7184 - accuracy: 0.8264 - val_loss: 0.7178 - val_accuracy: 0.8222\n"
     ]
    }
   ],
   "source": [
    "model = keras.models.Sequential([\n",
    "    keras.layers.Flatten(input_shape=[28, 28]),\n",
    "    keras.layers.Dense(300, activation=\"elu\",\n",
    "                       kernel_initializer=\"he_normal\",\n",
    "                       kernel_regularizer=keras.regularizers.l2(0.01)),\n",
    "    keras.layers.Dense(100, activation=\"elu\",\n",
    "                       kernel_initializer=\"he_normal\",\n",
    "                       kernel_regularizer=keras.regularizers.l2(0.01)),\n",
    "    keras.layers.Dense(10, activation=\"softmax\",\n",
    "                       kernel_regularizer=keras.regularizers.l2(0.01))\n",
    "])\n",
    "model.compile(loss=\"sparse_categorical_crossentropy\", optimizer=\"nadam\", metrics=[\"accuracy\"])\n",
    "n_epochs = 2\n",
    "history = model.fit(X_train_scaled, y_train, epochs=n_epochs,\n",
    "                    validation_data=(X_valid_scaled, y_valid))"
   ]
  },
  {
   "cell_type": "markdown",
   "metadata": {},
   "source": [
    "일반적으로 네트워크의 모든 은닉층에 동일한 활성화 함수, 동일한 초기화 전략을 사용하거나 모든 층에 동일한 규제를 적용하기 때문에 동일한 매개변수 값을 반복하는 경우가 많다. 이는 코드를 읽기 어렵게 만들고 버그를 만들기 쉽다. 이를 피하기 위해 반복문을 사용하도록 코드를 리팩터링 할 수 있다. 또 다른 방법은 파이썬의 `functools.partial()`을 사용하여 기본 매개변수 값을 사용하여 함수 호출을 감싸는 것이다."
   ]
  },
  {
   "cell_type": "code",
   "execution_count": 84,
   "metadata": {
    "ExecuteTime": {
     "end_time": "2022-08-15T07:15:14.540904Z",
     "start_time": "2022-08-15T07:15:02.257387Z"
    }
   },
   "outputs": [
    {
     "name": "stdout",
     "output_type": "stream",
     "text": [
      "Train on 55000 samples, validate on 5000 samples\n",
      "Epoch 1/2\n",
      "55000/55000 [==============================] - 6s 118us/sample - loss: 1.6418 - accuracy: 0.8107 - val_loss: 0.7600 - val_accuracy: 0.8068\n",
      "Epoch 2/2\n",
      "55000/55000 [==============================] - 5s 99us/sample - loss: 0.7197 - accuracy: 0.8262 - val_loss: 0.7175 - val_accuracy: 0.8254\n"
     ]
    }
   ],
   "source": [
    "from functools import partial\n",
    "\n",
    "RegularizedDense = partial(keras.layers.Dense, \n",
    "                           activation = 'elu', \n",
    "                           kernel_initializer = 'he_normal',\n",
    "                           kernel_regularizer = keras.regularizers.l2(0.01))\n",
    "\n",
    "model = keras.models.Sequential([\n",
    "    keras.layers.Flatten(input_shape = [28, 28]),\n",
    "    RegularizedDense(300),\n",
    "    RegularizedDense(100),\n",
    "    RegularizedDense(10, activation = 'softmax')\n",
    "])\n",
    "\n",
    "model.compile(loss = 'sparse_categorical_crossentropy', optimizer = 'nadam', metrics = ['accuracy'])\n",
    "n_epochs = 2\n",
    "history = model.fit(X_train_scaled, y_train, epochs = n_epochs,\n",
    "                    validation_data = (X_valid_scaled, y_valid))"
   ]
  },
  {
   "cell_type": "markdown",
   "metadata": {},
   "source": [
    "## 드롭아웃"
   ]
  },
  {
   "cell_type": "markdown",
   "metadata": {},
   "source": [
    "심층 신경망에서 가장 인기있는 규제 방법 중 하나이다. 매 훈련 스텝에서 각 뉴런(입력 뉴런은 포함하고 출력 뉴런은 제외)은 임시적으로 드롭아웃될 확률 $p$를 가진다. 즉, 이번 훈련 스텝에서는 완전히 무시되고 다음 스텝에서는 활성화될 수 있다. $p$를 드롭아웃 비율이라고 하고 보통 10%에서 50%의 값을 가진다. 순환 신경망에서는 2\\~30%에 가깝고, 합성곱 신경망에서는 4\\~50%에 가깝다. 훈련이 끝난 후에는 뉴런에 더는 드롭아웃을 적용하지 않는다. "
   ]
  },
  {
   "cell_type": "code",
   "execution_count": 85,
   "metadata": {
    "ExecuteTime": {
     "end_time": "2022-08-15T07:18:49.757414Z",
     "start_time": "2022-08-15T07:18:36.706973Z"
    }
   },
   "outputs": [
    {
     "name": "stdout",
     "output_type": "stream",
     "text": [
      "Train on 55000 samples, validate on 5000 samples\n",
      "Epoch 1/2\n",
      "55000/55000 [==============================] - 7s 122us/sample - loss: 0.5765 - accuracy: 0.8004 - val_loss: 0.3741 - val_accuracy: 0.8642\n",
      "Epoch 2/2\n",
      "55000/55000 [==============================] - 6s 108us/sample - loss: 0.4243 - accuracy: 0.8441 - val_loss: 0.3643 - val_accuracy: 0.8612\n"
     ]
    }
   ],
   "source": [
    "model = keras.models.Sequential([\n",
    "    keras.layers.Flatten(input_shape=[28, 28]),\n",
    "    keras.layers.Dropout(rate=0.2),\n",
    "    keras.layers.Dense(300, activation=\"elu\", kernel_initializer=\"he_normal\"),\n",
    "    keras.layers.Dropout(rate=0.2),\n",
    "    keras.layers.Dense(100, activation=\"elu\", kernel_initializer=\"he_normal\"),\n",
    "    keras.layers.Dropout(rate=0.2),\n",
    "    keras.layers.Dense(10, activation=\"softmax\")\n",
    "])\n",
    "model.compile(loss=\"sparse_categorical_crossentropy\", optimizer=\"nadam\", metrics=[\"accuracy\"])\n",
    "n_epochs = 2\n",
    "history = model.fit(X_train_scaled, y_train, epochs=n_epochs,\n",
    "                    validation_data=(X_valid_scaled, y_valid))"
   ]
  },
  {
   "cell_type": "markdown",
   "metadata": {},
   "source": [
    "**알파 드롭아웃**\n",
    "\n",
    "SELU 활성화 함수를 기반으로 자기 정규화하는 네트워크를 규제하고 싶을 때는 알파 드롭아웃을 사용해야 한다. 일반 드롭아웃이 자기 정규화하는 기능을 망가뜨릴 수 있기 때문이다."
   ]
  },
  {
   "cell_type": "code",
   "execution_count": 86,
   "metadata": {
    "ExecuteTime": {
     "end_time": "2022-08-15T07:23:02.820485Z",
     "start_time": "2022-08-15T07:21:08.381512Z"
    }
   },
   "outputs": [
    {
     "name": "stdout",
     "output_type": "stream",
     "text": [
      "Train on 55000 samples, validate on 5000 samples\n",
      "Epoch 1/20\n",
      "55000/55000 [==============================] - 6s 114us/sample - loss: 0.6628 - accuracy: 0.7608 - val_loss: 0.5845 - val_accuracy: 0.8404\n",
      "Epoch 2/20\n",
      "55000/55000 [==============================] - 6s 103us/sample - loss: 0.5567 - accuracy: 0.7965 - val_loss: 0.5322 - val_accuracy: 0.8470\n",
      "Epoch 3/20\n",
      "55000/55000 [==============================] - 6s 101us/sample - loss: 0.5241 - accuracy: 0.8049 - val_loss: 0.5379 - val_accuracy: 0.8504\n",
      "Epoch 4/20\n",
      "55000/55000 [==============================] - 6s 103us/sample - loss: 0.5078 - accuracy: 0.8133 - val_loss: 0.4733 - val_accuracy: 0.8624\n",
      "Epoch 5/20\n",
      "55000/55000 [==============================] - 6s 102us/sample - loss: 0.4950 - accuracy: 0.8173 - val_loss: 0.4753 - val_accuracy: 0.8592\n",
      "Epoch 6/20\n",
      "55000/55000 [==============================] - 6s 103us/sample - loss: 0.4808 - accuracy: 0.8224 - val_loss: 0.4501 - val_accuracy: 0.8658\n",
      "Epoch 7/20\n",
      "55000/55000 [==============================] - 6s 101us/sample - loss: 0.4695 - accuracy: 0.8254 - val_loss: 0.4960 - val_accuracy: 0.8654\n",
      "Epoch 8/20\n",
      "55000/55000 [==============================] - 6s 104us/sample - loss: 0.4640 - accuracy: 0.8294 - val_loss: 0.4348 - val_accuracy: 0.8692\n",
      "Epoch 9/20\n",
      "55000/55000 [==============================] - 6s 103us/sample - loss: 0.4599 - accuracy: 0.8311 - val_loss: 0.4787 - val_accuracy: 0.8652\n",
      "Epoch 10/20\n",
      "55000/55000 [==============================] - 6s 103us/sample - loss: 0.4512 - accuracy: 0.8329 - val_loss: 0.3976 - val_accuracy: 0.8764\n",
      "Epoch 11/20\n",
      "55000/55000 [==============================] - 6s 103us/sample - loss: 0.4480 - accuracy: 0.8348 - val_loss: 0.4706 - val_accuracy: 0.8648\n",
      "Epoch 12/20\n",
      "55000/55000 [==============================] - 6s 103us/sample - loss: 0.4435 - accuracy: 0.8351 - val_loss: 0.4551 - val_accuracy: 0.8678\n",
      "Epoch 13/20\n",
      "55000/55000 [==============================] - 6s 105us/sample - loss: 0.4419 - accuracy: 0.8368 - val_loss: 0.4038 - val_accuracy: 0.8770\n",
      "Epoch 14/20\n",
      "55000/55000 [==============================] - 6s 103us/sample - loss: 0.4321 - accuracy: 0.8395 - val_loss: 0.4042 - val_accuracy: 0.8792\n",
      "Epoch 15/20\n",
      "55000/55000 [==============================] - 6s 103us/sample - loss: 0.4336 - accuracy: 0.8388 - val_loss: 0.4356 - val_accuracy: 0.8708\n",
      "Epoch 16/20\n",
      "55000/55000 [==============================] - 6s 106us/sample - loss: 0.4301 - accuracy: 0.8409 - val_loss: 0.4817 - val_accuracy: 0.8656\n",
      "Epoch 17/20\n",
      "55000/55000 [==============================] - 6s 101us/sample - loss: 0.4251 - accuracy: 0.8423 - val_loss: 0.5260 - val_accuracy: 0.8720\n",
      "Epoch 18/20\n",
      "55000/55000 [==============================] - 6s 103us/sample - loss: 0.4250 - accuracy: 0.8426 - val_loss: 0.4188 - val_accuracy: 0.8802\n",
      "Epoch 19/20\n",
      "55000/55000 [==============================] - 6s 103us/sample - loss: 0.4257 - accuracy: 0.8408 - val_loss: 0.5187 - val_accuracy: 0.8686\n",
      "Epoch 20/20\n",
      "55000/55000 [==============================] - 6s 104us/sample - loss: 0.4190 - accuracy: 0.8447 - val_loss: 0.4198 - val_accuracy: 0.8828\n"
     ]
    }
   ],
   "source": [
    "tf.random.set_seed(42)\n",
    "np.random.seed(42)\n",
    "model = keras.models.Sequential([\n",
    "    keras.layers.Flatten(input_shape=[28, 28]),\n",
    "    keras.layers.AlphaDropout(rate=0.2),\n",
    "    keras.layers.Dense(300, activation=\"selu\", kernel_initializer=\"lecun_normal\"),\n",
    "    keras.layers.AlphaDropout(rate=0.2),\n",
    "    keras.layers.Dense(100, activation=\"selu\", kernel_initializer=\"lecun_normal\"),\n",
    "    keras.layers.AlphaDropout(rate=0.2),\n",
    "    keras.layers.Dense(10, activation=\"softmax\")\n",
    "])\n",
    "optimizer = keras.optimizers.SGD(learning_rate=0.01, momentum=0.9, nesterov=True)\n",
    "model.compile(loss=\"sparse_categorical_crossentropy\", optimizer=optimizer, metrics=[\"accuracy\"])\n",
    "n_epochs = 20\n",
    "history = model.fit(X_train_scaled, y_train, epochs=n_epochs,\n",
    "                    validation_data=(X_valid_scaled, y_valid))"
   ]
  },
  {
   "cell_type": "markdown",
   "metadata": {},
   "source": [
    "## 몬테카를로 드롭아웃"
   ]
  },
  {
   "cell_type": "markdown",
   "metadata": {},
   "source": [
    "드롭 아웃을 끄고 MNIST 테스트 세트에 있는 샘플을 예측하는 경우 거의 확실하게 앵클 부츠라고 확신한다. "
   ]
  },
  {
   "cell_type": "code",
   "execution_count": 87,
   "metadata": {
    "ExecuteTime": {
     "end_time": "2022-08-15T07:24:06.569305Z",
     "start_time": "2022-08-15T07:23:52.684555Z"
    }
   },
   "outputs": [
    {
     "name": "stdout",
     "output_type": "stream",
     "text": [
      "WARNING:tensorflow:Layer flatten_21 is casting an input tensor from dtype float64 to the layer's dtype of float32, which is new behavior in TensorFlow 2.  The layer has dtype float32 because it's dtype defaults to floatx.\n",
      "\n",
      "If you intended to run this layer in float32, you can safely ignore this warning. If in doubt, this warning is likely only an issue if you are porting a TensorFlow 1.X model to TensorFlow 2.\n",
      "\n",
      "To change all layers to have dtype float64 by default, call `tf.keras.backend.set_floatx('float64')`. To change just this layer, pass dtype='float64' to the layer constructor. If you are the author of this layer, you can disable autocasting by passing autocast=False to the base Layer constructor.\n",
      "\n"
     ]
    },
    {
     "data": {
      "text/plain": [
       "array([[0.  , 0.  , 0.  , 0.  , 0.  , 0.  , 0.  , 0.01, 0.  , 0.99]],\n",
       "      dtype=float32)"
      ]
     },
     "execution_count": 87,
     "metadata": {},
     "output_type": "execute_result"
    }
   ],
   "source": [
    "tf.random.set_seed(42)\n",
    "np.random.seed(42)\n",
    "y_probas = np.stack([model(X_test_scaled, training=True)\n",
    "                     for sample in range(100)])\n",
    "y_proba = y_probas.mean(axis=0)\n",
    "y_std = y_probas.std(axis=0)\n",
    "np.round(model.predict(X_test_scaled[:1]), 2)"
   ]
  },
  {
   "cell_type": "markdown",
   "metadata": {},
   "source": [
    "드롭아웃을 활성화하여 예측한 경우 위의 모델에 비해 더 이상 확신하지 않는다. 여전히 앵글 부츠를 선호하지만 클래스 5(샌들)이나 클래스 7(스니커즈)로도 생각한다. 모두 신발이라는 공통점이 있다."
   ]
  },
  {
   "cell_type": "code",
   "execution_count": 88,
   "metadata": {
    "ExecuteTime": {
     "end_time": "2022-08-15T07:25:33.506753Z",
     "start_time": "2022-08-15T07:25:33.468361Z"
    }
   },
   "outputs": [
    {
     "data": {
      "text/plain": [
       "array([[[0.  , 0.  , 0.  , 0.  , 0.  , 0.03, 0.  , 0.28, 0.  , 0.69]],\n",
       "\n",
       "       [[0.  , 0.  , 0.  , 0.  , 0.  , 0.02, 0.  , 0.08, 0.  , 0.9 ]],\n",
       "\n",
       "       [[0.  , 0.  , 0.  , 0.  , 0.  , 0.19, 0.  , 0.01, 0.  , 0.81]],\n",
       "\n",
       "       [[0.  , 0.  , 0.  , 0.  , 0.  , 0.  , 0.  , 0.06, 0.  , 0.93]],\n",
       "\n",
       "       [[0.  , 0.  , 0.  , 0.  , 0.  , 0.01, 0.  , 0.35, 0.  , 0.63]],\n",
       "\n",
       "       [[0.  , 0.  , 0.  , 0.  , 0.  , 0.02, 0.  , 0.54, 0.  , 0.45]],\n",
       "\n",
       "       [[0.  , 0.  , 0.  , 0.  , 0.  , 0.11, 0.  , 0.17, 0.  , 0.72]],\n",
       "\n",
       "       [[0.  , 0.  , 0.  , 0.  , 0.  , 0.01, 0.  , 0.25, 0.  , 0.74]],\n",
       "\n",
       "       [[0.  , 0.  , 0.  , 0.  , 0.  , 0.41, 0.  , 0.02, 0.  , 0.57]],\n",
       "\n",
       "       [[0.  , 0.  , 0.  , 0.  , 0.  , 0.  , 0.  , 0.01, 0.  , 0.98]],\n",
       "\n",
       "       [[0.  , 0.  , 0.  , 0.  , 0.  , 0.44, 0.  , 0.14, 0.  , 0.42]],\n",
       "\n",
       "       [[0.  , 0.  , 0.  , 0.  , 0.  , 0.09, 0.  , 0.17, 0.  , 0.73]],\n",
       "\n",
       "       [[0.  , 0.  , 0.  , 0.  , 0.  , 0.14, 0.  , 0.22, 0.  , 0.64]],\n",
       "\n",
       "       [[0.  , 0.  , 0.  , 0.  , 0.  , 0.32, 0.  , 0.24, 0.  , 0.44]],\n",
       "\n",
       "       [[0.  , 0.  , 0.  , 0.  , 0.  , 0.2 , 0.  , 0.06, 0.  , 0.74]],\n",
       "\n",
       "       [[0.  , 0.  , 0.  , 0.  , 0.  , 0.1 , 0.  , 0.34, 0.  , 0.56]],\n",
       "\n",
       "       [[0.  , 0.  , 0.  , 0.  , 0.  , 0.02, 0.  , 0.  , 0.  , 0.98]],\n",
       "\n",
       "       [[0.  , 0.  , 0.  , 0.  , 0.  , 0.08, 0.  , 0.05, 0.  , 0.87]],\n",
       "\n",
       "       [[0.  , 0.  , 0.  , 0.  , 0.  , 0.  , 0.  , 0.3 , 0.  , 0.7 ]],\n",
       "\n",
       "       [[0.  , 0.  , 0.  , 0.  , 0.  , 0.03, 0.  , 0.03, 0.  , 0.94]],\n",
       "\n",
       "       [[0.  , 0.  , 0.  , 0.  , 0.  , 0.29, 0.  , 0.01, 0.  , 0.7 ]],\n",
       "\n",
       "       [[0.  , 0.  , 0.  , 0.  , 0.  , 0.52, 0.  , 0.13, 0.  , 0.35]],\n",
       "\n",
       "       [[0.  , 0.  , 0.  , 0.  , 0.  , 0.02, 0.  , 0.11, 0.  , 0.87]],\n",
       "\n",
       "       [[0.  , 0.  , 0.  , 0.  , 0.  , 0.01, 0.  , 0.13, 0.  , 0.86]],\n",
       "\n",
       "       [[0.  , 0.  , 0.  , 0.  , 0.  , 0.01, 0.  , 0.08, 0.  , 0.91]],\n",
       "\n",
       "       [[0.  , 0.  , 0.  , 0.  , 0.  , 0.03, 0.  , 0.59, 0.  , 0.39]],\n",
       "\n",
       "       [[0.  , 0.  , 0.  , 0.  , 0.  , 0.06, 0.  , 0.07, 0.  , 0.87]],\n",
       "\n",
       "       [[0.  , 0.  , 0.  , 0.  , 0.  , 0.04, 0.  , 0.07, 0.  , 0.9 ]],\n",
       "\n",
       "       [[0.  , 0.  , 0.  , 0.  , 0.  , 0.22, 0.  , 0.18, 0.  , 0.6 ]],\n",
       "\n",
       "       [[0.  , 0.  , 0.  , 0.  , 0.  , 0.3 , 0.  , 0.48, 0.02, 0.2 ]],\n",
       "\n",
       "       [[0.  , 0.  , 0.  , 0.  , 0.  , 0.07, 0.  , 0.02, 0.  , 0.91]],\n",
       "\n",
       "       [[0.  , 0.  , 0.  , 0.  , 0.  , 0.1 , 0.  , 0.01, 0.  , 0.89]],\n",
       "\n",
       "       [[0.  , 0.  , 0.  , 0.  , 0.  , 0.39, 0.  , 0.02, 0.  , 0.59]],\n",
       "\n",
       "       [[0.  , 0.  , 0.  , 0.  , 0.  , 0.44, 0.  , 0.2 , 0.03, 0.34]],\n",
       "\n",
       "       [[0.  , 0.  , 0.  , 0.  , 0.  , 0.1 , 0.  , 0.54, 0.  , 0.36]],\n",
       "\n",
       "       [[0.  , 0.  , 0.  , 0.  , 0.  , 0.02, 0.  , 0.62, 0.  , 0.36]],\n",
       "\n",
       "       [[0.  , 0.  , 0.  , 0.  , 0.  , 0.  , 0.  , 0.03, 0.  , 0.97]],\n",
       "\n",
       "       [[0.  , 0.  , 0.  , 0.  , 0.  , 0.06, 0.  , 0.15, 0.  , 0.78]],\n",
       "\n",
       "       [[0.  , 0.  , 0.  , 0.  , 0.  , 0.04, 0.  , 0.66, 0.  , 0.3 ]],\n",
       "\n",
       "       [[0.  , 0.  , 0.  , 0.  , 0.  , 0.39, 0.  , 0.04, 0.  , 0.57]],\n",
       "\n",
       "       [[0.  , 0.  , 0.  , 0.  , 0.  , 0.03, 0.  , 0.09, 0.  , 0.87]],\n",
       "\n",
       "       [[0.  , 0.  , 0.  , 0.  , 0.  , 0.02, 0.  , 0.02, 0.  , 0.96]],\n",
       "\n",
       "       [[0.  , 0.  , 0.  , 0.  , 0.  , 0.31, 0.  , 0.56, 0.  , 0.13]],\n",
       "\n",
       "       [[0.  , 0.  , 0.  , 0.  , 0.  , 0.09, 0.  , 0.02, 0.  , 0.89]],\n",
       "\n",
       "       [[0.  , 0.  , 0.  , 0.  , 0.  , 0.01, 0.  , 0.11, 0.  , 0.88]],\n",
       "\n",
       "       [[0.  , 0.  , 0.  , 0.  , 0.  , 0.01, 0.  , 0.02, 0.  , 0.97]],\n",
       "\n",
       "       [[0.  , 0.  , 0.  , 0.  , 0.  , 0.14, 0.  , 0.44, 0.01, 0.4 ]],\n",
       "\n",
       "       [[0.  , 0.  , 0.  , 0.  , 0.  , 0.03, 0.  , 0.09, 0.  , 0.88]],\n",
       "\n",
       "       [[0.  , 0.  , 0.  , 0.  , 0.  , 0.02, 0.  , 0.27, 0.  , 0.7 ]],\n",
       "\n",
       "       [[0.  , 0.  , 0.  , 0.  , 0.  , 0.1 , 0.  , 0.12, 0.  , 0.78]],\n",
       "\n",
       "       [[0.  , 0.  , 0.  , 0.  , 0.  , 0.7 , 0.  , 0.02, 0.  , 0.28]],\n",
       "\n",
       "       [[0.  , 0.  , 0.  , 0.  , 0.  , 0.9 , 0.  , 0.04, 0.  , 0.05]],\n",
       "\n",
       "       [[0.  , 0.  , 0.  , 0.  , 0.  , 0.  , 0.  , 0.03, 0.  , 0.97]],\n",
       "\n",
       "       [[0.  , 0.  , 0.  , 0.  , 0.  , 0.03, 0.  , 0.17, 0.  , 0.8 ]],\n",
       "\n",
       "       [[0.  , 0.  , 0.  , 0.  , 0.  , 0.46, 0.  , 0.01, 0.  , 0.54]],\n",
       "\n",
       "       [[0.  , 0.  , 0.  , 0.  , 0.  , 0.  , 0.  , 0.04, 0.  , 0.96]],\n",
       "\n",
       "       [[0.  , 0.  , 0.  , 0.  , 0.  , 0.  , 0.  , 0.12, 0.  , 0.88]],\n",
       "\n",
       "       [[0.  , 0.  , 0.  , 0.  , 0.  , 0.06, 0.  , 0.22, 0.  , 0.72]],\n",
       "\n",
       "       [[0.  , 0.  , 0.  , 0.  , 0.  , 0.87, 0.  , 0.03, 0.  , 0.1 ]],\n",
       "\n",
       "       [[0.  , 0.  , 0.  , 0.  , 0.  , 0.04, 0.  , 0.04, 0.  , 0.93]],\n",
       "\n",
       "       [[0.  , 0.  , 0.  , 0.  , 0.  , 0.11, 0.  , 0.11, 0.  , 0.78]],\n",
       "\n",
       "       [[0.  , 0.  , 0.  , 0.  , 0.  , 0.01, 0.  , 0.02, 0.  , 0.97]],\n",
       "\n",
       "       [[0.  , 0.  , 0.  , 0.  , 0.  , 0.07, 0.  , 0.09, 0.  , 0.84]],\n",
       "\n",
       "       [[0.  , 0.  , 0.  , 0.  , 0.  , 0.04, 0.  , 0.03, 0.  , 0.94]],\n",
       "\n",
       "       [[0.  , 0.  , 0.  , 0.  , 0.  , 0.07, 0.  , 0.05, 0.  , 0.88]],\n",
       "\n",
       "       [[0.  , 0.  , 0.  , 0.  , 0.  , 0.21, 0.  , 0.38, 0.  , 0.41]],\n",
       "\n",
       "       [[0.  , 0.  , 0.  , 0.  , 0.  , 0.09, 0.  , 0.17, 0.  , 0.74]],\n",
       "\n",
       "       [[0.  , 0.  , 0.  , 0.  , 0.  , 0.  , 0.  , 0.04, 0.  , 0.95]],\n",
       "\n",
       "       [[0.  , 0.  , 0.  , 0.  , 0.  , 0.15, 0.  , 0.05, 0.  , 0.8 ]],\n",
       "\n",
       "       [[0.  , 0.  , 0.  , 0.  , 0.  , 0.08, 0.  , 0.14, 0.  , 0.78]],\n",
       "\n",
       "       [[0.  , 0.  , 0.  , 0.  , 0.  , 0.  , 0.  , 0.06, 0.  , 0.94]],\n",
       "\n",
       "       [[0.  , 0.  , 0.  , 0.  , 0.  , 0.01, 0.  , 0.07, 0.  , 0.93]],\n",
       "\n",
       "       [[0.  , 0.  , 0.  , 0.  , 0.  , 0.1 , 0.  , 0.2 , 0.  , 0.7 ]],\n",
       "\n",
       "       [[0.  , 0.  , 0.  , 0.  , 0.  , 0.01, 0.  , 0.12, 0.  , 0.87]],\n",
       "\n",
       "       [[0.  , 0.  , 0.  , 0.  , 0.  , 0.06, 0.  , 0.03, 0.  , 0.91]],\n",
       "\n",
       "       [[0.  , 0.  , 0.  , 0.  , 0.  , 0.01, 0.  , 0.05, 0.  , 0.94]],\n",
       "\n",
       "       [[0.  , 0.  , 0.  , 0.  , 0.  , 0.03, 0.  , 0.15, 0.  , 0.82]],\n",
       "\n",
       "       [[0.  , 0.  , 0.  , 0.  , 0.  , 0.01, 0.  , 0.48, 0.  , 0.51]],\n",
       "\n",
       "       [[0.  , 0.  , 0.  , 0.  , 0.  , 0.06, 0.  , 0.14, 0.  , 0.8 ]],\n",
       "\n",
       "       [[0.  , 0.  , 0.  , 0.  , 0.  , 0.09, 0.  , 0.01, 0.  , 0.9 ]],\n",
       "\n",
       "       [[0.  , 0.  , 0.  , 0.  , 0.  , 0.03, 0.  , 0.26, 0.  , 0.72]],\n",
       "\n",
       "       [[0.  , 0.  , 0.  , 0.  , 0.  , 0.39, 0.  , 0.01, 0.  , 0.6 ]],\n",
       "\n",
       "       [[0.  , 0.  , 0.  , 0.  , 0.  , 0.01, 0.  , 0.  , 0.  , 0.98]],\n",
       "\n",
       "       [[0.  , 0.  , 0.  , 0.  , 0.  , 0.08, 0.  , 0.09, 0.  , 0.83]],\n",
       "\n",
       "       [[0.  , 0.  , 0.  , 0.  , 0.  , 0.1 , 0.  , 0.31, 0.  , 0.6 ]],\n",
       "\n",
       "       [[0.  , 0.  , 0.  , 0.  , 0.  , 0.67, 0.  , 0.12, 0.  , 0.21]],\n",
       "\n",
       "       [[0.  , 0.  , 0.  , 0.  , 0.  , 0.89, 0.  , 0.  , 0.  , 0.11]],\n",
       "\n",
       "       [[0.  , 0.  , 0.  , 0.  , 0.  , 0.44, 0.  , 0.04, 0.  , 0.51]],\n",
       "\n",
       "       [[0.  , 0.  , 0.  , 0.  , 0.  , 0.04, 0.  , 0.13, 0.  , 0.84]],\n",
       "\n",
       "       [[0.  , 0.  , 0.  , 0.  , 0.  , 0.03, 0.  , 0.11, 0.  , 0.86]],\n",
       "\n",
       "       [[0.  , 0.  , 0.  , 0.  , 0.  , 0.05, 0.  , 0.28, 0.  , 0.66]],\n",
       "\n",
       "       [[0.  , 0.  , 0.  , 0.  , 0.  , 0.12, 0.  , 0.32, 0.  , 0.56]],\n",
       "\n",
       "       [[0.  , 0.  , 0.  , 0.  , 0.  , 0.16, 0.  , 0.39, 0.  , 0.46]],\n",
       "\n",
       "       [[0.  , 0.  , 0.  , 0.  , 0.  , 0.04, 0.  , 0.13, 0.  , 0.84]],\n",
       "\n",
       "       [[0.  , 0.  , 0.  , 0.  , 0.  , 0.54, 0.  , 0.18, 0.  , 0.28]],\n",
       "\n",
       "       [[0.  , 0.  , 0.  , 0.  , 0.  , 0.02, 0.  , 0.11, 0.  , 0.87]],\n",
       "\n",
       "       [[0.  , 0.  , 0.  , 0.  , 0.  , 0.  , 0.  , 0.19, 0.  , 0.81]],\n",
       "\n",
       "       [[0.  , 0.  , 0.  , 0.  , 0.  , 0.25, 0.  , 0.15, 0.  , 0.6 ]],\n",
       "\n",
       "       [[0.  , 0.  , 0.  , 0.  , 0.  , 0.09, 0.  , 0.06, 0.  , 0.85]],\n",
       "\n",
       "       [[0.  , 0.  , 0.  , 0.  , 0.  , 0.35, 0.  , 0.06, 0.  , 0.59]]],\n",
       "      dtype=float32)"
      ]
     },
     "execution_count": 88,
     "metadata": {},
     "output_type": "execute_result"
    }
   ],
   "source": [
    "np.round(y_probas[:, :1], 2)"
   ]
  },
  {
   "cell_type": "markdown",
   "metadata": {
    "ExecuteTime": {
     "end_time": "2022-08-15T07:27:34.711542Z",
     "start_time": "2022-08-15T07:27:34.702635Z"
    }
   },
   "source": [
    "첫 번째 차원으로 평균을 내면 다음과 같다."
   ]
  },
  {
   "cell_type": "code",
   "execution_count": 90,
   "metadata": {
    "ExecuteTime": {
     "end_time": "2022-08-15T07:28:12.649367Z",
     "start_time": "2022-08-15T07:28:12.639053Z"
    }
   },
   "outputs": [
    {
     "data": {
      "text/plain": [
       "array([[0.  , 0.  , 0.  , 0.  , 0.  , 0.15, 0.  , 0.15, 0.  , 0.7 ]],\n",
       "      dtype=float32)"
      ]
     },
     "execution_count": 90,
     "metadata": {},
     "output_type": "execute_result"
    }
   ],
   "source": [
    "np.round(y_proba[:1], 2)"
   ]
  },
  {
   "cell_type": "markdown",
   "metadata": {},
   "source": [
    "확률 추정의 표준 분포도 확인할 수 있다."
   ]
  },
  {
   "cell_type": "code",
   "execution_count": 91,
   "metadata": {
    "ExecuteTime": {
     "end_time": "2022-08-15T07:28:56.912328Z",
     "start_time": "2022-08-15T07:28:56.865501Z"
    },
    "scrolled": true
   },
   "outputs": [
    {
     "data": {
      "text/plain": [
       "array([[0.  , 0.  , 0.  , 0.  , 0.  , 0.2 , 0.  , 0.16, 0.  , 0.24]],\n",
       "      dtype=float32)"
      ]
     },
     "execution_count": 91,
     "metadata": {},
     "output_type": "execute_result"
    }
   ],
   "source": [
    "y_std = y_probas.std(axis=0)\n",
    "np.round(y_std[:1], 2)"
   ]
  },
  {
   "cell_type": "code",
   "execution_count": 94,
   "metadata": {
    "ExecuteTime": {
     "end_time": "2022-08-15T07:29:50.585671Z",
     "start_time": "2022-08-15T07:29:50.572996Z"
    }
   },
   "outputs": [
    {
     "data": {
      "text/plain": [
       "0.8674"
      ]
     },
     "execution_count": 94,
     "metadata": {},
     "output_type": "execute_result"
    }
   ],
   "source": [
    "y_pred = np.argmax(y_proba, axis=1)\n",
    "accuracy = np.sum(y_pred == y_test) / len(y_test)\n",
    "accuracy"
   ]
  },
  {
   "cell_type": "markdown",
   "metadata": {},
   "source": [
    "모델이 훈련하는 동안 다르게 작동하는 층을 가지고 있다면(ex. BatchNormalization) 앞에서와 같이 훈련 모드를 강제로 설정하면 안 된다. 대신 Dropoup 층을 다음과 같은 MCDropout층으로 바꿔야 한다."
   ]
  },
  {
   "cell_type": "code",
   "execution_count": 95,
   "metadata": {
    "ExecuteTime": {
     "end_time": "2022-08-15T07:31:04.850299Z",
     "start_time": "2022-08-15T07:31:04.629627Z"
    }
   },
   "outputs": [
    {
     "name": "stdout",
     "output_type": "stream",
     "text": [
      "Model: \"sequential_23\"\n",
      "_________________________________________________________________\n",
      "Layer (type)                 Output Shape              Param #   \n",
      "=================================================================\n",
      "flatten_21 (Flatten)         (None, 784)               0         \n",
      "_________________________________________________________________\n",
      "mc_alpha_dropout (MCAlphaDro (None, 784)               0         \n",
      "_________________________________________________________________\n",
      "dense_271 (Dense)            (None, 300)               235500    \n",
      "_________________________________________________________________\n",
      "mc_alpha_dropout_1 (MCAlphaD (None, 300)               0         \n",
      "_________________________________________________________________\n",
      "dense_272 (Dense)            (None, 100)               30100     \n",
      "_________________________________________________________________\n",
      "mc_alpha_dropout_2 (MCAlphaD (None, 100)               0         \n",
      "_________________________________________________________________\n",
      "dense_273 (Dense)            (None, 10)                1010      \n",
      "=================================================================\n",
      "Total params: 266,610\n",
      "Trainable params: 266,610\n",
      "Non-trainable params: 0\n",
      "_________________________________________________________________\n"
     ]
    }
   ],
   "source": [
    "class MCDropout(keras.layers.Dropout):\n",
    "    def call(self, inputs):\n",
    "        return super().call(inputs, training=True)\n",
    "\n",
    "class MCAlphaDropout(keras.layers.AlphaDropout):\n",
    "    def call(self, inputs):\n",
    "        return super().call(inputs, training=True)\n",
    "\n",
    "tf.random.set_seed(42)\n",
    "np.random.seed(42)\n",
    "\n",
    "mc_model = keras.models.Sequential([\n",
    "    MCAlphaDropout(layer.rate) if isinstance(layer, keras.layers.AlphaDropout) else layer\n",
    "    for layer in model.layers\n",
    "])\n",
    "mc_model.summary()\n"
   ]
  },
  {
   "cell_type": "code",
   "execution_count": 98,
   "metadata": {
    "ExecuteTime": {
     "end_time": "2022-08-15T07:32:22.800564Z",
     "start_time": "2022-08-15T07:32:18.138653Z"
    }
   },
   "outputs": [
    {
     "data": {
      "text/plain": [
       "array([[0.  , 0.  , 0.  , 0.  , 0.  , 0.12, 0.  , 0.2 , 0.  , 0.68]],\n",
       "      dtype=float32)"
      ]
     },
     "execution_count": 98,
     "metadata": {},
     "output_type": "execute_result"
    }
   ],
   "source": [
    "optimizer = keras.optimizers.SGD(learning_rate=0.01, momentum=0.9, nesterov=True)\n",
    "mc_model.compile(loss=\"sparse_categorical_crossentropy\", optimizer=optimizer, metrics=[\"accuracy\"])\n",
    "\n",
    "mc_model.set_weights(model.get_weights())\n",
    "\n",
    "np.round(np.mean([mc_model.predict(X_test_scaled[:1]) for sample in range(100)], axis=0), 2)"
   ]
  },
  {
   "cell_type": "markdown",
   "metadata": {},
   "source": [
    "## 맥스-노름 규제 "
   ]
  },
  {
   "cell_type": "markdown",
   "metadata": {},
   "source": [
    "맥스-노름 규제는 각각의 뉴런에 대해 입력의 연결 가중치 $\\mathbf{w}$가 ${\\vert\\vert \\mathbf{w} \\vert\\vert}_2 \\leq r$이 되도록 제한한다."
   ]
  },
  {
   "cell_type": "code",
   "execution_count": 99,
   "metadata": {
    "ExecuteTime": {
     "end_time": "2022-08-15T07:34:58.565390Z",
     "start_time": "2022-08-15T07:34:45.018604Z"
    }
   },
   "outputs": [
    {
     "name": "stdout",
     "output_type": "stream",
     "text": [
      "Train on 55000 samples, validate on 5000 samples\n",
      "Epoch 1/2\n",
      "55000/55000 [==============================] - 7s 131us/sample - loss: 0.4744 - accuracy: 0.8337 - val_loss: 0.3806 - val_accuracy: 0.8626\n",
      "Epoch 2/2\n",
      "55000/55000 [==============================] - 6s 109us/sample - loss: 0.3575 - accuracy: 0.8701 - val_loss: 0.3617 - val_accuracy: 0.8676\n"
     ]
    }
   ],
   "source": [
    "layer = keras.layers.Dense(100, activation=\"selu\", kernel_initializer=\"lecun_normal\",\n",
    "                           kernel_constraint=keras.constraints.max_norm(1.))\n",
    "MaxNormDense = partial(keras.layers.Dense,\n",
    "                       activation=\"selu\", kernel_initializer=\"lecun_normal\",\n",
    "                       kernel_constraint=keras.constraints.max_norm(1.))\n",
    "\n",
    "model = keras.models.Sequential([\n",
    "    keras.layers.Flatten(input_shape=[28, 28]),\n",
    "    MaxNormDense(300),\n",
    "    MaxNormDense(100),\n",
    "    keras.layers.Dense(10, activation=\"softmax\")\n",
    "])\n",
    "model.compile(loss=\"sparse_categorical_crossentropy\", optimizer=\"nadam\", metrics=[\"accuracy\"])\n",
    "n_epochs = 2\n",
    "history = model.fit(X_train_scaled, y_train, epochs=n_epochs,\n",
    "                    validation_data=(X_valid_scaled, y_valid))"
   ]
  },
  {
   "cell_type": "markdown",
   "metadata": {},
   "source": [
    "# Practice"
   ]
  },
  {
   "cell_type": "markdown",
   "metadata": {},
   "source": [
    "## CIFAR10 이미지 데이터셋에 심층 신경망 훈련"
   ]
  },
  {
   "cell_type": "markdown",
   "metadata": {},
   "source": [
    "### q8.1\n",
    "100개의 뉴런을 가진 은닉층 20개로 심층 신경망 만들기. He 초기화와 ELU 활성화 함수 사용 "
   ]
  },
  {
   "cell_type": "code",
   "execution_count": 114,
   "metadata": {
    "ExecuteTime": {
     "end_time": "2022-08-15T07:50:22.556234Z",
     "start_time": "2022-08-15T07:50:22.235963Z"
    }
   },
   "outputs": [
    {
     "name": "stdout",
     "output_type": "stream",
     "text": [
      "Model: \"sequential\"\n",
      "_________________________________________________________________\n",
      "Layer (type)                 Output Shape              Param #   \n",
      "=================================================================\n",
      "flatten (Flatten)            (None, 3072)              0         \n",
      "_________________________________________________________________\n",
      "dense (Dense)                (None, 100)               307300    \n",
      "_________________________________________________________________\n",
      "dense_1 (Dense)              (None, 100)               10100     \n",
      "_________________________________________________________________\n",
      "dense_2 (Dense)              (None, 100)               10100     \n",
      "_________________________________________________________________\n",
      "dense_3 (Dense)              (None, 100)               10100     \n",
      "_________________________________________________________________\n",
      "dense_4 (Dense)              (None, 100)               10100     \n",
      "_________________________________________________________________\n",
      "dense_5 (Dense)              (None, 100)               10100     \n",
      "_________________________________________________________________\n",
      "dense_6 (Dense)              (None, 100)               10100     \n",
      "_________________________________________________________________\n",
      "dense_7 (Dense)              (None, 100)               10100     \n",
      "_________________________________________________________________\n",
      "dense_8 (Dense)              (None, 100)               10100     \n",
      "_________________________________________________________________\n",
      "dense_9 (Dense)              (None, 100)               10100     \n",
      "_________________________________________________________________\n",
      "dense_10 (Dense)             (None, 100)               10100     \n",
      "_________________________________________________________________\n",
      "dense_11 (Dense)             (None, 100)               10100     \n",
      "_________________________________________________________________\n",
      "dense_12 (Dense)             (None, 100)               10100     \n",
      "_________________________________________________________________\n",
      "dense_13 (Dense)             (None, 100)               10100     \n",
      "_________________________________________________________________\n",
      "dense_14 (Dense)             (None, 100)               10100     \n",
      "_________________________________________________________________\n",
      "dense_15 (Dense)             (None, 100)               10100     \n",
      "_________________________________________________________________\n",
      "dense_16 (Dense)             (None, 100)               10100     \n",
      "_________________________________________________________________\n",
      "dense_17 (Dense)             (None, 100)               10100     \n",
      "_________________________________________________________________\n",
      "dense_18 (Dense)             (None, 100)               10100     \n",
      "_________________________________________________________________\n",
      "dense_19 (Dense)             (None, 100)               10100     \n",
      "=================================================================\n",
      "Total params: 499,200\n",
      "Trainable params: 499,200\n",
      "Non-trainable params: 0\n",
      "_________________________________________________________________\n"
     ]
    }
   ],
   "source": [
    "keras.backend.clear_session() \n",
    "tf.random.set_seed(42)\n",
    "np.random.seed(42)\n",
    "\n",
    "model = keras.models.Sequential()\n",
    "model.add(keras.layers.Flatten(input_shape = [32, 32, 3]))\n",
    "for _ in range(20) : \n",
    "    model.add(keras.layers.Dense(100, \n",
    "                                 activation = 'elu',\n",
    "                                 kernel_initializer = 'he_normal'))\n",
    "\n",
    "model.summary()"
   ]
  },
  {
   "cell_type": "markdown",
   "metadata": {},
   "source": [
    "### q8.2\n",
    "Nadam 옵티마이저와 조기 종료를 사용하여 CIFAR10 데이터셋에 이 네트워크를 훈련. keras.datasets.cifar10.load_ data()를 사용하여 데이터를 적재할 수 있다. 이 데이터셋은 10개의 클래스와 32×32 크기의 컬러 이미지 60,000개로 구성된다.(50,000개는 훈련, 10,000개는 테스트). 따라서 10개의 뉴런과 소프트맥스 활성화 함수를 사용하는 출력층이 필요하다. 모델 구조와 하이퍼파라미터를 바꿀 때마다 적절한 학습률을 찾아야 한다."
   ]
  },
  {
   "cell_type": "code",
   "execution_count": 115,
   "metadata": {
    "ExecuteTime": {
     "end_time": "2022-08-15T07:50:24.516026Z",
     "start_time": "2022-08-15T07:50:24.410046Z"
    }
   },
   "outputs": [],
   "source": [
    "# 모델에 출력층 추가 \n",
    "model.add(keras.layers.Dense(10, activation = 'softmax'))\n",
    "\n",
    "# 학습률 5e-5인 Nadam 옵티마이저 사용\n",
    "optimizer = keras.optimizers.Nadam(learning_rate = 5e-5)\n",
    "model.compile(loss = 'sparse_categorical_crossentropy',\n",
    "              optimizer = optimizer, \n",
    "              metrics = ['accuracy'])"
   ]
  },
  {
   "cell_type": "code",
   "execution_count": 116,
   "metadata": {
    "ExecuteTime": {
     "end_time": "2022-08-15T07:50:26.200968Z",
     "start_time": "2022-08-15T07:50:25.347526Z"
    }
   },
   "outputs": [],
   "source": [
    "# 데이터셋 로드 \n",
    "(X_train_full, y_train_full), (X_test, y_test) = keras.datasets.cifar10.load_data()\n",
    "\n",
    "X_train = X_train_full[5000:]\n",
    "y_train = y_train_full[5000:]\n",
    "X_valid = X_train_full[:5000]\n",
    "y_valid = y_train_full[:5000]\n",
    "\n",
    "# 콜백 생성하고 모델 훈련 \n",
    "early_stopping_cb = keras.callbacks.EarlyStopping(patience=20)\n",
    "model_checkpoint_cb = keras.callbacks.ModelCheckpoint(\"my_cifar10_model.h5\", save_best_only=True)\n",
    "run_index = 1 # 모델을 훈련할 때마다 증가시킴\n",
    "run_logdir = os.path.join(os.curdir, \"my_cifar10_logs\", \"run_{:03d}\".format(run_index))\n",
    "tensorboard_cb = keras.callbacks.TensorBoard(run_logdir)\n",
    "callbacks = [early_stopping_cb, model_checkpoint_cb, tensorboard_cb]\n",
    "\n",
    "# fit\n",
    "model.fit(X_train, y_train, epochs=100,\n",
    "          validation_data=(X_valid, y_valid),\n",
    "          callbacks=callbacks)"
   ]
  },
  {
   "cell_type": "code",
   "execution_count": 125,
   "metadata": {
    "ExecuteTime": {
     "end_time": "2022-08-15T08:13:14.343322Z",
     "start_time": "2022-08-15T08:13:11.835078Z"
    }
   },
   "outputs": [
    {
     "name": "stdout",
     "output_type": "stream",
     "text": [
      "loss : 1.517450470352173\n",
      "accuracy : 0.4636000096797943\n"
     ]
    }
   ],
   "source": [
    "model = keras.models.load_model('my_cifar10_model.h5')\n",
    "result = model.evaluate(X_valid, y_valid, verbose = False)\n",
    "print(f'loss : {result[0]}')\n",
    "print(f'accuracy : {result[1]}') "
   ]
  },
  {
   "cell_type": "markdown",
   "metadata": {},
   "source": [
    "### q8.3\n",
    "배치 정규화를 추가하고 학습 곡선을 비교해보기. 이전보다 빠르게 수렴하는가? 더 좋은 모델이 만들어지는가? 훈련 속도에는 어떤 영향을 미치는가?"
   ]
  },
  {
   "cell_type": "markdown",
   "metadata": {},
   "source": [
    "위의 코드에서 다음의 몇 가지를 변경\n",
    "- 출력층을 제외한 모든 Dense층 다음에 활성화 함수를 통과하기 전 단계에서 BN층을 추가한다. 처음 은닉층 전에도 BN층을 추가\n",
    "- 확습률을 5e-4로 변경\n",
    "- run_logdir을 `runbn*`으로 이름을 바꾸고 모델 파일 이름을 my_cifar10_bn_model.h5로 변경"
   ]
  },
  {
   "cell_type": "code",
   "execution_count": 119,
   "metadata": {
    "ExecuteTime": {
     "end_time": "2022-08-15T08:10:40.382714Z",
     "start_time": "2022-08-15T07:58:42.584013Z"
    }
   },
   "outputs": [
    {
     "name": "stdout",
     "output_type": "stream",
     "text": [
      "Train on 45000 samples, validate on 5000 samples\n",
      "Epoch 1/100\n",
      "45000/45000 [==============================] - 26s 572us/sample - loss: 1.8387 - accuracy: 0.3424 - val_loss: 1.6547 - val_accuracy: 0.4090\n",
      "Epoch 2/100\n",
      "45000/45000 [==============================] - 17s 388us/sample - loss: 1.6657 - accuracy: 0.4047 - val_loss: 1.6127 - val_accuracy: 0.4232\n",
      "Epoch 3/100\n",
      "45000/45000 [==============================] - 17s 388us/sample - loss: 1.5958 - accuracy: 0.4326 - val_loss: 1.5732 - val_accuracy: 0.4462\n",
      "Epoch 4/100\n",
      "45000/45000 [==============================] - 17s 387us/sample - loss: 1.5531 - accuracy: 0.4505 - val_loss: 1.5078 - val_accuracy: 0.4634\n",
      "Epoch 5/100\n",
      "45000/45000 [==============================] - 17s 386us/sample - loss: 1.5070 - accuracy: 0.4640 - val_loss: 1.4747 - val_accuracy: 0.4676\n",
      "Epoch 6/100\n",
      "45000/45000 [==============================] - 17s 387us/sample - loss: 1.4643 - accuracy: 0.4783 - val_loss: 1.4127 - val_accuracy: 0.4900\n",
      "Epoch 7/100\n",
      "45000/45000 [==============================] - 17s 384us/sample - loss: 1.4377 - accuracy: 0.4882 - val_loss: 1.4448 - val_accuracy: 0.4874\n",
      "Epoch 8/100\n",
      "45000/45000 [==============================] - 17s 385us/sample - loss: 1.4077 - accuracy: 0.5010 - val_loss: 1.4039 - val_accuracy: 0.5008\n",
      "Epoch 9/100\n",
      "45000/45000 [==============================] - 17s 386us/sample - loss: 1.3836 - accuracy: 0.5097 - val_loss: 1.3741 - val_accuracy: 0.5136\n",
      "Epoch 10/100\n",
      "45000/45000 [==============================] - 17s 384us/sample - loss: 1.3582 - accuracy: 0.5165 - val_loss: 1.3846 - val_accuracy: 0.5124\n",
      "Epoch 11/100\n",
      "45000/45000 [==============================] - 17s 387us/sample - loss: 1.3365 - accuracy: 0.5254 - val_loss: 1.3549 - val_accuracy: 0.5220\n",
      "Epoch 12/100\n",
      "45000/45000 [==============================] - 17s 383us/sample - loss: 1.3179 - accuracy: 0.5366 - val_loss: 1.3857 - val_accuracy: 0.5048\n",
      "Epoch 13/100\n",
      "45000/45000 [==============================] - 17s 386us/sample - loss: 1.3024 - accuracy: 0.5393 - val_loss: 1.3505 - val_accuracy: 0.5288\n",
      "Epoch 14/100\n",
      "45000/45000 [==============================] - 17s 384us/sample - loss: 1.2733 - accuracy: 0.5508 - val_loss: 1.3539 - val_accuracy: 0.5228\n",
      "Epoch 15/100\n",
      "45000/45000 [==============================] - 17s 388us/sample - loss: 1.2658 - accuracy: 0.5540 - val_loss: 1.3269 - val_accuracy: 0.5290\n",
      "Epoch 16/100\n",
      "45000/45000 [==============================] - 18s 389us/sample - loss: 1.2451 - accuracy: 0.5625 - val_loss: 1.3275 - val_accuracy: 0.5358\n",
      "Epoch 17/100\n",
      "45000/45000 [==============================] - 17s 386us/sample - loss: 1.2324 - accuracy: 0.5640 - val_loss: 1.3275 - val_accuracy: 0.5354\n",
      "Epoch 18/100\n",
      "45000/45000 [==============================] - 17s 384us/sample - loss: 1.2170 - accuracy: 0.5703 - val_loss: 1.3654 - val_accuracy: 0.5276\n",
      "Epoch 19/100\n",
      "45000/45000 [==============================] - 17s 387us/sample - loss: 1.2028 - accuracy: 0.5758 - val_loss: 1.3168 - val_accuracy: 0.5396\n",
      "Epoch 20/100\n",
      "45000/45000 [==============================] - 18s 394us/sample - loss: 1.1931 - accuracy: 0.5761 - val_loss: 1.3140 - val_accuracy: 0.5418\n",
      "Epoch 21/100\n",
      "45000/45000 [==============================] - 17s 384us/sample - loss: 1.1810 - accuracy: 0.5816 - val_loss: 1.3293 - val_accuracy: 0.5430\n",
      "Epoch 22/100\n",
      "45000/45000 [==============================] - 17s 386us/sample - loss: 1.1594 - accuracy: 0.5912 - val_loss: 1.3175 - val_accuracy: 0.5478\n",
      "Epoch 23/100\n",
      "45000/45000 [==============================] - 17s 387us/sample - loss: 1.1487 - accuracy: 0.5950 - val_loss: 1.3404 - val_accuracy: 0.5388\n",
      "Epoch 24/100\n",
      "45000/45000 [==============================] - 17s 384us/sample - loss: 1.1390 - accuracy: 0.5978 - val_loss: 1.3265 - val_accuracy: 0.5352\n",
      "Epoch 25/100\n",
      "45000/45000 [==============================] - 17s 386us/sample - loss: 1.1300 - accuracy: 0.6011 - val_loss: 1.3214 - val_accuracy: 0.5414\n",
      "Epoch 26/100\n",
      "45000/45000 [==============================] - 17s 387us/sample - loss: 1.1099 - accuracy: 0.6104 - val_loss: 1.3422 - val_accuracy: 0.5402\n",
      "Epoch 27/100\n",
      "45000/45000 [==============================] - 18s 389us/sample - loss: 1.0989 - accuracy: 0.6128 - val_loss: 1.3286 - val_accuracy: 0.5448\n",
      "Epoch 28/100\n",
      "45000/45000 [==============================] - 18s 390us/sample - loss: 1.0897 - accuracy: 0.6160 - val_loss: 1.3473 - val_accuracy: 0.5376\n",
      "Epoch 29/100\n",
      "45000/45000 [==============================] - 18s 389us/sample - loss: 1.0825 - accuracy: 0.6169 - val_loss: 1.3482 - val_accuracy: 0.5302\n",
      "Epoch 30/100\n",
      "45000/45000 [==============================] - 18s 390us/sample - loss: 1.0653 - accuracy: 0.6242 - val_loss: 1.3527 - val_accuracy: 0.5322\n",
      "Epoch 31/100\n",
      "45000/45000 [==============================] - 17s 388us/sample - loss: 1.0578 - accuracy: 0.6257 - val_loss: 1.3449 - val_accuracy: 0.5430\n",
      "Epoch 32/100\n",
      "45000/45000 [==============================] - 17s 389us/sample - loss: 1.0420 - accuracy: 0.6335 - val_loss: 1.3859 - val_accuracy: 0.5280\n",
      "Epoch 33/100\n",
      "45000/45000 [==============================] - 18s 389us/sample - loss: 1.0376 - accuracy: 0.6324 - val_loss: 1.3623 - val_accuracy: 0.5372\n",
      "Epoch 34/100\n",
      "45000/45000 [==============================] - 17s 389us/sample - loss: 1.0262 - accuracy: 0.6389 - val_loss: 1.3627 - val_accuracy: 0.5456\n",
      "Epoch 35/100\n",
      "45000/45000 [==============================] - 18s 390us/sample - loss: 1.0155 - accuracy: 0.6407 - val_loss: 1.3522 - val_accuracy: 0.5366\n",
      "Epoch 36/100\n",
      "45000/45000 [==============================] - 17s 389us/sample - loss: 1.0125 - accuracy: 0.6416 - val_loss: 1.3604 - val_accuracy: 0.5506\n",
      "Epoch 37/100\n",
      "45000/45000 [==============================] - 17s 388us/sample - loss: 0.9965 - accuracy: 0.6483 - val_loss: 1.3788 - val_accuracy: 0.5282\n",
      "Epoch 38/100\n",
      "45000/45000 [==============================] - 18s 389us/sample - loss: 0.9890 - accuracy: 0.6513 - val_loss: 1.3956 - val_accuracy: 0.5322\n",
      "Epoch 39/100\n",
      "45000/45000 [==============================] - 18s 390us/sample - loss: 0.9840 - accuracy: 0.6513 - val_loss: 1.3942 - val_accuracy: 0.5294\n",
      "Epoch 40/100\n",
      "45000/45000 [==============================] - 17s 388us/sample - loss: 0.9774 - accuracy: 0.6549 - val_loss: 1.3798 - val_accuracy: 0.5334\n",
      "5000/1 [================================================================================================================================================================================================================================================================================================================================================================================================================================================================================================================================================================================================================================================================================================================================================================================================================================================================================================================================================================================================================================================================================================================================================================================================================================================================================================================================================================================================================================================================================================================================================================================================================================================================================================================================================================================================================================================================================================================================================================================================================================================================================================================================================================================================================================================================================================================================================================================================================================================================================================================================================================================================================================================================================================================================================================================================================================================================================================================================================================================================================================================================================================================================================================================================================================================================================================================================================================================================================================================================================================================================================================================================================================================================================================================================================================================================================================================================================================================================================================================================================================================================================================================================================================================================================================================================================================================================================================================================================================================================================================================================================================================================================================================================================================================================================================================================================================================================================================================================================================================================================================================================================================================================================================================================================================================================================================================================================================================================================================================================================================================================================================================================================================================================================================================================================================================================================================================================================================================================================================================================================================================================================================================================================================================================================================================================================================================================================================================================================================================================================================================================================================================================================================================================================================================================================================================================================================================================================================================================================================================================================================================================================================================================================================================================================================================================================================================================================================================================================================================================================================================================================================================================================================================================================================================================================================================================================================================================================================================================================================================================================================================================================================================================================================================================================================================================================================================================================================================================================================================================================================================================================================================================================================================================================================================================================================================================================================================================================================================================================================================================================================================================================================================================================================================================================================================================================================================================================================================================================================================================================================================================================================================================================================================================================================================================================================================================================================================================================================================================================================================================================================================================================================================================================================================================================================================================================================================================================================================================================================================================================================================================================================================================================================================================================================================================================================================================================================================================================================================================================================================================================================================================================================================================================================================================================================================================================================================================================================================================================================================================================================================================================================================================================================================================================================================================================================================================================================================================================================================================================================================================================================================================================================================================================================================================================================================================================================================================================================================================================================================================================================================================================================================================================================================================================================================================================================================================================================================================================================================================================================================================================================================================================================================================================================================================================================================================================================================================================================================================================================================================================================================================================================================================================================================================================================================================================================================================================================================================================================================================================================================================================================================================================================================================================================================================================================================================================================================================================================================================================================================================================================================================================================================================================================================================================================================================================================================================================================================================================================================================================================================================================================================================================================================================================================================================================================================================================================================================================================================================================================================================================================================================================================================================================================================================================================================================================================================================================================================================================================================================================================================================================================================================================================================================================================================================================================================================================================================================================================================================================================================================================================================================================================================================================================================================================================================================================================================================================================================================================================================================================================================================================================================================================================================================================================================================================================================================================================================================================================================================================================================================================================================================================================================================================================================================================================================================================================================================================================================================================================================================================================================================================================================================================================================================================================================================================================================================================================================================================================================================================================================================================================================================================================================================================================================================================================================================================================================================================================================================================================================================================================================================================================================================================================================================================================================================================================================================================================================================================================================================================================================================================================================================================================================================================================================================================================================================================================================================================================================================================================================================================================================================================================================================================================================================================================================================================================================================================================================================================================================================================================================================================================================================================================================================================================================================================================================================================================================================================================================================================================================================================================================================================================================================================================================================================================================================================================================================================================================================================================================================================================================================================================================================================================================================================================================================================================================================================================================================================================================================================================================================================================================================================================================================================================================================================================================================================================================================================================================================================================================================================================================================================================================================================================================================================================================================================================================================================================================================================================================================================================================================================================================================================================================================================================================================================================================================================================================================================================================================================================================================================================================================================================================================================================================================================================================================================================================================================================================================================================================================================================================================================================================================================================================================================================================================================================================================================================================================================================================================================================================================================================================================================================================================================================================================================================================================================================================================================================================================================================================================================================================================================================================================================================================================================================================================================================================================================================================================================================================================================================================================================================================================================================================================================================================================================================================================================================================================================================================================================================================================================================================================================================================================================================================================================================================================================================================================================================================================================================================================================================================================================================================================================================================================================================================================================================================================================================================================================================================================================================================================================================================================================================================================================================================================================================================================================================================================================================================================================================================================================================================================================================================================================================================================================================================================================================================================================================================================================================================================================================================================================================================================================================================================================================================================================================================================================================================================================================================================================================================================================================================================================================================================================================================================================================================================================================================================================================================================================================================================================================================================================================================================================================================================================================================================================================================================================================================================================================================================================================================================================================================================================================================================================================================================================================================================================================================================================================================================================================================================================================================================================================================================================================================================================================================================================================================================================================================================================================================================================================================================================================================================================================================================================================================================================================================================================================================================================================================================================================================================================================================================================================================================================================================================================================================================================================================================================================================================================================================================================================================================================================================================================================================================================================================================================================================================================================================================================================================================================================================================================================================================================================================================================================================================================================================================================================================================================================================================================================================================================================================================================================================================================================================================================================================================================================================================================================================================================================================================================================================================================================================================================================================================================================================================================================================================================================================================================================================================================================================================================================================================================================================================================================================================================================================================================================================================================================================================================================================================================================================================================================================================================================================================================================================================================================================================================================================================================================================================================================================================================================================================================================================================================================================================================================================================================================================================================================================================================================================================================================================================================================================================================================================================================================================================================================================================================================================================================================================================================================================================================================================================================================================================================================================================================================================================================================================================================================================================================================================================================================================================================================================================================================================================================================================================================================================================================================================================================================================================================================================================================================================================================================================================================================================================================================================================================================================================================================================================================================================================================================================================================================================================================================================================================================================================================================================================================================================================================================================================================================================================================================================================================================================================================================================================================================================================================================================================================================================================================================================================================================================================================================================================================================================================================================================================================================================================================================================================================================================================================================================================================================================================================================================================================================================================================================================================================================================================================================================================================================================================================================================================================================================================================================================================================================================================================================================================================================================================================================================================================================================================================================================================================================================================================================================================================================================================================================================================================================================================================================================================================================================================================================================================================================================================================================================================================================================================================================================================================================================================================================================================================================================================================================================================================================================================================================================================================================================================================================================================================================================================================================================================================================================================================================================================================================================================================================================================================================================================================================================================================================================================================================================================================================================================================================================================================================================================================================================================================================================================================================================================================================================================================================================================================================================================================================================================================================================================================================================================================================================================================================================================================================================================================================================================================================================================================================================================================================================================================================================================================================================================================================================================================================================================================================================================================================================================================================================================================================================================================================================================================================================================================================================================================================================================================================================================================================================================================================================================================================================================================================================================================================================================================================================================================================================================================================================================================================================================================================================================================================================================================================================================================================================================================================================================================================================================================================================================================================================================================================================================================================================================================================================================================================================================================================================================================================================================================================================================================================================================================================================================================================================================================================================================================================================================================================================================================================================================================================================================================================================================================================================================================================================================================================================================================================================================================================================================================================================================================================================================================================================================================================================================================================================================================================================================================================================================================================================================================================================================================================================================================================================================================================================================================================================================================================================================================================================================================================================================================================================================================================================================================================================================================================================================================================================================================================================================================================================================================================================================================================================================================================================================================================================================================================================================================================================================================================================================================================================================================================================================================================================================================================================================================================================================================================================================================================================================================================================================================================================================================================================================================================================================================================================================================================================================================================================================================================================================================================================================================================================================================================================================================================================================================================================================================================================================================================================================================================================================================================================================================================================================================================================================================================================================================================================================================================================================================================================================================================================================================================================================================================================================================================================================================================================================================================================================================================================================================================================================================================================================================================================================================================================================================================================================================================================================================================================================================================================================================================================================================================================================================================================================================================================================================================================================================================================================================================================================================================================================================================================================================================================================================================================================================================================================================================================================================================================================================================================================================================================================================================================================================================================================================================================================================================================================================================================================================================================================================================================================================================================================================================================================================================================================================================================================================================================================================================================================================================================================================================================================================================================================================================================================================================================================================================================================================================================================================================================================================================================================================================================================================================================================================================================================================================================================================================================================================================================================================================================================================================================================================================================================================================================================================================================================================================================================================================================================================================================================================================================================================================================================================================================================================================================================================================================================================================================================================================================================================================================================================================================================================================================================================================================================================================================================================================================================================================================================================================================================================================================================================================================================================================================================================================================================================================================================================================================================================================================================================================================================================================================================================================================================================================================================================================================================================================================================================================================================================================================================================================================================================================================================================================================================================================================================================================================================================================================================================================================================================================================================================================================================================================================================================================================================================================================================================================================================================================================================================================================================================================================================================================================================================================================================================================================================================================================================================================================================================================================================================================================================================================================================================================================================================================================================================================================================================================================================================================================================================================================================================================================================================================================================================================================================================================================================================================================================================================================================================================================================================================================================================================================================================================================================================================================================================================================================================================================================================================================================================================================================================================================================================================================================================================================================================================================================================================================================================================================================================================================================================================================================================================================================================================================================================================================================================================================================================================================================================================================================================================================================================================================================================================================================================================================================================================================================================================================================================================================================================================================================================================================================================================================================================================================================================================================================================================================================================================================================================================================================================================================================================================================================================================================================================================================================================================================================================================================================================================================================================================================================================================================================================================================================================================================================================================================================================================================================================================================================================================================================================================================================================================================================================================================================================================================================================================================================================================================================================================================================================================================================================================================================================================================================================================================================================================================================================================================================================================================================================================================================================================================================================================================================================================================================================================================================================================================================================================================================================================================================================================================================================================================================================================================================================================================================================================================================================================================================================================================================================================================================================================================================================================================================================================================================================================================================================================================================================================================================================================================================================================================================================================================================================================================================================================================================================================================================================================================================================================================================================================================================================================================================================================================================================================================================================================================================================================================================================================================================================================================================================================================================================================================================================================================================================================================================================================================================================================================================================================================================================================================================================================================================================================================================================================================================================================================================================================================================================================================================================================================================================================================================================================================================================================================================================================================================================================================================================================================================================================================================================================================================================================================================================================================================================================================================================================================================================================================================================================================================================================================================================================================================================================================================================================================================================================================================================================================================================================================================================================================================================================================================================================================================================================================================================================================================================================================================================================================================================================================================================================================================================================================================================================================================================================================================================================================================================================================================================================================================================================================================================================================================================================================================================================================================================================================================================================================================================================================================================================================================================================================================================================================================================================================================================================================================================================================================================================================================================================================================================================================================================================================================================================================================================================================================================================================================================================================================================================================================================================================================================================================================================================================================================================================================================================================================================================================================================================================================================================================================================================================================================================================================================================================================================================================================================================================================================================================================================================================================================================================================================================================================================================================================================================================================================================================================================================================================================================================================================================================================================================================================================================================================================================================================================================================================================================================================================================================================================================================================================================================================================================================================================================================================================================================================================================================================================================================================================================================================================================================================================================================================================================================================================================================================================================================================================================================================================================================================================================================================================================================================================================================================================================================================================================================================================================================================================================================================================================================================================================================================================================================================================================================================================================================================================================================================================================================================================================================================================================================================================================================================================================================================================================================================================================================================================================================================================================================================================================================================================================================================================================================================================================================================================================================================================================================================================================================================================================================================================================================================================================================================================================================================================================================================================================================================================================================================================================================================================================================================================================================================================================================================================================================================================================================================================================================================================================================================================================================================================================================================================================================================================================================================================================================================================================================================================================================================================================================================================================================================================================================================================================================================================================================================================================================================================================================================================================================================================================================================================================================================================================================================================================================================================================================================================================================================================================================================================================================================================================================================================================================================================================================================================================================================================================================================================================================================================================================================================================================================================================================================================================================================================================================================================================================================================================================================================================================================================================================================================================================================================================================================================================================================================================================================================================================================================================================================================================================================================================================================================================================================================================================================================================================================================================================================================================================================================================================================================================================================================================================================================================================================================================================================================================================================================================================================================================================================================================================================================================================================================================================================================================================================================================================================================================================================================================================================================================================================================================================================================================================================================================================================================================================================================================================================================================================================================================================================================================================================================================================================================================================================================================================================================================================================================================================================================================================================================================================================================================================================================================================================================================================================================================================================================================================================================================================================================================================================================================================================================================================================================================================================================================================================================================================================================================================================================================================================================================================================================================================================================================================================================================================================================================================================================================================================================================================================================================================================================================================================================================================================================================================================================================================================================================================================================================================================================================================================================================================================================================================================================================================================================================================================================================================================================================================================================================================================================================================================================================================================================================================================================================================================================================================================================================================================================================================================================================================================================================================================================================================================================================================================================================================================================================================================================================================================================================================================================================================================================================================================================================================================================================================================================================================================================================================================================================================================================================================================================================================================================================================================================================================================================================================================================================================================================================================================================================================================================================================================================================================================================================================================================================================================================================================================================================================================================================================================================================================================================================================================================================================================================================================================================================================================================================================================================================================================================================================================================================================================================================================================================================================================================================================================================================================================================================================================================================================================================================================================================================================================================================================================================================================================================================================================================================================================================================================================================================================================================================================================================================================================================================================================================================================================================================================================================================================================================================================================================================================================================================================================================================================================================================================================================================================================================================================================================================================================================================================================================================================================================================================================================================================================================================================================================================================================================================================================================================================================================================================================================================================================================================================================================================================================================================================================================================================================================================================================================================================================================================================================================================================================================================================================================================================================================================================================================================================================================================================================================================================================================================================================================================================================================================================================================================================================================================================================================================================================================================================================================================================================================================================================================================================================================================================================================================================================================================================================================================================================================================================================================================================================================================================================================================================================================================================================================================================================================================================================================================================================================================================================================================================================================================================================================================================================================================================================================================================================================================================================================================================================================================================================================================================================================================================================================================================================================================================================================================================================================================================================================================================================================================================================================================================================================================================================================================================================================================================================================================================================================================================================================================================================================================================================================================================================================================================================================================================================================================================================================================================================================================================================================================================================================================================================================================================================================================================================================================================================================================================================================================================================================================================================================================================================================================================================================================================================================================================================================================================================================================================================================================================================================================================================================================================================================================================================================================================================================================================================================================================================================================================================================================================================================================================================================================================================================================================================================================================================================================================================================================================================================================================================================================================================================================================================================================================================================================================================================================================================================================================================================================================================================================================================================================================================================================================================================================================================================================================================================================================================================================================================================================================================================================================================================================================================================================================================================================================================================================================================================================================================================================================================================================================================================================================================================================================================================================================================================================================================================================================================================================================================================================================================================================================================================================================================================================================================================================================================================================================================================================================================================================================================================================================================================================================================================================================================================================================================================================================================================================================================================================================================================================================================================================================================================================================================================================================================================================================================================================================================================================================================================================================================================================================================================================================================================================================================================================================================================================================================================================================================================================================================================================================================================================================================================================================================================================================================================================================================================================================================================================================================================================================================================================================================================================================================================================================================================================================================================================================================================================================================================================================================================================================================================================================================================================================================================================================================================================================================================================================================================================================================================================================================================================================================================================================================================================================================================================================================================================================================================================================================================================================================================================================================================================================================================================================================================================================================================================================================================================================================================================================================================================================================================================================================================================================================================================================================================================================================================================================================================================================================================================================================================================================================================================================================================================================================================================================================================================================================================================================================================================================================================================================================================================================================================================================================================================================================================================================================================================================================================================================================================================================================================================================================================================================================================================================================================================================================================================================================================================================================================================================================================================================================================================================================================================================================================================================================================================================================================================================================================================================================================================================================================================================================================================================================================================================================================================================================================================================================================================================================================================================================================================================================================================================================================================================================================================================================================================================================================================================================================================================================================================================================================================================================================================================================================================================================================================================================================================================================================================================================================================================================================================================================================================================================================================================================================================================================================================================================================================================================================================================================================================================================================================================================================================================================================================================================================================================================================================================================================================================================================================================================================================================================================================================================================================================================================================================================================================================================================================================================================================================================================================================================================================================================================================================================================================================================================================================================================================================================================================================================================================================================================================================================================================================================================================================================================================================================================================================================================================================================================================================================================================================================================================================================================================================================================================================================================================================================================================================================================================================================================================================================================================================================================================================================================================================================================================================================================================================================================================================================================================================================================================================================================================================================================================================================================================================================================================================================================================================================================================================================================================================================================================================================================================================================================================================================================================================================================================================================================================================================================================================================================================================================================================================================================================================================================================================================================================================================================================================================================================================================================================================================================================================================================================================================================================================================================================================================================================================================================================================================================================================================================================================================================================================================================================================================================================================================================================================================================================================================================================================================================================================================================================================================================================================================================================================================================================================================================================================================================================================================================================================================================================================================================================================================================================================================================================================================================================================================================================================================================================================================================================================================================================================================================================================================================================================================================================================================================================================================================================================================================================================================================================================================================================================================================================================================================================================================================================================================================================================================================================================================================================================================================================================================================================================================================================================================================================================================================================================================================================================================================================================================================================================================================================================================================================================================================================================================================================================================================================================================================================================================================================================================================================================================================================================================================================================================================================================================================================================================================================================================================================================================================================================================================================================================================================================================================================================================================================================================================================================================================================================================================================================================================================================================================================================================================================================================================================================================================================================================================================================================================================================================================================================================================================================================================================================================================================================================================================================================================================================================================================================================================================================================================================================================================================================================================================================================================================================================================================================================================================================================================================================================================================================================================================================================================================================================================================================================================================================================================================================================================================================================================================================================================================================================================================================================================================================================================================================================================================================================================================================================================================================================================================================================================================================================================================================================================================================================================================================================================================================================================================================================================================================================================================================================================================================================================================================================================================================================================================================================================================================================================================================================================================================================================================================================================================================================================================================================================================================================================================================================================================================================================================================================================================================================================================================================================================================================================================================================================================================================================================================================================================================================================================================================================================================================================================================================================================================================================================================================================================================================================================================================================================================================================================================================================================================================================================================================================================================================================================================================================================================================================================================================================================================================================================================================================================================================================================================================================================================================================================================================================================================================================================================================================================================================================================================================================================================================================================================================================================================================================================================================================================================================================================================================================================================================================================================================================================================================================================================================================================================================================================================================================================================================================================================================================================================================================================================================================================================================================================================================================================================================================================================================================================================================================================================================================================================================================================================================================================================================================================================================================================================================================================================================================================================================================================================================================================================================================================================================================================================================================================================================================================================================================================================================================================================================================================================================================================================================================================================================================================================================================================================================================================================================================================================================================================================================================================================================================================================================================================================================================================================================================================================================================================================================================================================================================================================================================================================================================================================================================================================================================================================================================================================================================================================================================================================================================================================================================================================================================================================================================================================================================================================================================================================================================================================================================================================================================================================================================================================================================================================================================================================================================================================================================================================================================================================================================================================================================================================================================================================================================================================================================================================================================================================================================================================================================================================================================================================================================================================================================================================================================================================================================================================================================================================================================================================================================================================================================================================================================================================================================================================================================================================================================================================================================================================================================================================================================================================================================================================================================================================================================================================================================================================================================================================================================================================================================================================================================================================================================================================================================================================================================================================================================================================================================================================================================================================================================================================================================================================================================================================================================================================================================================================================================================================================================================================================================================================================================================================================================================================================================================================================================================================================================================================================================================================================================================================================================================================================================================================================================================================================================================================================================================================================================================================================================================================================================================================================================================================================================================================================================================================================================================================================================================================================================================================================================================================================================================================================================================================================================================================================================================================================================================================================================================================================================================================================================================================================================================================================================================================================================================================================================================================================================================================================================================================================================================================================================================================================================================================================================================================================================================================================================================================================================================================================================================================================================================================================================================================================================================================================================================================================================================================================================================================================================================================================================================================================================================================================================================================================================================================================================================================================================================================================================================================================================================================================================================================================================================================================================================================================================================================================================================================================================================================================================================================================================================================================================================================================================================================================================================================================================================================================================================================================================================================================================================================================================================================================================================================================================================================================================================================================================================================================================================================================================================================================================================================================================================================================================================================================================================================================================================================================================================================================================================================================================================================================================================================================================================================================================================================================================================================================================================================================================================================================================================================================================================================================================================================================================================================================================================================================================================================================================================================================================================================================================================================================================================================================================================================================================================================================================================================================================================================================================================================================================================================================================================================================================================================================================================================================================================================================================================================================================================================================================================================================================================================================================================================================================================================================================================================================================================================================================================================================================================================================================================================================================================================================================================================================================================================================================================================================================================================================================================================================================================================================================================================================================================================================================================================================================================================================================================================================================================================================================================================================================================================================================================================================================================================================================================================================================================================================================================================================================================================================================================================================================================================================================================================================================================================================================================================================================================================================================================================================================================================================================================================================================================================================================================================================================================================================================================================================================================================================================================================================================================================================================================================================================================================================================================================================================================================================================================================================================================================================================================================================================================================================================================================================================================================================================================================================================================================================================================================================================================================================================================================================================================================================================================================================================================================================================================================================================================================================================================================================================================================================================================================================================================================================================================================================================================================================================================================================================================================================================================================================================================================================================================================================================================================================================================================================================================================================================================================================================================================================================================================================================================================================================================================================================================================================================================================================================================================================================================================================================================================================================================================================================================================================================================================================================================================================================================================================================================================================================================================================================================================================================================================================================================================================================================================================================================================================================================================================================================================================================================================================================================================================================================================================================================================================================================================================================================================================================================================================================================================================================================================================================================================================================================================================================================================================================================================================================================================================================================================================================================================================================================================================================================================================================================================================================================================================================================================================================================================================================================================================================================================================================================================================================================================================================================================================================================================================================================================================================================================================================================================================================================================================================================================================================================================================================================================================================================================================================================================================================================================================================================================================================================================================================================================================================================================================================================================================================================================================================================================================================================================================================================================================================================================================================================================================================================================================================================================================================================================================================================================================================================================================================================================================================================================================================================================================================================================================================================================================================================================================================================================================================================================================================================================================================================================================================================================================================================================================================================================================================================================================================================================================================================================================================================================================================================================================================================================================================================================================================================================================================================================================================================================================================================================================================================================================================================================================================================================================================================================================================================================================================================================================================================================================================================================================================================================================================================================================================================================================================================================================================================================================================================================================================================================================================================================================================================================================================================================================================================================================================================================================================================================================================================================================================================================================================================================================================================================================================================================================================================================================================================================================================================================================================================================================================================================================================================================================================================================================================================================================================================================================================================================================================================================================================================================================================================================================================================================================================================================================================================================================================================================================================================================================================================================================================================================================================================================================================================================================================================================================================================================================================================================================================================================================================================================================================================================================================================================================================================================================================================================================================================================================================================================================================================================================================================================================================================================================================================================================================================================================================================================================================================================================================================================================================================================================================================================================================================================================================================================================================================================================================================================================================================================================================================================================================================================================================================================================================================================] - 1s 217us/sample - loss: 1.1870 - accuracy: 0.5418\n"
     ]
    },
    {
     "data": {
      "text/plain": [
       "[1.3140383172988892, 0.5418]"
      ]
     },
     "execution_count": 119,
     "metadata": {},
     "output_type": "execute_result"
    }
   ],
   "source": [
    "keras.backend.clear_session()\n",
    "tf.random.set_seed(42)\n",
    "np.random.seed(42)\n",
    "\n",
    "model = keras.models.Sequential()\n",
    "model.add(keras.layers.Flatten(input_shape = [32, 32, 3]))\n",
    "model.add(keras.layers.BatchNormalization())\n",
    "\n",
    "for _ in range(20) : \n",
    "    model.add(keras.layers.Dense(100, kernel_initializer = 'he_normal'))\n",
    "    model.add(keras.layers.BatchNormalization())\n",
    "    model.add(keras.layers.Activation('elu'))\n",
    "    \n",
    "model.add(keras.layers.Dense(10, activation = 'softmax'))\n",
    "\n",
    "optimizer = keras.optimizers.Nadam(learning_rate = 5e-4)\n",
    "model.compile(loss = 'sparse_categorical_crossentropy',\n",
    "              optimizer = optimizer,\n",
    "              metrics = ['accuracy'])\n",
    "\n",
    "early_stopping_cb = keras.callbacks.EarlyStopping(patience = 20)\n",
    "model_checkpoint_cb = keras.callbacks.ModelCheckpoint('my_cifar10_bn_model.h5', save_best_only = True)\n",
    "run_index = 1 \n",
    "run_logdir = os.path.join(os.curdir, 'my_cifar10_logs', 'run_bn_{:03d}'.format(run_index))\n",
    "tensorboard_cb = keras.callbacks.TensorBoard(run_logdir)\n",
    "callbacks = [early_stopping_cb, model_checkpoint_cb, tensorboard_cb]\n",
    "\n",
    "model.fit(X_train, y_train, epochs = 100,\n",
    "          validation_data = (X_valid, y_valid),\n",
    "          callbacks = callbacks)"
   ]
  },
  {
   "cell_type": "code",
   "execution_count": 124,
   "metadata": {
    "ExecuteTime": {
     "end_time": "2022-08-15T08:13:02.517453Z",
     "start_time": "2022-08-15T08:12:31.697094Z"
    }
   },
   "outputs": [
    {
     "name": "stdout",
     "output_type": "stream",
     "text": [
      "loss : 1.3140383172988892\n",
      "accuracy : 0.5418000221252441\n"
     ]
    }
   ],
   "source": [
    "model = keras.models.load_model('my_cifar10_bn_model.h5')\n",
    "result = model.evaluate(X_valid, y_valid, verbose = False)\n",
    "print(f'loss : {result[0]}')\n",
    "print(f'accuracy : {result[1]}') "
   ]
  },
  {
   "cell_type": "markdown",
   "metadata": {},
   "source": [
    "- 이전보다 훨씬 빠르게 수렴한다. BN층은 훈련을 안정적으로 수행하고 더 큰 학습률을 사용할 수 있기 때문에 수렴이 빨라졌다. \n",
    "- 최종 모델의 성능이 더 좋다. \n",
    "- 각 층에서 걸리는 시간은 증가하지만 실제 훈련 시간은 크게 줄어들었다."
   ]
  },
  {
   "cell_type": "markdown",
   "metadata": {},
   "source": [
    "### q8.4\n",
    "배치 정규화를 SELU로 바꾸어보기. 네트워크가 자기 정규화하기 위해 필요한 변경 사항을 적용해보기(즉, 입력 특성 표준화, 르쿤 정규분포 초기화, 완전 연결 층만 순차적으로 쌓은 심층 신경망 등)."
   ]
  },
  {
   "cell_type": "code",
   "execution_count": 126,
   "metadata": {
    "ExecuteTime": {
     "end_time": "2022-08-15T08:23:02.621051Z",
     "start_time": "2022-08-15T08:16:45.626241Z"
    }
   },
   "outputs": [
    {
     "name": "stdout",
     "output_type": "stream",
     "text": [
      "Train on 45000 samples, validate on 5000 samples\n",
      "Epoch 1/100\n",
      "45000/45000 [==============================] - 14s 314us/sample - loss: 1.9322 - accuracy: 0.3091 - val_loss: 1.8659 - val_accuracy: 0.3424\n",
      "Epoch 2/100\n",
      "45000/45000 [==============================] - 11s 245us/sample - loss: 1.7173 - accuracy: 0.3925 - val_loss: 1.7085 - val_accuracy: 0.3880\n",
      "Epoch 3/100\n",
      "45000/45000 [==============================] - 11s 245us/sample - loss: 1.6173 - accuracy: 0.4316 - val_loss: 1.6958 - val_accuracy: 0.3914\n",
      "Epoch 4/100\n",
      "45000/45000 [==============================] - 11s 246us/sample - loss: 1.5546 - accuracy: 0.4516 - val_loss: 1.6386 - val_accuracy: 0.4212\n",
      "Epoch 5/100\n",
      "45000/45000 [==============================] - 11s 243us/sample - loss: 1.4974 - accuracy: 0.4747 - val_loss: 1.6416 - val_accuracy: 0.4310\n",
      "Epoch 6/100\n",
      "45000/45000 [==============================] - 11s 244us/sample - loss: 1.4457 - accuracy: 0.4928 - val_loss: 1.5158 - val_accuracy: 0.4780\n",
      "Epoch 7/100\n",
      "45000/45000 [==============================] - 11s 244us/sample - loss: 1.4067 - accuracy: 0.5092 - val_loss: 1.5106 - val_accuracy: 0.4864\n",
      "Epoch 8/100\n",
      "45000/45000 [==============================] - 11s 243us/sample - loss: 1.3688 - accuracy: 0.5234 - val_loss: 1.5273 - val_accuracy: 0.4792\n",
      "Epoch 9/100\n",
      "45000/45000 [==============================] - 11s 243us/sample - loss: 1.3311 - accuracy: 0.5371 - val_loss: 1.5023 - val_accuracy: 0.4838\n",
      "Epoch 10/100\n",
      "45000/45000 [==============================] - 11s 245us/sample - loss: 1.2999 - accuracy: 0.5492 - val_loss: 1.4785 - val_accuracy: 0.4906\n",
      "Epoch 11/100\n",
      "45000/45000 [==============================] - 11s 242us/sample - loss: 1.2684 - accuracy: 0.5609 - val_loss: 1.4903 - val_accuracy: 0.4924\n",
      "Epoch 12/100\n",
      "45000/45000 [==============================] - 11s 243us/sample - loss: 1.2445 - accuracy: 0.5696 - val_loss: 1.4786 - val_accuracy: 0.4904\n",
      "Epoch 13/100\n",
      "45000/45000 [==============================] - 11s 242us/sample - loss: 1.2164 - accuracy: 0.5788 - val_loss: 1.5231 - val_accuracy: 0.5030\n",
      "Epoch 14/100\n",
      "45000/45000 [==============================] - 11s 243us/sample - loss: 1.1884 - accuracy: 0.5929 - val_loss: 1.4663 - val_accuracy: 0.5088\n",
      "Epoch 15/100\n",
      "45000/45000 [==============================] - 11s 240us/sample - loss: 1.1719 - accuracy: 0.5998 - val_loss: 1.4930 - val_accuracy: 0.5056\n",
      "Epoch 16/100\n",
      "45000/45000 [==============================] - 11s 243us/sample - loss: 1.1527 - accuracy: 0.6057 - val_loss: 1.5074 - val_accuracy: 0.5040\n",
      "Epoch 17/100\n",
      "45000/45000 [==============================] - 11s 241us/sample - loss: 1.1287 - accuracy: 0.6128 - val_loss: 1.5114 - val_accuracy: 0.5080\n",
      "Epoch 18/100\n",
      "45000/45000 [==============================] - 11s 240us/sample - loss: 1.1119 - accuracy: 0.6214 - val_loss: 1.5075 - val_accuracy: 0.5080\n",
      "Epoch 19/100\n",
      "45000/45000 [==============================] - 11s 242us/sample - loss: 1.0921 - accuracy: 0.6272 - val_loss: 1.5489 - val_accuracy: 0.5010\n",
      "Epoch 20/100\n",
      "45000/45000 [==============================] - 11s 241us/sample - loss: 1.0749 - accuracy: 0.6316 - val_loss: 1.5080 - val_accuracy: 0.5028\n",
      "Epoch 21/100\n",
      "45000/45000 [==============================] - 11s 242us/sample - loss: 1.0577 - accuracy: 0.6390 - val_loss: 1.5359 - val_accuracy: 0.5056\n",
      "Epoch 22/100\n",
      "45000/45000 [==============================] - 11s 242us/sample - loss: 1.0465 - accuracy: 0.6443 - val_loss: 1.5561 - val_accuracy: 0.5106\n",
      "Epoch 23/100\n",
      "45000/45000 [==============================] - 11s 243us/sample - loss: 1.0324 - accuracy: 0.6516 - val_loss: 1.5211 - val_accuracy: 0.5114\n",
      "Epoch 24/100\n",
      "45000/45000 [==============================] - 11s 242us/sample - loss: 1.0100 - accuracy: 0.6582 - val_loss: 1.5274 - val_accuracy: 0.5118\n",
      "Epoch 25/100\n",
      "45000/45000 [==============================] - 11s 242us/sample - loss: 0.9936 - accuracy: 0.6636 - val_loss: 1.6075 - val_accuracy: 0.5012\n",
      "Epoch 26/100\n",
      "45000/45000 [==============================] - 11s 242us/sample - loss: 0.9859 - accuracy: 0.6683 - val_loss: 1.5412 - val_accuracy: 0.5166\n",
      "Epoch 27/100\n",
      "45000/45000 [==============================] - 11s 243us/sample - loss: 0.9741 - accuracy: 0.6709 - val_loss: 1.5661 - val_accuracy: 0.5078\n",
      "Epoch 28/100\n",
      "45000/45000 [==============================] - 11s 241us/sample - loss: 0.9570 - accuracy: 0.6768 - val_loss: 1.5894 - val_accuracy: 0.5156\n",
      "Epoch 29/100\n",
      "45000/45000 [==============================] - 11s 242us/sample - loss: 0.9465 - accuracy: 0.6839 - val_loss: 1.5795 - val_accuracy: 0.5250\n",
      "Epoch 30/100\n",
      "45000/45000 [==============================] - 11s 243us/sample - loss: 0.9401 - accuracy: 0.6874 - val_loss: 1.6290 - val_accuracy: 0.5180\n",
      "Epoch 31/100\n",
      "45000/45000 [==============================] - 11s 242us/sample - loss: 0.9239 - accuracy: 0.6890 - val_loss: 1.5979 - val_accuracy: 0.5114\n",
      "Epoch 32/100\n",
      "45000/45000 [==============================] - 11s 242us/sample - loss: 0.9045 - accuracy: 0.6971 - val_loss: 1.6678 - val_accuracy: 0.5038\n",
      "Epoch 33/100\n",
      "45000/45000 [==============================] - 11s 243us/sample - loss: 0.8881 - accuracy: 0.7024 - val_loss: 1.6531 - val_accuracy: 0.5094\n",
      "Epoch 34/100\n",
      "45000/45000 [==============================] - 11s 243us/sample - loss: 0.8770 - accuracy: 0.7066 - val_loss: 1.6237 - val_accuracy: 0.5152\n"
     ]
    },
    {
     "data": {
      "text/plain": [
       "<tensorflow.python.keras.callbacks.History at 0x7fd69bc25310>"
      ]
     },
     "execution_count": 126,
     "metadata": {},
     "output_type": "execute_result"
    }
   ],
   "source": [
    "keras.backend.clear_session()\n",
    "tf.random.set_seed(42)\n",
    "np.random.seed(42)\n",
    "\n",
    "model = keras.models.Sequential()\n",
    "model.add(keras.layers.Flatten(input_shape=[32, 32, 3]))\n",
    "for _ in range(20):\n",
    "    model.add(keras.layers.Dense(100,\n",
    "                                 kernel_initializer=\"lecun_normal\",\n",
    "                                 activation=\"selu\"))\n",
    "model.add(keras.layers.Dense(10, activation=\"softmax\"))\n",
    "\n",
    "optimizer = keras.optimizers.Nadam(learning_rate=7e-4)\n",
    "model.compile(loss=\"sparse_categorical_crossentropy\",\n",
    "              optimizer=optimizer,\n",
    "              metrics=[\"accuracy\"])\n",
    "\n",
    "early_stopping_cb = keras.callbacks.EarlyStopping(patience=20)\n",
    "model_checkpoint_cb = keras.callbacks.ModelCheckpoint(\"my_cifar10_selu_model.h5\", save_best_only=True)\n",
    "run_index = 1 # 모델을 훈련할 때마다 증가시킴\n",
    "run_logdir = os.path.join(os.curdir, \"my_cifar10_logs\", \"run_selu_{:03d}\".format(run_index))\n",
    "tensorboard_cb = keras.callbacks.TensorBoard(run_logdir)\n",
    "callbacks = [early_stopping_cb, model_checkpoint_cb, tensorboard_cb]\n",
    "\n",
    "X_means = X_train.mean(axis=0)\n",
    "X_stds = X_train.std(axis=0)\n",
    "X_train_scaled = (X_train - X_means) / X_stds\n",
    "X_valid_scaled = (X_valid - X_means) / X_stds\n",
    "X_test_scaled = (X_test - X_means) / X_stds\n",
    "\n",
    "model.fit(X_train_scaled, y_train, epochs=100,\n",
    "          validation_data=(X_valid_scaled, y_valid),\n",
    "          callbacks=callbacks)"
   ]
  },
  {
   "cell_type": "code",
   "execution_count": 131,
   "metadata": {
    "ExecuteTime": {
     "end_time": "2022-08-15T08:30:37.379972Z",
     "start_time": "2022-08-15T08:30:34.307069Z"
    }
   },
   "outputs": [
    {
     "name": "stdout",
     "output_type": "stream",
     "text": [
      "loss : 1.466315245437622\n",
      "accuracy : 0.5088000297546387\n"
     ]
    }
   ],
   "source": [
    "model = keras.models.load_model('my_cifar10_selu_model.h5')\n",
    "result = model.evaluate(X_valid_scaled, y_valid, verbose = False)\n",
    "print(f'loss : {result[0]}')\n",
    "print(f'accuracy : {result[1]}') "
   ]
  },
  {
   "cell_type": "markdown",
   "metadata": {},
   "source": [
    "### q8.5\n",
    "알파 드롭아웃으로 모델에 규제를 적용해보고 그 다음 모델을 다시 훈련하지 않고 MC 드롭아웃으로 더 높은 정확도를 얻을 수 있는지 확인"
   ]
  },
  {
   "cell_type": "code",
   "execution_count": 128,
   "metadata": {
    "ExecuteTime": {
     "end_time": "2022-08-15T08:28:40.738672Z",
     "start_time": "2022-08-15T08:23:05.680293Z"
    }
   },
   "outputs": [
    {
     "name": "stdout",
     "output_type": "stream",
     "text": [
      "Train on 45000 samples, validate on 5000 samples\n",
      "Epoch 1/100\n",
      "45000/45000 [==============================] - 15s 330us/sample - loss: 1.9091 - accuracy: 0.3243 - val_loss: 1.7338 - val_accuracy: 0.3868\n",
      "Epoch 2/100\n",
      "45000/45000 [==============================] - 12s 256us/sample - loss: 1.6702 - accuracy: 0.4120 - val_loss: 1.6606 - val_accuracy: 0.4246\n",
      "Epoch 3/100\n",
      "45000/45000 [==============================] - 11s 254us/sample - loss: 1.5754 - accuracy: 0.4455 - val_loss: 1.6776 - val_accuracy: 0.4144\n",
      "Epoch 4/100\n",
      "45000/45000 [==============================] - 11s 254us/sample - loss: 1.5159 - accuracy: 0.4695 - val_loss: 1.6422 - val_accuracy: 0.4292\n",
      "Epoch 5/100\n",
      "45000/45000 [==============================] - 11s 254us/sample - loss: 1.4568 - accuracy: 0.4878 - val_loss: 1.5842 - val_accuracy: 0.4526\n",
      "Epoch 6/100\n",
      "45000/45000 [==============================] - 11s 254us/sample - loss: 1.4071 - accuracy: 0.5074 - val_loss: 1.5197 - val_accuracy: 0.4712\n",
      "Epoch 7/100\n",
      "45000/45000 [==============================] - 11s 254us/sample - loss: 1.3669 - accuracy: 0.5246 - val_loss: 1.5383 - val_accuracy: 0.4806\n",
      "Epoch 8/100\n",
      "45000/45000 [==============================] - 11s 253us/sample - loss: 1.3295 - accuracy: 0.5398 - val_loss: 1.5592 - val_accuracy: 0.4782\n",
      "Epoch 9/100\n",
      "45000/45000 [==============================] - 11s 254us/sample - loss: 1.2888 - accuracy: 0.5536 - val_loss: 1.5065 - val_accuracy: 0.4942\n",
      "Epoch 10/100\n",
      "45000/45000 [==============================] - 11s 252us/sample - loss: 1.2542 - accuracy: 0.5662 - val_loss: 1.5114 - val_accuracy: 0.5062\n",
      "Epoch 11/100\n",
      "45000/45000 [==============================] - 11s 250us/sample - loss: 1.2238 - accuracy: 0.5773 - val_loss: 1.5969 - val_accuracy: 0.4952\n",
      "Epoch 12/100\n",
      "45000/45000 [==============================] - 11s 252us/sample - loss: 1.1937 - accuracy: 0.5886 - val_loss: 1.5452 - val_accuracy: 0.4856\n",
      "Epoch 13/100\n",
      "45000/45000 [==============================] - 11s 251us/sample - loss: 1.1628 - accuracy: 0.6021 - val_loss: 1.6446 - val_accuracy: 0.5050\n",
      "Epoch 14/100\n",
      "45000/45000 [==============================] - 11s 252us/sample - loss: 1.1353 - accuracy: 0.6111 - val_loss: 1.5347 - val_accuracy: 0.5112\n",
      "Epoch 15/100\n",
      "45000/45000 [==============================] - 11s 251us/sample - loss: 1.1168 - accuracy: 0.6156 - val_loss: 1.5959 - val_accuracy: 0.5002\n",
      "Epoch 16/100\n",
      "45000/45000 [==============================] - 11s 251us/sample - loss: 1.0863 - accuracy: 0.6245 - val_loss: 1.5633 - val_accuracy: 0.5190\n",
      "Epoch 17/100\n",
      "45000/45000 [==============================] - 11s 251us/sample - loss: 1.0622 - accuracy: 0.6328 - val_loss: 1.5953 - val_accuracy: 0.5082\n",
      "Epoch 18/100\n",
      "45000/45000 [==============================] - 11s 251us/sample - loss: 1.0418 - accuracy: 0.6419 - val_loss: 1.6307 - val_accuracy: 0.5024\n",
      "Epoch 19/100\n",
      "45000/45000 [==============================] - 11s 252us/sample - loss: 1.0153 - accuracy: 0.6518 - val_loss: 1.6429 - val_accuracy: 0.5164\n",
      "Epoch 20/100\n",
      "45000/45000 [==============================] - 11s 253us/sample - loss: 1.0009 - accuracy: 0.6574 - val_loss: 1.6740 - val_accuracy: 0.5090\n",
      "Epoch 21/100\n",
      "45000/45000 [==============================] - 11s 251us/sample - loss: 0.9803 - accuracy: 0.6662 - val_loss: 1.6286 - val_accuracy: 0.5152\n",
      "Epoch 22/100\n",
      "45000/45000 [==============================] - 11s 251us/sample - loss: 0.9628 - accuracy: 0.6726 - val_loss: 1.7147 - val_accuracy: 0.5136\n",
      "Epoch 23/100\n",
      "45000/45000 [==============================] - 11s 251us/sample - loss: 0.9570 - accuracy: 0.6727 - val_loss: 1.6641 - val_accuracy: 0.5182\n",
      "Epoch 24/100\n",
      "45000/45000 [==============================] - 11s 253us/sample - loss: 0.9212 - accuracy: 0.6877 - val_loss: 1.7844 - val_accuracy: 0.5128\n",
      "Epoch 25/100\n",
      "45000/45000 [==============================] - 11s 253us/sample - loss: 0.9104 - accuracy: 0.6894 - val_loss: 1.8041 - val_accuracy: 0.5046\n",
      "Epoch 26/100\n",
      "45000/45000 [==============================] - 11s 253us/sample - loss: 0.8961 - accuracy: 0.6943 - val_loss: 1.8613 - val_accuracy: 0.5058\n",
      "Epoch 27/100\n",
      "45000/45000 [==============================] - 11s 253us/sample - loss: 0.8803 - accuracy: 0.7026 - val_loss: 1.8401 - val_accuracy: 0.5034\n",
      "Epoch 28/100\n",
      "45000/45000 [==============================] - 11s 252us/sample - loss: 0.8628 - accuracy: 0.7082 - val_loss: 1.8218 - val_accuracy: 0.5056\n",
      "Epoch 29/100\n",
      "45000/45000 [==============================] - 11s 251us/sample - loss: 0.8459 - accuracy: 0.7129 - val_loss: 1.8470 - val_accuracy: 0.5130\n"
     ]
    },
    {
     "data": {
      "text/plain": [
       "<tensorflow.python.keras.callbacks.History at 0x7fd4503b9e50>"
      ]
     },
     "execution_count": 128,
     "metadata": {},
     "output_type": "execute_result"
    }
   ],
   "source": [
    "keras.backend.clear_session()\n",
    "tf.random.set_seed(42)\n",
    "np.random.seed(42)\n",
    "\n",
    "model = keras.models.Sequential()\n",
    "model.add(keras.layers.Flatten(input_shape=[32, 32, 3]))\n",
    "for _ in range(20):\n",
    "    model.add(keras.layers.Dense(100,\n",
    "                                 kernel_initializer=\"lecun_normal\",\n",
    "                                 activation=\"selu\"))\n",
    "\n",
    "model.add(keras.layers.AlphaDropout(rate=0.1))\n",
    "model.add(keras.layers.Dense(10, activation=\"softmax\"))\n",
    "\n",
    "optimizer = keras.optimizers.Nadam(learning_rate=5e-4)\n",
    "model.compile(loss=\"sparse_categorical_crossentropy\",\n",
    "              optimizer=optimizer,\n",
    "              metrics=[\"accuracy\"])\n",
    "\n",
    "early_stopping_cb = keras.callbacks.EarlyStopping(patience=20)\n",
    "model_checkpoint_cb = keras.callbacks.ModelCheckpoint(\"my_cifar10_alpha_dropout_model.h5\", save_best_only=True)\n",
    "run_index = 1 # 모델을 훈련할 때마다 증가시킴\n",
    "run_logdir = os.path.join(os.curdir, \"my_cifar10_logs\", \"run_alpha_dropout_{:03d}\".format(run_index))\n",
    "tensorboard_cb = keras.callbacks.TensorBoard(run_logdir)\n",
    "callbacks = [early_stopping_cb, model_checkpoint_cb, tensorboard_cb]\n",
    "\n",
    "X_means = X_train.mean(axis=0)\n",
    "X_stds = X_train.std(axis=0)\n",
    "X_train_scaled = (X_train - X_means) / X_stds\n",
    "X_valid_scaled = (X_valid - X_means) / X_stds\n",
    "X_test_scaled = (X_test - X_means) / X_stds\n",
    "\n",
    "model.fit(X_train_scaled, y_train, epochs=100,\n",
    "          validation_data=(X_valid_scaled, y_valid),\n",
    "          callbacks=callbacks)"
   ]
  },
  {
   "cell_type": "code",
   "execution_count": 132,
   "metadata": {
    "ExecuteTime": {
     "end_time": "2022-08-15T08:31:02.686369Z",
     "start_time": "2022-08-15T08:30:43.115191Z"
    }
   },
   "outputs": [
    {
     "name": "stdout",
     "output_type": "stream",
     "text": [
      "loss : 1.5064839542388917\n",
      "accuracy : 0.4941999912261963\n"
     ]
    }
   ],
   "source": [
    "model = keras.models.load_model('my_cifar10_alpha_dropout_model.h5')\n",
    "result = model.evaluate(X_valid_scaled, y_valid, verbose = False)\n",
    "print(f'loss : {result[0]}')\n",
    "print(f'accuracy : {result[1]}') "
   ]
  },
  {
   "cell_type": "markdown",
   "metadata": {},
   "source": [
    "### q8.6\n",
    "1사이클 스케줄링으로 모델을 다시 훈련하고 훈련 속도와 모델 정확도가 향상되는지 확인"
   ]
  },
  {
   "cell_type": "code",
   "execution_count": 134,
   "metadata": {
    "ExecuteTime": {
     "end_time": "2022-08-15T08:32:12.028924Z",
     "start_time": "2022-08-15T08:32:05.587247Z"
    }
   },
   "outputs": [
    {
     "name": "stdout",
     "output_type": "stream",
     "text": [
      "Train on 45000 samples\n",
      "45000/45000 [==============================] - 5s 111us/sample - loss: nan - accuracy: 0.1363\n"
     ]
    },
    {
     "data": {
      "text/plain": [
       "[1e-05, 9.615228, 2.0901217, 3.6135973249162947]"
      ]
     },
     "execution_count": 134,
     "metadata": {},
     "output_type": "execute_result"
    },
    {
     "data": {
      "image/png": "[encoded data removed]",
      "text/plain": [
       "<Figure size 432x288 with 1 Axes>"
      ]
     },
     "metadata": {
      "needs_background": "light"
     },
     "output_type": "display_data"
    }
   ],
   "source": [
    "keras.backend.clear_session()\n",
    "tf.random.set_seed(42)\n",
    "np.random.seed(42)\n",
    "\n",
    "model = keras.models.Sequential()\n",
    "model.add(keras.layers.Flatten(input_shape=[32, 32, 3]))\n",
    "for _ in range(20):\n",
    "    model.add(keras.layers.Dense(100,\n",
    "                                 kernel_initializer=\"lecun_normal\",\n",
    "                                 activation=\"selu\"))\n",
    "\n",
    "model.add(keras.layers.AlphaDropout(rate=0.1))\n",
    "model.add(keras.layers.Dense(10, activation=\"softmax\"))\n",
    "\n",
    "optimizer = keras.optimizers.SGD(learning_rate=1e-3)\n",
    "model.compile(loss=\"sparse_categorical_crossentropy\",\n",
    "              optimizer=optimizer,\n",
    "              metrics=[\"accuracy\"])\n",
    "\n",
    "batch_size = 128\n",
    "rates, losses = find_learning_rate(model, X_train_scaled, y_train, epochs=1, batch_size=batch_size)\n",
    "plot_lr_vs_loss(rates, losses)\n",
    "plt.axis([min(rates), max(rates), min(losses), (losses[0] + min(losses)) / 1.4])"
   ]
  },
  {
   "cell_type": "code",
   "execution_count": 135,
   "metadata": {
    "ExecuteTime": {
     "end_time": "2022-08-15T08:33:14.046337Z",
     "start_time": "2022-08-15T08:32:12.031051Z"
    }
   },
   "outputs": [
    {
     "name": "stdout",
     "output_type": "stream",
     "text": [
      "Train on 45000 samples, validate on 5000 samples\n",
      "Epoch 1/15\n",
      "45000/45000 [==============================] - 5s 120us/sample - loss: 2.0510 - accuracy: 0.2846 - val_loss: 1.7857 - val_accuracy: 0.3794\n",
      "Epoch 2/15\n",
      "45000/45000 [==============================] - 4s 89us/sample - loss: 1.7597 - accuracy: 0.3765 - val_loss: 1.6453 - val_accuracy: 0.4198\n",
      "Epoch 3/15\n",
      "45000/45000 [==============================] - 4s 89us/sample - loss: 1.6272 - accuracy: 0.4211 - val_loss: 1.5908 - val_accuracy: 0.4414\n",
      "Epoch 4/15\n",
      "45000/45000 [==============================] - 4s 89us/sample - loss: 1.5482 - accuracy: 0.4487 - val_loss: 1.5798 - val_accuracy: 0.4498\n",
      "Epoch 5/15\n",
      "45000/45000 [==============================] - 4s 90us/sample - loss: 1.4994 - accuracy: 0.4697 - val_loss: 1.6467 - val_accuracy: 0.4290\n",
      "Epoch 6/15\n",
      "45000/45000 [==============================] - 4s 88us/sample - loss: 1.4592 - accuracy: 0.4827 - val_loss: 1.5792 - val_accuracy: 0.4576\n",
      "Epoch 7/15\n",
      "45000/45000 [==============================] - 4s 88us/sample - loss: 1.4220 - accuracy: 0.4960 - val_loss: 1.6131 - val_accuracy: 0.4488\n",
      "Epoch 8/15\n",
      "45000/45000 [==============================] - 4s 88us/sample - loss: 1.3534 - accuracy: 0.5194 - val_loss: 1.5275 - val_accuracy: 0.4814\n",
      "Epoch 9/15\n",
      "45000/45000 [==============================] - 4s 88us/sample - loss: 1.2776 - accuracy: 0.5442 - val_loss: 1.5207 - val_accuracy: 0.4884\n",
      "Epoch 10/15\n",
      "45000/45000 [==============================] - 4s 90us/sample - loss: 1.2040 - accuracy: 0.5717 - val_loss: 1.4908 - val_accuracy: 0.5040\n",
      "Epoch 11/15\n",
      "45000/45000 [==============================] - 4s 88us/sample - loss: 1.1385 - accuracy: 0.5938 - val_loss: 1.5148 - val_accuracy: 0.5064\n",
      "Epoch 12/15\n",
      "45000/45000 [==============================] - 4s 88us/sample - loss: 1.0664 - accuracy: 0.6200 - val_loss: 1.5359 - val_accuracy: 0.5074\n",
      "Epoch 13/15\n",
      "45000/45000 [==============================] - 4s 88us/sample - loss: 0.9951 - accuracy: 0.6459 - val_loss: 1.5520 - val_accuracy: 0.5188\n",
      "Epoch 14/15\n",
      "45000/45000 [==============================] - 4s 88us/sample - loss: 0.9293 - accuracy: 0.6708 - val_loss: 1.5710 - val_accuracy: 0.5228\n",
      "Epoch 15/15\n",
      "45000/45000 [==============================] - 4s 89us/sample - loss: 0.8892 - accuracy: 0.6847 - val_loss: 1.5971 - val_accuracy: 0.5190\n"
     ]
    }
   ],
   "source": [
    "keras.backend.clear_session()\n",
    "tf.random.set_seed(42)\n",
    "np.random.seed(42)\n",
    "\n",
    "model = keras.models.Sequential()\n",
    "model.add(keras.layers.Flatten(input_shape=[32, 32, 3]))\n",
    "for _ in range(20):\n",
    "    model.add(keras.layers.Dense(100,\n",
    "                                 kernel_initializer=\"lecun_normal\",\n",
    "                                 activation=\"selu\"))\n",
    "\n",
    "model.add(keras.layers.AlphaDropout(rate=0.1))\n",
    "model.add(keras.layers.Dense(10, activation=\"softmax\"))\n",
    "\n",
    "optimizer = keras.optimizers.SGD(learning_rate=1e-2)\n",
    "model.compile(loss=\"sparse_categorical_crossentropy\",\n",
    "              optimizer=optimizer,\n",
    "              metrics=[\"accuracy\"])\n",
    "n_epochs = 15\n",
    "onecycle = OneCycleScheduler(len(X_train_scaled) // batch_size * n_epochs, max_rate=0.05)\n",
    "history = model.fit(X_train_scaled, y_train, epochs=n_epochs, batch_size=batch_size,\n",
    "                    validation_data=(X_valid_scaled, y_valid),\n",
    "                    callbacks=[onecycle])"
   ]
  }
 ],
 "metadata": {
  "kernelspec": {
   "display_name": "Python 3.7 - Tensorflow 2.0",
   "language": "python",
   "name": "py3.7_tf2.0"
  },
  "language_info": {
   "codemirror_mode": {
    "name": "ipython",
    "version": 3
   },
   "file_extension": ".py",
   "mimetype": "text/x-python",
   "name": "python",
   "nbconvert_exporter": "python",
   "pygments_lexer": "ipython3",
   "version": "3.7.6"
  },
  "toc": {
   "base_numbering": 1,
   "nav_menu": {},
   "number_sections": true,
   "sideBar": true,
   "skip_h1_title": false,
   "title_cell": "Table of Contents",
   "title_sidebar": "Contents",
   "toc_cell": false,
   "toc_position": {
    "height": "calc(100% - 180px)",
    "left": "10px",
    "top": "150px",
    "width": "206.108px"
   },
   "toc_section_display": true,
   "toc_window_display": true
  }
 },
 "nbformat": 4,
 "nbformat_minor": 4
}
